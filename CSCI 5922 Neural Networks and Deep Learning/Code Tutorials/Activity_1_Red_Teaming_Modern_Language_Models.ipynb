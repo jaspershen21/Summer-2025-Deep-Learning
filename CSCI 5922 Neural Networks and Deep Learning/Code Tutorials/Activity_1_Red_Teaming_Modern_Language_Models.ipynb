{
  "nbformat": 4,
  "nbformat_minor": 0,
  "metadata": {
    "colab": {
      "provenance": []
    },
    "kernelspec": {
      "name": "python3",
      "display_name": "Python 3"
    },
    "language_info": {
      "name": "python"
    }
  },
  "cells": [
    {
      "cell_type": "markdown",
      "source": [
        "# Activity 1: Red Teaming Modern Language Models\n",
        "\n",
        "```\n",
        "Course: CSCI 5922 Spring 2025, University of Colorado Boulder\n",
        "TA: Everley Tseng\n",
        "Email: Yu-Yun.Tseng@colorado.edu\n",
        "* AI assistant is used in making this tutorial\n",
        "```"
      ],
      "metadata": {
        "id": "iEfU8sJtUypk"
      }
    },
    {
      "cell_type": "markdown",
      "source": [
        "Hello everyone! We’ll be doing this activity as part of our class, and we encourage participation from both synchronous and asynchronous students. The submission form and results will remain open, so feel free to continue sharing your findings at any time!"
      ],
      "metadata": {
        "id": "6kDUqCXaaX7S"
      }
    },
    {
      "cell_type": "markdown",
      "source": [
        "## Class Activity"
      ],
      "metadata": {
        "id": "B2_gbOhAbBc7"
      }
    },
    {
      "cell_type": "markdown",
      "source": [
        "\n",
        "You will attempt to probe modern language models for unethical or undesirable behaviors—such as jailbreaking, generating toxic content, or reinforcing stereotypes—and reflect on the models' strengths and weaknesses in resisting such attempts."
      ],
      "metadata": {
        "id": "YXodLceZbDWL"
      }
    },
    {
      "cell_type": "markdown",
      "source": [
        "Articles on AI product unethical topics:\n",
        "- Challenges in Red Teaming - Anthropic ([blog](https://www.anthropic.com/news/challenges-in-red-teaming-ai-systems))\n",
        "- OpenAI o1 System Card ([paper](https://arxiv.org/html/2412.16720v1))\n"
      ],
      "metadata": {
        "id": "OynInNyrUzht"
      }
    },
    {
      "cell_type": "markdown",
      "source": [
        "Models:\n",
        "- GPT series: [ChatGPT](http://chatgpt.com/)\n",
        "- Gemini series: [Gemini](https://gemini.google.com/)\n",
        "- Claude Sonnet or Haiku: [Claude](https://claude.ai/)"
      ],
      "metadata": {
        "id": "OkqJVPmyYbYk"
      }
    },
    {
      "cell_type": "markdown",
      "source": [
        "Ideas for things to try when prompting the model:\n",
        "- Jailbreak the system\n",
        "- Elicit toxic language\n",
        "- Trigger stereotypes or biased outputs"
      ],
      "metadata": {
        "id": "0ImcdVD5Zedj"
      }
    },
    {
      "cell_type": "markdown",
      "source": [
        "## Discussion"
      ],
      "metadata": {
        "id": "Y8lgjxM7bmEK"
      }
    },
    {
      "cell_type": "markdown",
      "source": [
        "- Please share your trials with the class via this link: [Google Form](https://docs.google.com/forms/d/e/1FAIpQLSfYQtjCcDn8QFlyTqhYNrtHavoyhWAsrouE70zG4yO8oY4RFA/viewform?usp=dialog)\n",
        "- The results are available in this spreadsheet: [Google Sheet](https://docs.google.com/spreadsheets/d/1TGzCS3NX3ftUBxmSI-Vi4pRu-Sr14xRtwkyvnDUcDLk/edit?usp=sharing). See all responses under the \"Responses\" tab, and see the success rate analysis under the \"Results\" tab."
      ],
      "metadata": {
        "id": "pq727vZPdG-_"
      }
    }
  ]
}