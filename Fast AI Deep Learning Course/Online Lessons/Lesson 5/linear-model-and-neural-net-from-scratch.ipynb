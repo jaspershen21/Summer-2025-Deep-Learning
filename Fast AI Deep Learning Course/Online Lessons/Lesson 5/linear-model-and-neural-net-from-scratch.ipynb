{
 "cells": [
  {
   "cell_type": "markdown",
   "id": "c26bb129",
   "metadata": {
    "papermill": {
     "duration": 0.119569,
     "end_time": "2022-05-30T22:42:18.838878",
     "exception": false,
     "start_time": "2022-05-30T22:42:18.719309",
     "status": "completed"
    },
    "tags": []
   },
   "source": [
    "## Introduction"
   ]
  },
  {
   "cell_type": "markdown",
   "id": "07f61953",
   "metadata": {
    "papermill": {
     "duration": 0.118713,
     "end_time": "2022-05-30T22:42:19.077369",
     "exception": false,
     "start_time": "2022-05-30T22:42:18.958656",
     "status": "completed"
    },
    "tags": []
   },
   "source": [
    "In this notebook we're going to build and train a deep learning model \"from scratch\" -- by which I mean that we're not going to use any pre-built architecture, or optimizers, or data loading frameworks, etc.\n",
    "\n",
    "We'll be assuming you already know the basics of how a neural network works. If you don't, read this notebook first: [How does a neural net really work?\n",
    "](https://www.kaggle.com/code/jhoward/how-does-a-neural-net-really-work). We'll be using Kaggle's [Titanic](https://www.kaggle.com/competitions/titanic/) competition in this notebook, because it's very small and simple, but also has displays many of the tricky real-life issues that we need to handle in most practical projects. (Note, however, that this competition is a small \"learner\" competition on Kaggle, so don't expect to actually see much benefits from using a neural net just yet; that will come once we try our some real competitions!)\n",
    "\n",
    "It's great to be able to run the same notebook on your own machine or Colab, as well as Kaggle. To allow for this, we use this code to download the data as needed when not on Kaggle (see [this notebook](https://www.kaggle.com/code/jhoward/getting-started-with-nlp-for-absolute-beginners/) for details about this technique):"
   ]
  },
  {
   "cell_type": "code",
   "execution_count": 1,
   "id": "22d8d2c7",
   "metadata": {
    "execution": {
     "iopub.execute_input": "2022-05-30T22:42:19.314091Z",
     "iopub.status.busy": "2022-05-30T22:42:19.313076Z",
     "iopub.status.idle": "2022-05-30T22:42:19.326412Z",
     "shell.execute_reply": "2022-05-30T22:42:19.325852Z"
    },
    "papermill": {
     "duration": 0.13463,
     "end_time": "2022-05-30T22:42:19.328484",
     "exception": false,
     "start_time": "2022-05-30T22:42:19.193854",
     "status": "completed"
    },
    "tags": []
   },
   "outputs": [],
   "source": [
    "import os\n",
    "from pathlib import Path\n",
    "\n",
    "iskaggle = os.environ.get('KAGGLE_KERNEL_RUN_TYPE', '')\n",
    "if iskaggle: path = Path('../input/titanic')\n",
    "else:\n",
    "    path = Path('titanic')\n",
    "    if not path.exists():\n",
    "        import zipfile,kaggle\n",
    "        kaggle.api.competition_download_cli(str(path))\n",
    "        zipfile.ZipFile(f'{path}.zip').extractall(path)"
   ]
  },
  {
   "cell_type": "markdown",
   "id": "ab612e35",
   "metadata": {
    "hidden": true,
    "papermill": {
     "duration": 0.114613,
     "end_time": "2022-05-30T22:42:19.560765",
     "exception": false,
     "start_time": "2022-05-30T22:42:19.446152",
     "status": "completed"
    },
    "tags": []
   },
   "source": [
    "Note that the data for Kaggle comps always lives in the `../input` folder. The easiest way to get the path is to click the \"K\" button in the top-right of the Kaggle notebook, click on the folder shown there, and click the copy button.\n",
    "\n",
    "We'll be using *numpy* and *pytorch* for array calculations in this notebook, and *pandas* for working with tabular data, so we'll import them and set them to display using a bit more space than they default to."
   ]
  },
  {
   "cell_type": "code",
   "execution_count": 2,
   "id": "7af37e71",
   "metadata": {
    "execution": {
     "iopub.execute_input": "2022-05-30T22:42:19.795309Z",
     "iopub.status.busy": "2022-05-30T22:42:19.795055Z",
     "iopub.status.idle": "2022-05-30T22:42:21.042244Z",
     "shell.execute_reply": "2022-05-30T22:42:21.041411Z"
    },
    "papermill": {
     "duration": 1.365294,
     "end_time": "2022-05-30T22:42:21.044683",
     "exception": false,
     "start_time": "2022-05-30T22:42:19.679389",
     "status": "completed"
    },
    "tags": []
   },
   "outputs": [],
   "source": [
    "import torch, numpy as np, pandas as pd\n",
    "np.set_printoptions(linewidth=140)\n",
    "torch.set_printoptions(linewidth=140, sci_mode=False, edgeitems=7)\n",
    "pd.set_option('display.width', 140)"
   ]
  },
  {
   "cell_type": "markdown",
   "id": "a6cf1a74",
   "metadata": {
    "heading_collapsed": true,
    "papermill": {
     "duration": 0.117998,
     "end_time": "2022-05-30T22:42:21.279291",
     "exception": false,
     "start_time": "2022-05-30T22:42:21.161293",
     "status": "completed"
    },
    "tags": []
   },
   "source": [
    "## Cleaning the data"
   ]
  },
  {
   "cell_type": "markdown",
   "id": "e9f3057d",
   "metadata": {
    "hidden": true,
    "papermill": {
     "duration": 0.118125,
     "end_time": "2022-05-30T22:42:21.515342",
     "exception": false,
     "start_time": "2022-05-30T22:42:21.397217",
     "status": "completed"
    },
    "tags": []
   },
   "source": [
    "This is a *tabular data* competition -- the data is in the form of a table. It's provided as a Comma Separated Values (CSV) file. We can open it using the *pandas* library, which will create a `DataFrame`."
   ]
  },
  {
   "cell_type": "code",
   "execution_count": 3,
   "id": "14624c7b",
   "metadata": {
    "execution": {
     "iopub.execute_input": "2022-05-30T22:42:21.746693Z",
     "iopub.status.busy": "2022-05-30T22:42:21.746430Z",
     "iopub.status.idle": "2022-05-30T22:42:21.792019Z",
     "shell.execute_reply": "2022-05-30T22:42:21.791052Z"
    },
    "hidden": true,
    "papermill": {
     "duration": 0.164407,
     "end_time": "2022-05-30T22:42:21.794172",
     "exception": false,
     "start_time": "2022-05-30T22:42:21.629765",
     "status": "completed"
    },
    "scrolled": true,
    "tags": []
   },
   "outputs": [
    {
     "data": {
      "application/vnd.microsoft.datawrangler.viewer.v0+json": {
       "columns": [
        {
         "name": "index",
         "rawType": "int64",
         "type": "integer"
        },
        {
         "name": "PassengerId",
         "rawType": "int64",
         "type": "integer"
        },
        {
         "name": "Survived",
         "rawType": "int64",
         "type": "integer"
        },
        {
         "name": "Pclass",
         "rawType": "int64",
         "type": "integer"
        },
        {
         "name": "Name",
         "rawType": "object",
         "type": "string"
        },
        {
         "name": "Sex",
         "rawType": "object",
         "type": "string"
        },
        {
         "name": "Age",
         "rawType": "float64",
         "type": "float"
        },
        {
         "name": "SibSp",
         "rawType": "int64",
         "type": "integer"
        },
        {
         "name": "Parch",
         "rawType": "int64",
         "type": "integer"
        },
        {
         "name": "Ticket",
         "rawType": "object",
         "type": "string"
        },
        {
         "name": "Fare",
         "rawType": "float64",
         "type": "float"
        },
        {
         "name": "Cabin",
         "rawType": "object",
         "type": "unknown"
        },
        {
         "name": "Embarked",
         "rawType": "object",
         "type": "unknown"
        }
       ],
       "ref": "f371f55b-7213-483e-9990-41eec3c9e646",
       "rows": [
        [
         "0",
         "1",
         "0",
         "3",
         "Braund, Mr. Owen Harris",
         "male",
         "22.0",
         "1",
         "0",
         "A/5 21171",
         "7.25",
         null,
         "S"
        ],
        [
         "1",
         "2",
         "1",
         "1",
         "Cumings, Mrs. John Bradley (Florence Briggs Thayer)",
         "female",
         "38.0",
         "1",
         "0",
         "PC 17599",
         "71.2833",
         "C85",
         "C"
        ],
        [
         "2",
         "3",
         "1",
         "3",
         "Heikkinen, Miss. Laina",
         "female",
         "26.0",
         "0",
         "0",
         "STON/O2. 3101282",
         "7.925",
         null,
         "S"
        ],
        [
         "3",
         "4",
         "1",
         "1",
         "Futrelle, Mrs. Jacques Heath (Lily May Peel)",
         "female",
         "35.0",
         "1",
         "0",
         "113803",
         "53.1",
         "C123",
         "S"
        ],
        [
         "4",
         "5",
         "0",
         "3",
         "Allen, Mr. William Henry",
         "male",
         "35.0",
         "0",
         "0",
         "373450",
         "8.05",
         null,
         "S"
        ],
        [
         "5",
         "6",
         "0",
         "3",
         "Moran, Mr. James",
         "male",
         null,
         "0",
         "0",
         "330877",
         "8.4583",
         null,
         "Q"
        ],
        [
         "6",
         "7",
         "0",
         "1",
         "McCarthy, Mr. Timothy J",
         "male",
         "54.0",
         "0",
         "0",
         "17463",
         "51.8625",
         "E46",
         "S"
        ],
        [
         "7",
         "8",
         "0",
         "3",
         "Palsson, Master. Gosta Leonard",
         "male",
         "2.0",
         "3",
         "1",
         "349909",
         "21.075",
         null,
         "S"
        ],
        [
         "8",
         "9",
         "1",
         "3",
         "Johnson, Mrs. Oscar W (Elisabeth Vilhelmina Berg)",
         "female",
         "27.0",
         "0",
         "2",
         "347742",
         "11.1333",
         null,
         "S"
        ],
        [
         "9",
         "10",
         "1",
         "2",
         "Nasser, Mrs. Nicholas (Adele Achem)",
         "female",
         "14.0",
         "1",
         "0",
         "237736",
         "30.0708",
         null,
         "C"
        ],
        [
         "10",
         "11",
         "1",
         "3",
         "Sandstrom, Miss. Marguerite Rut",
         "female",
         "4.0",
         "1",
         "1",
         "PP 9549",
         "16.7",
         "G6",
         "S"
        ],
        [
         "11",
         "12",
         "1",
         "1",
         "Bonnell, Miss. Elizabeth",
         "female",
         "58.0",
         "0",
         "0",
         "113783",
         "26.55",
         "C103",
         "S"
        ],
        [
         "12",
         "13",
         "0",
         "3",
         "Saundercock, Mr. William Henry",
         "male",
         "20.0",
         "0",
         "0",
         "A/5. 2151",
         "8.05",
         null,
         "S"
        ],
        [
         "13",
         "14",
         "0",
         "3",
         "Andersson, Mr. Anders Johan",
         "male",
         "39.0",
         "1",
         "5",
         "347082",
         "31.275",
         null,
         "S"
        ],
        [
         "14",
         "15",
         "0",
         "3",
         "Vestrom, Miss. Hulda Amanda Adolfina",
         "female",
         "14.0",
         "0",
         "0",
         "350406",
         "7.8542",
         null,
         "S"
        ],
        [
         "15",
         "16",
         "1",
         "2",
         "Hewlett, Mrs. (Mary D Kingcome) ",
         "female",
         "55.0",
         "0",
         "0",
         "248706",
         "16.0",
         null,
         "S"
        ],
        [
         "16",
         "17",
         "0",
         "3",
         "Rice, Master. Eugene",
         "male",
         "2.0",
         "4",
         "1",
         "382652",
         "29.125",
         null,
         "Q"
        ],
        [
         "17",
         "18",
         "1",
         "2",
         "Williams, Mr. Charles Eugene",
         "male",
         null,
         "0",
         "0",
         "244373",
         "13.0",
         null,
         "S"
        ],
        [
         "18",
         "19",
         "0",
         "3",
         "Vander Planke, Mrs. Julius (Emelia Maria Vandemoortele)",
         "female",
         "31.0",
         "1",
         "0",
         "345763",
         "18.0",
         null,
         "S"
        ],
        [
         "19",
         "20",
         "1",
         "3",
         "Masselmani, Mrs. Fatima",
         "female",
         null,
         "0",
         "0",
         "2649",
         "7.225",
         null,
         "C"
        ],
        [
         "20",
         "21",
         "0",
         "2",
         "Fynney, Mr. Joseph J",
         "male",
         "35.0",
         "0",
         "0",
         "239865",
         "26.0",
         null,
         "S"
        ],
        [
         "21",
         "22",
         "1",
         "2",
         "Beesley, Mr. Lawrence",
         "male",
         "34.0",
         "0",
         "0",
         "248698",
         "13.0",
         "D56",
         "S"
        ],
        [
         "22",
         "23",
         "1",
         "3",
         "McGowan, Miss. Anna \"Annie\"",
         "female",
         "15.0",
         "0",
         "0",
         "330923",
         "8.0292",
         null,
         "Q"
        ],
        [
         "23",
         "24",
         "1",
         "1",
         "Sloper, Mr. William Thompson",
         "male",
         "28.0",
         "0",
         "0",
         "113788",
         "35.5",
         "A6",
         "S"
        ],
        [
         "24",
         "25",
         "0",
         "3",
         "Palsson, Miss. Torborg Danira",
         "female",
         "8.0",
         "3",
         "1",
         "349909",
         "21.075",
         null,
         "S"
        ],
        [
         "25",
         "26",
         "1",
         "3",
         "Asplund, Mrs. Carl Oscar (Selma Augusta Emilia Johansson)",
         "female",
         "38.0",
         "1",
         "5",
         "347077",
         "31.3875",
         null,
         "S"
        ],
        [
         "26",
         "27",
         "0",
         "3",
         "Emir, Mr. Farred Chehab",
         "male",
         null,
         "0",
         "0",
         "2631",
         "7.225",
         null,
         "C"
        ],
        [
         "27",
         "28",
         "0",
         "1",
         "Fortune, Mr. Charles Alexander",
         "male",
         "19.0",
         "3",
         "2",
         "19950",
         "263.0",
         "C23 C25 C27",
         "S"
        ],
        [
         "28",
         "29",
         "1",
         "3",
         "O'Dwyer, Miss. Ellen \"Nellie\"",
         "female",
         null,
         "0",
         "0",
         "330959",
         "7.8792",
         null,
         "Q"
        ],
        [
         "29",
         "30",
         "0",
         "3",
         "Todoroff, Mr. Lalio",
         "male",
         null,
         "0",
         "0",
         "349216",
         "7.8958",
         null,
         "S"
        ],
        [
         "30",
         "31",
         "0",
         "1",
         "Uruchurtu, Don. Manuel E",
         "male",
         "40.0",
         "0",
         "0",
         "PC 17601",
         "27.7208",
         null,
         "C"
        ],
        [
         "31",
         "32",
         "1",
         "1",
         "Spencer, Mrs. William Augustus (Marie Eugenie)",
         "female",
         null,
         "1",
         "0",
         "PC 17569",
         "146.5208",
         "B78",
         "C"
        ],
        [
         "32",
         "33",
         "1",
         "3",
         "Glynn, Miss. Mary Agatha",
         "female",
         null,
         "0",
         "0",
         "335677",
         "7.75",
         null,
         "Q"
        ],
        [
         "33",
         "34",
         "0",
         "2",
         "Wheadon, Mr. Edward H",
         "male",
         "66.0",
         "0",
         "0",
         "C.A. 24579",
         "10.5",
         null,
         "S"
        ],
        [
         "34",
         "35",
         "0",
         "1",
         "Meyer, Mr. Edgar Joseph",
         "male",
         "28.0",
         "1",
         "0",
         "PC 17604",
         "82.1708",
         null,
         "C"
        ],
        [
         "35",
         "36",
         "0",
         "1",
         "Holverson, Mr. Alexander Oskar",
         "male",
         "42.0",
         "1",
         "0",
         "113789",
         "52.0",
         null,
         "S"
        ],
        [
         "36",
         "37",
         "1",
         "3",
         "Mamee, Mr. Hanna",
         "male",
         null,
         "0",
         "0",
         "2677",
         "7.2292",
         null,
         "C"
        ],
        [
         "37",
         "38",
         "0",
         "3",
         "Cann, Mr. Ernest Charles",
         "male",
         "21.0",
         "0",
         "0",
         "A./5. 2152",
         "8.05",
         null,
         "S"
        ],
        [
         "38",
         "39",
         "0",
         "3",
         "Vander Planke, Miss. Augusta Maria",
         "female",
         "18.0",
         "2",
         "0",
         "345764",
         "18.0",
         null,
         "S"
        ],
        [
         "39",
         "40",
         "1",
         "3",
         "Nicola-Yarred, Miss. Jamila",
         "female",
         "14.0",
         "1",
         "0",
         "2651",
         "11.2417",
         null,
         "C"
        ],
        [
         "40",
         "41",
         "0",
         "3",
         "Ahlin, Mrs. Johan (Johanna Persdotter Larsson)",
         "female",
         "40.0",
         "1",
         "0",
         "7546",
         "9.475",
         null,
         "S"
        ],
        [
         "41",
         "42",
         "0",
         "2",
         "Turpin, Mrs. William John Robert (Dorothy Ann Wonnacott)",
         "female",
         "27.0",
         "1",
         "0",
         "11668",
         "21.0",
         null,
         "S"
        ],
        [
         "42",
         "43",
         "0",
         "3",
         "Kraeff, Mr. Theodor",
         "male",
         null,
         "0",
         "0",
         "349253",
         "7.8958",
         null,
         "C"
        ],
        [
         "43",
         "44",
         "1",
         "2",
         "Laroche, Miss. Simonne Marie Anne Andree",
         "female",
         "3.0",
         "1",
         "2",
         "SC/Paris 2123",
         "41.5792",
         null,
         "C"
        ],
        [
         "44",
         "45",
         "1",
         "3",
         "Devaney, Miss. Margaret Delia",
         "female",
         "19.0",
         "0",
         "0",
         "330958",
         "7.8792",
         null,
         "Q"
        ],
        [
         "45",
         "46",
         "0",
         "3",
         "Rogers, Mr. William John",
         "male",
         null,
         "0",
         "0",
         "S.C./A.4. 23567",
         "8.05",
         null,
         "S"
        ],
        [
         "46",
         "47",
         "0",
         "3",
         "Lennon, Mr. Denis",
         "male",
         null,
         "1",
         "0",
         "370371",
         "15.5",
         null,
         "Q"
        ],
        [
         "47",
         "48",
         "1",
         "3",
         "O'Driscoll, Miss. Bridget",
         "female",
         null,
         "0",
         "0",
         "14311",
         "7.75",
         null,
         "Q"
        ],
        [
         "48",
         "49",
         "0",
         "3",
         "Samaan, Mr. Youssef",
         "male",
         null,
         "2",
         "0",
         "2662",
         "21.6792",
         null,
         "C"
        ],
        [
         "49",
         "50",
         "0",
         "3",
         "Arnold-Franchi, Mrs. Josef (Josefine Franchi)",
         "female",
         "18.0",
         "1",
         "0",
         "349237",
         "17.8",
         null,
         "S"
        ]
       ],
       "shape": {
        "columns": 12,
        "rows": 891
       }
      },
      "text/html": [
       "<div>\n",
       "<style scoped>\n",
       "    .dataframe tbody tr th:only-of-type {\n",
       "        vertical-align: middle;\n",
       "    }\n",
       "\n",
       "    .dataframe tbody tr th {\n",
       "        vertical-align: top;\n",
       "    }\n",
       "\n",
       "    .dataframe thead th {\n",
       "        text-align: right;\n",
       "    }\n",
       "</style>\n",
       "<table border=\"1\" class=\"dataframe\">\n",
       "  <thead>\n",
       "    <tr style=\"text-align: right;\">\n",
       "      <th></th>\n",
       "      <th>PassengerId</th>\n",
       "      <th>Survived</th>\n",
       "      <th>Pclass</th>\n",
       "      <th>Name</th>\n",
       "      <th>Sex</th>\n",
       "      <th>Age</th>\n",
       "      <th>SibSp</th>\n",
       "      <th>Parch</th>\n",
       "      <th>Ticket</th>\n",
       "      <th>Fare</th>\n",
       "      <th>Cabin</th>\n",
       "      <th>Embarked</th>\n",
       "    </tr>\n",
       "  </thead>\n",
       "  <tbody>\n",
       "    <tr>\n",
       "      <th>0</th>\n",
       "      <td>1</td>\n",
       "      <td>0</td>\n",
       "      <td>3</td>\n",
       "      <td>Braund, Mr. Owen Harris</td>\n",
       "      <td>male</td>\n",
       "      <td>22.0</td>\n",
       "      <td>1</td>\n",
       "      <td>0</td>\n",
       "      <td>A/5 21171</td>\n",
       "      <td>7.2500</td>\n",
       "      <td>NaN</td>\n",
       "      <td>S</td>\n",
       "    </tr>\n",
       "    <tr>\n",
       "      <th>1</th>\n",
       "      <td>2</td>\n",
       "      <td>1</td>\n",
       "      <td>1</td>\n",
       "      <td>Cumings, Mrs. John Bradley (Florence Briggs Th...</td>\n",
       "      <td>female</td>\n",
       "      <td>38.0</td>\n",
       "      <td>1</td>\n",
       "      <td>0</td>\n",
       "      <td>PC 17599</td>\n",
       "      <td>71.2833</td>\n",
       "      <td>C85</td>\n",
       "      <td>C</td>\n",
       "    </tr>\n",
       "    <tr>\n",
       "      <th>2</th>\n",
       "      <td>3</td>\n",
       "      <td>1</td>\n",
       "      <td>3</td>\n",
       "      <td>Heikkinen, Miss. Laina</td>\n",
       "      <td>female</td>\n",
       "      <td>26.0</td>\n",
       "      <td>0</td>\n",
       "      <td>0</td>\n",
       "      <td>STON/O2. 3101282</td>\n",
       "      <td>7.9250</td>\n",
       "      <td>NaN</td>\n",
       "      <td>S</td>\n",
       "    </tr>\n",
       "    <tr>\n",
       "      <th>3</th>\n",
       "      <td>4</td>\n",
       "      <td>1</td>\n",
       "      <td>1</td>\n",
       "      <td>Futrelle, Mrs. Jacques Heath (Lily May Peel)</td>\n",
       "      <td>female</td>\n",
       "      <td>35.0</td>\n",
       "      <td>1</td>\n",
       "      <td>0</td>\n",
       "      <td>113803</td>\n",
       "      <td>53.1000</td>\n",
       "      <td>C123</td>\n",
       "      <td>S</td>\n",
       "    </tr>\n",
       "    <tr>\n",
       "      <th>4</th>\n",
       "      <td>5</td>\n",
       "      <td>0</td>\n",
       "      <td>3</td>\n",
       "      <td>Allen, Mr. William Henry</td>\n",
       "      <td>male</td>\n",
       "      <td>35.0</td>\n",
       "      <td>0</td>\n",
       "      <td>0</td>\n",
       "      <td>373450</td>\n",
       "      <td>8.0500</td>\n",
       "      <td>NaN</td>\n",
       "      <td>S</td>\n",
       "    </tr>\n",
       "    <tr>\n",
       "      <th>...</th>\n",
       "      <td>...</td>\n",
       "      <td>...</td>\n",
       "      <td>...</td>\n",
       "      <td>...</td>\n",
       "      <td>...</td>\n",
       "      <td>...</td>\n",
       "      <td>...</td>\n",
       "      <td>...</td>\n",
       "      <td>...</td>\n",
       "      <td>...</td>\n",
       "      <td>...</td>\n",
       "      <td>...</td>\n",
       "    </tr>\n",
       "    <tr>\n",
       "      <th>886</th>\n",
       "      <td>887</td>\n",
       "      <td>0</td>\n",
       "      <td>2</td>\n",
       "      <td>Montvila, Rev. Juozas</td>\n",
       "      <td>male</td>\n",
       "      <td>27.0</td>\n",
       "      <td>0</td>\n",
       "      <td>0</td>\n",
       "      <td>211536</td>\n",
       "      <td>13.0000</td>\n",
       "      <td>NaN</td>\n",
       "      <td>S</td>\n",
       "    </tr>\n",
       "    <tr>\n",
       "      <th>887</th>\n",
       "      <td>888</td>\n",
       "      <td>1</td>\n",
       "      <td>1</td>\n",
       "      <td>Graham, Miss. Margaret Edith</td>\n",
       "      <td>female</td>\n",
       "      <td>19.0</td>\n",
       "      <td>0</td>\n",
       "      <td>0</td>\n",
       "      <td>112053</td>\n",
       "      <td>30.0000</td>\n",
       "      <td>B42</td>\n",
       "      <td>S</td>\n",
       "    </tr>\n",
       "    <tr>\n",
       "      <th>888</th>\n",
       "      <td>889</td>\n",
       "      <td>0</td>\n",
       "      <td>3</td>\n",
       "      <td>Johnston, Miss. Catherine Helen \"Carrie\"</td>\n",
       "      <td>female</td>\n",
       "      <td>NaN</td>\n",
       "      <td>1</td>\n",
       "      <td>2</td>\n",
       "      <td>W./C. 6607</td>\n",
       "      <td>23.4500</td>\n",
       "      <td>NaN</td>\n",
       "      <td>S</td>\n",
       "    </tr>\n",
       "    <tr>\n",
       "      <th>889</th>\n",
       "      <td>890</td>\n",
       "      <td>1</td>\n",
       "      <td>1</td>\n",
       "      <td>Behr, Mr. Karl Howell</td>\n",
       "      <td>male</td>\n",
       "      <td>26.0</td>\n",
       "      <td>0</td>\n",
       "      <td>0</td>\n",
       "      <td>111369</td>\n",
       "      <td>30.0000</td>\n",
       "      <td>C148</td>\n",
       "      <td>C</td>\n",
       "    </tr>\n",
       "    <tr>\n",
       "      <th>890</th>\n",
       "      <td>891</td>\n",
       "      <td>0</td>\n",
       "      <td>3</td>\n",
       "      <td>Dooley, Mr. Patrick</td>\n",
       "      <td>male</td>\n",
       "      <td>32.0</td>\n",
       "      <td>0</td>\n",
       "      <td>0</td>\n",
       "      <td>370376</td>\n",
       "      <td>7.7500</td>\n",
       "      <td>NaN</td>\n",
       "      <td>Q</td>\n",
       "    </tr>\n",
       "  </tbody>\n",
       "</table>\n",
       "<p>891 rows × 12 columns</p>\n",
       "</div>"
      ],
      "text/plain": [
       "     PassengerId  Survived  Pclass                                               Name     Sex   Age  SibSp  Parch            Ticket  \\\n",
       "0              1         0       3                            Braund, Mr. Owen Harris    male  22.0      1      0         A/5 21171   \n",
       "1              2         1       1  Cumings, Mrs. John Bradley (Florence Briggs Th...  female  38.0      1      0          PC 17599   \n",
       "2              3         1       3                             Heikkinen, Miss. Laina  female  26.0      0      0  STON/O2. 3101282   \n",
       "3              4         1       1       Futrelle, Mrs. Jacques Heath (Lily May Peel)  female  35.0      1      0            113803   \n",
       "4              5         0       3                           Allen, Mr. William Henry    male  35.0      0      0            373450   \n",
       "..           ...       ...     ...                                                ...     ...   ...    ...    ...               ...   \n",
       "886          887         0       2                              Montvila, Rev. Juozas    male  27.0      0      0            211536   \n",
       "887          888         1       1                       Graham, Miss. Margaret Edith  female  19.0      0      0            112053   \n",
       "888          889         0       3           Johnston, Miss. Catherine Helen \"Carrie\"  female   NaN      1      2        W./C. 6607   \n",
       "889          890         1       1                              Behr, Mr. Karl Howell    male  26.0      0      0            111369   \n",
       "890          891         0       3                                Dooley, Mr. Patrick    male  32.0      0      0            370376   \n",
       "\n",
       "        Fare Cabin Embarked  \n",
       "0     7.2500   NaN        S  \n",
       "1    71.2833   C85        C  \n",
       "2     7.9250   NaN        S  \n",
       "3    53.1000  C123        S  \n",
       "4     8.0500   NaN        S  \n",
       "..       ...   ...      ...  \n",
       "886  13.0000   NaN        S  \n",
       "887  30.0000   B42        S  \n",
       "888  23.4500   NaN        S  \n",
       "889  30.0000  C148        C  \n",
       "890   7.7500   NaN        Q  \n",
       "\n",
       "[891 rows x 12 columns]"
      ]
     },
     "execution_count": 3,
     "metadata": {},
     "output_type": "execute_result"
    }
   ],
   "source": [
    "df = pd.read_csv(path/'train.csv')\n",
    "df"
   ]
  },
  {
   "cell_type": "markdown",
   "id": "ac00a07e",
   "metadata": {
    "hidden": true,
    "papermill": {
     "duration": 0.119643,
     "end_time": "2022-05-30T22:42:22.032825",
     "exception": false,
     "start_time": "2022-05-30T22:42:21.913182",
     "status": "completed"
    },
    "tags": []
   },
   "source": [
    "As we learned in the *How does a neural net really work* notebook, we going to want to multiply each column by some coefficients. But we can see in the `Cabin` column that there are `NaN` values, which is how Pandas refers to missing values. We can't multiply something by a missing value!\n",
    "\n",
    "Let's check which columns contain `NaN` values. Pandas' `isna()` function returns `True` (which is treated as `1` when used as a number) for `NaN` values, so we can just add them up for each column:"
   ]
  },
  {
   "cell_type": "code",
   "execution_count": 4,
   "id": "652f8626",
   "metadata": {
    "execution": {
     "iopub.execute_input": "2022-05-30T22:42:22.278680Z",
     "iopub.status.busy": "2022-05-30T22:42:22.278423Z",
     "iopub.status.idle": "2022-05-30T22:42:22.287040Z",
     "shell.execute_reply": "2022-05-30T22:42:22.286228Z"
    },
    "hidden": true,
    "papermill": {
     "duration": 0.131942,
     "end_time": "2022-05-30T22:42:22.289202",
     "exception": false,
     "start_time": "2022-05-30T22:42:22.157260",
     "status": "completed"
    },
    "tags": []
   },
   "outputs": [
    {
     "data": {
      "application/vnd.microsoft.datawrangler.viewer.v0+json": {
       "columns": [
        {
         "name": "index",
         "rawType": "object",
         "type": "string"
        },
        {
         "name": "0",
         "rawType": "int64",
         "type": "integer"
        }
       ],
       "ref": "37c0e0ee-8ecc-485d-aa83-a999a870a24e",
       "rows": [
        [
         "PassengerId",
         "0"
        ],
        [
         "Survived",
         "0"
        ],
        [
         "Pclass",
         "0"
        ],
        [
         "Name",
         "0"
        ],
        [
         "Sex",
         "0"
        ],
        [
         "Age",
         "177"
        ],
        [
         "SibSp",
         "0"
        ],
        [
         "Parch",
         "0"
        ],
        [
         "Ticket",
         "0"
        ],
        [
         "Fare",
         "0"
        ],
        [
         "Cabin",
         "687"
        ],
        [
         "Embarked",
         "2"
        ]
       ],
       "shape": {
        "columns": 1,
        "rows": 12
       }
      },
      "text/plain": [
       "PassengerId      0\n",
       "Survived         0\n",
       "Pclass           0\n",
       "Name             0\n",
       "Sex              0\n",
       "Age            177\n",
       "SibSp            0\n",
       "Parch            0\n",
       "Ticket           0\n",
       "Fare             0\n",
       "Cabin          687\n",
       "Embarked         2\n",
       "dtype: int64"
      ]
     },
     "execution_count": 4,
     "metadata": {},
     "output_type": "execute_result"
    }
   ],
   "source": [
    "df.isna().sum()"
   ]
  },
  {
   "cell_type": "markdown",
   "id": "31cdaa39",
   "metadata": {
    "hidden": true,
    "papermill": {
     "duration": 0.119738,
     "end_time": "2022-05-30T22:42:22.527590",
     "exception": false,
     "start_time": "2022-05-30T22:42:22.407852",
     "status": "completed"
    },
    "tags": []
   },
   "source": [
    "Notice that by default Pandas sums over columns.\n",
    "\n",
    "We'll need to replace the missing values with something. It doesn't generally matter too much what we choose. We'll use the most common value (the \"*mode*\"). We can use the `mode` function for that. One wrinkle is that it returns more than one row in the case of ties, so we just grab the first row with `iloc[0]`:"
   ]
  },
  {
   "cell_type": "code",
   "execution_count": 5,
   "id": "7f96fc4f",
   "metadata": {
    "execution": {
     "iopub.execute_input": "2022-05-30T22:42:22.769348Z",
     "iopub.status.busy": "2022-05-30T22:42:22.768815Z",
     "iopub.status.idle": "2022-05-30T22:42:22.788181Z",
     "shell.execute_reply": "2022-05-30T22:42:22.787287Z"
    },
    "hidden": true,
    "papermill": {
     "duration": 0.143333,
     "end_time": "2022-05-30T22:42:22.790154",
     "exception": false,
     "start_time": "2022-05-30T22:42:22.646821",
     "status": "completed"
    },
    "tags": []
   },
   "outputs": [
    {
     "data": {
      "application/vnd.microsoft.datawrangler.viewer.v0+json": {
       "columns": [
        {
         "name": "index",
         "rawType": "object",
         "type": "string"
        },
        {
         "name": "0",
         "rawType": "object",
         "type": "unknown"
        }
       ],
       "ref": "060fb31a-6eec-4978-b4a9-be3f2dc28c1d",
       "rows": [
        [
         "PassengerId",
         "1"
        ],
        [
         "Survived",
         "0.0"
        ],
        [
         "Pclass",
         "3.0"
        ],
        [
         "Name",
         "Abbing, Mr. Anthony"
        ],
        [
         "Sex",
         "male"
        ],
        [
         "Age",
         "24.0"
        ],
        [
         "SibSp",
         "0.0"
        ],
        [
         "Parch",
         "0.0"
        ],
        [
         "Ticket",
         "1601"
        ],
        [
         "Fare",
         "8.05"
        ],
        [
         "Cabin",
         "B96 B98"
        ],
        [
         "Embarked",
         "S"
        ]
       ],
       "shape": {
        "columns": 1,
        "rows": 12
       }
      },
      "text/plain": [
       "PassengerId                      1\n",
       "Survived                       0.0\n",
       "Pclass                         3.0\n",
       "Name           Abbing, Mr. Anthony\n",
       "Sex                           male\n",
       "Age                           24.0\n",
       "SibSp                          0.0\n",
       "Parch                          0.0\n",
       "Ticket                        1601\n",
       "Fare                          8.05\n",
       "Cabin                      B96 B98\n",
       "Embarked                         S\n",
       "Name: 0, dtype: object"
      ]
     },
     "execution_count": 5,
     "metadata": {},
     "output_type": "execute_result"
    }
   ],
   "source": [
    "modes = df.mode().iloc[0]\n",
    "modes"
   ]
  },
  {
   "cell_type": "markdown",
   "id": "9ed4658e",
   "metadata": {
    "hidden": true,
    "papermill": {
     "duration": 0.121153,
     "end_time": "2022-05-30T22:42:23.033189",
     "exception": false,
     "start_time": "2022-05-30T22:42:22.912036",
     "status": "completed"
    },
    "tags": []
   },
   "source": [
    "BTW, it's never a good idea to use functions without understanding them. So be sure to google for anything you're not familiar with. E.g if you want to learn about `iloc` (which is a very important function indeed!) then Google will give you a link to a [great tutorial](https://www.shanelynn.ie/pandas-iloc-loc-select-rows-and-columns-dataframe/).\n",
    "\n",
    "Now that we've got the mode of each column, we can use `fillna` to replace the missing values with the mode of each column. We'll do it \"in place\" -- meaning that we'll change the dataframe itself, rather than returning a new one."
   ]
  },
  {
   "cell_type": "code",
   "execution_count": 6,
   "id": "eb04d18a",
   "metadata": {
    "execution": {
     "iopub.execute_input": "2022-05-30T22:42:23.275261Z",
     "iopub.status.busy": "2022-05-30T22:42:23.274688Z",
     "iopub.status.idle": "2022-05-30T22:42:23.284717Z",
     "shell.execute_reply": "2022-05-30T22:42:23.284192Z"
    },
    "hidden": true,
    "papermill": {
     "duration": 0.132725,
     "end_time": "2022-05-30T22:42:23.286603",
     "exception": false,
     "start_time": "2022-05-30T22:42:23.153878",
     "status": "completed"
    },
    "tags": []
   },
   "outputs": [],
   "source": [
    "df.fillna(modes, inplace=True)"
   ]
  },
  {
   "cell_type": "markdown",
   "id": "3c6e2012",
   "metadata": {
    "hidden": true,
    "papermill": {
     "duration": 0.118574,
     "end_time": "2022-05-30T22:42:23.524500",
     "exception": false,
     "start_time": "2022-05-30T22:42:23.405926",
     "status": "completed"
    },
    "tags": []
   },
   "source": [
    "We can now check there's no missing values left:"
   ]
  },
  {
   "cell_type": "code",
   "execution_count": 7,
   "id": "ac2a3634",
   "metadata": {
    "execution": {
     "iopub.execute_input": "2022-05-30T22:42:23.763918Z",
     "iopub.status.busy": "2022-05-30T22:42:23.763350Z",
     "iopub.status.idle": "2022-05-30T22:42:23.771851Z",
     "shell.execute_reply": "2022-05-30T22:42:23.771224Z"
    },
    "hidden": true,
    "papermill": {
     "duration": 0.12964,
     "end_time": "2022-05-30T22:42:23.773498",
     "exception": false,
     "start_time": "2022-05-30T22:42:23.643858",
     "status": "completed"
    },
    "tags": []
   },
   "outputs": [
    {
     "data": {
      "application/vnd.microsoft.datawrangler.viewer.v0+json": {
       "columns": [
        {
         "name": "index",
         "rawType": "object",
         "type": "string"
        },
        {
         "name": "0",
         "rawType": "int64",
         "type": "integer"
        }
       ],
       "ref": "210ea0b1-1878-46fc-b2a1-f3280948d929",
       "rows": [
        [
         "PassengerId",
         "0"
        ],
        [
         "Survived",
         "0"
        ],
        [
         "Pclass",
         "0"
        ],
        [
         "Name",
         "0"
        ],
        [
         "Sex",
         "0"
        ],
        [
         "Age",
         "0"
        ],
        [
         "SibSp",
         "0"
        ],
        [
         "Parch",
         "0"
        ],
        [
         "Ticket",
         "0"
        ],
        [
         "Fare",
         "0"
        ],
        [
         "Cabin",
         "0"
        ],
        [
         "Embarked",
         "0"
        ]
       ],
       "shape": {
        "columns": 1,
        "rows": 12
       }
      },
      "text/plain": [
       "PassengerId    0\n",
       "Survived       0\n",
       "Pclass         0\n",
       "Name           0\n",
       "Sex            0\n",
       "Age            0\n",
       "SibSp          0\n",
       "Parch          0\n",
       "Ticket         0\n",
       "Fare           0\n",
       "Cabin          0\n",
       "Embarked       0\n",
       "dtype: int64"
      ]
     },
     "execution_count": 7,
     "metadata": {},
     "output_type": "execute_result"
    }
   ],
   "source": [
    "df.isna().sum()"
   ]
  },
  {
   "cell_type": "markdown",
   "id": "b804ae7b",
   "metadata": {
    "hidden": true,
    "papermill": {
     "duration": 0.123969,
     "end_time": "2022-05-30T22:42:24.019494",
     "exception": false,
     "start_time": "2022-05-30T22:42:23.895525",
     "status": "completed"
    },
    "tags": []
   },
   "source": [
    "Here's how we get a quick summary of all the numeric columns in the dataset:"
   ]
  },
  {
   "cell_type": "code",
   "execution_count": 8,
   "id": "12882260",
   "metadata": {
    "execution": {
     "iopub.execute_input": "2022-05-30T22:42:24.262751Z",
     "iopub.status.busy": "2022-05-30T22:42:24.262232Z",
     "iopub.status.idle": "2022-05-30T22:42:24.293916Z",
     "shell.execute_reply": "2022-05-30T22:42:24.293405Z"
    },
    "hidden": true,
    "papermill": {
     "duration": 0.154607,
     "end_time": "2022-05-30T22:42:24.295682",
     "exception": false,
     "start_time": "2022-05-30T22:42:24.141075",
     "status": "completed"
    },
    "tags": []
   },
   "outputs": [
    {
     "data": {
      "application/vnd.microsoft.datawrangler.viewer.v0+json": {
       "columns": [
        {
         "name": "index",
         "rawType": "object",
         "type": "string"
        },
        {
         "name": "PassengerId",
         "rawType": "float64",
         "type": "float"
        },
        {
         "name": "Survived",
         "rawType": "float64",
         "type": "float"
        },
        {
         "name": "Pclass",
         "rawType": "float64",
         "type": "float"
        },
        {
         "name": "Age",
         "rawType": "float64",
         "type": "float"
        },
        {
         "name": "SibSp",
         "rawType": "float64",
         "type": "float"
        },
        {
         "name": "Parch",
         "rawType": "float64",
         "type": "float"
        },
        {
         "name": "Fare",
         "rawType": "float64",
         "type": "float"
        }
       ],
       "ref": "1f601498-57d8-4827-aa1a-d0b6804e5e67",
       "rows": [
        [
         "count",
         "891.0",
         "891.0",
         "891.0",
         "891.0",
         "891.0",
         "891.0",
         "891.0"
        ],
        [
         "mean",
         "446.0",
         "0.3838383838383838",
         "2.308641975308642",
         "28.566969696969696",
         "0.5230078563411896",
         "0.38159371492704824",
         "32.204207968574636"
        ],
        [
         "std",
         "257.3538420152301",
         "0.4865924542648585",
         "0.8360712409770513",
         "13.199571767746487",
         "1.1027434322934275",
         "0.8060572211299559",
         "49.693428597180905"
        ],
        [
         "min",
         "1.0",
         "0.0",
         "1.0",
         "0.42",
         "0.0",
         "0.0",
         "0.0"
        ],
        [
         "25%",
         "223.5",
         "0.0",
         "2.0",
         "22.0",
         "0.0",
         "0.0",
         "7.9104"
        ],
        [
         "50%",
         "446.0",
         "0.0",
         "3.0",
         "24.0",
         "0.0",
         "0.0",
         "14.4542"
        ],
        [
         "75%",
         "668.5",
         "1.0",
         "3.0",
         "35.0",
         "1.0",
         "0.0",
         "31.0"
        ],
        [
         "max",
         "891.0",
         "1.0",
         "3.0",
         "80.0",
         "8.0",
         "6.0",
         "512.3292"
        ]
       ],
       "shape": {
        "columns": 7,
        "rows": 8
       }
      },
      "text/html": [
       "<div>\n",
       "<style scoped>\n",
       "    .dataframe tbody tr th:only-of-type {\n",
       "        vertical-align: middle;\n",
       "    }\n",
       "\n",
       "    .dataframe tbody tr th {\n",
       "        vertical-align: top;\n",
       "    }\n",
       "\n",
       "    .dataframe thead th {\n",
       "        text-align: right;\n",
       "    }\n",
       "</style>\n",
       "<table border=\"1\" class=\"dataframe\">\n",
       "  <thead>\n",
       "    <tr style=\"text-align: right;\">\n",
       "      <th></th>\n",
       "      <th>PassengerId</th>\n",
       "      <th>Survived</th>\n",
       "      <th>Pclass</th>\n",
       "      <th>Age</th>\n",
       "      <th>SibSp</th>\n",
       "      <th>Parch</th>\n",
       "      <th>Fare</th>\n",
       "    </tr>\n",
       "  </thead>\n",
       "  <tbody>\n",
       "    <tr>\n",
       "      <th>count</th>\n",
       "      <td>891.000000</td>\n",
       "      <td>891.000000</td>\n",
       "      <td>891.000000</td>\n",
       "      <td>891.000000</td>\n",
       "      <td>891.000000</td>\n",
       "      <td>891.000000</td>\n",
       "      <td>891.000000</td>\n",
       "    </tr>\n",
       "    <tr>\n",
       "      <th>mean</th>\n",
       "      <td>446.000000</td>\n",
       "      <td>0.383838</td>\n",
       "      <td>2.308642</td>\n",
       "      <td>28.566970</td>\n",
       "      <td>0.523008</td>\n",
       "      <td>0.381594</td>\n",
       "      <td>32.204208</td>\n",
       "    </tr>\n",
       "    <tr>\n",
       "      <th>std</th>\n",
       "      <td>257.353842</td>\n",
       "      <td>0.486592</td>\n",
       "      <td>0.836071</td>\n",
       "      <td>13.199572</td>\n",
       "      <td>1.102743</td>\n",
       "      <td>0.806057</td>\n",
       "      <td>49.693429</td>\n",
       "    </tr>\n",
       "    <tr>\n",
       "      <th>min</th>\n",
       "      <td>1.000000</td>\n",
       "      <td>0.000000</td>\n",
       "      <td>1.000000</td>\n",
       "      <td>0.420000</td>\n",
       "      <td>0.000000</td>\n",
       "      <td>0.000000</td>\n",
       "      <td>0.000000</td>\n",
       "    </tr>\n",
       "    <tr>\n",
       "      <th>25%</th>\n",
       "      <td>223.500000</td>\n",
       "      <td>0.000000</td>\n",
       "      <td>2.000000</td>\n",
       "      <td>22.000000</td>\n",
       "      <td>0.000000</td>\n",
       "      <td>0.000000</td>\n",
       "      <td>7.910400</td>\n",
       "    </tr>\n",
       "    <tr>\n",
       "      <th>50%</th>\n",
       "      <td>446.000000</td>\n",
       "      <td>0.000000</td>\n",
       "      <td>3.000000</td>\n",
       "      <td>24.000000</td>\n",
       "      <td>0.000000</td>\n",
       "      <td>0.000000</td>\n",
       "      <td>14.454200</td>\n",
       "    </tr>\n",
       "    <tr>\n",
       "      <th>75%</th>\n",
       "      <td>668.500000</td>\n",
       "      <td>1.000000</td>\n",
       "      <td>3.000000</td>\n",
       "      <td>35.000000</td>\n",
       "      <td>1.000000</td>\n",
       "      <td>0.000000</td>\n",
       "      <td>31.000000</td>\n",
       "    </tr>\n",
       "    <tr>\n",
       "      <th>max</th>\n",
       "      <td>891.000000</td>\n",
       "      <td>1.000000</td>\n",
       "      <td>3.000000</td>\n",
       "      <td>80.000000</td>\n",
       "      <td>8.000000</td>\n",
       "      <td>6.000000</td>\n",
       "      <td>512.329200</td>\n",
       "    </tr>\n",
       "  </tbody>\n",
       "</table>\n",
       "</div>"
      ],
      "text/plain": [
       "       PassengerId    Survived      Pclass         Age       SibSp       Parch        Fare\n",
       "count   891.000000  891.000000  891.000000  891.000000  891.000000  891.000000  891.000000\n",
       "mean    446.000000    0.383838    2.308642   28.566970    0.523008    0.381594   32.204208\n",
       "std     257.353842    0.486592    0.836071   13.199572    1.102743    0.806057   49.693429\n",
       "min       1.000000    0.000000    1.000000    0.420000    0.000000    0.000000    0.000000\n",
       "25%     223.500000    0.000000    2.000000   22.000000    0.000000    0.000000    7.910400\n",
       "50%     446.000000    0.000000    3.000000   24.000000    0.000000    0.000000   14.454200\n",
       "75%     668.500000    1.000000    3.000000   35.000000    1.000000    0.000000   31.000000\n",
       "max     891.000000    1.000000    3.000000   80.000000    8.000000    6.000000  512.329200"
      ]
     },
     "execution_count": 8,
     "metadata": {},
     "output_type": "execute_result"
    }
   ],
   "source": [
    "import numpy as np\n",
    "\n",
    "df.describe(include=(np.number))"
   ]
  },
  {
   "cell_type": "markdown",
   "id": "09acc408",
   "metadata": {
    "execution": {
     "iopub.execute_input": "2022-05-13T11:02:34.328433Z",
     "iopub.status.busy": "2022-05-13T11:02:34.327999Z",
     "iopub.status.idle": "2022-05-13T11:02:34.336993Z",
     "shell.execute_reply": "2022-05-13T11:02:34.335466Z",
     "shell.execute_reply.started": "2022-05-13T11:02:34.32838Z"
    },
    "hidden": true,
    "papermill": {
     "duration": 0.121244,
     "end_time": "2022-05-30T22:42:24.538431",
     "exception": false,
     "start_time": "2022-05-30T22:42:24.417187",
     "status": "completed"
    },
    "tags": []
   },
   "source": [
    "We can see that `Fare` contains mainly values of around `0` to `30`, but there's a few really big ones. This is very common with fields contain monetary values, and it can cause problems for our model, because once that column is multiplied by a coefficient later, the few rows with really big values will dominate the result.\n",
    "\n",
    "You can see the issue most clearly visually by looking at a histogram, which shows a long tail to the right (and don't forget: if you're not entirely sure what a histogram is, Google \"[histogram tutorial](https://www.google.com/search?q=histogram+tutorial&oq=histogram+tutorial)\" and do a bit of reading before continuing on):"
   ]
  },
  {
   "cell_type": "code",
   "execution_count": 9,
   "id": "31a0c08b",
   "metadata": {
    "execution": {
     "iopub.execute_input": "2022-05-30T22:42:24.779841Z",
     "iopub.status.busy": "2022-05-30T22:42:24.779287Z",
     "iopub.status.idle": "2022-05-30T22:42:25.030112Z",
     "shell.execute_reply": "2022-05-30T22:42:25.029366Z"
    },
    "hidden": true,
    "papermill": {
     "duration": 0.373203,
     "end_time": "2022-05-30T22:42:25.032358",
     "exception": false,
     "start_time": "2022-05-30T22:42:24.659155",
     "status": "completed"
    },
    "tags": []
   },
   "outputs": [
    {
     "data": {
      "image/png": "[encoded data removed]",
      "text/plain": [
       "<Figure size 640x480 with 1 Axes>"
      ]
     },
     "metadata": {},
     "output_type": "display_data"
    }
   ],
   "source": [
    "df['Fare'].hist();"
   ]
  },
  {
   "cell_type": "markdown",
   "id": "01f1a3a7",
   "metadata": {
    "execution": {
     "iopub.execute_input": "2022-05-13T11:02:34.328433Z",
     "iopub.status.busy": "2022-05-13T11:02:34.327999Z",
     "iopub.status.idle": "2022-05-13T11:02:34.336993Z",
     "shell.execute_reply": "2022-05-13T11:02:34.335466Z",
     "shell.execute_reply.started": "2022-05-13T11:02:34.32838Z"
    },
    "hidden": true,
    "papermill": {
     "duration": 0.120983,
     "end_time": "2022-05-30T22:42:25.274762",
     "exception": false,
     "start_time": "2022-05-30T22:42:25.153779",
     "status": "completed"
    },
    "tags": []
   },
   "source": [
    "To fix this, the most common approach is to take the logarithm, which squishes the big numbers and makes the distribution more reasonable. Note, however, that there are zeros in the `Fare` column, and `log(0)` is infinite -- to fix this, we'll simply add `1` to all values first:"
   ]
  },
  {
   "cell_type": "code",
   "execution_count": 10,
   "id": "e6b5ae16",
   "metadata": {
    "execution": {
     "iopub.execute_input": "2022-05-30T22:42:25.519950Z",
     "iopub.status.busy": "2022-05-30T22:42:25.519710Z",
     "iopub.status.idle": "2022-05-30T22:42:25.524154Z",
     "shell.execute_reply": "2022-05-30T22:42:25.523580Z"
    },
    "hidden": true,
    "papermill": {
     "duration": 0.130903,
     "end_time": "2022-05-30T22:42:25.525892",
     "exception": false,
     "start_time": "2022-05-30T22:42:25.394989",
     "status": "completed"
    },
    "tags": []
   },
   "outputs": [],
   "source": [
    "df['LogFare'] = np.log(df['Fare']+1)"
   ]
  },
  {
   "cell_type": "markdown",
   "id": "bfbf8caf",
   "metadata": {
    "hidden": true,
    "papermill": {
     "duration": 0.120392,
     "end_time": "2022-05-30T22:42:25.767414",
     "exception": false,
     "start_time": "2022-05-30T22:42:25.647022",
     "status": "completed"
    },
    "tags": []
   },
   "source": [
    "The histogram now shows a more even distribution of values without the long tail:"
   ]
  },
  {
   "cell_type": "code",
   "execution_count": 11,
   "id": "2f7c9c1b",
   "metadata": {
    "execution": {
     "iopub.execute_input": "2022-05-30T22:42:26.010460Z",
     "iopub.status.busy": "2022-05-30T22:42:26.010172Z",
     "iopub.status.idle": "2022-05-30T22:42:26.221049Z",
     "shell.execute_reply": "2022-05-30T22:42:26.220207Z"
    },
    "hidden": true,
    "papermill": {
     "duration": 0.337194,
     "end_time": "2022-05-30T22:42:26.223084",
     "exception": false,
     "start_time": "2022-05-30T22:42:25.885890",
     "status": "completed"
    },
    "tags": []
   },
   "outputs": [
    {
     "data": {
      "image/png": "[encoded data removed]",
      "text/plain": [
       "<Figure size 640x480 with 1 Axes>"
      ]
     },
     "metadata": {},
     "output_type": "display_data"
    }
   ],
   "source": [
    "df['LogFare'].hist();"
   ]
  },
  {
   "cell_type": "markdown",
   "id": "4a7e574b",
   "metadata": {
    "hidden": true,
    "papermill": {
     "duration": 0.123001,
     "end_time": "2022-05-30T22:42:26.468910",
     "exception": false,
     "start_time": "2022-05-30T22:42:26.345909",
     "status": "completed"
    },
    "tags": []
   },
   "source": [
    "It looks from the `describe()` output like `Pclass` contains just 3 values, which we can confirm by looking at the [Data Dictionary](https://www.kaggle.com/competitions/titanic/data) (which you should always study carefully for any project!) -- "
   ]
  },
  {
   "cell_type": "code",
   "execution_count": 12,
   "id": "0bda5340",
   "metadata": {
    "execution": {
     "iopub.execute_input": "2022-05-30T22:42:26.716689Z",
     "iopub.status.busy": "2022-05-30T22:42:26.715986Z",
     "iopub.status.idle": "2022-05-30T22:42:26.721266Z",
     "shell.execute_reply": "2022-05-30T22:42:26.720633Z"
    },
    "hidden": true,
    "papermill": {
     "duration": 0.131461,
     "end_time": "2022-05-30T22:42:26.723013",
     "exception": false,
     "start_time": "2022-05-30T22:42:26.591552",
     "status": "completed"
    },
    "tags": []
   },
   "outputs": [
    {
     "data": {
      "text/plain": [
       "[np.int64(1), np.int64(2), np.int64(3)]"
      ]
     },
     "execution_count": 12,
     "metadata": {},
     "output_type": "execute_result"
    }
   ],
   "source": [
    "pclasses = sorted(df.Pclass.unique())\n",
    "pclasses"
   ]
  },
  {
   "cell_type": "markdown",
   "id": "7cd12338",
   "metadata": {
    "hidden": true,
    "papermill": {
     "duration": 0.122322,
     "end_time": "2022-05-30T22:42:26.967230",
     "exception": false,
     "start_time": "2022-05-30T22:42:26.844908",
     "status": "completed"
    },
    "tags": []
   },
   "source": [
    "Here's how we get a quick summary of all the non-numeric columns in the dataset:"
   ]
  },
  {
   "cell_type": "code",
   "execution_count": 13,
   "id": "6ac93220",
   "metadata": {
    "execution": {
     "iopub.execute_input": "2022-05-30T22:42:27.212750Z",
     "iopub.status.busy": "2022-05-30T22:42:27.212216Z",
     "iopub.status.idle": "2022-05-30T22:42:27.231959Z",
     "shell.execute_reply": "2022-05-30T22:42:27.231352Z"
    },
    "hidden": true,
    "papermill": {
     "duration": 0.145209,
     "end_time": "2022-05-30T22:42:27.234010",
     "exception": false,
     "start_time": "2022-05-30T22:42:27.088801",
     "status": "completed"
    },
    "tags": []
   },
   "outputs": [
    {
     "data": {
      "application/vnd.microsoft.datawrangler.viewer.v0+json": {
       "columns": [
        {
         "name": "index",
         "rawType": "object",
         "type": "string"
        },
        {
         "name": "Name",
         "rawType": "object",
         "type": "unknown"
        },
        {
         "name": "Sex",
         "rawType": "object",
         "type": "unknown"
        },
        {
         "name": "Ticket",
         "rawType": "object",
         "type": "unknown"
        },
        {
         "name": "Cabin",
         "rawType": "object",
         "type": "unknown"
        },
        {
         "name": "Embarked",
         "rawType": "object",
         "type": "unknown"
        }
       ],
       "ref": "8a924658-d877-4ad0-bb0c-b7d62b26714f",
       "rows": [
        [
         "count",
         "891",
         "891",
         "891",
         "891",
         "891"
        ],
        [
         "unique",
         "891",
         "2",
         "681",
         "147",
         "3"
        ],
        [
         "top",
         "Dooley, Mr. Patrick",
         "male",
         "347082",
         "B96 B98",
         "S"
        ],
        [
         "freq",
         "1",
         "577",
         "7",
         "691",
         "646"
        ]
       ],
       "shape": {
        "columns": 5,
        "rows": 4
       }
      },
      "text/html": [
       "<div>\n",
       "<style scoped>\n",
       "    .dataframe tbody tr th:only-of-type {\n",
       "        vertical-align: middle;\n",
       "    }\n",
       "\n",
       "    .dataframe tbody tr th {\n",
       "        vertical-align: top;\n",
       "    }\n",
       "\n",
       "    .dataframe thead th {\n",
       "        text-align: right;\n",
       "    }\n",
       "</style>\n",
       "<table border=\"1\" class=\"dataframe\">\n",
       "  <thead>\n",
       "    <tr style=\"text-align: right;\">\n",
       "      <th></th>\n",
       "      <th>Name</th>\n",
       "      <th>Sex</th>\n",
       "      <th>Ticket</th>\n",
       "      <th>Cabin</th>\n",
       "      <th>Embarked</th>\n",
       "    </tr>\n",
       "  </thead>\n",
       "  <tbody>\n",
       "    <tr>\n",
       "      <th>count</th>\n",
       "      <td>891</td>\n",
       "      <td>891</td>\n",
       "      <td>891</td>\n",
       "      <td>891</td>\n",
       "      <td>891</td>\n",
       "    </tr>\n",
       "    <tr>\n",
       "      <th>unique</th>\n",
       "      <td>891</td>\n",
       "      <td>2</td>\n",
       "      <td>681</td>\n",
       "      <td>147</td>\n",
       "      <td>3</td>\n",
       "    </tr>\n",
       "    <tr>\n",
       "      <th>top</th>\n",
       "      <td>Dooley, Mr. Patrick</td>\n",
       "      <td>male</td>\n",
       "      <td>347082</td>\n",
       "      <td>B96 B98</td>\n",
       "      <td>S</td>\n",
       "    </tr>\n",
       "    <tr>\n",
       "      <th>freq</th>\n",
       "      <td>1</td>\n",
       "      <td>577</td>\n",
       "      <td>7</td>\n",
       "      <td>691</td>\n",
       "      <td>646</td>\n",
       "    </tr>\n",
       "  </tbody>\n",
       "</table>\n",
       "</div>"
      ],
      "text/plain": [
       "                       Name   Sex  Ticket    Cabin Embarked\n",
       "count                   891   891     891      891      891\n",
       "unique                  891     2     681      147        3\n",
       "top     Dooley, Mr. Patrick  male  347082  B96 B98        S\n",
       "freq                      1   577       7      691      646"
      ]
     },
     "execution_count": 13,
     "metadata": {},
     "output_type": "execute_result"
    }
   ],
   "source": [
    "df.describe(include=[object])"
   ]
  },
  {
   "cell_type": "markdown",
   "id": "ee68df30",
   "metadata": {
    "hidden": true,
    "papermill": {
     "duration": 0.123817,
     "end_time": "2022-05-30T22:42:27.482615",
     "exception": false,
     "start_time": "2022-05-30T22:42:27.358798",
     "status": "completed"
    },
    "tags": []
   },
   "source": [
    "Clearly we can't multiply strings like `male` or `S` by coefficients, so we need to replace those with numbers.\n",
    "\n",
    "We do that by creating new columns containing *dummy variables*. A dummy variable is a column that contains a `1` where a particular column contains a particular value, or a `0` otherwise. For instance, we could create a dummy variable for `Sex='male'`, which would be a new column containing `1` for rows where `Sex` is `'male'`, and 0 for rows where it isn't.\n",
    "\n",
    "Pandas can create these automatically using `get_dummies`, which also remove the original columns. We'll create dummy variables for `Pclass`, even although it's numeric, since the numbers `1`, `2`, and `3` correspond to first, second, and third class cabins - not to counts or measures that make sense to multiply by. We'll also create dummies for `Sex` and `Embarked` since we'll want to use those as predictors in our model. On the other hand, `Cabin`, `Name`, and `Ticket` have too many unique values for it to make sense creating dummy variables for them."
   ]
  },
  {
   "cell_type": "code",
   "execution_count": 14,
   "id": "6f7d153f",
   "metadata": {
    "execution": {
     "iopub.execute_input": "2022-05-30T22:42:27.728705Z",
     "iopub.status.busy": "2022-05-30T22:42:27.728103Z",
     "iopub.status.idle": "2022-05-30T22:42:27.741152Z",
     "shell.execute_reply": "2022-05-30T22:42:27.740338Z"
    },
    "hidden": true,
    "papermill": {
     "duration": 0.138513,
     "end_time": "2022-05-30T22:42:27.743119",
     "exception": false,
     "start_time": "2022-05-30T22:42:27.604606",
     "status": "completed"
    },
    "tags": []
   },
   "outputs": [
    {
     "data": {
      "text/plain": [
       "Index(['PassengerId', 'Survived', 'Name', 'Age', 'SibSp', 'Parch', 'Ticket', 'Fare', 'Cabin', 'LogFare', 'Sex_female', 'Sex_male',\n",
       "       'Pclass_1', 'Pclass_2', 'Pclass_3', 'Embarked_C', 'Embarked_Q', 'Embarked_S'],\n",
       "      dtype='object')"
      ]
     },
     "execution_count": 14,
     "metadata": {},
     "output_type": "execute_result"
    }
   ],
   "source": [
    "df = pd.get_dummies(df, columns=[\"Sex\",\"Pclass\",\"Embarked\"])\n",
    "df.columns"
   ]
  },
  {
   "cell_type": "markdown",
   "id": "ef061ce9",
   "metadata": {
    "hidden": true,
    "papermill": {
     "duration": 0.123481,
     "end_time": "2022-05-30T22:42:27.989480",
     "exception": false,
     "start_time": "2022-05-30T22:42:27.865999",
     "status": "completed"
    },
    "tags": []
   },
   "source": [
    "We can see that 5 columns have been added to the end -- one for each of the possible values of each of the three columns we requested, and that those three requested columns have been removed.\n",
    "\n",
    "Here's what the first few rows of those newly added columns look like:"
   ]
  },
  {
   "cell_type": "code",
   "execution_count": 15,
   "id": "d08b349c",
   "metadata": {
    "execution": {
     "iopub.execute_input": "2022-05-30T22:42:28.239981Z",
     "iopub.status.busy": "2022-05-30T22:42:28.239685Z",
     "iopub.status.idle": "2022-05-30T22:42:28.252941Z",
     "shell.execute_reply": "2022-05-30T22:42:28.251889Z"
    },
    "hidden": true,
    "papermill": {
     "duration": 0.140617,
     "end_time": "2022-05-30T22:42:28.255025",
     "exception": false,
     "start_time": "2022-05-30T22:42:28.114408",
     "status": "completed"
    },
    "tags": []
   },
   "outputs": [
    {
     "data": {
      "application/vnd.microsoft.datawrangler.viewer.v0+json": {
       "columns": [
        {
         "name": "index",
         "rawType": "int64",
         "type": "integer"
        },
        {
         "name": "Sex_male",
         "rawType": "bool",
         "type": "boolean"
        },
        {
         "name": "Sex_female",
         "rawType": "bool",
         "type": "boolean"
        },
        {
         "name": "Pclass_1",
         "rawType": "bool",
         "type": "boolean"
        },
        {
         "name": "Pclass_2",
         "rawType": "bool",
         "type": "boolean"
        },
        {
         "name": "Pclass_3",
         "rawType": "bool",
         "type": "boolean"
        },
        {
         "name": "Embarked_C",
         "rawType": "bool",
         "type": "boolean"
        },
        {
         "name": "Embarked_Q",
         "rawType": "bool",
         "type": "boolean"
        },
        {
         "name": "Embarked_S",
         "rawType": "bool",
         "type": "boolean"
        }
       ],
       "ref": "7bf1413c-aa57-47cc-a9e4-a4f5c02e54f5",
       "rows": [
        [
         "0",
         "True",
         "False",
         "False",
         "False",
         "True",
         "False",
         "False",
         "True"
        ],
        [
         "1",
         "False",
         "True",
         "True",
         "False",
         "False",
         "True",
         "False",
         "False"
        ],
        [
         "2",
         "False",
         "True",
         "False",
         "False",
         "True",
         "False",
         "False",
         "True"
        ],
        [
         "3",
         "False",
         "True",
         "True",
         "False",
         "False",
         "False",
         "False",
         "True"
        ],
        [
         "4",
         "True",
         "False",
         "False",
         "False",
         "True",
         "False",
         "False",
         "True"
        ]
       ],
       "shape": {
        "columns": 8,
        "rows": 5
       }
      },
      "text/html": [
       "<div>\n",
       "<style scoped>\n",
       "    .dataframe tbody tr th:only-of-type {\n",
       "        vertical-align: middle;\n",
       "    }\n",
       "\n",
       "    .dataframe tbody tr th {\n",
       "        vertical-align: top;\n",
       "    }\n",
       "\n",
       "    .dataframe thead th {\n",
       "        text-align: right;\n",
       "    }\n",
       "</style>\n",
       "<table border=\"1\" class=\"dataframe\">\n",
       "  <thead>\n",
       "    <tr style=\"text-align: right;\">\n",
       "      <th></th>\n",
       "      <th>Sex_male</th>\n",
       "      <th>Sex_female</th>\n",
       "      <th>Pclass_1</th>\n",
       "      <th>Pclass_2</th>\n",
       "      <th>Pclass_3</th>\n",
       "      <th>Embarked_C</th>\n",
       "      <th>Embarked_Q</th>\n",
       "      <th>Embarked_S</th>\n",
       "    </tr>\n",
       "  </thead>\n",
       "  <tbody>\n",
       "    <tr>\n",
       "      <th>0</th>\n",
       "      <td>True</td>\n",
       "      <td>False</td>\n",
       "      <td>False</td>\n",
       "      <td>False</td>\n",
       "      <td>True</td>\n",
       "      <td>False</td>\n",
       "      <td>False</td>\n",
       "      <td>True</td>\n",
       "    </tr>\n",
       "    <tr>\n",
       "      <th>1</th>\n",
       "      <td>False</td>\n",
       "      <td>True</td>\n",
       "      <td>True</td>\n",
       "      <td>False</td>\n",
       "      <td>False</td>\n",
       "      <td>True</td>\n",
       "      <td>False</td>\n",
       "      <td>False</td>\n",
       "    </tr>\n",
       "    <tr>\n",
       "      <th>2</th>\n",
       "      <td>False</td>\n",
       "      <td>True</td>\n",
       "      <td>False</td>\n",
       "      <td>False</td>\n",
       "      <td>True</td>\n",
       "      <td>False</td>\n",
       "      <td>False</td>\n",
       "      <td>True</td>\n",
       "    </tr>\n",
       "    <tr>\n",
       "      <th>3</th>\n",
       "      <td>False</td>\n",
       "      <td>True</td>\n",
       "      <td>True</td>\n",
       "      <td>False</td>\n",
       "      <td>False</td>\n",
       "      <td>False</td>\n",
       "      <td>False</td>\n",
       "      <td>True</td>\n",
       "    </tr>\n",
       "    <tr>\n",
       "      <th>4</th>\n",
       "      <td>True</td>\n",
       "      <td>False</td>\n",
       "      <td>False</td>\n",
       "      <td>False</td>\n",
       "      <td>True</td>\n",
       "      <td>False</td>\n",
       "      <td>False</td>\n",
       "      <td>True</td>\n",
       "    </tr>\n",
       "  </tbody>\n",
       "</table>\n",
       "</div>"
      ],
      "text/plain": [
       "   Sex_male  Sex_female  Pclass_1  Pclass_2  Pclass_3  Embarked_C  Embarked_Q  Embarked_S\n",
       "0      True       False     False     False      True       False       False        True\n",
       "1     False        True      True     False     False        True       False       False\n",
       "2     False        True     False     False      True       False       False        True\n",
       "3     False        True      True     False     False       False       False        True\n",
       "4      True       False     False     False      True       False       False        True"
      ]
     },
     "execution_count": 15,
     "metadata": {},
     "output_type": "execute_result"
    }
   ],
   "source": [
    "added_cols = ['Sex_male', 'Sex_female', 'Pclass_1', 'Pclass_2', 'Pclass_3', 'Embarked_C', 'Embarked_Q', 'Embarked_S']\n",
    "df[added_cols].head()"
   ]
  },
  {
   "cell_type": "markdown",
   "id": "c4f33944",
   "metadata": {
    "hidden": true,
    "papermill": {
     "duration": 0.125474,
     "end_time": "2022-05-30T22:42:28.505840",
     "exception": false,
     "start_time": "2022-05-30T22:42:28.380366",
     "status": "completed"
    },
    "tags": []
   },
   "source": [
    "Now we can create our independent (predictors) and dependent (target) variables. They both need to be PyTorch tensors. Our dependent variable is `Survived`:"
   ]
  },
  {
   "cell_type": "code",
   "execution_count": 16,
   "id": "edbf447f",
   "metadata": {
    "execution": {
     "iopub.execute_input": "2022-05-30T22:42:28.758815Z",
     "iopub.status.busy": "2022-05-30T22:42:28.758543Z",
     "iopub.status.idle": "2022-05-30T22:42:28.772897Z",
     "shell.execute_reply": "2022-05-30T22:42:28.772244Z"
    },
    "hidden": true,
    "papermill": {
     "duration": 0.142864,
     "end_time": "2022-05-30T22:42:28.774883",
     "exception": false,
     "start_time": "2022-05-30T22:42:28.632019",
     "status": "completed"
    },
    "tags": []
   },
   "outputs": [],
   "source": [
    "from torch import tensor\n",
    "\n",
    "t_dep = tensor(df.Survived)"
   ]
  },
  {
   "cell_type": "markdown",
   "id": "454fbfa6",
   "metadata": {
    "hidden": true,
    "papermill": {
     "duration": 0.128142,
     "end_time": "2022-05-30T22:42:29.028739",
     "exception": false,
     "start_time": "2022-05-30T22:42:28.900597",
     "status": "completed"
    },
    "tags": []
   },
   "source": [
    "Our independent variables are all the continuous variables of interest plus all the dummy variables we just created:"
   ]
  },
  {
   "cell_type": "code",
   "execution_count": 17,
   "id": "32b8c4fd",
   "metadata": {
    "execution": {
     "iopub.execute_input": "2022-05-30T22:42:29.283622Z",
     "iopub.status.busy": "2022-05-30T22:42:29.283091Z",
     "iopub.status.idle": "2022-05-30T22:42:29.372706Z",
     "shell.execute_reply": "2022-05-30T22:42:29.371852Z"
    },
    "hidden": true,
    "papermill": {
     "duration": 0.219614,
     "end_time": "2022-05-30T22:42:29.374756",
     "exception": false,
     "start_time": "2022-05-30T22:42:29.155142",
     "status": "completed"
    },
    "tags": []
   },
   "outputs": [
    {
     "data": {
      "text/plain": [
       "tensor([[22.0000,  1.0000,  0.0000,  2.1102,  1.0000,  0.0000,  0.0000,  0.0000,  1.0000,  0.0000,  0.0000,  1.0000],\n",
       "        [38.0000,  1.0000,  0.0000,  4.2806,  0.0000,  1.0000,  1.0000,  0.0000,  0.0000,  1.0000,  0.0000,  0.0000],\n",
       "        [26.0000,  0.0000,  0.0000,  2.1889,  0.0000,  1.0000,  0.0000,  0.0000,  1.0000,  0.0000,  0.0000,  1.0000],\n",
       "        [35.0000,  1.0000,  0.0000,  3.9908,  0.0000,  1.0000,  1.0000,  0.0000,  0.0000,  0.0000,  0.0000,  1.0000],\n",
       "        [35.0000,  0.0000,  0.0000,  2.2028,  1.0000,  0.0000,  0.0000,  0.0000,  1.0000,  0.0000,  0.0000,  1.0000],\n",
       "        [24.0000,  0.0000,  0.0000,  2.2469,  1.0000,  0.0000,  0.0000,  0.0000,  1.0000,  0.0000,  1.0000,  0.0000],\n",
       "        [54.0000,  0.0000,  0.0000,  3.9677,  1.0000,  0.0000,  1.0000,  0.0000,  0.0000,  0.0000,  0.0000,  1.0000],\n",
       "        ...,\n",
       "        [25.0000,  0.0000,  0.0000,  2.0857,  1.0000,  0.0000,  0.0000,  0.0000,  1.0000,  0.0000,  0.0000,  1.0000],\n",
       "        [39.0000,  0.0000,  5.0000,  3.4054,  0.0000,  1.0000,  0.0000,  0.0000,  1.0000,  0.0000,  1.0000,  0.0000],\n",
       "        [27.0000,  0.0000,  0.0000,  2.6391,  1.0000,  0.0000,  0.0000,  1.0000,  0.0000,  0.0000,  0.0000,  1.0000],\n",
       "        [19.0000,  0.0000,  0.0000,  3.4340,  0.0000,  1.0000,  1.0000,  0.0000,  0.0000,  0.0000,  0.0000,  1.0000],\n",
       "        [24.0000,  1.0000,  2.0000,  3.1966,  0.0000,  1.0000,  0.0000,  0.0000,  1.0000,  0.0000,  0.0000,  1.0000],\n",
       "        [26.0000,  0.0000,  0.0000,  3.4340,  1.0000,  0.0000,  1.0000,  0.0000,  0.0000,  1.0000,  0.0000,  0.0000],\n",
       "        [32.0000,  0.0000,  0.0000,  2.1691,  1.0000,  0.0000,  0.0000,  0.0000,  1.0000,  0.0000,  1.0000,  0.0000]])"
      ]
     },
     "execution_count": 17,
     "metadata": {},
     "output_type": "execute_result"
    }
   ],
   "source": [
    "indep_cols = ['Age', 'SibSp', 'Parch', 'LogFare'] + added_cols\n",
    "\n",
    "t_indep = tensor(df[indep_cols].values.astype(np.float32), dtype=torch.float)\n",
    "t_indep"
   ]
  },
  {
   "cell_type": "markdown",
   "id": "43feff8e",
   "metadata": {
    "hidden": true,
    "papermill": {
     "duration": 0.131701,
     "end_time": "2022-05-30T22:42:29.634243",
     "exception": false,
     "start_time": "2022-05-30T22:42:29.502542",
     "status": "completed"
    },
    "tags": []
   },
   "source": [
    "Here's the number of rows and columns we have for our independent variables:"
   ]
  },
  {
   "cell_type": "code",
   "execution_count": 18,
   "id": "9efd04d6",
   "metadata": {
    "execution": {
     "iopub.execute_input": "2022-05-30T22:42:29.893911Z",
     "iopub.status.busy": "2022-05-30T22:42:29.893659Z",
     "iopub.status.idle": "2022-05-30T22:42:29.898473Z",
     "shell.execute_reply": "2022-05-30T22:42:29.897849Z"
    },
    "hidden": true,
    "papermill": {
     "duration": 0.132149,
     "end_time": "2022-05-30T22:42:29.900072",
     "exception": false,
     "start_time": "2022-05-30T22:42:29.767923",
     "status": "completed"
    },
    "tags": []
   },
   "outputs": [
    {
     "data": {
      "text/plain": [
       "torch.Size([891, 12])"
      ]
     },
     "execution_count": 18,
     "metadata": {},
     "output_type": "execute_result"
    }
   ],
   "source": [
    "t_indep.shape"
   ]
  },
  {
   "cell_type": "markdown",
   "id": "0fb7ca9e",
   "metadata": {
    "papermill": {
     "duration": 0.139323,
     "end_time": "2022-05-30T22:42:30.165457",
     "exception": false,
     "start_time": "2022-05-30T22:42:30.026134",
     "status": "completed"
    },
    "tags": []
   },
   "source": [
    "## Setting up a linear model"
   ]
  },
  {
   "cell_type": "markdown",
   "id": "c72bb870",
   "metadata": {
    "papermill": {
     "duration": 0.134877,
     "end_time": "2022-05-30T22:42:30.435747",
     "exception": false,
     "start_time": "2022-05-30T22:42:30.300870",
     "status": "completed"
    },
    "tags": []
   },
   "source": [
    "Now that we've got a matrix of independent variables and a dependent variable vector, we can work on calculating our predictions and our loss. In this section, we're going to manually do a single step of calculating predictions and loss for every row of our data.\n",
    "\n",
    "Our first model will be a simple linear model. We'll need a coefficient for each column in `t_indep`. We'll pick random numbers in the range `(-0.5,0.5)`, and set our manual seed so that my explanations in the prose in this notebook will be consistent with what you see when you run it."
   ]
  },
  {
   "cell_type": "code",
   "execution_count": 19,
   "id": "a04f62db",
   "metadata": {
    "execution": {
     "iopub.execute_input": "2022-05-30T22:42:30.689764Z",
     "iopub.status.busy": "2022-05-30T22:42:30.689531Z",
     "iopub.status.idle": "2022-05-30T22:42:30.705243Z",
     "shell.execute_reply": "2022-05-30T22:42:30.704362Z"
    },
    "papermill": {
     "duration": 0.143213,
     "end_time": "2022-05-30T22:42:30.707078",
     "exception": false,
     "start_time": "2022-05-30T22:42:30.563865",
     "status": "completed"
    },
    "tags": []
   },
   "outputs": [
    {
     "data": {
      "text/plain": [
       "tensor([-0.4629,  0.1386,  0.2409, -0.2262, -0.2632, -0.3147,  0.4876,  0.3136,  0.2799, -0.4392,  0.2103,  0.3625])"
      ]
     },
     "execution_count": 19,
     "metadata": {},
     "output_type": "execute_result"
    }
   ],
   "source": [
    "torch.manual_seed(442)\n",
    "\n",
    "n_coeff = t_indep.shape[1]\n",
    "coeffs = torch.rand(n_coeff)-0.5\n",
    "coeffs"
   ]
  },
  {
   "cell_type": "markdown",
   "id": "e3d6579c",
   "metadata": {
    "papermill": {
     "duration": 0.127644,
     "end_time": "2022-05-30T22:42:30.958544",
     "exception": false,
     "start_time": "2022-05-30T22:42:30.830900",
     "status": "completed"
    },
    "tags": []
   },
   "source": [
    "Our predictions will be calculated by multiplying each row by the coefficients, and adding them up. One interesting point here is that we don't need a separate constant term (also known as a \"bias\" or \"intercept\" term), or a column of all `1`s to give the same effect has having a constant term. That's because our dummy variables already cover the entire dataset -- e.g. there's a column for \"male\" and a column for \"female\", and everyone in the dataset is in exactly one of these; therefore, we don't need a separate intercept term to cover rows that aren't otherwise part of a column.\n",
    "\n",
    "Here's what the multiplication looks like:"
   ]
  },
  {
   "cell_type": "code",
   "execution_count": 20,
   "id": "8d7de106",
   "metadata": {
    "execution": {
     "iopub.execute_input": "2022-05-30T22:42:31.212557Z",
     "iopub.status.busy": "2022-05-30T22:42:31.212286Z",
     "iopub.status.idle": "2022-05-30T22:42:31.218631Z",
     "shell.execute_reply": "2022-05-30T22:42:31.218033Z"
    },
    "papermill": {
     "duration": 0.137808,
     "end_time": "2022-05-30T22:42:31.220573",
     "exception": false,
     "start_time": "2022-05-30T22:42:31.082765",
     "status": "completed"
    },
    "tags": []
   },
   "outputs": [
    {
     "data": {
      "text/plain": [
       "tensor([[-10.1838,   0.1386,   0.0000,  -0.4772,  -0.2632,  -0.0000,   0.0000,   0.0000,   0.2799,  -0.0000,   0.0000,   0.3625],\n",
       "        [-17.5902,   0.1386,   0.0000,  -0.9681,  -0.0000,  -0.3147,   0.4876,   0.0000,   0.0000,  -0.4392,   0.0000,   0.0000],\n",
       "        [-12.0354,   0.0000,   0.0000,  -0.4950,  -0.0000,  -0.3147,   0.0000,   0.0000,   0.2799,  -0.0000,   0.0000,   0.3625],\n",
       "        [-16.2015,   0.1386,   0.0000,  -0.9025,  -0.0000,  -0.3147,   0.4876,   0.0000,   0.0000,  -0.0000,   0.0000,   0.3625],\n",
       "        [-16.2015,   0.0000,   0.0000,  -0.4982,  -0.2632,  -0.0000,   0.0000,   0.0000,   0.2799,  -0.0000,   0.0000,   0.3625],\n",
       "        [-11.1096,   0.0000,   0.0000,  -0.5081,  -0.2632,  -0.0000,   0.0000,   0.0000,   0.2799,  -0.0000,   0.2103,   0.0000],\n",
       "        [-24.9966,   0.0000,   0.0000,  -0.8973,  -0.2632,  -0.0000,   0.4876,   0.0000,   0.0000,  -0.0000,   0.0000,   0.3625],\n",
       "        ...,\n",
       "        [-11.5725,   0.0000,   0.0000,  -0.4717,  -0.2632,  -0.0000,   0.0000,   0.0000,   0.2799,  -0.0000,   0.0000,   0.3625],\n",
       "        [-18.0531,   0.0000,   1.2045,  -0.7701,  -0.0000,  -0.3147,   0.0000,   0.0000,   0.2799,  -0.0000,   0.2103,   0.0000],\n",
       "        [-12.4983,   0.0000,   0.0000,  -0.5968,  -0.2632,  -0.0000,   0.0000,   0.3136,   0.0000,  -0.0000,   0.0000,   0.3625],\n",
       "        [ -8.7951,   0.0000,   0.0000,  -0.7766,  -0.0000,  -0.3147,   0.4876,   0.0000,   0.0000,  -0.0000,   0.0000,   0.3625],\n",
       "        [-11.1096,   0.1386,   0.4818,  -0.7229,  -0.0000,  -0.3147,   0.0000,   0.0000,   0.2799,  -0.0000,   0.0000,   0.3625],\n",
       "        [-12.0354,   0.0000,   0.0000,  -0.7766,  -0.2632,  -0.0000,   0.4876,   0.0000,   0.0000,  -0.4392,   0.0000,   0.0000],\n",
       "        [-14.8128,   0.0000,   0.0000,  -0.4905,  -0.2632,  -0.0000,   0.0000,   0.0000,   0.2799,  -0.0000,   0.2103,   0.0000]])"
      ]
     },
     "execution_count": 20,
     "metadata": {},
     "output_type": "execute_result"
    }
   ],
   "source": [
    "t_indep*coeffs"
   ]
  },
  {
   "cell_type": "markdown",
   "id": "dbae188c",
   "metadata": {
    "papermill": {
     "duration": 0.128025,
     "end_time": "2022-05-30T22:42:31.473700",
     "exception": false,
     "start_time": "2022-05-30T22:42:31.345675",
     "status": "completed"
    },
    "tags": []
   },
   "source": [
    "We can see we've got a problem here. The sums of each row will be dominated by the first column, which is `Age`, since that's bigger on average than all the others.\n",
    "\n",
    "Let's make all the columns contain numbers from `0` to `1`, by dividing each column by its `max()`:"
   ]
  },
  {
   "cell_type": "code",
   "execution_count": 21,
   "id": "be6365a1",
   "metadata": {
    "execution": {
     "iopub.execute_input": "2022-05-30T22:42:31.726622Z",
     "iopub.status.busy": "2022-05-30T22:42:31.726136Z",
     "iopub.status.idle": "2022-05-30T22:42:31.732240Z",
     "shell.execute_reply": "2022-05-30T22:42:31.731678Z"
    },
    "papermill": {
     "duration": 0.13479,
     "end_time": "2022-05-30T22:42:31.734119",
     "exception": false,
     "start_time": "2022-05-30T22:42:31.599329",
     "status": "completed"
    },
    "tags": []
   },
   "outputs": [],
   "source": [
    "vals,indices = t_indep.max(dim=0)\n",
    "t_indep = t_indep / vals"
   ]
  },
  {
   "cell_type": "markdown",
   "id": "f9a6363e",
   "metadata": {
    "papermill": {
     "duration": 0.124031,
     "end_time": "2022-05-30T22:42:31.983598",
     "exception": false,
     "start_time": "2022-05-30T22:42:31.859567",
     "status": "completed"
    },
    "tags": []
   },
   "source": [
    "As we see, that removes the problem of one column dominating all the others:"
   ]
  },
  {
   "cell_type": "code",
   "execution_count": 22,
   "id": "46c6224e",
   "metadata": {
    "execution": {
     "iopub.execute_input": "2022-05-30T22:42:32.235630Z",
     "iopub.status.busy": "2022-05-30T22:42:32.235140Z",
     "iopub.status.idle": "2022-05-30T22:42:32.241016Z",
     "shell.execute_reply": "2022-05-30T22:42:32.240252Z"
    },
    "papermill": {
     "duration": 0.13291,
     "end_time": "2022-05-30T22:42:32.242862",
     "exception": false,
     "start_time": "2022-05-30T22:42:32.109952",
     "status": "completed"
    },
    "tags": []
   },
   "outputs": [
    {
     "data": {
      "text/plain": [
       "tensor([[-0.1273,  0.0173,  0.0000, -0.0765, -0.2632, -0.0000,  0.0000,  0.0000,  0.2799, -0.0000,  0.0000,  0.3625],\n",
       "        [-0.2199,  0.0173,  0.0000, -0.1551, -0.0000, -0.3147,  0.4876,  0.0000,  0.0000, -0.4392,  0.0000,  0.0000],\n",
       "        [-0.1504,  0.0000,  0.0000, -0.0793, -0.0000, -0.3147,  0.0000,  0.0000,  0.2799, -0.0000,  0.0000,  0.3625],\n",
       "        [-0.2025,  0.0173,  0.0000, -0.1446, -0.0000, -0.3147,  0.4876,  0.0000,  0.0000, -0.0000,  0.0000,  0.3625],\n",
       "        [-0.2025,  0.0000,  0.0000, -0.0798, -0.2632, -0.0000,  0.0000,  0.0000,  0.2799, -0.0000,  0.0000,  0.3625],\n",
       "        [-0.1389,  0.0000,  0.0000, -0.0814, -0.2632, -0.0000,  0.0000,  0.0000,  0.2799, -0.0000,  0.2103,  0.0000],\n",
       "        [-0.3125,  0.0000,  0.0000, -0.1438, -0.2632, -0.0000,  0.4876,  0.0000,  0.0000, -0.0000,  0.0000,  0.3625],\n",
       "        ...,\n",
       "        [-0.1447,  0.0000,  0.0000, -0.0756, -0.2632, -0.0000,  0.0000,  0.0000,  0.2799, -0.0000,  0.0000,  0.3625],\n",
       "        [-0.2257,  0.0000,  0.2008, -0.1234, -0.0000, -0.3147,  0.0000,  0.0000,  0.2799, -0.0000,  0.2103,  0.0000],\n",
       "        [-0.1562,  0.0000,  0.0000, -0.0956, -0.2632, -0.0000,  0.0000,  0.3136,  0.0000, -0.0000,  0.0000,  0.3625],\n",
       "        [-0.1099,  0.0000,  0.0000, -0.1244, -0.0000, -0.3147,  0.4876,  0.0000,  0.0000, -0.0000,  0.0000,  0.3625],\n",
       "        [-0.1389,  0.0173,  0.0803, -0.1158, -0.0000, -0.3147,  0.0000,  0.0000,  0.2799, -0.0000,  0.0000,  0.3625],\n",
       "        [-0.1504,  0.0000,  0.0000, -0.1244, -0.2632, -0.0000,  0.4876,  0.0000,  0.0000, -0.4392,  0.0000,  0.0000],\n",
       "        [-0.1852,  0.0000,  0.0000, -0.0786, -0.2632, -0.0000,  0.0000,  0.0000,  0.2799, -0.0000,  0.2103,  0.0000]])"
      ]
     },
     "execution_count": 22,
     "metadata": {},
     "output_type": "execute_result"
    }
   ],
   "source": [
    "t_indep*coeffs"
   ]
  },
  {
   "cell_type": "markdown",
   "id": "a079007c",
   "metadata": {
    "papermill": {
     "duration": 0.124688,
     "end_time": "2022-05-30T22:42:32.493926",
     "exception": false,
     "start_time": "2022-05-30T22:42:32.369238",
     "status": "completed"
    },
    "tags": []
   },
   "source": [
    "One thing you hopefully noticed is how amazingly cool this line of code is:\n",
    "\n",
    "    t_indep = t_indep / vals\n",
    "\n",
    "That is dividing a matrix by a vector -- what on earth does that mean?!? The trick here is that we're taking advantage of a technique in numpy and PyTorch (and many other languages, going all the way back to APL) called [broadcasting](https://numpy.org/doc/stable/user/basics.broadcasting.html). In short, this acts as if there's a separate copy of the vector for every row of the matrix, so it divides each row of the matrix by the vector. In practice, it doesn't actually make any copies, and does the whole thing in a highly optimized way, taking full advantage of modern CPUs (or, indeed, GPUs, if we're using them). Broadcasting is one of the most important techniques for making your code concise, maintainable, and fast, so it's well worth studying and practicing.\n",
    "\n",
    "We can now create predictions from our linear model, by adding up the rows of the product:"
   ]
  },
  {
   "cell_type": "code",
   "execution_count": 23,
   "id": "2bea6e47",
   "metadata": {
    "execution": {
     "iopub.execute_input": "2022-05-30T22:42:32.746914Z",
     "iopub.status.busy": "2022-05-30T22:42:32.746427Z",
     "iopub.status.idle": "2022-05-30T22:42:32.753942Z",
     "shell.execute_reply": "2022-05-30T22:42:32.753288Z"
    },
    "papermill": {
     "duration": 0.138315,
     "end_time": "2022-05-30T22:42:32.755852",
     "exception": false,
     "start_time": "2022-05-30T22:42:32.617537",
     "status": "completed"
    },
    "tags": []
   },
   "outputs": [],
   "source": [
    "preds = (t_indep*coeffs).sum(axis=1)"
   ]
  },
  {
   "cell_type": "markdown",
   "id": "f32349b5",
   "metadata": {
    "papermill": {
     "duration": 0.126346,
     "end_time": "2022-05-30T22:42:33.005508",
     "exception": false,
     "start_time": "2022-05-30T22:42:32.879162",
     "status": "completed"
    },
    "tags": []
   },
   "source": [
    "Let's take a look at the first few:"
   ]
  },
  {
   "cell_type": "code",
   "execution_count": 24,
   "id": "6d9cad91",
   "metadata": {
    "execution": {
     "iopub.execute_input": "2022-05-30T22:42:33.259720Z",
     "iopub.status.busy": "2022-05-30T22:42:33.259215Z",
     "iopub.status.idle": "2022-05-30T22:42:33.265648Z",
     "shell.execute_reply": "2022-05-30T22:42:33.265115Z"
    },
    "papermill": {
     "duration": 0.135317,
     "end_time": "2022-05-30T22:42:33.267243",
     "exception": false,
     "start_time": "2022-05-30T22:42:33.131926",
     "status": "completed"
    },
    "tags": []
   },
   "outputs": [
    {
     "data": {
      "text/plain": [
       "tensor([ 0.1927, -0.6239,  0.0979,  0.2056,  0.0968,  0.0066,  0.1306,  0.3476,  0.1613, -0.6285])"
      ]
     },
     "execution_count": 24,
     "metadata": {},
     "output_type": "execute_result"
    }
   ],
   "source": [
    "preds[:10]"
   ]
  },
  {
   "cell_type": "markdown",
   "id": "c3029789",
   "metadata": {
    "papermill": {
     "duration": 0.125045,
     "end_time": "2022-05-30T22:42:33.518816",
     "exception": false,
     "start_time": "2022-05-30T22:42:33.393771",
     "status": "completed"
    },
    "tags": []
   },
   "source": [
    "Of course, these predictions aren't going to be any use, since our coefficients are random -- they're just a starting point for our gradient descent process.\n",
    "\n",
    "To do gradient descent, we need a loss function. Taking the average error of the rows (i.e. the absolute value of the difference between the prediction and the dependent) is generally a reasonable approach:"
   ]
  },
  {
   "cell_type": "code",
   "execution_count": 25,
   "id": "41766fdf",
   "metadata": {
    "execution": {
     "iopub.execute_input": "2022-05-30T22:42:33.769892Z",
     "iopub.status.busy": "2022-05-30T22:42:33.769387Z",
     "iopub.status.idle": "2022-05-30T22:42:33.779703Z",
     "shell.execute_reply": "2022-05-30T22:42:33.779099Z"
    },
    "papermill": {
     "duration": 0.138068,
     "end_time": "2022-05-30T22:42:33.781458",
     "exception": false,
     "start_time": "2022-05-30T22:42:33.643390",
     "status": "completed"
    },
    "tags": []
   },
   "outputs": [
    {
     "data": {
      "text/plain": [
       "tensor(0.5382)"
      ]
     },
     "execution_count": 25,
     "metadata": {},
     "output_type": "execute_result"
    }
   ],
   "source": [
    "loss = torch.abs(preds-t_dep).mean()\n",
    "loss"
   ]
  },
  {
   "cell_type": "markdown",
   "id": "ffcbcd7c",
   "metadata": {
    "papermill": {
     "duration": 0.129432,
     "end_time": "2022-05-30T22:42:34.039168",
     "exception": false,
     "start_time": "2022-05-30T22:42:33.909736",
     "status": "completed"
    },
    "tags": []
   },
   "source": [
    "Now that we've tested out a way of calculating predictions, and loss, let's pop them into functions to make life easier:"
   ]
  },
  {
   "cell_type": "code",
   "execution_count": 26,
   "id": "427aa81d",
   "metadata": {
    "execution": {
     "iopub.execute_input": "2022-05-30T22:42:34.294027Z",
     "iopub.status.busy": "2022-05-30T22:42:34.293493Z",
     "iopub.status.idle": "2022-05-30T22:42:34.298450Z",
     "shell.execute_reply": "2022-05-30T22:42:34.297890Z"
    },
    "papermill": {
     "duration": 0.134601,
     "end_time": "2022-05-30T22:42:34.300278",
     "exception": false,
     "start_time": "2022-05-30T22:42:34.165677",
     "status": "completed"
    },
    "tags": []
   },
   "outputs": [],
   "source": [
    "def calc_preds(coeffs, indeps): return (indeps*coeffs).sum(axis=1)\n",
    "def calc_loss(coeffs, indeps, deps): return torch.abs(calc_preds(coeffs, indeps)-deps).mean()"
   ]
  },
  {
   "cell_type": "markdown",
   "id": "375abfa0",
   "metadata": {
    "papermill": {
     "duration": 0.124015,
     "end_time": "2022-05-30T22:42:34.548924",
     "exception": false,
     "start_time": "2022-05-30T22:42:34.424909",
     "status": "completed"
    },
    "tags": []
   },
   "source": [
    "## Doing a gradient descent step"
   ]
  },
  {
   "cell_type": "markdown",
   "id": "47b50f88",
   "metadata": {
    "papermill": {
     "duration": 0.125314,
     "end_time": "2022-05-30T22:42:34.799083",
     "exception": false,
     "start_time": "2022-05-30T22:42:34.673769",
     "status": "completed"
    },
    "tags": []
   },
   "source": [
    "In this section, we're going to do a single \"epoch\" of gradient descent manually. The only thing we're going to automate is calculating gradients, because let's face it that's pretty tedious and entirely pointless to do by hand! To get PyTorch to calculate gradients, we'll need to call `requires_grad_()` on our `coeffs` (if you're not sure why, review the previous notebook, [How does a neural net really work?](https://www.kaggle.com/code/jhoward/how-does-a-neural-net-really-work), before continuing):"
   ]
  },
  {
   "cell_type": "code",
   "execution_count": 27,
   "id": "c541e401",
   "metadata": {
    "execution": {
     "iopub.execute_input": "2022-05-30T22:42:35.052233Z",
     "iopub.status.busy": "2022-05-30T22:42:35.051680Z",
     "iopub.status.idle": "2022-05-30T22:42:35.058251Z",
     "shell.execute_reply": "2022-05-30T22:42:35.057408Z"
    },
    "papermill": {
     "duration": 0.136438,
     "end_time": "2022-05-30T22:42:35.060055",
     "exception": false,
     "start_time": "2022-05-30T22:42:34.923617",
     "status": "completed"
    },
    "tags": []
   },
   "outputs": [
    {
     "data": {
      "text/plain": [
       "tensor([-0.4629,  0.1386,  0.2409, -0.2262, -0.2632, -0.3147,  0.4876,  0.3136,  0.2799, -0.4392,  0.2103,  0.3625], requires_grad=True)"
      ]
     },
     "execution_count": 27,
     "metadata": {},
     "output_type": "execute_result"
    }
   ],
   "source": [
    "coeffs.requires_grad_()"
   ]
  },
  {
   "cell_type": "markdown",
   "id": "09a1a1fb",
   "metadata": {
    "papermill": {
     "duration": 0.124692,
     "end_time": "2022-05-30T22:42:35.310533",
     "exception": false,
     "start_time": "2022-05-30T22:42:35.185841",
     "status": "completed"
    },
    "tags": []
   },
   "source": [
    "Now when we calculate our loss, PyTorch will keep track of all the steps, so we'll be able to get the gradients afterwards:"
   ]
  },
  {
   "cell_type": "code",
   "execution_count": 28,
   "id": "c0c09d39",
   "metadata": {
    "execution": {
     "iopub.execute_input": "2022-05-30T22:42:35.563096Z",
     "iopub.status.busy": "2022-05-30T22:42:35.562738Z",
     "iopub.status.idle": "2022-05-30T22:42:35.569752Z",
     "shell.execute_reply": "2022-05-30T22:42:35.569168Z"
    },
    "papermill": {
     "duration": 0.135837,
     "end_time": "2022-05-30T22:42:35.571472",
     "exception": false,
     "start_time": "2022-05-30T22:42:35.435635",
     "status": "completed"
    },
    "tags": []
   },
   "outputs": [
    {
     "data": {
      "text/plain": [
       "tensor(0.5382, grad_fn=<MeanBackward0>)"
      ]
     },
     "execution_count": 28,
     "metadata": {},
     "output_type": "execute_result"
    }
   ],
   "source": [
    "loss = calc_loss(coeffs, t_indep, t_dep)\n",
    "loss"
   ]
  },
  {
   "cell_type": "markdown",
   "id": "e05c1de1",
   "metadata": {
    "papermill": {
     "duration": 0.127371,
     "end_time": "2022-05-30T22:42:35.827624",
     "exception": false,
     "start_time": "2022-05-30T22:42:35.700253",
     "status": "completed"
    },
    "tags": []
   },
   "source": [
    "Use `backward()` to ask PyTorch to calculate gradients now:"
   ]
  },
  {
   "cell_type": "code",
   "execution_count": 29,
   "id": "40456f15",
   "metadata": {
    "execution": {
     "iopub.execute_input": "2022-05-30T22:42:36.083402Z",
     "iopub.status.busy": "2022-05-30T22:42:36.082519Z",
     "iopub.status.idle": "2022-05-30T22:42:36.095750Z",
     "shell.execute_reply": "2022-05-30T22:42:36.094850Z"
    },
    "papermill": {
     "duration": 0.146534,
     "end_time": "2022-05-30T22:42:36.098217",
     "exception": false,
     "start_time": "2022-05-30T22:42:35.951683",
     "status": "completed"
    },
    "tags": []
   },
   "outputs": [],
   "source": [
    "loss.backward()"
   ]
  },
  {
   "cell_type": "markdown",
   "id": "da8f7b0a",
   "metadata": {
    "papermill": {
     "duration": 0.128678,
     "end_time": "2022-05-30T22:42:36.355963",
     "exception": false,
     "start_time": "2022-05-30T22:42:36.227285",
     "status": "completed"
    },
    "tags": []
   },
   "source": [
    "Let's see what they look like:"
   ]
  },
  {
   "cell_type": "code",
   "execution_count": 30,
   "id": "708da014",
   "metadata": {
    "execution": {
     "iopub.execute_input": "2022-05-30T22:42:36.618542Z",
     "iopub.status.busy": "2022-05-30T22:42:36.618048Z",
     "iopub.status.idle": "2022-05-30T22:42:36.623217Z",
     "shell.execute_reply": "2022-05-30T22:42:36.622372Z"
    },
    "papermill": {
     "duration": 0.140099,
     "end_time": "2022-05-30T22:42:36.625065",
     "exception": false,
     "start_time": "2022-05-30T22:42:36.484966",
     "status": "completed"
    },
    "tags": []
   },
   "outputs": [
    {
     "data": {
      "text/plain": [
       "tensor([-0.0106,  0.0129, -0.0041, -0.0484,  0.2099, -0.2132, -0.1212, -0.0247,  0.1425, -0.1886, -0.0191,  0.2043])"
      ]
     },
     "execution_count": 30,
     "metadata": {},
     "output_type": "execute_result"
    }
   ],
   "source": [
    "coeffs.grad"
   ]
  },
  {
   "cell_type": "markdown",
   "id": "230744cd",
   "metadata": {
    "papermill": {
     "duration": 0.127954,
     "end_time": "2022-05-30T22:42:36.880680",
     "exception": false,
     "start_time": "2022-05-30T22:42:36.752726",
     "status": "completed"
    },
    "tags": []
   },
   "source": [
    "Note that each time we call `backward`, the gradients are actually *added* to whatever is in the `.grad` attribute. Let's try running the above steps again:"
   ]
  },
  {
   "cell_type": "code",
   "execution_count": 31,
   "id": "75ffa4e5",
   "metadata": {
    "execution": {
     "iopub.execute_input": "2022-05-30T22:42:37.139463Z",
     "iopub.status.busy": "2022-05-30T22:42:37.139186Z",
     "iopub.status.idle": "2022-05-30T22:42:37.147964Z",
     "shell.execute_reply": "2022-05-30T22:42:37.147236Z"
    },
    "papermill": {
     "duration": 0.141911,
     "end_time": "2022-05-30T22:42:37.149757",
     "exception": false,
     "start_time": "2022-05-30T22:42:37.007846",
     "status": "completed"
    },
    "tags": []
   },
   "outputs": [
    {
     "data": {
      "text/plain": [
       "tensor([-0.0212,  0.0258, -0.0082, -0.0969,  0.4198, -0.4265, -0.2424, -0.0494,  0.2851, -0.3771, -0.0382,  0.4085])"
      ]
     },
     "execution_count": 31,
     "metadata": {},
     "output_type": "execute_result"
    }
   ],
   "source": [
    "loss = calc_loss(coeffs, t_indep, t_dep)\n",
    "loss.backward()\n",
    "coeffs.grad"
   ]
  },
  {
   "cell_type": "markdown",
   "id": "d4a67dd2",
   "metadata": {
    "papermill": {
     "duration": 0.128764,
     "end_time": "2022-05-30T22:42:37.406980",
     "exception": false,
     "start_time": "2022-05-30T22:42:37.278216",
     "status": "completed"
    },
    "tags": []
   },
   "source": [
    "As you see, our `.grad` values are have doubled. That's because it added the gradients a second time. For this reason, after we use the gradients to do a gradient descent step, we need to set them back to zero.\n",
    "\n",
    "We can now do one gradient descent step, and check that our loss decreases:"
   ]
  },
  {
   "cell_type": "code",
   "execution_count": 32,
   "id": "4ccb0b3b",
   "metadata": {
    "execution": {
     "iopub.execute_input": "2022-05-30T22:42:37.664480Z",
     "iopub.status.busy": "2022-05-30T22:42:37.664022Z",
     "iopub.status.idle": "2022-05-30T22:42:37.670849Z",
     "shell.execute_reply": "2022-05-30T22:42:37.669836Z"
    },
    "papermill": {
     "duration": 0.138331,
     "end_time": "2022-05-30T22:42:37.672764",
     "exception": false,
     "start_time": "2022-05-30T22:42:37.534433",
     "status": "completed"
    },
    "tags": []
   },
   "outputs": [
    {
     "name": "stdout",
     "output_type": "stream",
     "text": [
      "tensor(0.4945)\n"
     ]
    }
   ],
   "source": [
    "loss = calc_loss(coeffs, t_indep, t_dep)\n",
    "loss.backward()\n",
    "with torch.no_grad():\n",
    "    coeffs.sub_(coeffs.grad * 0.1)\n",
    "    coeffs.grad.zero_()\n",
    "    print(calc_loss(coeffs, t_indep, t_dep))"
   ]
  },
  {
   "cell_type": "markdown",
   "id": "58aa1b2b",
   "metadata": {
    "papermill": {
     "duration": 0.12985,
     "end_time": "2022-05-30T22:42:37.929918",
     "exception": false,
     "start_time": "2022-05-30T22:42:37.800068",
     "status": "completed"
    },
    "tags": []
   },
   "source": [
    "Note that `a.sub_(b)` subtracts `b` from `a` in-place. In PyTorch, any method that ends in `_` changes its object in-place. Similarly, `a.zero_()` sets all elements of a tensor to zero."
   ]
  },
  {
   "cell_type": "markdown",
   "id": "a9e9f6cd",
   "metadata": {
    "papermill": {
     "duration": 0.130685,
     "end_time": "2022-05-30T22:42:38.188545",
     "exception": false,
     "start_time": "2022-05-30T22:42:38.057860",
     "status": "completed"
    },
    "tags": []
   },
   "source": [
    "## Training the linear model"
   ]
  },
  {
   "cell_type": "markdown",
   "id": "9f937792",
   "metadata": {
    "papermill": {
     "duration": 0.126821,
     "end_time": "2022-05-30T22:42:38.441099",
     "exception": false,
     "start_time": "2022-05-30T22:42:38.314278",
     "status": "completed"
    },
    "tags": []
   },
   "source": [
    "Before we begin training our model, we'll need to ensure that we hold out a validation set for calculating our metrics (for details on this, see \"[Getting started with NLP for absolute beginners](https://www.kaggle.com/code/jhoward/getting-started-with-nlp-for-absolute-beginners#Test-and-validation-sets)\".\n",
    "\n",
    "There's lots of different ways we can do this. In the next notebook we'll be comparing our approach here to what the fastai library does, so we'll want to ensure we split the data in the same way. So let's use `RandomSplitter` to get indices that will split our data into training and validation sets:"
   ]
  },
  {
   "cell_type": "code",
   "execution_count": 33,
   "id": "9a6acb48",
   "metadata": {
    "execution": {
     "iopub.execute_input": "2022-05-30T22:42:38.697498Z",
     "iopub.status.busy": "2022-05-30T22:42:38.697195Z",
     "iopub.status.idle": "2022-05-30T22:42:39.815211Z",
     "shell.execute_reply": "2022-05-30T22:42:39.814595Z"
    },
    "papermill": {
     "duration": 1.248873,
     "end_time": "2022-05-30T22:42:39.817370",
     "exception": false,
     "start_time": "2022-05-30T22:42:38.568497",
     "status": "completed"
    },
    "tags": []
   },
   "outputs": [],
   "source": [
    "from fastai.data.transforms import RandomSplitter\n",
    "trn_split,val_split=RandomSplitter(seed=42)(df)"
   ]
  },
  {
   "cell_type": "markdown",
   "id": "cb181efd",
   "metadata": {
    "papermill": {
     "duration": 0.128737,
     "end_time": "2022-05-30T22:42:40.072678",
     "exception": false,
     "start_time": "2022-05-30T22:42:39.943941",
     "status": "completed"
    },
    "tags": []
   },
   "source": [
    "Now we can apply those indicies to our independent and dependent variables:"
   ]
  },
  {
   "cell_type": "code",
   "execution_count": 34,
   "id": "4ce96fa6",
   "metadata": {
    "execution": {
     "iopub.execute_input": "2022-05-30T22:42:40.330493Z",
     "iopub.status.busy": "2022-05-30T22:42:40.329961Z",
     "iopub.status.idle": "2022-05-30T22:42:40.339884Z",
     "shell.execute_reply": "2022-05-30T22:42:40.339069Z"
    },
    "papermill": {
     "duration": 0.139646,
     "end_time": "2022-05-30T22:42:40.341766",
     "exception": false,
     "start_time": "2022-05-30T22:42:40.202120",
     "status": "completed"
    },
    "tags": []
   },
   "outputs": [
    {
     "data": {
      "text/plain": [
       "(713, 178)"
      ]
     },
     "execution_count": 34,
     "metadata": {},
     "output_type": "execute_result"
    }
   ],
   "source": [
    "trn_indep,val_indep = t_indep[trn_split],t_indep[val_split]\n",
    "trn_dep,val_dep = t_dep[trn_split],t_dep[val_split]\n",
    "len(trn_indep),len(val_indep)"
   ]
  },
  {
   "cell_type": "markdown",
   "id": "c5db3c4c",
   "metadata": {
    "papermill": {
     "duration": 0.134394,
     "end_time": "2022-05-30T22:42:40.606434",
     "exception": false,
     "start_time": "2022-05-30T22:42:40.472040",
     "status": "completed"
    },
    "tags": []
   },
   "source": [
    "We'll create functions for the three things we did manually above: updating `coeffs`, doing one full gradient descent step, and initilising `coeffs` to random numbers:"
   ]
  },
  {
   "cell_type": "code",
   "execution_count": 35,
   "id": "f6f6b52f",
   "metadata": {
    "execution": {
     "iopub.execute_input": "2022-05-30T22:42:40.886639Z",
     "iopub.status.busy": "2022-05-30T22:42:40.886165Z",
     "iopub.status.idle": "2022-05-30T22:42:40.889830Z",
     "shell.execute_reply": "2022-05-30T22:42:40.889345Z"
    },
    "papermill": {
     "duration": 0.137993,
     "end_time": "2022-05-30T22:42:40.891522",
     "exception": false,
     "start_time": "2022-05-30T22:42:40.753529",
     "status": "completed"
    },
    "tags": []
   },
   "outputs": [],
   "source": [
    "def update_coeffs(coeffs, lr):\n",
    "    coeffs.sub_(coeffs.grad * lr)\n",
    "    coeffs.grad.zero_()"
   ]
  },
  {
   "cell_type": "code",
   "execution_count": 36,
   "id": "4786b404",
   "metadata": {
    "execution": {
     "iopub.execute_input": "2022-05-30T22:42:41.156067Z",
     "iopub.status.busy": "2022-05-30T22:42:41.155598Z",
     "iopub.status.idle": "2022-05-30T22:42:41.159797Z",
     "shell.execute_reply": "2022-05-30T22:42:41.159230Z"
    },
    "papermill": {
     "duration": 0.140259,
     "end_time": "2022-05-30T22:42:41.161476",
     "exception": false,
     "start_time": "2022-05-30T22:42:41.021217",
     "status": "completed"
    },
    "tags": []
   },
   "outputs": [],
   "source": [
    "def one_epoch(coeffs, lr):\n",
    "    loss = calc_loss(coeffs, trn_indep, trn_dep)\n",
    "    loss.backward()\n",
    "    with torch.no_grad(): update_coeffs(coeffs, lr)\n",
    "    print(f\"{loss:.3f}\", end=\"; \")"
   ]
  },
  {
   "cell_type": "code",
   "execution_count": 37,
   "id": "aa806dbd",
   "metadata": {
    "execution": {
     "iopub.execute_input": "2022-05-30T22:42:41.425203Z",
     "iopub.status.busy": "2022-05-30T22:42:41.424699Z",
     "iopub.status.idle": "2022-05-30T22:42:41.428444Z",
     "shell.execute_reply": "2022-05-30T22:42:41.427874Z"
    },
    "papermill": {
     "duration": 0.13768,
     "end_time": "2022-05-30T22:42:41.430171",
     "exception": false,
     "start_time": "2022-05-30T22:42:41.292491",
     "status": "completed"
    },
    "tags": []
   },
   "outputs": [],
   "source": [
    "def init_coeffs(): return (torch.rand(n_coeff)-0.5).requires_grad_()"
   ]
  },
  {
   "cell_type": "markdown",
   "id": "cc6f4ea1",
   "metadata": {
    "papermill": {
     "duration": 0.133618,
     "end_time": "2022-05-30T22:42:41.696714",
     "exception": false,
     "start_time": "2022-05-30T22:42:41.563096",
     "status": "completed"
    },
    "tags": []
   },
   "source": [
    "We can now use these functions to train our model:"
   ]
  },
  {
   "cell_type": "code",
   "execution_count": 38,
   "id": "def31d7e",
   "metadata": {
    "execution": {
     "iopub.execute_input": "2022-05-30T22:42:41.964942Z",
     "iopub.status.busy": "2022-05-30T22:42:41.964480Z",
     "iopub.status.idle": "2022-05-30T22:42:41.968807Z",
     "shell.execute_reply": "2022-05-30T22:42:41.968246Z"
    },
    "papermill": {
     "duration": 0.140308,
     "end_time": "2022-05-30T22:42:41.970688",
     "exception": false,
     "start_time": "2022-05-30T22:42:41.830380",
     "status": "completed"
    },
    "tags": []
   },
   "outputs": [],
   "source": [
    "def train_model(epochs=30, lr=0.01):\n",
    "    torch.manual_seed(442)\n",
    "    coeffs = init_coeffs()\n",
    "    for _ in range(epochs): one_epoch(coeffs, lr=lr)\n",
    "    return coeffs"
   ]
  },
  {
   "cell_type": "markdown",
   "id": "5a3f8292",
   "metadata": {
    "papermill": {
     "duration": 0.132643,
     "end_time": "2022-05-30T22:42:42.237527",
     "exception": false,
     "start_time": "2022-05-30T22:42:42.104884",
     "status": "completed"
    },
    "tags": []
   },
   "source": [
    "Let's try it. Our loss will print at the end of every step, so we hope we'll see it going down:"
   ]
  },
  {
   "cell_type": "code",
   "execution_count": 39,
   "id": "c4d87ef5",
   "metadata": {
    "execution": {
     "iopub.execute_input": "2022-05-30T22:42:42.504707Z",
     "iopub.status.busy": "2022-05-30T22:42:42.504203Z",
     "iopub.status.idle": "2022-05-30T22:42:42.516764Z",
     "shell.execute_reply": "2022-05-30T22:42:42.515915Z"
    },
    "papermill": {
     "duration": 0.14839,
     "end_time": "2022-05-30T22:42:42.518547",
     "exception": false,
     "start_time": "2022-05-30T22:42:42.370157",
     "status": "completed"
    },
    "tags": []
   },
   "outputs": [
    {
     "name": "stdout",
     "output_type": "stream",
     "text": [
      "0.536; 0.502; 0.477; 0.454; 0.431; 0.409; 0.388; 0.367; 0.349; 0.336; 0.330; 0.326; 0.329; 0.304; 0.314; 0.296; 0.300; 0.289; "
     ]
    }
   ],
   "source": [
    "coeffs = train_model(18, lr=0.2)"
   ]
  },
  {
   "cell_type": "markdown",
   "id": "afad6ff4",
   "metadata": {
    "papermill": {
     "duration": 0.131296,
     "end_time": "2022-05-30T22:42:42.781267",
     "exception": false,
     "start_time": "2022-05-30T22:42:42.649971",
     "status": "completed"
    },
    "tags": []
   },
   "source": [
    "It does!\n",
    "\n",
    "Let's take a look at the coefficients for each column:"
   ]
  },
  {
   "cell_type": "code",
   "execution_count": 40,
   "id": "03e59ba4",
   "metadata": {
    "execution": {
     "iopub.execute_input": "2022-05-30T22:42:43.045472Z",
     "iopub.status.busy": "2022-05-30T22:42:43.044948Z",
     "iopub.status.idle": "2022-05-30T22:42:43.052789Z",
     "shell.execute_reply": "2022-05-30T22:42:43.052260Z"
    },
    "papermill": {
     "duration": 0.142904,
     "end_time": "2022-05-30T22:42:43.054515",
     "exception": false,
     "start_time": "2022-05-30T22:42:42.911611",
     "status": "completed"
    },
    "tags": []
   },
   "outputs": [
    {
     "data": {
      "text/plain": [
       "{'Age': tensor(-0.2694),\n",
       " 'SibSp': tensor(0.0901),\n",
       " 'Parch': tensor(0.2359),\n",
       " 'LogFare': tensor(0.0280),\n",
       " 'Sex_male': tensor(-0.3990),\n",
       " 'Sex_female': tensor(0.2345),\n",
       " 'Pclass_1': tensor(0.7232),\n",
       " 'Pclass_2': tensor(0.4112),\n",
       " 'Pclass_3': tensor(0.3601),\n",
       " 'Embarked_C': tensor(0.0955),\n",
       " 'Embarked_Q': tensor(0.2395),\n",
       " 'Embarked_S': tensor(0.2122)}"
      ]
     },
     "execution_count": 40,
     "metadata": {},
     "output_type": "execute_result"
    }
   ],
   "source": [
    "def show_coeffs(): return dict(zip(indep_cols, coeffs.requires_grad_(False)))\n",
    "show_coeffs()"
   ]
  },
  {
   "cell_type": "markdown",
   "id": "b88cebb9",
   "metadata": {
    "papermill": {
     "duration": 0.130097,
     "end_time": "2022-05-30T22:42:43.319128",
     "exception": false,
     "start_time": "2022-05-30T22:42:43.189031",
     "status": "completed"
    },
    "tags": []
   },
   "source": [
    "## Measuring accuracy"
   ]
  },
  {
   "cell_type": "markdown",
   "id": "1bc6bbe4",
   "metadata": {
    "papermill": {
     "duration": 0.131323,
     "end_time": "2022-05-30T22:42:43.581378",
     "exception": false,
     "start_time": "2022-05-30T22:42:43.450055",
     "status": "completed"
    },
    "tags": []
   },
   "source": [
    "The Kaggle competition is not, however, scored by absolute error (which is our loss function). It's scored by *accuracy* -- the proportion of rows where we correctly predict survival. Let's see how accurate we were on the validation set. First, calculate the predictions:"
   ]
  },
  {
   "cell_type": "code",
   "execution_count": 41,
   "id": "8e50f60b",
   "metadata": {
    "execution": {
     "iopub.execute_input": "2022-05-30T22:42:43.841593Z",
     "iopub.status.busy": "2022-05-30T22:42:43.841103Z",
     "iopub.status.idle": "2022-05-30T22:42:43.845012Z",
     "shell.execute_reply": "2022-05-30T22:42:43.844290Z"
    },
    "papermill": {
     "duration": 0.135232,
     "end_time": "2022-05-30T22:42:43.847003",
     "exception": false,
     "start_time": "2022-05-30T22:42:43.711771",
     "status": "completed"
    },
    "tags": []
   },
   "outputs": [],
   "source": [
    "preds = calc_preds(coeffs, val_indep)"
   ]
  },
  {
   "cell_type": "markdown",
   "id": "90e5a4d8",
   "metadata": {
    "papermill": {
     "duration": 0.129977,
     "end_time": "2022-05-30T22:42:44.105521",
     "exception": false,
     "start_time": "2022-05-30T22:42:43.975544",
     "status": "completed"
    },
    "tags": []
   },
   "source": [
    "We'll assume that any passenger with a score of over `0.5` is predicted to survive. So that means we're correct for each row where `preds>0.5` is the same as the dependent variable:"
   ]
  },
  {
   "cell_type": "code",
   "execution_count": 42,
   "id": "c19cb28c",
   "metadata": {
    "execution": {
     "iopub.execute_input": "2022-05-30T22:42:44.366884Z",
     "iopub.status.busy": "2022-05-30T22:42:44.366626Z",
     "iopub.status.idle": "2022-05-30T22:42:44.372961Z",
     "shell.execute_reply": "2022-05-30T22:42:44.372117Z"
    },
    "papermill": {
     "duration": 0.140504,
     "end_time": "2022-05-30T22:42:44.375121",
     "exception": false,
     "start_time": "2022-05-30T22:42:44.234617",
     "status": "completed"
    },
    "tags": []
   },
   "outputs": [
    {
     "data": {
      "text/plain": [
       "tensor([ True,  True,  True,  True,  True,  True,  True,  True,  True,  True, False, False, False,  True,  True, False])"
      ]
     },
     "execution_count": 42,
     "metadata": {},
     "output_type": "execute_result"
    }
   ],
   "source": [
    "results = val_dep.bool()==(preds>0.5)\n",
    "results[:16]"
   ]
  },
  {
   "cell_type": "markdown",
   "id": "3c80e079",
   "metadata": {
    "papermill": {
     "duration": 0.127642,
     "end_time": "2022-05-30T22:42:44.632591",
     "exception": false,
     "start_time": "2022-05-30T22:42:44.504949",
     "status": "completed"
    },
    "tags": []
   },
   "source": [
    "Let's see what our average accuracy is:"
   ]
  },
  {
   "cell_type": "code",
   "execution_count": 43,
   "id": "437ad5e0",
   "metadata": {
    "execution": {
     "iopub.execute_input": "2022-05-30T22:42:44.889213Z",
     "iopub.status.busy": "2022-05-30T22:42:44.888353Z",
     "iopub.status.idle": "2022-05-30T22:42:44.895070Z",
     "shell.execute_reply": "2022-05-30T22:42:44.894419Z"
    },
    "papermill": {
     "duration": 0.138919,
     "end_time": "2022-05-30T22:42:44.896967",
     "exception": false,
     "start_time": "2022-05-30T22:42:44.758048",
     "status": "completed"
    },
    "tags": []
   },
   "outputs": [
    {
     "data": {
      "text/plain": [
       "tensor(0.7865)"
      ]
     },
     "execution_count": 43,
     "metadata": {},
     "output_type": "execute_result"
    }
   ],
   "source": [
    "results.float().mean()"
   ]
  },
  {
   "cell_type": "markdown",
   "id": "82044468",
   "metadata": {
    "papermill": {
     "duration": 0.12992,
     "end_time": "2022-05-30T22:42:45.155856",
     "exception": false,
     "start_time": "2022-05-30T22:42:45.025936",
     "status": "completed"
    },
    "tags": []
   },
   "source": [
    "That's not a bad start at all! We'll create a function so we can calcuate the accuracy easy for other models we train:"
   ]
  },
  {
   "cell_type": "code",
   "execution_count": 44,
   "id": "dc085c8e",
   "metadata": {
    "execution": {
     "iopub.execute_input": "2022-05-30T22:42:45.416659Z",
     "iopub.status.busy": "2022-05-30T22:42:45.416028Z",
     "iopub.status.idle": "2022-05-30T22:42:45.422319Z",
     "shell.execute_reply": "2022-05-30T22:42:45.421800Z"
    },
    "papermill": {
     "duration": 0.138623,
     "end_time": "2022-05-30T22:42:45.424145",
     "exception": false,
     "start_time": "2022-05-30T22:42:45.285522",
     "status": "completed"
    },
    "tags": []
   },
   "outputs": [
    {
     "data": {
      "text/plain": [
       "tensor(0.7865)"
      ]
     },
     "execution_count": 44,
     "metadata": {},
     "output_type": "execute_result"
    }
   ],
   "source": [
    "def acc(coeffs): return (val_dep.bool()==(calc_preds(coeffs, val_indep)>0.5)).float().mean()\n",
    "acc(coeffs)"
   ]
  },
  {
   "cell_type": "markdown",
   "id": "e411fa31",
   "metadata": {
    "papermill": {
     "duration": 0.13174,
     "end_time": "2022-05-30T22:42:45.686552",
     "exception": false,
     "start_time": "2022-05-30T22:42:45.554812",
     "status": "completed"
    },
    "tags": []
   },
   "source": [
    "## Using sigmoid"
   ]
  },
  {
   "cell_type": "markdown",
   "id": "06ea8401",
   "metadata": {
    "papermill": {
     "duration": 0.128579,
     "end_time": "2022-05-30T22:42:45.942670",
     "exception": false,
     "start_time": "2022-05-30T22:42:45.814091",
     "status": "completed"
    },
    "tags": []
   },
   "source": [
    "Looking at our predictions, there's one obvious problem -- some of our predictions of the probability of survival are `>1`, and some are `<0`:"
   ]
  },
  {
   "cell_type": "code",
   "execution_count": 45,
   "id": "2864446d",
   "metadata": {
    "execution": {
     "iopub.execute_input": "2022-05-30T22:42:46.204699Z",
     "iopub.status.busy": "2022-05-30T22:42:46.204277Z",
     "iopub.status.idle": "2022-05-30T22:42:46.209558Z",
     "shell.execute_reply": "2022-05-30T22:42:46.208786Z"
    },
    "papermill": {
     "duration": 0.13856,
     "end_time": "2022-05-30T22:42:46.211296",
     "exception": false,
     "start_time": "2022-05-30T22:42:46.072736",
     "status": "completed"
    },
    "tags": []
   },
   "outputs": [
    {
     "data": {
      "text/plain": [
       "tensor([ 0.8160,  0.1295, -0.0148,  0.1831,  0.1520,  0.1350,  0.7279,  0.7754,  0.3222,  0.6740,  0.0753,  0.0389,  0.2216,  0.7631,\n",
       "         0.0678,  0.3997,  0.3324,  0.8278,  0.1078,  0.7126,  0.1023,  0.3627,  0.9937,  0.8050,  0.1153,  0.1455,  0.8652,  0.3425])"
      ]
     },
     "execution_count": 45,
     "metadata": {},
     "output_type": "execute_result"
    }
   ],
   "source": [
    "preds[:28]"
   ]
  },
  {
   "cell_type": "markdown",
   "id": "71baaeb3",
   "metadata": {
    "papermill": {
     "duration": 0.130903,
     "end_time": "2022-05-30T22:42:46.471160",
     "exception": false,
     "start_time": "2022-05-30T22:42:46.340257",
     "status": "completed"
    },
    "tags": []
   },
   "source": [
    "To fix this, we should pass every prediction through the *sigmoid function*, which has a minimum at zero and maximum at one, and is defined as follows:"
   ]
  },
  {
   "cell_type": "code",
   "execution_count": 46,
   "id": "2a3bc8ee",
   "metadata": {
    "execution": {
     "iopub.execute_input": "2022-05-30T22:42:46.739170Z",
     "iopub.status.busy": "2022-05-30T22:42:46.738763Z",
     "iopub.status.idle": "2022-05-30T22:42:47.784399Z",
     "shell.execute_reply": "2022-05-30T22:42:47.783857Z"
    },
    "papermill": {
     "duration": 1.17987,
     "end_time": "2022-05-30T22:42:47.786302",
     "exception": false,
     "start_time": "2022-05-30T22:42:46.606432",
     "status": "completed"
    },
    "tags": []
   },
   "outputs": [
    {
     "data": {
      "image/png": "[encoded data removed]",
      "text/plain": [
       "<Figure size 640x480 with 1 Axes>"
      ]
     },
     "metadata": {},
     "output_type": "display_data"
    }
   ],
   "source": [
    "import sympy\n",
    "x = sympy.symbols(\"x\")\n",
    "sympy.plot((1 / (1 + sympy.exp(-x))), (x, -5, 5));"
   ]
  },
  {
   "cell_type": "markdown",
   "id": "012957f0",
   "metadata": {
    "papermill": {
     "duration": 0.133963,
     "end_time": "2022-05-30T22:42:48.052276",
     "exception": false,
     "start_time": "2022-05-30T22:42:47.918313",
     "status": "completed"
    },
    "tags": []
   },
   "source": [
    "PyTorch already defines that function for us, so we can modify `calc_preds` to use it:"
   ]
  },
  {
   "cell_type": "code",
   "execution_count": 47,
   "id": "fb7cd0fb",
   "metadata": {
    "execution": {
     "iopub.execute_input": "2022-05-30T22:42:48.319745Z",
     "iopub.status.busy": "2022-05-30T22:42:48.319366Z",
     "iopub.status.idle": "2022-05-30T22:42:48.322810Z",
     "shell.execute_reply": "2022-05-30T22:42:48.322298Z"
    },
    "papermill": {
     "duration": 0.139503,
     "end_time": "2022-05-30T22:42:48.324449",
     "exception": false,
     "start_time": "2022-05-30T22:42:48.184946",
     "status": "completed"
    },
    "tags": []
   },
   "outputs": [],
   "source": [
    "def calc_preds(coeffs, indeps): return torch.sigmoid((indeps*coeffs).sum(axis=1))"
   ]
  },
  {
   "cell_type": "markdown",
   "id": "609be9ef",
   "metadata": {
    "papermill": {
     "duration": 0.131779,
     "end_time": "2022-05-30T22:42:48.587723",
     "exception": false,
     "start_time": "2022-05-30T22:42:48.455944",
     "status": "completed"
    },
    "tags": []
   },
   "source": [
    "Let's train a new model now, using this updated function to calculate predictions:"
   ]
  },
  {
   "cell_type": "code",
   "execution_count": 48,
   "id": "a9364d94",
   "metadata": {
    "execution": {
     "iopub.execute_input": "2022-05-30T22:42:48.860884Z",
     "iopub.status.busy": "2022-05-30T22:42:48.860473Z",
     "iopub.status.idle": "2022-05-30T22:42:48.880733Z",
     "shell.execute_reply": "2022-05-30T22:42:48.880157Z"
    },
    "papermill": {
     "duration": 0.16174,
     "end_time": "2022-05-30T22:42:48.882746",
     "exception": false,
     "start_time": "2022-05-30T22:42:48.721006",
     "status": "completed"
    },
    "tags": []
   },
   "outputs": [
    {
     "name": "stdout",
     "output_type": "stream",
     "text": [
      "0.510; 0.327; 0.294; 0.207; 0.201; 0.199; 0.198; 0.197; 0.196; 0.196; 0.196; 0.195; 0.195; 0.195; 0.195; 0.195; 0.195; 0.195; 0.194; 0.194; 0.194; 0.194; 0.194; 0.194; 0.194; 0.194; 0.194; 0.194; 0.194; 0.194; "
     ]
    }
   ],
   "source": [
    "coeffs = train_model(lr=100)"
   ]
  },
  {
   "cell_type": "markdown",
   "id": "465db31f",
   "metadata": {
    "papermill": {
     "duration": 0.13609,
     "end_time": "2022-05-30T22:42:49.156363",
     "exception": false,
     "start_time": "2022-05-30T22:42:49.020273",
     "status": "completed"
    },
    "tags": []
   },
   "source": [
    "The loss has improved by a lot. Let's check the accuracy:"
   ]
  },
  {
   "cell_type": "code",
   "execution_count": 49,
   "id": "75e5dc24",
   "metadata": {
    "execution": {
     "iopub.execute_input": "2022-05-30T22:42:49.427247Z",
     "iopub.status.busy": "2022-05-30T22:42:49.426880Z",
     "iopub.status.idle": "2022-05-30T22:42:49.432151Z",
     "shell.execute_reply": "2022-05-30T22:42:49.431524Z"
    },
    "papermill": {
     "duration": 0.141543,
     "end_time": "2022-05-30T22:42:49.433930",
     "exception": false,
     "start_time": "2022-05-30T22:42:49.292387",
     "status": "completed"
    },
    "tags": []
   },
   "outputs": [
    {
     "data": {
      "text/plain": [
       "tensor(0.8258)"
      ]
     },
     "execution_count": 49,
     "metadata": {},
     "output_type": "execute_result"
    }
   ],
   "source": [
    "acc(coeffs)"
   ]
  },
  {
   "cell_type": "markdown",
   "id": "8dd94d9f",
   "metadata": {
    "papermill": {
     "duration": 0.131857,
     "end_time": "2022-05-30T22:42:49.699844",
     "exception": false,
     "start_time": "2022-05-30T22:42:49.567987",
     "status": "completed"
    },
    "tags": []
   },
   "source": [
    "That's improved too! Here's the coefficients of our trained model:"
   ]
  },
  {
   "cell_type": "code",
   "execution_count": 50,
   "id": "95b25cb8",
   "metadata": {
    "execution": {
     "iopub.execute_input": "2022-05-30T22:42:49.972097Z",
     "iopub.status.busy": "2022-05-30T22:42:49.971685Z",
     "iopub.status.idle": "2022-05-30T22:42:49.980057Z",
     "shell.execute_reply": "2022-05-30T22:42:49.979247Z"
    },
    "papermill": {
     "duration": 0.147585,
     "end_time": "2022-05-30T22:42:49.982057",
     "exception": false,
     "start_time": "2022-05-30T22:42:49.834472",
     "status": "completed"
    },
    "tags": []
   },
   "outputs": [
    {
     "data": {
      "text/plain": [
       "{'Age': tensor(-1.5061),\n",
       " 'SibSp': tensor(-1.1575),\n",
       " 'Parch': tensor(-0.4267),\n",
       " 'LogFare': tensor(0.2543),\n",
       " 'Sex_male': tensor(-10.3320),\n",
       " 'Sex_female': tensor(8.4185),\n",
       " 'Pclass_1': tensor(3.8389),\n",
       " 'Pclass_2': tensor(2.1398),\n",
       " 'Pclass_3': tensor(-6.2331),\n",
       " 'Embarked_C': tensor(1.4771),\n",
       " 'Embarked_Q': tensor(2.1168),\n",
       " 'Embarked_S': tensor(-4.7958)}"
      ]
     },
     "execution_count": 50,
     "metadata": {},
     "output_type": "execute_result"
    }
   ],
   "source": [
    "show_coeffs()"
   ]
  },
  {
   "cell_type": "markdown",
   "id": "72b37a67",
   "metadata": {
    "papermill": {
     "duration": 0.137931,
     "end_time": "2022-05-30T22:42:50.257080",
     "exception": false,
     "start_time": "2022-05-30T22:42:50.119149",
     "status": "completed"
    },
    "tags": []
   },
   "source": [
    "These coefficients seem reasonable -- in general, older people and males were less likely to survive, and first class passengers were more likely to survive."
   ]
  },
  {
   "cell_type": "markdown",
   "id": "3ea8e759",
   "metadata": {
    "papermill": {
     "duration": 0.133947,
     "end_time": "2022-05-30T22:42:50.527797",
     "exception": false,
     "start_time": "2022-05-30T22:42:50.393850",
     "status": "completed"
    },
    "tags": []
   },
   "source": [
    "## Submitting to Kaggle"
   ]
  },
  {
   "cell_type": "markdown",
   "id": "624bbbab",
   "metadata": {
    "papermill": {
     "duration": 0.132285,
     "end_time": "2022-05-30T22:42:50.795102",
     "exception": false,
     "start_time": "2022-05-30T22:42:50.662817",
     "status": "completed"
    },
    "tags": []
   },
   "source": [
    "Now that we've got a trained model, we can prepare a submission to Kaggle. To do that, first we need to read the test set:"
   ]
  },
  {
   "cell_type": "code",
   "execution_count": 51,
   "id": "09d42462",
   "metadata": {
    "execution": {
     "iopub.execute_input": "2022-05-30T22:42:51.064445Z",
     "iopub.status.busy": "2022-05-30T22:42:51.064137Z",
     "iopub.status.idle": "2022-05-30T22:42:51.077990Z",
     "shell.execute_reply": "2022-05-30T22:42:51.077385Z"
    },
    "papermill": {
     "duration": 0.152066,
     "end_time": "2022-05-30T22:42:51.079968",
     "exception": false,
     "start_time": "2022-05-30T22:42:50.927902",
     "status": "completed"
    },
    "tags": []
   },
   "outputs": [],
   "source": [
    "tst_df = pd.read_csv(path/'test.csv')"
   ]
  },
  {
   "cell_type": "markdown",
   "id": "c69a1992",
   "metadata": {
    "papermill": {
     "duration": 0.134549,
     "end_time": "2022-05-30T22:42:51.348637",
     "exception": false,
     "start_time": "2022-05-30T22:42:51.214088",
     "status": "completed"
    },
    "tags": []
   },
   "source": [
    "In this case, it turns out that the test set is missing `Fare` for one passenger. We'll just fill it with `0` to avoid problems:"
   ]
  },
  {
   "cell_type": "code",
   "execution_count": 52,
   "id": "2eb56519",
   "metadata": {
    "execution": {
     "iopub.execute_input": "2022-05-30T22:42:51.626150Z",
     "iopub.status.busy": "2022-05-30T22:42:51.625777Z",
     "iopub.status.idle": "2022-05-30T22:42:51.631995Z",
     "shell.execute_reply": "2022-05-30T22:42:51.630894Z"
    },
    "papermill": {
     "duration": 0.151761,
     "end_time": "2022-05-30T22:42:51.634392",
     "exception": false,
     "start_time": "2022-05-30T22:42:51.482631",
     "status": "completed"
    },
    "tags": []
   },
   "outputs": [],
   "source": [
    "tst_df['Fare'] = tst_df.Fare.fillna(0)"
   ]
  },
  {
   "cell_type": "markdown",
   "id": "035a45c5",
   "metadata": {
    "papermill": {
     "duration": 0.133994,
     "end_time": "2022-05-30T22:42:51.907180",
     "exception": false,
     "start_time": "2022-05-30T22:42:51.773186",
     "status": "completed"
    },
    "tags": []
   },
   "source": [
    "Now we can just copy the same steps we did to our training set and do the same exact things on our test set to preprocess the data:"
   ]
  },
  {
   "cell_type": "code",
   "execution_count": 53,
   "id": "260903f0",
   "metadata": {
    "execution": {
     "iopub.execute_input": "2022-05-30T22:42:52.177943Z",
     "iopub.status.busy": "2022-05-30T22:42:52.177404Z",
     "iopub.status.idle": "2022-05-30T22:42:52.193971Z",
     "shell.execute_reply": "2022-05-30T22:42:52.193400Z"
    },
    "papermill": {
     "duration": 0.156069,
     "end_time": "2022-05-30T22:42:52.196174",
     "exception": false,
     "start_time": "2022-05-30T22:42:52.040105",
     "status": "completed"
    },
    "tags": []
   },
   "outputs": [],
   "source": [
    "tst_df.fillna(modes, inplace=True)\n",
    "tst_df['LogFare'] = np.log(tst_df['Fare']+1)\n",
    "tst_df = pd.get_dummies(tst_df, columns=[\"Sex\",\"Pclass\",\"Embarked\"])\n",
    "\n",
    "tst_indep = tensor(tst_df[indep_cols].values.astype(np.float32), dtype=torch.float)\n",
    "tst_indep = tst_indep / vals"
   ]
  },
  {
   "cell_type": "markdown",
   "id": "6704e367",
   "metadata": {
    "papermill": {
     "duration": 0.134326,
     "end_time": "2022-05-30T22:42:52.469061",
     "exception": false,
     "start_time": "2022-05-30T22:42:52.334735",
     "status": "completed"
    },
    "tags": []
   },
   "source": [
    "Let's calculate our predictions of which passengers survived in the test set:"
   ]
  },
  {
   "cell_type": "code",
   "execution_count": 54,
   "id": "387ed17c",
   "metadata": {
    "execution": {
     "iopub.execute_input": "2022-05-30T22:42:52.737113Z",
     "iopub.status.busy": "2022-05-30T22:42:52.736652Z",
     "iopub.status.idle": "2022-05-30T22:42:52.741784Z",
     "shell.execute_reply": "2022-05-30T22:42:52.741288Z"
    },
    "papermill": {
     "duration": 0.142321,
     "end_time": "2022-05-30T22:42:52.743564",
     "exception": false,
     "start_time": "2022-05-30T22:42:52.601243",
     "status": "completed"
    },
    "tags": []
   },
   "outputs": [],
   "source": [
    "tst_df['Survived'] = (calc_preds(tst_indep, coeffs)>0.5).int()"
   ]
  },
  {
   "cell_type": "markdown",
   "id": "284fc263",
   "metadata": {
    "papermill": {
     "duration": 0.132897,
     "end_time": "2022-05-30T22:42:53.007159",
     "exception": false,
     "start_time": "2022-05-30T22:42:52.874262",
     "status": "completed"
    },
    "tags": []
   },
   "source": [
    "The sample submission on the Kaggle competition site shows that we're expected to upload a CSV with just `PassengerId` and `Survived`, so let's create that and save it:"
   ]
  },
  {
   "cell_type": "code",
   "execution_count": 55,
   "id": "0dabfc0f",
   "metadata": {
    "execution": {
     "iopub.execute_input": "2022-05-30T22:42:53.279452Z",
     "iopub.status.busy": "2022-05-30T22:42:53.278927Z",
     "iopub.status.idle": "2022-05-30T22:42:53.289131Z",
     "shell.execute_reply": "2022-05-30T22:42:53.288597Z"
    },
    "papermill": {
     "duration": 0.148021,
     "end_time": "2022-05-30T22:42:53.290897",
     "exception": false,
     "start_time": "2022-05-30T22:42:53.142876",
     "status": "completed"
    },
    "tags": []
   },
   "outputs": [],
   "source": [
    "sub_df = tst_df[['PassengerId','Survived']]\n",
    "sub_df.to_csv('sub.csv', index=False)"
   ]
  },
  {
   "cell_type": "markdown",
   "id": "ebcbb6a5",
   "metadata": {
    "papermill": {
     "duration": 0.13415,
     "end_time": "2022-05-30T22:42:53.561064",
     "exception": false,
     "start_time": "2022-05-30T22:42:53.426914",
     "status": "completed"
    },
    "tags": []
   },
   "source": [
    "We can check the first few rows of the file to make sure it looks reasonable:"
   ]
  },
  {
   "cell_type": "code",
   "execution_count": 56,
   "id": "ca6615ca",
   "metadata": {
    "execution": {
     "iopub.execute_input": "2022-05-30T22:42:53.833254Z",
     "iopub.status.busy": "2022-05-30T22:42:53.832970Z",
     "iopub.status.idle": "2022-05-30T22:42:54.580645Z",
     "shell.execute_reply": "2022-05-30T22:42:54.579602Z"
    },
    "papermill": {
     "duration": 0.885202,
     "end_time": "2022-05-30T22:42:54.583185",
     "exception": false,
     "start_time": "2022-05-30T22:42:53.697983",
     "status": "completed"
    },
    "tags": []
   },
   "outputs": [
    {
     "name": "stdout",
     "output_type": "stream",
     "text": [
      "PassengerId,Survived\n",
      "892,0\n",
      "893,0\n",
      "894,0\n",
      "895,0\n",
      "896,0\n",
      "897,0\n",
      "898,1\n",
      "899,0\n",
      "900,1\n"
     ]
    }
   ],
   "source": [
    "!head sub.csv"
   ]
  },
  {
   "cell_type": "markdown",
   "id": "e58f5f22",
   "metadata": {
    "papermill": {
     "duration": 0.131303,
     "end_time": "2022-05-30T22:42:54.846969",
     "exception": false,
     "start_time": "2022-05-30T22:42:54.715666",
     "status": "completed"
    },
    "tags": []
   },
   "source": [
    "When you click \"save version\" in Kaggle, and wait for the notebook to run, you'll see that `sub.csv` appears in the \"Data\" tab. Clicking on that file will show a *Submit* button, which allows you to submit to the competition."
   ]
  },
  {
   "cell_type": "markdown",
   "id": "66e442f1",
   "metadata": {
    "papermill": {
     "duration": 0.133163,
     "end_time": "2022-05-30T22:42:55.112012",
     "exception": false,
     "start_time": "2022-05-30T22:42:54.978849",
     "status": "completed"
    },
    "tags": []
   },
   "source": [
    "## Using matrix product"
   ]
  },
  {
   "cell_type": "markdown",
   "id": "a4aba693",
   "metadata": {
    "papermill": {
     "duration": 0.139929,
     "end_time": "2022-05-30T22:42:55.384969",
     "exception": false,
     "start_time": "2022-05-30T22:42:55.245040",
     "status": "completed"
    },
    "tags": []
   },
   "source": [
    "We can make things quite a bit neater...\n",
    "\n",
    "Take a look at the inner-most calculation we're doing to get the predictions:"
   ]
  },
  {
   "cell_type": "code",
   "execution_count": 57,
   "id": "1d6b9226",
   "metadata": {
    "execution": {
     "iopub.execute_input": "2022-05-30T22:42:55.657240Z",
     "iopub.status.busy": "2022-05-30T22:42:55.656645Z",
     "iopub.status.idle": "2022-05-30T22:42:55.666027Z",
     "shell.execute_reply": "2022-05-30T22:42:55.665336Z"
    },
    "papermill": {
     "duration": 0.147619,
     "end_time": "2022-05-30T22:42:55.667802",
     "exception": false,
     "start_time": "2022-05-30T22:42:55.520183",
     "status": "completed"
    },
    "tags": []
   },
   "outputs": [
    {
     "data": {
      "text/plain": [
       "tensor([ 12.3288, -14.8119, -15.4540, -13.1513, -13.3512, -13.6469,   3.6248,   5.3429, -22.0878,   3.1233, -21.8742, -15.6421, -21.5504,\n",
       "          3.9393, -21.9190, -12.0010, -12.3775,   5.3550, -13.5880,  -3.1015, -21.7237, -12.2081,  12.9767,   4.7427, -21.6525, -14.9135,\n",
       "         -2.7433, -12.3210, -21.5886,   3.9387,   5.3890,  -3.6196, -21.6296, -21.8454,  12.2159,  -3.2275, -12.0289,  13.4560, -21.7230,\n",
       "         -3.1366, -13.2462, -21.7230, -13.6831,  13.3092, -21.6477,  -3.5868, -21.6854, -21.8316, -14.8158,  -2.9386,  -5.3103, -22.2384,\n",
       "        -22.1097, -21.7466, -13.3780, -13.4909, -14.8119, -22.0690, -21.6666, -21.7818,  -5.4439, -21.7407, -12.6551, -21.6671,   4.9238,\n",
       "        -11.5777, -13.3323, -21.9638, -15.3030,   5.0243, -21.7614,   3.1820, -13.4721, -21.7170, -11.6066, -21.5737, -21.7230, -11.9652,\n",
       "        -13.2382, -13.7599, -13.2170,  13.1347, -21.7049, -21.7268,   4.9207,  -7.3198,  -5.3081,   7.1065,  11.4948, -13.3135, -21.8723,\n",
       "        -21.7230,  13.3603, -15.5670,   3.4105,  -7.2857, -13.7197,   3.6909,   3.9763, -14.7227, -21.8268,   3.9387, -21.8743, -21.8367,\n",
       "        -11.8518, -13.6712, -21.8299,   4.9440,  -5.4471, -21.9666,   5.1333,  -3.2187, -11.6008,  13.7920, -21.7230,  12.6369,  -3.7268,\n",
       "        -14.8119, -22.0637,  12.9468, -22.1610,  -6.1827, -14.8119,  -3.2838, -15.4540, -11.6950,  -2.9926,  -3.0110, -21.5664, -13.8268,\n",
       "          7.3426, -21.8418,   5.0744,   5.2582,  13.3415, -21.6289, -13.9898, -21.8112,  -7.3316,   5.2296, -13.4453,  12.7891, -22.1235,\n",
       "        -14.9625,  -3.4339,   6.3089, -21.9839,   3.1968,   7.2400,   2.8558,  -3.1187,   3.7965,   5.4667, -15.1101, -15.0597, -22.9391,\n",
       "        -21.7230,  -3.0346, -13.5206, -21.7011,  13.4425,  -7.2690, -21.8335, -12.0582,  13.0489,   6.7993,   5.2160,   5.0794, -12.6957,\n",
       "        -12.1838,  -3.0873, -21.6070,   7.0744, -21.7170, -22.1001,   6.8159, -11.6002, -21.6310])"
      ]
     },
     "execution_count": 57,
     "metadata": {},
     "output_type": "execute_result"
    }
   ],
   "source": [
    "(val_indep*coeffs).sum(axis=1)"
   ]
  },
  {
   "cell_type": "markdown",
   "id": "37152b33",
   "metadata": {
    "papermill": {
     "duration": 0.133626,
     "end_time": "2022-05-30T22:42:55.935238",
     "exception": false,
     "start_time": "2022-05-30T22:42:55.801612",
     "status": "completed"
    },
    "tags": []
   },
   "source": [
    "Multiplying elements together and then adding across rows is identical to doing a matrix-vector product! Python uses the `@` operator to indicate matrix products, and is supported by PyTorch tensors. Therefore, we can replicate the above calculate more simply like so:"
   ]
  },
  {
   "cell_type": "code",
   "execution_count": 58,
   "id": "6738596b",
   "metadata": {
    "execution": {
     "iopub.execute_input": "2022-05-30T22:42:56.209319Z",
     "iopub.status.busy": "2022-05-30T22:42:56.208785Z",
     "iopub.status.idle": "2022-05-30T22:42:56.223343Z",
     "shell.execute_reply": "2022-05-30T22:42:56.222502Z"
    },
    "papermill": {
     "duration": 0.156373,
     "end_time": "2022-05-30T22:42:56.225299",
     "exception": false,
     "start_time": "2022-05-30T22:42:56.068926",
     "status": "completed"
    },
    "tags": []
   },
   "outputs": [
    {
     "data": {
      "text/plain": [
       "tensor([ 12.3288, -14.8119, -15.4540, -13.1513, -13.3511, -13.6468,   3.6248,   5.3429, -22.0878,   3.1233, -21.8742, -15.6421, -21.5504,\n",
       "          3.9393, -21.9190, -12.0010, -12.3775,   5.3550, -13.5880,  -3.1015, -21.7237, -12.2081,  12.9767,   4.7427, -21.6525, -14.9135,\n",
       "         -2.7433, -12.3210, -21.5886,   3.9387,   5.3890,  -3.6196, -21.6296, -21.8454,  12.2159,  -3.2275, -12.0289,  13.4560, -21.7230,\n",
       "         -3.1366, -13.2462, -21.7230, -13.6831,  13.3092, -21.6477,  -3.5868, -21.6854, -21.8316, -14.8158,  -2.9386,  -5.3103, -22.2384,\n",
       "        -22.1097, -21.7466, -13.3780, -13.4909, -14.8119, -22.0690, -21.6666, -21.7818,  -5.4439, -21.7407, -12.6551, -21.6671,   4.9238,\n",
       "        -11.5777, -13.3323, -21.9638, -15.3030,   5.0243, -21.7614,   3.1820, -13.4721, -21.7170, -11.6066, -21.5737, -21.7230, -11.9652,\n",
       "        -13.2382, -13.7599, -13.2170,  13.1347, -21.7049, -21.7268,   4.9207,  -7.3198,  -5.3081,   7.1065,  11.4948, -13.3135, -21.8723,\n",
       "        -21.7230,  13.3603, -15.5670,   3.4105,  -7.2857, -13.7197,   3.6909,   3.9763, -14.7227, -21.8268,   3.9387, -21.8743, -21.8367,\n",
       "        -11.8518, -13.6712, -21.8299,   4.9440,  -5.4471, -21.9666,   5.1333,  -3.2187, -11.6008,  13.7920, -21.7230,  12.6369,  -3.7268,\n",
       "        -14.8119, -22.0637,  12.9468, -22.1610,  -6.1827, -14.8119,  -3.2838, -15.4540, -11.6950,  -2.9926,  -3.0110, -21.5664, -13.8268,\n",
       "          7.3426, -21.8418,   5.0744,   5.2582,  13.3415, -21.6289, -13.9898, -21.8112,  -7.3316,   5.2296, -13.4453,  12.7891, -22.1235,\n",
       "        -14.9625,  -3.4339,   6.3089, -21.9839,   3.1968,   7.2400,   2.8558,  -3.1187,   3.7965,   5.4667, -15.1101, -15.0597, -22.9391,\n",
       "        -21.7230,  -3.0346, -13.5206, -21.7011,  13.4425,  -7.2690, -21.8335, -12.0582,  13.0489,   6.7993,   5.2160,   5.0794, -12.6957,\n",
       "        -12.1838,  -3.0873, -21.6070,   7.0744, -21.7170, -22.1001,   6.8159, -11.6002, -21.6310])"
      ]
     },
     "execution_count": 58,
     "metadata": {},
     "output_type": "execute_result"
    }
   ],
   "source": [
    "val_indep@coeffs"
   ]
  },
  {
   "cell_type": "markdown",
   "id": "909885aa",
   "metadata": {
    "papermill": {
     "duration": 0.135779,
     "end_time": "2022-05-30T22:42:56.497907",
     "exception": false,
     "start_time": "2022-05-30T22:42:56.362128",
     "status": "completed"
    },
    "tags": []
   },
   "source": [
    "It also turns out that this is much faster, because matrix products in PyTorch are very highly optimised.\n",
    "\n",
    "Let's use this to replace how `calc_preds` works:"
   ]
  },
  {
   "cell_type": "code",
   "execution_count": 59,
   "id": "90aebb22",
   "metadata": {
    "execution": {
     "iopub.execute_input": "2022-05-30T22:42:56.778124Z",
     "iopub.status.busy": "2022-05-30T22:42:56.777872Z",
     "iopub.status.idle": "2022-05-30T22:42:56.781893Z",
     "shell.execute_reply": "2022-05-30T22:42:56.780988Z"
    },
    "papermill": {
     "duration": 0.143493,
     "end_time": "2022-05-30T22:42:56.783689",
     "exception": false,
     "start_time": "2022-05-30T22:42:56.640196",
     "status": "completed"
    },
    "tags": []
   },
   "outputs": [],
   "source": [
    "def calc_preds(coeffs, indeps): return torch.sigmoid(indeps@coeffs)"
   ]
  },
  {
   "cell_type": "markdown",
   "id": "b1b79d71",
   "metadata": {
    "papermill": {
     "duration": 0.135395,
     "end_time": "2022-05-30T22:42:57.053587",
     "exception": false,
     "start_time": "2022-05-30T22:42:56.918192",
     "status": "completed"
    },
    "tags": []
   },
   "source": [
    "In order to do matrix-matrix products (which we'll need in the next section), we need to turn `coeffs` into a column vector (i.e. a matrix with a single column), which we can do by passing a second argument `1` to `torch.rand()`, indicating that we want our coefficients to have one column:"
   ]
  },
  {
   "cell_type": "code",
   "execution_count": 60,
   "id": "5f6e625d",
   "metadata": {
    "execution": {
     "iopub.execute_input": "2022-05-30T22:42:57.330204Z",
     "iopub.status.busy": "2022-05-30T22:42:57.329937Z",
     "iopub.status.idle": "2022-05-30T22:42:57.334261Z",
     "shell.execute_reply": "2022-05-30T22:42:57.333438Z"
    },
    "papermill": {
     "duration": 0.14735,
     "end_time": "2022-05-30T22:42:57.336049",
     "exception": false,
     "start_time": "2022-05-30T22:42:57.188699",
     "status": "completed"
    },
    "tags": []
   },
   "outputs": [],
   "source": [
    "def init_coeffs(): return (torch.rand(n_coeff, 1)*0.1).requires_grad_()"
   ]
  },
  {
   "cell_type": "markdown",
   "id": "c0dcbeee",
   "metadata": {
    "papermill": {
     "duration": 0.133591,
     "end_time": "2022-05-30T22:42:57.605817",
     "exception": false,
     "start_time": "2022-05-30T22:42:57.472226",
     "status": "completed"
    },
    "tags": []
   },
   "source": [
    "We'll also need to turn our dependent variable into a column vector, which we can do by indexing the column dimension with the special value `None`, which tells PyTorch to add a new dimension in this position:"
   ]
  },
  {
   "cell_type": "code",
   "execution_count": 61,
   "id": "ea83ddef",
   "metadata": {
    "execution": {
     "iopub.execute_input": "2022-05-30T22:42:57.881798Z",
     "iopub.status.busy": "2022-05-30T22:42:57.881525Z",
     "iopub.status.idle": "2022-05-30T22:42:57.886065Z",
     "shell.execute_reply": "2022-05-30T22:42:57.885148Z"
    },
    "papermill": {
     "duration": 0.146211,
     "end_time": "2022-05-30T22:42:57.888004",
     "exception": false,
     "start_time": "2022-05-30T22:42:57.741793",
     "status": "completed"
    },
    "tags": []
   },
   "outputs": [],
   "source": [
    "trn_dep = trn_dep[:,None]\n",
    "val_dep = val_dep[:,None]"
   ]
  },
  {
   "cell_type": "markdown",
   "id": "9634291c",
   "metadata": {
    "papermill": {
     "duration": 0.139543,
     "end_time": "2022-05-30T22:42:58.166647",
     "exception": false,
     "start_time": "2022-05-30T22:42:58.027104",
     "status": "completed"
    },
    "tags": []
   },
   "source": [
    "We can now train our model as before and confirm we get identical outputs...:"
   ]
  },
  {
   "cell_type": "code",
   "execution_count": 62,
   "id": "07084c2d",
   "metadata": {
    "execution": {
     "iopub.execute_input": "2022-05-30T22:42:58.443537Z",
     "iopub.status.busy": "2022-05-30T22:42:58.442781Z",
     "iopub.status.idle": "2022-05-30T22:42:58.466648Z",
     "shell.execute_reply": "2022-05-30T22:42:58.465738Z"
    },
    "papermill": {
     "duration": 0.163693,
     "end_time": "2022-05-30T22:42:58.468776",
     "exception": false,
     "start_time": "2022-05-30T22:42:58.305083",
     "status": "completed"
    },
    "tags": []
   },
   "outputs": [
    {
     "name": "stdout",
     "output_type": "stream",
     "text": [
      "0.512; 0.323; 0.290; 0.205; 0.200; 0.198; 0.197; 0.197; 0.196; 0.196; 0.196; 0.195; 0.195; 0.195; 0.195; 0.195; 0.195; 0.194; 0.194; 0.194; 0.194; 0.194; 0.194; 0.194; 0.194; 0.194; 0.194; 0.194; 0.194; 0.194; "
     ]
    }
   ],
   "source": [
    "coeffs = train_model(lr=100)"
   ]
  },
  {
   "cell_type": "markdown",
   "id": "0128ecc5",
   "metadata": {
    "papermill": {
     "duration": 0.136402,
     "end_time": "2022-05-30T22:42:58.741586",
     "exception": false,
     "start_time": "2022-05-30T22:42:58.605184",
     "status": "completed"
    },
    "tags": []
   },
   "source": [
    "...and identical accuracy:"
   ]
  },
  {
   "cell_type": "code",
   "execution_count": 63,
   "id": "a8cd0713",
   "metadata": {
    "execution": {
     "iopub.execute_input": "2022-05-30T22:42:59.072250Z",
     "iopub.status.busy": "2022-05-30T22:42:59.072006Z",
     "iopub.status.idle": "2022-05-30T22:42:59.078191Z",
     "shell.execute_reply": "2022-05-30T22:42:59.077401Z"
    },
    "papermill": {
     "duration": 0.143809,
     "end_time": "2022-05-30T22:42:59.080179",
     "exception": false,
     "start_time": "2022-05-30T22:42:58.936370",
     "status": "completed"
    },
    "tags": []
   },
   "outputs": [
    {
     "data": {
      "text/plain": [
       "tensor(0.8258)"
      ]
     },
     "execution_count": 63,
     "metadata": {},
     "output_type": "execute_result"
    }
   ],
   "source": [
    "acc(coeffs)"
   ]
  },
  {
   "cell_type": "markdown",
   "id": "71e06f11",
   "metadata": {
    "papermill": {
     "duration": 0.136619,
     "end_time": "2022-05-30T22:42:59.352877",
     "exception": false,
     "start_time": "2022-05-30T22:42:59.216258",
     "status": "completed"
    },
    "tags": []
   },
   "source": [
    "## A neural network"
   ]
  },
  {
   "cell_type": "markdown",
   "id": "62b09cef",
   "metadata": {
    "papermill": {
     "duration": 0.135293,
     "end_time": "2022-05-30T22:42:59.623883",
     "exception": false,
     "start_time": "2022-05-30T22:42:59.488590",
     "status": "completed"
    },
    "tags": []
   },
   "source": [
    "We've now got what we need to implement our neural network.\n",
    "\n",
    "First, we'll need to create coefficients for each of our layers. Our first set of coefficients will take our `n_coeff` inputs, and create `n_hidden` outputs. We can choose whatever `n_hidden` we like -- a higher number gives our network more flexibility, but makes it slower and harder to train. So we need a matrix of size `n_coeff` by `n_hidden`. We'll divide these coefficients by `n_hidden` so that when we sum them up in the next layer we'll end up with similar magnitude numbers to what we started with.\n",
    "\n",
    "Then our second layer will need to take the `n_hidden` inputs and create a single output, so that means we need a `n_hidden` by `1` matrix there. The second layer will also need a constant term added."
   ]
  },
  {
   "cell_type": "code",
   "execution_count": 64,
   "id": "138e7ebb",
   "metadata": {
    "execution": {
     "iopub.execute_input": "2022-05-30T22:42:59.900426Z",
     "iopub.status.busy": "2022-05-30T22:42:59.899953Z",
     "iopub.status.idle": "2022-05-30T22:42:59.905168Z",
     "shell.execute_reply": "2022-05-30T22:42:59.904401Z"
    },
    "papermill": {
     "duration": 0.145262,
     "end_time": "2022-05-30T22:42:59.907210",
     "exception": false,
     "start_time": "2022-05-30T22:42:59.761948",
     "status": "completed"
    },
    "tags": []
   },
   "outputs": [],
   "source": [
    "def init_coeffs(n_hidden=20):\n",
    "    layer1 = (torch.rand(n_coeff, n_hidden)-0.5)/n_hidden\n",
    "    layer2 = torch.rand(n_hidden, 1)-0.3\n",
    "    const = torch.rand(1)[0]\n",
    "    return layer1.requires_grad_(),layer2.requires_grad_(),const.requires_grad_()"
   ]
  },
  {
   "cell_type": "markdown",
   "id": "2dcccb74",
   "metadata": {
    "papermill": {
     "duration": 0.136702,
     "end_time": "2022-05-30T22:43:00.178943",
     "exception": false,
     "start_time": "2022-05-30T22:43:00.042241",
     "status": "completed"
    },
    "tags": []
   },
   "source": [
    "Now we have our coefficients, we can create our neural net. The key steps are the two matrix products, `indeps@l1` and `res@l2` (where `res` is the output of the first layer). The first layer output is passed to `F.relu` (that's our non-linearity), and the second is passed to `torch.sigmoid` as before."
   ]
  },
  {
   "cell_type": "code",
   "execution_count": 65,
   "id": "20035d2f",
   "metadata": {
    "execution": {
     "iopub.execute_input": "2022-05-30T22:43:00.454204Z",
     "iopub.status.busy": "2022-05-30T22:43:00.453591Z",
     "iopub.status.idle": "2022-05-30T22:43:00.458654Z",
     "shell.execute_reply": "2022-05-30T22:43:00.457908Z"
    },
    "papermill": {
     "duration": 0.146022,
     "end_time": "2022-05-30T22:43:00.460518",
     "exception": false,
     "start_time": "2022-05-30T22:43:00.314496",
     "status": "completed"
    },
    "tags": []
   },
   "outputs": [],
   "source": [
    "import torch.nn.functional as F\n",
    "\n",
    "def calc_preds(coeffs, indeps):\n",
    "    l1,l2,const = coeffs\n",
    "    res = F.relu(indeps@l1)\n",
    "    res = res@l2 + const\n",
    "    return torch.sigmoid(res)"
   ]
  },
  {
   "cell_type": "markdown",
   "id": "bc6b7120",
   "metadata": {
    "papermill": {
     "duration": 0.134208,
     "end_time": "2022-05-30T22:43:00.729061",
     "exception": false,
     "start_time": "2022-05-30T22:43:00.594853",
     "status": "completed"
    },
    "tags": []
   },
   "source": [
    "Finally, now that we have more than one set of coefficients, we need to add a loop to update each one:"
   ]
  },
  {
   "cell_type": "code",
   "execution_count": 66,
   "id": "48b35600",
   "metadata": {
    "execution": {
     "iopub.execute_input": "2022-05-30T22:43:01.001479Z",
     "iopub.status.busy": "2022-05-30T22:43:01.000760Z",
     "iopub.status.idle": "2022-05-30T22:43:01.005669Z",
     "shell.execute_reply": "2022-05-30T22:43:01.004748Z"
    },
    "papermill": {
     "duration": 0.145412,
     "end_time": "2022-05-30T22:43:01.007655",
     "exception": false,
     "start_time": "2022-05-30T22:43:00.862243",
     "status": "completed"
    },
    "tags": []
   },
   "outputs": [],
   "source": [
    "def update_coeffs(coeffs, lr):\n",
    "    for layer in coeffs:\n",
    "        layer.sub_(layer.grad * lr)\n",
    "        layer.grad.zero_()"
   ]
  },
  {
   "cell_type": "markdown",
   "id": "43ad81d0",
   "metadata": {
    "papermill": {
     "duration": 0.135462,
     "end_time": "2022-05-30T22:43:01.280959",
     "exception": false,
     "start_time": "2022-05-30T22:43:01.145497",
     "status": "completed"
    },
    "tags": []
   },
   "source": [
    "That's it -- we're now ready to train our model!"
   ]
  },
  {
   "cell_type": "code",
   "execution_count": 67,
   "id": "0e0931c5",
   "metadata": {
    "execution": {
     "iopub.execute_input": "2022-05-30T22:43:01.560513Z",
     "iopub.status.busy": "2022-05-30T22:43:01.559978Z",
     "iopub.status.idle": "2022-05-30T22:43:01.594154Z",
     "shell.execute_reply": "2022-05-30T22:43:01.593491Z"
    },
    "papermill": {
     "duration": 0.175812,
     "end_time": "2022-05-30T22:43:01.596301",
     "exception": false,
     "start_time": "2022-05-30T22:43:01.420489",
     "status": "completed"
    },
    "tags": []
   },
   "outputs": [
    {
     "name": "stdout",
     "output_type": "stream",
     "text": [
      "0.543; 0.532; 0.520; 0.505; 0.487; 0.466; 0.439; 0.407; 0.373; 0.343; 0.319; 0.301; 0.286; 0.274; 0.264; 0.256; 0.250; 0.245; 0.240; 0.237; 0.234; 0.231; 0.229; 0.227; 0.226; 0.224; 0.223; 0.222; 0.221; 0.220; "
     ]
    }
   ],
   "source": [
    "coeffs = train_model(lr=1.4)"
   ]
  },
  {
   "cell_type": "code",
   "execution_count": 68,
   "id": "59652476",
   "metadata": {
    "execution": {
     "iopub.execute_input": "2022-05-30T22:43:01.872915Z",
     "iopub.status.busy": "2022-05-30T22:43:01.872496Z",
     "iopub.status.idle": "2022-05-30T22:43:01.894710Z",
     "shell.execute_reply": "2022-05-30T22:43:01.893887Z"
    },
    "papermill": {
     "duration": 0.159954,
     "end_time": "2022-05-30T22:43:01.896693",
     "exception": false,
     "start_time": "2022-05-30T22:43:01.736739",
     "status": "completed"
    },
    "tags": []
   },
   "outputs": [
    {
     "name": "stdout",
     "output_type": "stream",
     "text": [
      "0.543; 0.400; 0.260; 0.390; 0.221; 0.211; 0.197; 0.195; 0.193; 0.193; 0.193; 0.193; 0.193; 0.193; 0.193; 0.193; 0.193; 0.192; 0.192; 0.192; 0.192; 0.192; 0.192; 0.192; 0.192; 0.192; 0.192; 0.192; 0.192; 0.192; "
     ]
    }
   ],
   "source": [
    "coeffs = train_model(lr=20)"
   ]
  },
  {
   "cell_type": "markdown",
   "id": "1e616306",
   "metadata": {
    "papermill": {
     "duration": 0.137237,
     "end_time": "2022-05-30T22:43:02.172776",
     "exception": false,
     "start_time": "2022-05-30T22:43:02.035539",
     "status": "completed"
    },
    "tags": []
   },
   "source": [
    "It's looking good -- our loss is lower than before. Let's see if that translates to a better result on the validation set:"
   ]
  },
  {
   "cell_type": "code",
   "execution_count": 69,
   "id": "5a25e421",
   "metadata": {
    "execution": {
     "iopub.execute_input": "2022-05-30T22:43:02.488943Z",
     "iopub.status.busy": "2022-05-30T22:43:02.488655Z",
     "iopub.status.idle": "2022-05-30T22:43:02.495724Z",
     "shell.execute_reply": "2022-05-30T22:43:02.494960Z"
    },
    "papermill": {
     "duration": 0.164438,
     "end_time": "2022-05-30T22:43:02.497639",
     "exception": false,
     "start_time": "2022-05-30T22:43:02.333201",
     "status": "completed"
    },
    "tags": []
   },
   "outputs": [
    {
     "data": {
      "text/plain": [
       "tensor(0.8258)"
      ]
     },
     "execution_count": 69,
     "metadata": {},
     "output_type": "execute_result"
    }
   ],
   "source": [
    "acc(coeffs)"
   ]
  },
  {
   "cell_type": "markdown",
   "id": "afe15f9d",
   "metadata": {
    "papermill": {
     "duration": 0.151689,
     "end_time": "2022-05-30T22:43:02.837960",
     "exception": false,
     "start_time": "2022-05-30T22:43:02.686271",
     "status": "completed"
    },
    "tags": []
   },
   "source": [
    "In this case our neural net isn't showing better results than the linear model. That's not surprising; this dataset is very small and very simple, and isn't the kind of thing we'd expect to see neural networks excel at. Furthermore, our validation set is too small to reliably see much accuracy difference. But the key thing is that we now know exactly what a real neural net looks like!"
   ]
  },
  {
   "cell_type": "markdown",
   "id": "cd112628",
   "metadata": {
    "papermill": {
     "duration": 0.146754,
     "end_time": "2022-05-30T22:43:03.133028",
     "exception": false,
     "start_time": "2022-05-30T22:43:02.986274",
     "status": "completed"
    },
    "tags": []
   },
   "source": [
    "## Deep learning"
   ]
  },
  {
   "cell_type": "markdown",
   "id": "db3edfbe",
   "metadata": {
    "papermill": {
     "duration": 0.146189,
     "end_time": "2022-05-30T22:43:03.426372",
     "exception": false,
     "start_time": "2022-05-30T22:43:03.280183",
     "status": "completed"
    },
    "tags": []
   },
   "source": [
    "The neural net in the previous section only uses one hidden layer, so it doesn't count as \"deep\" learning. But we can use the exact same technique to make our neural net deep, by adding more matrix multiplications.\n",
    "\n",
    "First, we'll need to create additional coefficients for each layer:"
   ]
  },
  {
   "cell_type": "code",
   "execution_count": 70,
   "id": "397dacb7",
   "metadata": {
    "execution": {
     "iopub.execute_input": "2022-05-30T22:43:03.719798Z",
     "iopub.status.busy": "2022-05-30T22:43:03.719398Z",
     "iopub.status.idle": "2022-05-30T22:43:03.725903Z",
     "shell.execute_reply": "2022-05-30T22:43:03.725090Z"
    },
    "papermill": {
     "duration": 0.159229,
     "end_time": "2022-05-30T22:43:03.727955",
     "exception": false,
     "start_time": "2022-05-30T22:43:03.568726",
     "status": "completed"
    },
    "tags": []
   },
   "outputs": [],
   "source": [
    "def init_coeffs():\n",
    "    hiddens = [10, 10]  # <-- set this to the size of each hidden layer you want\n",
    "    sizes = [n_coeff] + hiddens + [1]\n",
    "    n = len(sizes)\n",
    "    layers = [(torch.rand(sizes[i], sizes[i+1])-0.3)/sizes[i+1]*4 for i in range(n-1)]\n",
    "    consts = [(torch.rand(1)[0]-0.5)*0.1 for i in range(n-1)]\n",
    "    for l in layers+consts: l.requires_grad_()\n",
    "    return layers,consts"
   ]
  },
  {
   "cell_type": "markdown",
   "id": "031f9229",
   "metadata": {
    "papermill": {
     "duration": 0.145542,
     "end_time": "2022-05-30T22:43:04.021489",
     "exception": false,
     "start_time": "2022-05-30T22:43:03.875947",
     "status": "completed"
    },
    "tags": []
   },
   "source": [
    "You'll notice here that there's a lot of messy constants to get the random numbers in just the right ranges. When you train the model in a moment, you'll see that the tiniest changes to these initialisations can cause our model to fail to train at all! This is a key reason that deep learning failed to make much progress in the early days -- it's very finicky to get a good starting point for our coefficients. Nowadays, we have ways to deal with that, which we'll learn about in other notebooks.\n",
    "\n",
    "Our deep learning `calc_preds` looks much the same as before, but now we loop through each layer, instead of listing them separately:"
   ]
  },
  {
   "cell_type": "code",
   "execution_count": 71,
   "id": "d7668f19",
   "metadata": {
    "execution": {
     "iopub.execute_input": "2022-05-30T22:43:04.308688Z",
     "iopub.status.busy": "2022-05-30T22:43:04.308215Z",
     "iopub.status.idle": "2022-05-30T22:43:04.314100Z",
     "shell.execute_reply": "2022-05-30T22:43:04.313449Z"
    },
    "papermill": {
     "duration": 0.149121,
     "end_time": "2022-05-30T22:43:04.315985",
     "exception": false,
     "start_time": "2022-05-30T22:43:04.166864",
     "status": "completed"
    },
    "tags": []
   },
   "outputs": [],
   "source": [
    "import torch.nn.functional as F\n",
    "\n",
    "def calc_preds(coeffs, indeps):\n",
    "    layers,consts = coeffs\n",
    "    n = len(layers)\n",
    "    res = indeps\n",
    "    for i,l in enumerate(layers):\n",
    "        res = res@l + consts[i]\n",
    "        if i!=n-1: res = F.relu(res)\n",
    "    return torch.sigmoid(res)"
   ]
  },
  {
   "cell_type": "markdown",
   "id": "c672f150",
   "metadata": {
    "papermill": {
     "duration": 0.138858,
     "end_time": "2022-05-30T22:43:04.596250",
     "exception": false,
     "start_time": "2022-05-30T22:43:04.457392",
     "status": "completed"
    },
    "tags": []
   },
   "source": [
    "We also need a minor update to `update_coeffs` since we've got `layers` and `consts` separated now:"
   ]
  },
  {
   "cell_type": "code",
   "execution_count": 72,
   "id": "83fccbca",
   "metadata": {
    "execution": {
     "iopub.execute_input": "2022-05-30T22:43:04.882863Z",
     "iopub.status.busy": "2022-05-30T22:43:04.882415Z",
     "iopub.status.idle": "2022-05-30T22:43:04.886616Z",
     "shell.execute_reply": "2022-05-30T22:43:04.885885Z"
    },
    "papermill": {
     "duration": 0.152288,
     "end_time": "2022-05-30T22:43:04.888464",
     "exception": false,
     "start_time": "2022-05-30T22:43:04.736176",
     "status": "completed"
    },
    "tags": []
   },
   "outputs": [],
   "source": [
    "def update_coeffs(coeffs, lr):\n",
    "    layers,consts = coeffs\n",
    "    for layer in layers+consts:\n",
    "        layer.sub_(layer.grad * lr)\n",
    "        layer.grad.zero_()"
   ]
  },
  {
   "cell_type": "markdown",
   "id": "99922de6",
   "metadata": {
    "papermill": {
     "duration": 0.140967,
     "end_time": "2022-05-30T22:43:05.175984",
     "exception": false,
     "start_time": "2022-05-30T22:43:05.035017",
     "status": "completed"
    },
    "tags": []
   },
   "source": [
    "Let's train our model..."
   ]
  },
  {
   "cell_type": "code",
   "execution_count": 73,
   "id": "34fa123f",
   "metadata": {
    "execution": {
     "iopub.execute_input": "2022-05-30T22:43:05.467798Z",
     "iopub.status.busy": "2022-05-30T22:43:05.467034Z",
     "iopub.status.idle": "2022-05-30T22:43:05.508872Z",
     "shell.execute_reply": "2022-05-30T22:43:05.507846Z"
    },
    "papermill": {
     "duration": 0.191402,
     "end_time": "2022-05-30T22:43:05.510818",
     "exception": false,
     "start_time": "2022-05-30T22:43:05.319416",
     "status": "completed"
    },
    "tags": []
   },
   "outputs": [
    {
     "name": "stdout",
     "output_type": "stream",
     "text": [
      "0.521; 0.483; 0.427; 0.379; 0.379; 0.379; 0.379; 0.378; 0.378; 0.378; 0.378; 0.378; 0.378; 0.378; 0.378; 0.378; 0.377; 0.376; 0.371; 0.333; 0.239; 0.224; 0.208; 0.204; 0.203; 0.203; 0.207; 0.197; 0.196; 0.195; "
     ]
    }
   ],
   "source": [
    "coeffs = train_model(lr=4)"
   ]
  },
  {
   "cell_type": "markdown",
   "id": "01d0b4f9",
   "metadata": {
    "papermill": {
     "duration": 0.145915,
     "end_time": "2022-05-30T22:43:05.801812",
     "exception": false,
     "start_time": "2022-05-30T22:43:05.655897",
     "status": "completed"
    },
    "tags": []
   },
   "source": [
    "...and check its accuracy:"
   ]
  },
  {
   "cell_type": "code",
   "execution_count": 74,
   "id": "b52b440a",
   "metadata": {
    "execution": {
     "iopub.execute_input": "2022-05-30T22:43:06.102017Z",
     "iopub.status.busy": "2022-05-30T22:43:06.101165Z",
     "iopub.status.idle": "2022-05-30T22:43:06.107623Z",
     "shell.execute_reply": "2022-05-30T22:43:06.106832Z"
    },
    "papermill": {
     "duration": 0.157859,
     "end_time": "2022-05-30T22:43:06.109349",
     "exception": false,
     "start_time": "2022-05-30T22:43:05.951490",
     "status": "completed"
    },
    "tags": []
   },
   "outputs": [
    {
     "data": {
      "text/plain": [
       "tensor(0.8258)"
      ]
     },
     "execution_count": 74,
     "metadata": {},
     "output_type": "execute_result"
    }
   ],
   "source": [
    "acc(coeffs)"
   ]
  },
  {
   "cell_type": "markdown",
   "id": "f7f34da7",
   "metadata": {
    "papermill": {
     "duration": 0.137975,
     "end_time": "2022-05-30T22:43:06.384378",
     "exception": false,
     "start_time": "2022-05-30T22:43:06.246403",
     "status": "completed"
    },
    "tags": []
   },
   "source": [
    "## Final thoughts"
   ]
  },
  {
   "cell_type": "markdown",
   "id": "5e4a1632",
   "metadata": {
    "papermill": {
     "duration": 0.136723,
     "end_time": "2022-05-30T22:43:06.658743",
     "exception": false,
     "start_time": "2022-05-30T22:43:06.522020",
     "status": "completed"
    },
    "tags": []
   },
   "source": [
    "It's actually pretty cool that we've managed to create a real deep learning model from scratch and trained it to get over 80% accuracy on this task, all in the course of a single notebook!\n",
    "\n",
    "The \"real\" deep learning models that are used in research and industry look very similar to this, and in fact if you look inside the source code of any deep learning model you'll recognise the basic steps are the same.\n",
    "\n",
    "The biggest differences in practical models to what we have above are:\n",
    "\n",
    "- How initialisation and normalisation is done to ensure the model trains correctly every time\n",
    "- Regularization (to avoid over-fitting)\n",
    "- Modifying the neural net itself to take advantage of knowledge of the problem domain\n",
    "- Doing gradient descent steps on smaller batches, rather than the whole dataset.\n",
    "\n",
    "I'll be adding notebooks about all these later, and will add links here once they're ready.\n",
    "\n",
    "If you found this notebook useful, please remember to click the little up-arrow at the top to upvote it, since I like to know when people have found my work useful, and it helps others find it too. (BTW, be sure you're looking at my [original notebook here](https://www.kaggle.com/code/jhoward/linear-model-and-neural-net-from-scratch) when you do that, and are not on your own copy of it, otherwise your upvote won't get counted!) And if you have any questions or comments, please pop them below -- I read every comment I receive!"
   ]
  }
 ],
 "metadata": {
  "kernelspec": {
   "display_name": "Summer2025DL",
   "language": "python",
   "name": "python3"
  },
  "language_info": {
   "codemirror_mode": {
    "name": "ipython",
    "version": 3
   },
   "file_extension": ".py",
   "mimetype": "text/x-python",
   "name": "python",
   "nbconvert_exporter": "python",
   "pygments_lexer": "ipython3",
   "version": "3.13.2"
  },
  "papermill": {
   "default_parameters": {},
   "duration": 58.631267,
   "end_time": "2022-05-30T22:43:07.991254",
   "environment_variables": {},
   "exception": null,
   "input_path": "__notebook__.ipynb",
   "output_path": "__notebook__.ipynb",
   "parameters": {},
   "start_time": "2022-05-30T22:42:09.359987",
   "version": "2.3.4"
  }
 },
 "nbformat": 4,
 "nbformat_minor": 5
}
