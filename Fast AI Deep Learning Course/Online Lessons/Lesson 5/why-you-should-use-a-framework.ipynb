{
 "cells": [
  {
   "cell_type": "markdown",
   "id": "9f46affb",
   "metadata": {
    "papermill": {
     "duration": 0.037834,
     "end_time": "2022-08-10T15:56:06.823883",
     "exception": false,
     "start_time": "2022-08-10T15:56:06.786049",
     "status": "completed"
    },
    "tags": []
   },
   "source": [
    "## Introduction and set up"
   ]
  },
  {
   "cell_type": "markdown",
   "id": "ef875172",
   "metadata": {
    "papermill": {
     "duration": 0.03269,
     "end_time": "2022-08-10T15:56:06.892946",
     "exception": false,
     "start_time": "2022-08-10T15:56:06.860256",
     "status": "completed"
    },
    "tags": []
   },
   "source": [
    "If you've finished going through my [Linear model and neural net from scratch\n",
    "](https://www.kaggle.com/code/jhoward/linear-model-and-neural-net-from-scratch) notebook, then now is a good time to look at how to do the same thing using a library, instead of doing it from scratch. We'll use fastai and PyTorch. The benefits of using these libraries is:\n",
    "\n",
    "- Best practices are handled for you automatically -- fast.ai has done thousands of hours of experiments to figure out what the best settings are for you\n",
    "- Less time getting set up, which means more time to try out your new ideas\n",
    "- Each idea you try will be less work, because fastai and PyTorch will do the many of the menial bits for you\n",
    "- You can always drop down from fastai to PyTorch if you need to customise any part (or drop down from the fastai Application API to the fastai mid or low tier APIs), or even drop down from PyTorch to plain python for deep customisation.\n",
    "\n",
    "Let's see how that looks in practice. We'll start by doing the same library setup as in the \"from scratch\" notebook:"
   ]
  },
  {
   "cell_type": "code",
   "execution_count": 1,
   "id": "cc1fcf33",
   "metadata": {
    "_kg_hide-output": true,
    "execution": {
     "iopub.execute_input": "2022-08-10T15:56:06.962155Z",
     "iopub.status.busy": "2022-08-10T15:56:06.961502Z",
     "iopub.status.idle": "2022-08-10T15:56:35.768559Z",
     "shell.execute_reply": "2022-08-10T15:56:35.767423Z"
    },
    "papermill": {
     "duration": 28.844474,
     "end_time": "2022-08-10T15:56:35.771433",
     "exception": false,
     "start_time": "2022-08-10T15:56:06.926959",
     "status": "completed"
    },
    "tags": []
   },
   "outputs": [],
   "source": [
    "from pathlib import Path\n",
    "import os\n",
    "\n",
    "iskaggle = os.environ.get('KAGGLE_KERNEL_RUN_TYPE', '')\n",
    "if iskaggle:\n",
    "    path = Path('../input/titanic')\n",
    "    !pip install -Uqq fastai\n",
    "else:\n",
    "    import zipfile,kaggle\n",
    "    path = Path('titanic')\n",
    "    if not path.exists():\n",
    "        kaggle.api.competition_download_cli(str(path))\n",
    "        zipfile.ZipFile(f'{path}.zip').extractall(path)"
   ]
  },
  {
   "cell_type": "markdown",
   "id": "a789bc8e",
   "metadata": {
    "papermill": {
     "duration": 0.032707,
     "end_time": "2022-08-10T15:56:35.840654",
     "exception": false,
     "start_time": "2022-08-10T15:56:35.807947",
     "status": "completed"
    },
    "tags": []
   },
   "source": [
    "We'll import the fastai tabular library, set a random seed so the notebook is reproducible, and pick a reasonable number of significant figures to display in our tables:"
   ]
  },
  {
   "cell_type": "code",
   "execution_count": 2,
   "id": "c51e7f4e",
   "metadata": {
    "execution": {
     "iopub.execute_input": "2022-08-10T15:56:35.912363Z",
     "iopub.status.busy": "2022-08-10T15:56:35.911380Z",
     "iopub.status.idle": "2022-08-10T15:56:39.142733Z",
     "shell.execute_reply": "2022-08-10T15:56:39.141593Z"
    },
    "papermill": {
     "duration": 3.269534,
     "end_time": "2022-08-10T15:56:39.145316",
     "exception": false,
     "start_time": "2022-08-10T15:56:35.875782",
     "status": "completed"
    },
    "tags": []
   },
   "outputs": [],
   "source": [
    "from fastai.tabular.all import *\n",
    "\n",
    "pd.options.display.float_format = '{:.2f}'.format\n",
    "set_seed(42)"
   ]
  },
  {
   "cell_type": "markdown",
   "id": "49e3c8c0",
   "metadata": {
    "papermill": {
     "duration": 0.032222,
     "end_time": "2022-08-10T15:56:39.210858",
     "exception": false,
     "start_time": "2022-08-10T15:56:39.178636",
     "status": "completed"
    },
    "tags": []
   },
   "source": [
    "## Prep the data"
   ]
  },
  {
   "cell_type": "markdown",
   "id": "c9c0c6ab",
   "metadata": {
    "papermill": {
     "duration": 0.03189,
     "end_time": "2022-08-10T15:56:39.275641",
     "exception": false,
     "start_time": "2022-08-10T15:56:39.243751",
     "status": "completed"
    },
    "tags": []
   },
   "source": [
    "We'll read the CSV file just like we did before:"
   ]
  },
  {
   "cell_type": "code",
   "execution_count": 3,
   "id": "8be2090c",
   "metadata": {
    "execution": {
     "iopub.execute_input": "2022-08-10T15:56:39.343586Z",
     "iopub.status.busy": "2022-08-10T15:56:39.343242Z",
     "iopub.status.idle": "2022-08-10T15:56:39.367392Z",
     "shell.execute_reply": "2022-08-10T15:56:39.366286Z"
    },
    "papermill": {
     "duration": 0.061442,
     "end_time": "2022-08-10T15:56:39.370020",
     "exception": false,
     "start_time": "2022-08-10T15:56:39.308578",
     "status": "completed"
    },
    "tags": []
   },
   "outputs": [],
   "source": [
    "df = pd.read_csv(path/'train.csv')"
   ]
  },
  {
   "cell_type": "markdown",
   "id": "d9b754b1",
   "metadata": {
    "papermill": {
     "duration": 0.032163,
     "end_time": "2022-08-10T15:56:39.435944",
     "exception": false,
     "start_time": "2022-08-10T15:56:39.403781",
     "status": "completed"
    },
    "tags": []
   },
   "source": [
    "When you do everything from scratch, every bit of feature engineering requires a whole lot of work, since you have to think about things like dummy variables, normalization, missing values, and so on. But with fastai that's all done for you. So let's go wild and create lots of new features! We'll use a bunch of the most interesting ones from this fantastic [Titanic feature engineering notebook](https://www.kaggle.com/code/gunesevitan/titanic-advanced-feature-engineering-tutorial/) (and be sure to click that link and upvote that notebook if you like it to thank the author for their hard work!)"
   ]
  },
  {
   "cell_type": "code",
   "execution_count": 4,
   "id": "60b0a4c7",
   "metadata": {
    "execution": {
     "iopub.execute_input": "2022-08-10T15:56:39.506199Z",
     "iopub.status.busy": "2022-08-10T15:56:39.505888Z",
     "iopub.status.idle": "2022-08-10T15:56:39.685467Z",
     "shell.execute_reply": "2022-08-10T15:56:39.684539Z"
    },
    "papermill": {
     "duration": 0.217877,
     "end_time": "2022-08-10T15:56:39.687834",
     "exception": false,
     "start_time": "2022-08-10T15:56:39.469957",
     "status": "completed"
    },
    "tags": []
   },
   "outputs": [],
   "source": [
    "def add_features(df):\n",
    "    df['LogFare'] = np.log1p(df['Fare'])\n",
    "    df['Deck'] = df.Cabin.str[0].map(dict(A=\"ABC\", B=\"ABC\", C=\"ABC\", D=\"DE\", E=\"DE\", F=\"FG\", G=\"FG\"))\n",
    "    df['Family'] = df.SibSp+df.Parch\n",
    "    df['Alone'] = df.Family==0\n",
    "    df['TicketFreq'] = df.groupby('Ticket')['Ticket'].transform('count')\n",
    "    df['Title'] = df.Name.str.split(', ', expand=True)[1].str.split('.', expand=True)[0]\n",
    "    df['Title'] = df.Title.map(dict(Mr=\"Mr\",Miss=\"Miss\",Mrs=\"Mrs\",Master=\"Master\"))\n",
    "\n",
    "add_features(df)"
   ]
  },
  {
   "cell_type": "markdown",
   "id": "9a4406fc",
   "metadata": {
    "papermill": {
     "duration": 0.032654,
     "end_time": "2022-08-10T15:56:39.752700",
     "exception": false,
     "start_time": "2022-08-10T15:56:39.720046",
     "status": "completed"
    },
    "tags": []
   },
   "source": [
    "As we discussed in the last notebook, we can use `RandomSplitter` to separate out the training and validation sets:"
   ]
  },
  {
   "cell_type": "code",
   "execution_count": 5,
   "id": "472d84a8",
   "metadata": {
    "execution": {
     "iopub.execute_input": "2022-08-10T15:56:39.822775Z",
     "iopub.status.busy": "2022-08-10T15:56:39.822073Z",
     "iopub.status.idle": "2022-08-10T15:56:39.828037Z",
     "shell.execute_reply": "2022-08-10T15:56:39.827319Z"
    },
    "papermill": {
     "duration": 0.043356,
     "end_time": "2022-08-10T15:56:39.830313",
     "exception": false,
     "start_time": "2022-08-10T15:56:39.786957",
     "status": "completed"
    },
    "tags": []
   },
   "outputs": [],
   "source": [
    "splits = RandomSplitter(seed=42)(df)"
   ]
  },
  {
   "cell_type": "markdown",
   "id": "cdacbe81",
   "metadata": {
    "papermill": {
     "duration": 0.033763,
     "end_time": "2022-08-10T15:56:39.898440",
     "exception": false,
     "start_time": "2022-08-10T15:56:39.864677",
     "status": "completed"
    },
    "tags": []
   },
   "source": [
    "Now the entire process of getting the data ready for training requires just this one cell!:"
   ]
  },
  {
   "cell_type": "code",
   "execution_count": 6,
   "id": "e4fce3e7",
   "metadata": {
    "execution": {
     "iopub.execute_input": "2022-08-10T15:56:39.969019Z",
     "iopub.status.busy": "2022-08-10T15:56:39.968530Z",
     "iopub.status.idle": "2022-08-10T15:56:40.042479Z",
     "shell.execute_reply": "2022-08-10T15:56:40.041577Z"
    },
    "papermill": {
     "duration": 0.113825,
     "end_time": "2022-08-10T15:56:40.045243",
     "exception": false,
     "start_time": "2022-08-10T15:56:39.931418",
     "status": "completed"
    },
    "tags": []
   },
   "outputs": [
    {
     "name": "stderr",
     "output_type": "stream",
     "text": [
      "/home/jshen/miniconda3/envs/Summer2025DL/lib/python3.13/site-packages/fastai/tabular/core.py:314: FutureWarning: A value is trying to be set on a copy of a DataFrame or Series through chained assignment using an inplace method.\n",
      "The behavior will change in pandas 3.0. This inplace method will never work because the intermediate object on which we are setting values always behaves as a copy.\n",
      "\n",
      "For example, when doing 'df[col].method(value, inplace=True)', try using 'df.method({col: value}, inplace=True)' or df[col] = df[col].method(value) instead, to perform the operation inplace on the original object.\n",
      "\n",
      "\n",
      "  to[n].fillna(self.na_dict[n], inplace=True)\n"
     ]
    }
   ],
   "source": [
    "dls = TabularPandas(\n",
    "    df, splits=splits,\n",
    "    procs = [Categorify, FillMissing, Normalize],\n",
    "    cat_names=[\"Sex\",\"Pclass\",\"Embarked\",\"Deck\", \"Title\"],\n",
    "    cont_names=['Age', 'SibSp', 'Parch', 'LogFare', 'Alone', 'TicketFreq', 'Family'],\n",
    "    y_names=\"Survived\", y_block = CategoryBlock(),\n",
    ").dataloaders(path=\".\")"
   ]
  },
  {
   "cell_type": "markdown",
   "id": "540e9b59",
   "metadata": {
    "papermill": {
     "duration": 0.033611,
     "end_time": "2022-08-10T15:56:40.112679",
     "exception": false,
     "start_time": "2022-08-10T15:56:40.079068",
     "status": "completed"
    },
    "tags": []
   },
   "source": [
    "Here's what each of the parameters means:\n",
    "\n",
    "- Use `splits` for indices of training and validation sets:\n",
    "\n",
    "      splits=splits,\n",
    "    \n",
    "- Turn strings into categories, fill missing values in numeric columns with the median, normalise all numeric columns:\n",
    "    \n",
    "      procs = [Categorify, FillMissing, Normalize],\n",
    "    \n",
    "- These are the categorical independent variables:\n",
    "    \n",
    "      cat_names=[\"Sex\",\"Pclass\",\"Embarked\",\"Deck\", \"Title\"],\n",
    "    \n",
    "- These are the continuous independent variables:\n",
    "    \n",
    "      cont_names=['Age', 'SibSp', 'Parch', 'LogFare', 'Alone', 'TicketFreq', 'Family'],\n",
    "    \n",
    "- This is the dependent variable:\n",
    "    \n",
    "      y_names=\"Survived\",\n",
    "\n",
    "- The dependent variable is categorical (so build a classification model, not a regression model):\n",
    "\n",
    "      y_block = CategoryBlock(),"
   ]
  },
  {
   "cell_type": "markdown",
   "id": "a274b6ca",
   "metadata": {
    "papermill": {
     "duration": 0.033206,
     "end_time": "2022-08-10T15:56:40.179821",
     "exception": false,
     "start_time": "2022-08-10T15:56:40.146615",
     "status": "completed"
    },
    "tags": []
   },
   "source": [
    "## Train the model"
   ]
  },
  {
   "cell_type": "markdown",
   "id": "cff114e4",
   "metadata": {
    "papermill": {
     "duration": 0.035204,
     "end_time": "2022-08-10T15:56:40.248869",
     "exception": false,
     "start_time": "2022-08-10T15:56:40.213665",
     "status": "completed"
    },
    "tags": []
   },
   "source": [
    "The data and model together make up a `Learner`. To create one, we say what the data is (`dls`), and the size of each hidden layer (`[10,10]`), along with any metrics we want to print along the way:"
   ]
  },
  {
   "cell_type": "code",
   "execution_count": 7,
   "id": "008401f2",
   "metadata": {
    "execution": {
     "iopub.execute_input": "2022-08-10T15:56:40.316747Z",
     "iopub.status.busy": "2022-08-10T15:56:40.316437Z",
     "iopub.status.idle": "2022-08-10T15:56:40.333140Z",
     "shell.execute_reply": "2022-08-10T15:56:40.332281Z"
    },
    "papermill": {
     "duration": 0.053782,
     "end_time": "2022-08-10T15:56:40.335694",
     "exception": false,
     "start_time": "2022-08-10T15:56:40.281912",
     "status": "completed"
    },
    "tags": []
   },
   "outputs": [],
   "source": [
    "learn = tabular_learner(dls, metrics=accuracy, layers=[10,10])"
   ]
  },
  {
   "cell_type": "markdown",
   "id": "19916068",
   "metadata": {
    "papermill": {
     "duration": 0.033221,
     "end_time": "2022-08-10T15:56:40.404796",
     "exception": false,
     "start_time": "2022-08-10T15:56:40.371575",
     "status": "completed"
    },
    "tags": []
   },
   "source": [
    "You'll notice we didn't have to do any messing around to try to find a set of random coefficients that will train correctly -- that's all handled automatically.\n",
    "\n",
    "One handy feature that fastai can also tell us what learning rate to use:"
   ]
  },
  {
   "cell_type": "code",
   "execution_count": 8,
   "id": "32e98cdb",
   "metadata": {
    "execution": {
     "iopub.execute_input": "2022-08-10T15:56:40.472965Z",
     "iopub.status.busy": "2022-08-10T15:56:40.472409Z",
     "iopub.status.idle": "2022-08-10T15:56:42.599372Z",
     "shell.execute_reply": "2022-08-10T15:56:42.598390Z"
    },
    "papermill": {
     "duration": 2.16412,
     "end_time": "2022-08-10T15:56:42.602024",
     "exception": false,
     "start_time": "2022-08-10T15:56:40.437904",
     "status": "completed"
    },
    "tags": []
   },
   "outputs": [
    {
     "data": {
      "text/html": [
       "\n",
       "<style>\n",
       "    /* Turns off some styling */\n",
       "    progress {\n",
       "        /* gets rid of default border in Firefox and Opera. */\n",
       "        border: none;\n",
       "        /* Needs to be in here for Safari polyfill so background images work as expected. */\n",
       "        background-size: auto;\n",
       "    }\n",
       "    progress:not([value]), progress:not([value])::-webkit-progress-bar {\n",
       "        background: repeating-linear-gradient(45deg, #7e7e7e, #7e7e7e 10px, #5c5c5c 10px, #5c5c5c 20px);\n",
       "    }\n",
       "    .progress-bar-interrupted, .progress-bar-interrupted::-webkit-progress-bar {\n",
       "        background: #F44336;\n",
       "    }\n",
       "</style>\n"
      ],
      "text/plain": [
       "<IPython.core.display.HTML object>"
      ]
     },
     "metadata": {},
     "output_type": "display_data"
    },
    {
     "data": {
      "text/html": [],
      "text/plain": [
       "<IPython.core.display.HTML object>"
      ]
     },
     "metadata": {},
     "output_type": "display_data"
    },
    {
     "data": {
      "text/plain": [
       "SuggestedLRs(slide=0.04786301031708717, valley=0.009120108559727669)"
      ]
     },
     "execution_count": 8,
     "metadata": {},
     "output_type": "execute_result"
    },
    {
     "data": {
      "image/png": "[encoded data removed]",
      "text/plain": [
       "<Figure size 640x480 with 1 Axes>"
      ]
     },
     "metadata": {},
     "output_type": "display_data"
    }
   ],
   "source": [
    "learn.lr_find(suggest_funcs=(slide, valley))"
   ]
  },
  {
   "cell_type": "markdown",
   "id": "8bc4f7b4",
   "metadata": {
    "papermill": {
     "duration": 0.036385,
     "end_time": "2022-08-10T15:56:42.675081",
     "exception": false,
     "start_time": "2022-08-10T15:56:42.638696",
     "status": "completed"
    },
    "tags": []
   },
   "source": [
    "The two colored points are both reasonable choices for a learning rate. I'll pick somewhere between the two (0.03) and train for a few epochs:"
   ]
  },
  {
   "cell_type": "code",
   "execution_count": 9,
   "id": "a1cbb71d",
   "metadata": {
    "execution": {
     "iopub.execute_input": "2022-08-10T15:56:42.748732Z",
     "iopub.status.busy": "2022-08-10T15:56:42.748429Z",
     "iopub.status.idle": "2022-08-10T15:56:45.125324Z",
     "shell.execute_reply": "2022-08-10T15:56:45.124415Z"
    },
    "papermill": {
     "duration": 2.416229,
     "end_time": "2022-08-10T15:56:45.127656",
     "exception": false,
     "start_time": "2022-08-10T15:56:42.711427",
     "status": "completed"
    },
    "tags": []
   },
   "outputs": [
    {
     "data": {
      "text/html": [
       "\n",
       "<style>\n",
       "    /* Turns off some styling */\n",
       "    progress {\n",
       "        /* gets rid of default border in Firefox and Opera. */\n",
       "        border: none;\n",
       "        /* Needs to be in here for Safari polyfill so background images work as expected. */\n",
       "        background-size: auto;\n",
       "    }\n",
       "    progress:not([value]), progress:not([value])::-webkit-progress-bar {\n",
       "        background: repeating-linear-gradient(45deg, #7e7e7e, #7e7e7e 10px, #5c5c5c 10px, #5c5c5c 20px);\n",
       "    }\n",
       "    .progress-bar-interrupted, .progress-bar-interrupted::-webkit-progress-bar {\n",
       "        background: #F44336;\n",
       "    }\n",
       "</style>\n"
      ],
      "text/plain": [
       "<IPython.core.display.HTML object>"
      ]
     },
     "metadata": {},
     "output_type": "display_data"
    },
    {
     "data": {
      "text/html": [
       "<table border=\"1\" class=\"dataframe\">\n",
       "  <thead>\n",
       "    <tr style=\"text-align: left;\">\n",
       "      <th>epoch</th>\n",
       "      <th>train_loss</th>\n",
       "      <th>valid_loss</th>\n",
       "      <th>accuracy</th>\n",
       "      <th>time</th>\n",
       "    </tr>\n",
       "  </thead>\n",
       "  <tbody>\n",
       "    <tr>\n",
       "      <td>0</td>\n",
       "      <td>0.547858</td>\n",
       "      <td>0.590293</td>\n",
       "      <td>0.640449</td>\n",
       "      <td>00:00</td>\n",
       "    </tr>\n",
       "    <tr>\n",
       "      <td>1</td>\n",
       "      <td>0.508080</td>\n",
       "      <td>0.481419</td>\n",
       "      <td>0.803371</td>\n",
       "      <td>00:00</td>\n",
       "    </tr>\n",
       "    <tr>\n",
       "      <td>2</td>\n",
       "      <td>0.469510</td>\n",
       "      <td>0.442730</td>\n",
       "      <td>0.808989</td>\n",
       "      <td>00:00</td>\n",
       "    </tr>\n",
       "    <tr>\n",
       "      <td>3</td>\n",
       "      <td>0.449098</td>\n",
       "      <td>0.450369</td>\n",
       "      <td>0.842697</td>\n",
       "      <td>00:00</td>\n",
       "    </tr>\n",
       "    <tr>\n",
       "      <td>4</td>\n",
       "      <td>0.417549</td>\n",
       "      <td>0.428384</td>\n",
       "      <td>0.814607</td>\n",
       "      <td>00:00</td>\n",
       "    </tr>\n",
       "    <tr>\n",
       "      <td>5</td>\n",
       "      <td>0.415517</td>\n",
       "      <td>0.440583</td>\n",
       "      <td>0.848315</td>\n",
       "      <td>00:00</td>\n",
       "    </tr>\n",
       "    <tr>\n",
       "      <td>6</td>\n",
       "      <td>0.401478</td>\n",
       "      <td>0.438075</td>\n",
       "      <td>0.820225</td>\n",
       "      <td>00:00</td>\n",
       "    </tr>\n",
       "    <tr>\n",
       "      <td>7</td>\n",
       "      <td>0.396373</td>\n",
       "      <td>0.491749</td>\n",
       "      <td>0.775281</td>\n",
       "      <td>00:00</td>\n",
       "    </tr>\n",
       "    <tr>\n",
       "      <td>8</td>\n",
       "      <td>0.401140</td>\n",
       "      <td>0.465741</td>\n",
       "      <td>0.820225</td>\n",
       "      <td>00:00</td>\n",
       "    </tr>\n",
       "    <tr>\n",
       "      <td>9</td>\n",
       "      <td>0.392440</td>\n",
       "      <td>0.433571</td>\n",
       "      <td>0.848315</td>\n",
       "      <td>00:00</td>\n",
       "    </tr>\n",
       "    <tr>\n",
       "      <td>10</td>\n",
       "      <td>0.402886</td>\n",
       "      <td>0.437712</td>\n",
       "      <td>0.803371</td>\n",
       "      <td>00:00</td>\n",
       "    </tr>\n",
       "    <tr>\n",
       "      <td>11</td>\n",
       "      <td>0.402093</td>\n",
       "      <td>0.449798</td>\n",
       "      <td>0.831461</td>\n",
       "      <td>00:00</td>\n",
       "    </tr>\n",
       "    <tr>\n",
       "      <td>12</td>\n",
       "      <td>0.392069</td>\n",
       "      <td>0.438658</td>\n",
       "      <td>0.797753</td>\n",
       "      <td>00:00</td>\n",
       "    </tr>\n",
       "    <tr>\n",
       "      <td>13</td>\n",
       "      <td>0.382583</td>\n",
       "      <td>0.430533</td>\n",
       "      <td>0.825843</td>\n",
       "      <td>00:00</td>\n",
       "    </tr>\n",
       "    <tr>\n",
       "      <td>14</td>\n",
       "      <td>0.391763</td>\n",
       "      <td>0.412192</td>\n",
       "      <td>0.797753</td>\n",
       "      <td>00:00</td>\n",
       "    </tr>\n",
       "    <tr>\n",
       "      <td>15</td>\n",
       "      <td>0.391309</td>\n",
       "      <td>0.420540</td>\n",
       "      <td>0.825843</td>\n",
       "      <td>00:00</td>\n",
       "    </tr>\n",
       "  </tbody>\n",
       "</table>"
      ],
      "text/plain": [
       "<IPython.core.display.HTML object>"
      ]
     },
     "metadata": {},
     "output_type": "display_data"
    }
   ],
   "source": [
    "learn.fit(16, lr=0.03)"
   ]
  },
  {
   "cell_type": "markdown",
   "id": "e6cfc20b",
   "metadata": {
    "papermill": {
     "duration": 0.037792,
     "end_time": "2022-08-10T15:56:45.202593",
     "exception": false,
     "start_time": "2022-08-10T15:56:45.164801",
     "status": "completed"
    },
    "tags": []
   },
   "source": [
    "We've got a similar accuracy to our previous \"from scratch\" model -- which isn't too surprising, since as we discussed, this dataset is too small and simple to really see much difference. A simple linear model already does a pretty good job. But that's OK -- the goal here is to show you how to get started with deep learning and understand how it really works, and the best way to do that is on small and easy to understand datasets."
   ]
  },
  {
   "cell_type": "markdown",
   "id": "d0010e5f",
   "metadata": {
    "papermill": {
     "duration": 0.037298,
     "end_time": "2022-08-10T15:56:45.277190",
     "exception": false,
     "start_time": "2022-08-10T15:56:45.239892",
     "status": "completed"
    },
    "tags": []
   },
   "source": [
    "## Submit to Kaggle"
   ]
  },
  {
   "cell_type": "markdown",
   "id": "740071c7",
   "metadata": {
    "papermill": {
     "duration": 0.036915,
     "end_time": "2022-08-10T15:56:45.351425",
     "exception": false,
     "start_time": "2022-08-10T15:56:45.314510",
     "status": "completed"
    },
    "tags": []
   },
   "source": [
    "One important feature of fastai is that all the information needed to apply the data transformations and the model to a new dataset are stored in the learner. You can call `export` to save it to a file to use it later in production, or you can use the trained model right away to get predictions on a test set.\n",
    "\n",
    "To submit to Kaggle, we'll need to read in the test set, and do the same feature engineering we did for the training set:"
   ]
  },
  {
   "cell_type": "code",
   "execution_count": 10,
   "id": "e682be21",
   "metadata": {
    "execution": {
     "iopub.execute_input": "2022-08-10T15:56:45.429489Z",
     "iopub.status.busy": "2022-08-10T15:56:45.429153Z",
     "iopub.status.idle": "2022-08-10T15:56:45.453972Z",
     "shell.execute_reply": "2022-08-10T15:56:45.453288Z"
    },
    "papermill": {
     "duration": 0.067297,
     "end_time": "2022-08-10T15:56:45.456596",
     "exception": false,
     "start_time": "2022-08-10T15:56:45.389299",
     "status": "completed"
    },
    "tags": []
   },
   "outputs": [],
   "source": [
    "tst_df = pd.read_csv(path/'test.csv')\n",
    "tst_df['Fare'] = tst_df.Fare.fillna(0)\n",
    "add_features(tst_df)"
   ]
  },
  {
   "cell_type": "markdown",
   "id": "40fdca30",
   "metadata": {
    "papermill": {
     "duration": 0.036865,
     "end_time": "2022-08-10T15:56:45.531429",
     "exception": false,
     "start_time": "2022-08-10T15:56:45.494564",
     "status": "completed"
    },
    "tags": []
   },
   "source": [
    "But we don't need to manually specify any of the processing steps necessary to get the data ready for modeling, since that's all saved in the learner. To specify we want to apply the same steps to a new dataset, use the `test_dl()` method:"
   ]
  },
  {
   "cell_type": "code",
   "execution_count": 11,
   "id": "94edf88c",
   "metadata": {
    "execution": {
     "iopub.execute_input": "2022-08-10T15:56:45.608689Z",
     "iopub.status.busy": "2022-08-10T15:56:45.608100Z",
     "iopub.status.idle": "2022-08-10T15:56:45.627938Z",
     "shell.execute_reply": "2022-08-10T15:56:45.627311Z"
    },
    "papermill": {
     "duration": 0.061308,
     "end_time": "2022-08-10T15:56:45.630398",
     "exception": false,
     "start_time": "2022-08-10T15:56:45.569090",
     "status": "completed"
    },
    "tags": []
   },
   "outputs": [
    {
     "name": "stderr",
     "output_type": "stream",
     "text": [
      "/home/jshen/miniconda3/envs/Summer2025DL/lib/python3.13/site-packages/fastai/tabular/core.py:314: FutureWarning: A value is trying to be set on a copy of a DataFrame or Series through chained assignment using an inplace method.\n",
      "The behavior will change in pandas 3.0. This inplace method will never work because the intermediate object on which we are setting values always behaves as a copy.\n",
      "\n",
      "For example, when doing 'df[col].method(value, inplace=True)', try using 'df.method({col: value}, inplace=True)' or df[col] = df[col].method(value) instead, to perform the operation inplace on the original object.\n",
      "\n",
      "\n",
      "  to[n].fillna(self.na_dict[n], inplace=True)\n"
     ]
    }
   ],
   "source": [
    "tst_dl = learn.dls.test_dl(tst_df)"
   ]
  },
  {
   "cell_type": "markdown",
   "id": "1b5c3d62",
   "metadata": {
    "papermill": {
     "duration": 0.036252,
     "end_time": "2022-08-10T15:56:45.703200",
     "exception": false,
     "start_time": "2022-08-10T15:56:45.666948",
     "status": "completed"
    },
    "tags": []
   },
   "source": [
    "Now we can use `get_preds` to get the predictions for the test set:"
   ]
  },
  {
   "cell_type": "code",
   "execution_count": 12,
   "id": "ef4923f9",
   "metadata": {
    "execution": {
     "iopub.execute_input": "2022-08-10T15:56:45.780407Z",
     "iopub.status.busy": "2022-08-10T15:56:45.779866Z",
     "iopub.status.idle": "2022-08-10T15:56:45.842058Z",
     "shell.execute_reply": "2022-08-10T15:56:45.841410Z"
    },
    "papermill": {
     "duration": 0.103969,
     "end_time": "2022-08-10T15:56:45.844559",
     "exception": false,
     "start_time": "2022-08-10T15:56:45.740590",
     "status": "completed"
    },
    "tags": []
   },
   "outputs": [
    {
     "data": {
      "text/html": [
       "\n",
       "<style>\n",
       "    /* Turns off some styling */\n",
       "    progress {\n",
       "        /* gets rid of default border in Firefox and Opera. */\n",
       "        border: none;\n",
       "        /* Needs to be in here for Safari polyfill so background images work as expected. */\n",
       "        background-size: auto;\n",
       "    }\n",
       "    progress:not([value]), progress:not([value])::-webkit-progress-bar {\n",
       "        background: repeating-linear-gradient(45deg, #7e7e7e, #7e7e7e 10px, #5c5c5c 10px, #5c5c5c 20px);\n",
       "    }\n",
       "    .progress-bar-interrupted, .progress-bar-interrupted::-webkit-progress-bar {\n",
       "        background: #F44336;\n",
       "    }\n",
       "</style>\n"
      ],
      "text/plain": [
       "<IPython.core.display.HTML object>"
      ]
     },
     "metadata": {},
     "output_type": "display_data"
    },
    {
     "data": {
      "text/html": [],
      "text/plain": [
       "<IPython.core.display.HTML object>"
      ]
     },
     "metadata": {},
     "output_type": "display_data"
    }
   ],
   "source": [
    "preds,_ = learn.get_preds(dl=tst_dl)"
   ]
  },
  {
   "cell_type": "markdown",
   "id": "8cec0239",
   "metadata": {
    "papermill": {
     "duration": 0.039228,
     "end_time": "2022-08-10T15:56:45.922778",
     "exception": false,
     "start_time": "2022-08-10T15:56:45.883550",
     "status": "completed"
    },
    "tags": []
   },
   "source": [
    "Finally, let's create a submission CSV just like we did in the previous notebook..."
   ]
  },
  {
   "cell_type": "code",
   "execution_count": 13,
   "id": "15ecb7bb",
   "metadata": {
    "execution": {
     "iopub.execute_input": "2022-08-10T15:56:46.001189Z",
     "iopub.status.busy": "2022-08-10T15:56:46.000803Z",
     "iopub.status.idle": "2022-08-10T15:56:46.016428Z",
     "shell.execute_reply": "2022-08-10T15:56:46.015298Z"
    },
    "papermill": {
     "duration": 0.058826,
     "end_time": "2022-08-10T15:56:46.019416",
     "exception": false,
     "start_time": "2022-08-10T15:56:45.960590",
     "status": "completed"
    },
    "tags": []
   },
   "outputs": [],
   "source": [
    "tst_df['Survived'] = (preds[:,1]>0.5).int()\n",
    "sub_df = tst_df[['PassengerId','Survived']]\n",
    "sub_df.to_csv('sub.csv', index=False)"
   ]
  },
  {
   "cell_type": "markdown",
   "id": "b3b3535a",
   "metadata": {
    "papermill": {
     "duration": 0.038206,
     "end_time": "2022-08-10T15:56:46.096617",
     "exception": false,
     "start_time": "2022-08-10T15:56:46.058411",
     "status": "completed"
    },
    "tags": []
   },
   "source": [
    "...and check that it looks reasonable:"
   ]
  },
  {
   "cell_type": "code",
   "execution_count": 14,
   "id": "05da4e47",
   "metadata": {
    "execution": {
     "iopub.execute_input": "2022-08-10T15:56:46.174066Z",
     "iopub.status.busy": "2022-08-10T15:56:46.173585Z",
     "iopub.status.idle": "2022-08-10T15:56:47.330245Z",
     "shell.execute_reply": "2022-08-10T15:56:47.329226Z"
    },
    "papermill": {
     "duration": 1.199355,
     "end_time": "2022-08-10T15:56:47.333664",
     "exception": false,
     "start_time": "2022-08-10T15:56:46.134309",
     "status": "completed"
    },
    "tags": []
   },
   "outputs": [
    {
     "name": "stdout",
     "output_type": "stream",
     "text": [
      "PassengerId,Survived\n",
      "892,0\n",
      "893,0\n",
      "894,0\n",
      "895,0\n",
      "896,1\n",
      "897,0\n",
      "898,0\n",
      "899,0\n",
      "900,1\n"
     ]
    }
   ],
   "source": [
    "!head sub.csv"
   ]
  },
  {
   "cell_type": "markdown",
   "id": "cd8ad366",
   "metadata": {
    "papermill": {
     "duration": 0.037551,
     "end_time": "2022-08-10T15:56:47.411877",
     "exception": false,
     "start_time": "2022-08-10T15:56:47.374326",
     "status": "completed"
    },
    "tags": []
   },
   "source": [
    "## Ensembling"
   ]
  },
  {
   "cell_type": "markdown",
   "id": "acdd7008",
   "metadata": {
    "papermill": {
     "duration": 0.037667,
     "end_time": "2022-08-10T15:56:47.487731",
     "exception": false,
     "start_time": "2022-08-10T15:56:47.450064",
     "status": "completed"
    },
    "tags": []
   },
   "source": [
    "Since it's so easy to create a model now, it's easier to play with more advanced modeling approaches. For instance, we can create five separate models, each trained from different random starting points, and average them. This is the simplest approach of [ensembling](https://machinelearningmastery.com/tour-of-ensemble-learning-algorithms/) models, which combines multiple models to generate predictions that are better than any of the single models in the ensemble.\n",
    "\n",
    "To create our ensemble, first we copy the three steps we used above to create and train a model, and apply it to the test set:"
   ]
  },
  {
   "cell_type": "code",
   "execution_count": 15,
   "id": "9f2db053",
   "metadata": {
    "execution": {
     "iopub.execute_input": "2022-08-10T15:56:47.569058Z",
     "iopub.status.busy": "2022-08-10T15:56:47.568756Z",
     "iopub.status.idle": "2022-08-10T15:56:47.574936Z",
     "shell.execute_reply": "2022-08-10T15:56:47.574074Z"
    },
    "papermill": {
     "duration": 0.04893,
     "end_time": "2022-08-10T15:56:47.577566",
     "exception": false,
     "start_time": "2022-08-10T15:56:47.528636",
     "status": "completed"
    },
    "tags": []
   },
   "outputs": [],
   "source": [
    "def ensemble():\n",
    "    learn = tabular_learner(dls, metrics=accuracy, layers=[10,10])\n",
    "    with learn.no_bar(),learn.no_logging(): learn.fit(16, lr=0.03)\n",
    "    return learn.get_preds(dl=tst_dl)[0]"
   ]
  },
  {
   "cell_type": "markdown",
   "id": "80b0d8a2",
   "metadata": {
    "papermill": {
     "duration": 0.037281,
     "end_time": "2022-08-10T15:56:47.653303",
     "exception": false,
     "start_time": "2022-08-10T15:56:47.616022",
     "status": "completed"
    },
    "tags": []
   },
   "source": [
    "Now we run this five times, and collect the results into a list:"
   ]
  },
  {
   "cell_type": "code",
   "execution_count": 16,
   "id": "87acd599",
   "metadata": {
    "execution": {
     "iopub.execute_input": "2022-08-10T15:56:47.730135Z",
     "iopub.status.busy": "2022-08-10T15:56:47.729842Z",
     "iopub.status.idle": "2022-08-10T15:56:57.142877Z",
     "shell.execute_reply": "2022-08-10T15:56:57.142201Z"
    },
    "papermill": {
     "duration": 9.454159,
     "end_time": "2022-08-10T15:56:57.145053",
     "exception": false,
     "start_time": "2022-08-10T15:56:47.690894",
     "status": "completed"
    },
    "tags": []
   },
   "outputs": [
    {
     "data": {
      "text/html": [
       "\n",
       "<style>\n",
       "    /* Turns off some styling */\n",
       "    progress {\n",
       "        /* gets rid of default border in Firefox and Opera. */\n",
       "        border: none;\n",
       "        /* Needs to be in here for Safari polyfill so background images work as expected. */\n",
       "        background-size: auto;\n",
       "    }\n",
       "    progress:not([value]), progress:not([value])::-webkit-progress-bar {\n",
       "        background: repeating-linear-gradient(45deg, #7e7e7e, #7e7e7e 10px, #5c5c5c 10px, #5c5c5c 20px);\n",
       "    }\n",
       "    .progress-bar-interrupted, .progress-bar-interrupted::-webkit-progress-bar {\n",
       "        background: #F44336;\n",
       "    }\n",
       "</style>\n"
      ],
      "text/plain": [
       "<IPython.core.display.HTML object>"
      ]
     },
     "metadata": {},
     "output_type": "display_data"
    },
    {
     "data": {
      "text/html": [],
      "text/plain": [
       "<IPython.core.display.HTML object>"
      ]
     },
     "metadata": {},
     "output_type": "display_data"
    },
    {
     "data": {
      "text/html": [
       "\n",
       "<style>\n",
       "    /* Turns off some styling */\n",
       "    progress {\n",
       "        /* gets rid of default border in Firefox and Opera. */\n",
       "        border: none;\n",
       "        /* Needs to be in here for Safari polyfill so background images work as expected. */\n",
       "        background-size: auto;\n",
       "    }\n",
       "    progress:not([value]), progress:not([value])::-webkit-progress-bar {\n",
       "        background: repeating-linear-gradient(45deg, #7e7e7e, #7e7e7e 10px, #5c5c5c 10px, #5c5c5c 20px);\n",
       "    }\n",
       "    .progress-bar-interrupted, .progress-bar-interrupted::-webkit-progress-bar {\n",
       "        background: #F44336;\n",
       "    }\n",
       "</style>\n"
      ],
      "text/plain": [
       "<IPython.core.display.HTML object>"
      ]
     },
     "metadata": {},
     "output_type": "display_data"
    },
    {
     "data": {
      "text/html": [],
      "text/plain": [
       "<IPython.core.display.HTML object>"
      ]
     },
     "metadata": {},
     "output_type": "display_data"
    },
    {
     "data": {
      "text/html": [
       "\n",
       "<style>\n",
       "    /* Turns off some styling */\n",
       "    progress {\n",
       "        /* gets rid of default border in Firefox and Opera. */\n",
       "        border: none;\n",
       "        /* Needs to be in here for Safari polyfill so background images work as expected. */\n",
       "        background-size: auto;\n",
       "    }\n",
       "    progress:not([value]), progress:not([value])::-webkit-progress-bar {\n",
       "        background: repeating-linear-gradient(45deg, #7e7e7e, #7e7e7e 10px, #5c5c5c 10px, #5c5c5c 20px);\n",
       "    }\n",
       "    .progress-bar-interrupted, .progress-bar-interrupted::-webkit-progress-bar {\n",
       "        background: #F44336;\n",
       "    }\n",
       "</style>\n"
      ],
      "text/plain": [
       "<IPython.core.display.HTML object>"
      ]
     },
     "metadata": {},
     "output_type": "display_data"
    },
    {
     "data": {
      "text/html": [],
      "text/plain": [
       "<IPython.core.display.HTML object>"
      ]
     },
     "metadata": {},
     "output_type": "display_data"
    },
    {
     "data": {
      "text/html": [
       "\n",
       "<style>\n",
       "    /* Turns off some styling */\n",
       "    progress {\n",
       "        /* gets rid of default border in Firefox and Opera. */\n",
       "        border: none;\n",
       "        /* Needs to be in here for Safari polyfill so background images work as expected. */\n",
       "        background-size: auto;\n",
       "    }\n",
       "    progress:not([value]), progress:not([value])::-webkit-progress-bar {\n",
       "        background: repeating-linear-gradient(45deg, #7e7e7e, #7e7e7e 10px, #5c5c5c 10px, #5c5c5c 20px);\n",
       "    }\n",
       "    .progress-bar-interrupted, .progress-bar-interrupted::-webkit-progress-bar {\n",
       "        background: #F44336;\n",
       "    }\n",
       "</style>\n"
      ],
      "text/plain": [
       "<IPython.core.display.HTML object>"
      ]
     },
     "metadata": {},
     "output_type": "display_data"
    },
    {
     "data": {
      "text/html": [],
      "text/plain": [
       "<IPython.core.display.HTML object>"
      ]
     },
     "metadata": {},
     "output_type": "display_data"
    },
    {
     "data": {
      "text/html": [
       "\n",
       "<style>\n",
       "    /* Turns off some styling */\n",
       "    progress {\n",
       "        /* gets rid of default border in Firefox and Opera. */\n",
       "        border: none;\n",
       "        /* Needs to be in here for Safari polyfill so background images work as expected. */\n",
       "        background-size: auto;\n",
       "    }\n",
       "    progress:not([value]), progress:not([value])::-webkit-progress-bar {\n",
       "        background: repeating-linear-gradient(45deg, #7e7e7e, #7e7e7e 10px, #5c5c5c 10px, #5c5c5c 20px);\n",
       "    }\n",
       "    .progress-bar-interrupted, .progress-bar-interrupted::-webkit-progress-bar {\n",
       "        background: #F44336;\n",
       "    }\n",
       "</style>\n"
      ],
      "text/plain": [
       "<IPython.core.display.HTML object>"
      ]
     },
     "metadata": {},
     "output_type": "display_data"
    },
    {
     "data": {
      "text/html": [],
      "text/plain": [
       "<IPython.core.display.HTML object>"
      ]
     },
     "metadata": {},
     "output_type": "display_data"
    }
   ],
   "source": [
    "learns = [ensemble() for _ in range(5)]"
   ]
  },
  {
   "cell_type": "markdown",
   "id": "65fbaa7c",
   "metadata": {
    "papermill": {
     "duration": 0.043006,
     "end_time": "2022-08-10T15:56:57.232686",
     "exception": false,
     "start_time": "2022-08-10T15:56:57.189680",
     "status": "completed"
    },
    "tags": []
   },
   "source": [
    "We stack this predictions together and take their average predictions:"
   ]
  },
  {
   "cell_type": "code",
   "execution_count": 17,
   "id": "26ba5b6c",
   "metadata": {
    "execution": {
     "iopub.execute_input": "2022-08-10T15:56:57.321054Z",
     "iopub.status.busy": "2022-08-10T15:56:57.320479Z",
     "iopub.status.idle": "2022-08-10T15:56:57.327390Z",
     "shell.execute_reply": "2022-08-10T15:56:57.326276Z"
    },
    "papermill": {
     "duration": 0.054008,
     "end_time": "2022-08-10T15:56:57.329867",
     "exception": false,
     "start_time": "2022-08-10T15:56:57.275859",
     "status": "completed"
    },
    "tags": []
   },
   "outputs": [],
   "source": [
    "ens_preds = torch.stack(learns).mean(0)"
   ]
  },
  {
   "cell_type": "markdown",
   "id": "81ed26dd",
   "metadata": {
    "papermill": {
     "duration": 0.045977,
     "end_time": "2022-08-10T15:56:57.419635",
     "exception": false,
     "start_time": "2022-08-10T15:56:57.373658",
     "status": "completed"
    },
    "tags": []
   },
   "source": [
    "Finally, use the same code as before to generate a submission file, which we can submit to Kaggle after the notebook is saved and run:"
   ]
  },
  {
   "cell_type": "code",
   "execution_count": 18,
   "id": "6a47f2c0",
   "metadata": {
    "execution": {
     "iopub.execute_input": "2022-08-10T15:56:57.510875Z",
     "iopub.status.busy": "2022-08-10T15:56:57.510341Z",
     "iopub.status.idle": "2022-08-10T15:56:57.518804Z",
     "shell.execute_reply": "2022-08-10T15:56:57.518173Z"
    },
    "papermill": {
     "duration": 0.057851,
     "end_time": "2022-08-10T15:56:57.521102",
     "exception": false,
     "start_time": "2022-08-10T15:56:57.463251",
     "status": "completed"
    },
    "tags": []
   },
   "outputs": [],
   "source": [
    "tst_df['Survived'] = (ens_preds[:,1]>0.5).int()\n",
    "sub_df = tst_df[['PassengerId','Survived']]\n",
    "sub_df.to_csv('ens_sub.csv', index=False)"
   ]
  },
  {
   "cell_type": "markdown",
   "id": "b04399a5",
   "metadata": {
    "papermill": {
     "duration": 0.045104,
     "end_time": "2022-08-10T15:56:57.610626",
     "exception": false,
     "start_time": "2022-08-10T15:56:57.565522",
     "status": "completed"
    },
    "tags": []
   },
   "source": [
    "At the time of writing, this submission is well within the top 25% of entries to the competition.\n",
    "\n",
    "(A lot of submissions to this competition use additional external data, but we have restricted ourselves to just using the data provided. We'd probably do a lot better if we used external data too. Feel free to give that a try, and see how you go. Note that you'll never be able to get to the top of the leaderboard, since a lot of folks in this competition have cheated, by downloading the answers from the internet and uploading them as their submission. In a real competition that's not possible, because the answers aren't public, but there's nothing stopping people from cheating in a tutorial/practice competition like this one. So if you're ready for a real challenge, take a look at the [competitions page](https://www.kaggle.com/competitions/) and start working on a real competition!)"
   ]
  },
  {
   "cell_type": "markdown",
   "id": "bda78772",
   "metadata": {
    "papermill": {
     "duration": 0.042734,
     "end_time": "2022-08-10T15:56:57.696321",
     "exception": false,
     "start_time": "2022-08-10T15:56:57.653587",
     "status": "completed"
    },
    "tags": []
   },
   "source": [
    "## Final thoughts"
   ]
  },
  {
   "cell_type": "markdown",
   "id": "66fa80c8",
   "metadata": {
    "papermill": {
     "duration": 0.042653,
     "end_time": "2022-08-10T15:56:57.782149",
     "exception": false,
     "start_time": "2022-08-10T15:56:57.739496",
     "status": "completed"
    },
    "tags": []
   },
   "source": [
    "As you can see, using fastai and PyTorch made things much easier than doing it from scratch, but it also hid away a lot of the details. So if you only ever use a framework, you're not going to as fully understand what's going on under the hood. That understanding can be really helpful when it comes to debugging and improving your models. But do use fastai when you're creating models on Kaggle or in \"real life\", because otherwise you're not taking advantage of all the research that's gone into optimising the models for you, and you'll end up spending more time debugging and implementing menial boiler-plate than actually solving the real problem!\n",
    "\n",
    "If you found this notebook useful, please remember to click the little up-arrow at the top to upvote it, since I like to know when people have found my work useful, and it helps others find it too. (BTW, be sure you're looking at my [original notebook](https://www.kaggle.com/jhoward/why-you-should-use-a-framework) here when you do that, and are not on your own copy of it, otherwise your upvote won't get counted!) And if you have any questions or comments, please pop them below -- I read every comment I receive!"
   ]
  }
 ],
 "metadata": {
  "kernelspec": {
   "display_name": "Summer2025DL",
   "language": "python",
   "name": "python3"
  },
  "language_info": {
   "codemirror_mode": {
    "name": "ipython",
    "version": 3
   },
   "file_extension": ".py",
   "mimetype": "text/x-python",
   "name": "python",
   "nbconvert_exporter": "python",
   "pygments_lexer": "ipython3",
   "version": "3.13.2"
  },
  "papermill": {
   "default_parameters": {},
   "duration": 63.098133,
   "end_time": "2022-08-10T15:56:59.050631",
   "environment_variables": {},
   "exception": null,
   "input_path": "__notebook__.ipynb",
   "output_path": "__notebook__.ipynb",
   "parameters": {},
   "start_time": "2022-08-10T15:55:55.952498",
   "version": "2.3.4"
  }
 },
 "nbformat": 4,
 "nbformat_minor": 5
}
