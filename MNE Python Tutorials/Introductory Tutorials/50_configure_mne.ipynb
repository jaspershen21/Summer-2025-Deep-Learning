{
  "cells": [
    {
      "cell_type": "markdown",
      "metadata": {},
      "source": [
        "\n",
        "\n",
        "# Configuring MNE-Python\n",
        "\n",
        "This tutorial covers how to configure MNE-Python to suit your local system and\n",
        "your analysis preferences.\n",
        "\n",
        "We begin by importing the necessary Python modules:\n"
      ]
    },
    {
      "cell_type": "code",
      "execution_count": 1,
      "metadata": {
        "collapsed": false
      },
      "outputs": [],
      "source": [
        "# Authors: The MNE-Python contributors.\n",
        "# License: BSD-3-Clause\n",
        "# Copyright the MNE-Python contributors."
      ]
    },
    {
      "cell_type": "code",
      "execution_count": 2,
      "metadata": {
        "collapsed": false
      },
      "outputs": [],
      "source": [
        "import os\n",
        "\n",
        "import mne\n",
        "from mne.datasets import testing"
      ]
    },
    {
      "cell_type": "markdown",
      "metadata": {},
      "source": [
        "\n",
        "## Getting and setting configuration variables\n",
        "\n",
        "Configuration variables are read and written using the functions\n",
        ":func:`mne.get_config` and :func:`mne.set_config`. To read a specific\n",
        "configuration variable, pass its name to :func:`~mne.get_config` as the\n",
        "``key`` parameter (``key`` is the first parameter so you can pass it unnamed\n",
        "if you want):\n",
        "\n"
      ]
    },
    {
      "cell_type": "code",
      "execution_count": 3,
      "metadata": {
        "collapsed": false
      },
      "outputs": [
        {
          "name": "stdout",
          "output_type": "stream",
          "text": [
            "None\n",
            "<class 'NoneType'>\n"
          ]
        }
      ],
      "source": [
        "print(mne.get_config(\"MNE_USE_CUDA\"))\n",
        "print(type(mne.get_config(\"MNE_USE_CUDA\")))"
      ]
    },
    {
      "cell_type": "markdown",
      "metadata": {},
      "source": [
        "Note that the string values read from the JSON file are not parsed in any\n",
        "way, so :func:`~mne.get_config` returns a string even for true/false config\n",
        "values, rather than a Python `boolean <python:typebool>`.\n",
        "Similarly, :func:`~mne.set_config` will only set string values (or ``None``\n",
        "values, to unset a variable):\n",
        "\n"
      ]
    },
    {
      "cell_type": "code",
      "execution_count": 4,
      "metadata": {
        "collapsed": false
      },
      "outputs": [
        {
          "name": "stdout",
          "output_type": "stream",
          "text": [
            "value must be an instance of str, path-like, or NoneType, got <class 'bool'> instead.\n"
          ]
        }
      ],
      "source": [
        "try:\n",
        "    mne.set_config(\"MNE_USE_CUDA\", True)\n",
        "except TypeError as err:\n",
        "    print(err)"
      ]
    },
    {
      "cell_type": "markdown",
      "metadata": {},
      "source": [
        "If you're unsure whether a config variable has been set, there is a\n",
        "convenient way to check it and provide a fallback in case it doesn't exist:\n",
        ":func:`~mne.get_config` has a ``default`` parameter.\n",
        "\n"
      ]
    },
    {
      "cell_type": "code",
      "execution_count": 5,
      "metadata": {
        "collapsed": false
      },
      "outputs": [
        {
          "name": "stdout",
          "output_type": "stream",
          "text": [
            "fallback value\n"
          ]
        }
      ],
      "source": [
        "print(mne.get_config(\"missing_config_key\", default=\"fallback value\"))"
      ]
    },
    {
      "cell_type": "markdown",
      "metadata": {},
      "source": [
        "There are also two convenience modes of :func:`~mne.get_config`. The first\n",
        "will return a :class:`dict` containing all config variables (and their\n",
        "values) that have been set on your system; this is done by passing\n",
        "``key=None`` (which is the default, so it can be omitted):\n",
        "\n"
      ]
    },
    {
      "cell_type": "code",
      "execution_count": 6,
      "metadata": {
        "collapsed": false
      },
      "outputs": [
        {
          "name": "stdout",
          "output_type": "stream",
          "text": [
            "{'MNE_DATASETS_SAMPLE_PATH': '/home/jshen/mne_data', 'MNE_DATASETS_SSVEP_PATH': '/home/jshen/mne_data', 'MNE_DATASETS_TESTING_PATH': '/home/jshen/mne_data'}\n"
          ]
        }
      ],
      "source": [
        "print(mne.get_config())  # same as mne.get_config(key=None)"
      ]
    },
    {
      "cell_type": "markdown",
      "metadata": {},
      "source": [
        "The second convenience mode will return a :class:`tuple` of all the keys that\n",
        "MNE-Python recognizes and uses, regardless of whether they've been set on\n",
        "your system. This is done by passing an empty string ``''`` as the ``key``:\n",
        "\n"
      ]
    },
    {
      "cell_type": "code",
      "execution_count": 7,
      "metadata": {
        "collapsed": false
      },
      "outputs": [
        {
          "name": "stdout",
          "output_type": "stream",
          "text": [
            "{'MNE_3D_OPTION_ANTIALIAS': 'bool, whether to use full-screen antialiasing in 3D plots', 'MNE_3D_OPTION_DEPTH_PEELING': 'bool, whether to use depth peeling in 3D plots', 'MNE_3D_OPTION_MULTI_SAMPLES': 'int, number of samples to use for full-screen antialiasing', 'MNE_3D_OPTION_SMOOTH_SHADING': 'bool, whether to use smooth shading in 3D plots', 'MNE_3D_OPTION_THEME': 'str, the color theme (light or dark) to use for 3D plots', 'MNE_BROWSE_RAW_SIZE': 'tuple, width and height of the raw browser window (in inches)', 'MNE_BROWSER_BACKEND': 'str, the backend to use for the MNE Browse Raw window (qt or matplotlib)', 'MNE_BROWSER_OVERVIEW_MODE': 'str, the overview mode to use in the MNE Browse Raw window )(see mne.viz.plot_raw for valid options)', 'MNE_BROWSER_PRECOMPUTE': 'bool, whether to precompute raw data in the MNE Browse Raw window', 'MNE_BROWSER_THEME': 'str, the color theme (light or dark) to use for the browser', 'MNE_BROWSER_USE_OPENGL': 'bool, whether to use OpenGL for rendering in the MNE Browse Raw window', 'MNE_CACHE_DIR': 'str, path to the cache directory for parallel execution', 'MNE_COREG_ADVANCED_RENDERING': 'bool, whether to use advanced OpenGL rendering in mne coreg', 'MNE_COREG_COPY_ANNOT': 'bool, whether to copy the annotation files during warping', 'MNE_COREG_FULLSCREEN': 'bool, whether to use full-screen mode in mne coreg', 'MNE_COREG_GUESS_MRI_SUBJECT': 'bool, whether to guess the MRI subject in mne coreg', 'MNE_COREG_HEAD_HIGH_RES': 'bool, whether to use high-res head surface in mne coreg', 'MNE_COREG_HEAD_OPACITY': 'bool, the head surface opacity to use in mne coreg', 'MNE_COREG_HEAD_INSIDE': 'bool, whether to add an opaque inner scalp head surface to help occlude points behind the head in mne coreg', 'MNE_COREG_INTERACTION': 'str, interaction style in mne coreg (trackball or terrain)', 'MNE_COREG_MARK_INSIDE': 'bool, whether to mark points inside the head surface in mne coreg', 'MNE_COREG_PREPARE_BEM': 'bool, whether to prepare the BEM solution after warping in mne coreg', 'MNE_COREG_ORIENT_TO_SURFACE': 'bool, whether to orient the digitization markers to the head surface in mne coreg', 'MNE_COREG_SCALE_LABELS': 'bool, whether to scale the MRI labels during warping in mne coreg', 'MNE_COREG_SCALE_BY_DISTANCE': 'bool, whether to scale the digitization markers by their distance from the scalp in mne coreg', 'MNE_COREG_SCENE_SCALE': 'float, the scale factor of the 3D scene in mne coreg (default 0.16)', 'MNE_COREG_WINDOW_HEIGHT': 'int, window height for mne coreg', 'MNE_COREG_WINDOW_WIDTH': 'int, window width for mne coreg', 'MNE_COREG_SUBJECTS_DIR': 'str, path to the subjects directory for mne coreg', 'MNE_CUDA_DEVICE': 'int, CUDA device to use for GPU processing', 'MNE_DATA': 'str, default data directory', 'MNE_DATASETS_BRAINSTORM_PATH': 'str, path for brainstorm data', 'MNE_DATASETS_EEGBCI_PATH': 'str, path for EEGBCI data', 'MNE_DATASETS_EPILEPSY_ECOG_PATH': 'str, path for epilepsy_ecog data', 'MNE_DATASETS_HF_SEF_PATH': 'str, path for HF_SEF data', 'MNE_DATASETS_MEGSIM_PATH': 'str, path for MEGSIM data', 'MNE_DATASETS_MISC_PATH': 'str, path for misc data', 'MNE_DATASETS_MTRF_PATH': 'str, path for MTRF data', 'MNE_DATASETS_SAMPLE_PATH': 'str, path for sample data', 'MNE_DATASETS_SOMATO_PATH': 'str, path for somato data', 'MNE_DATASETS_MULTIMODAL_PATH': 'str, path for multimodal data', 'MNE_DATASETS_FNIRS_MOTOR_PATH': 'str, path for fnirs_motor data', 'MNE_DATASETS_OPM_PATH': 'str, path for OPM data', 'MNE_DATASETS_SPM_FACE_DATASETS_TESTS': 'str, path for spm_face data', 'MNE_DATASETS_SPM_FACE_PATH': 'str, path for spm_face data', 'MNE_DATASETS_TESTING_PATH': 'str, path for testing data', 'MNE_DATASETS_VISUAL_92_CATEGORIES_PATH': 'str, path for visual_92_categories data', 'MNE_DATASETS_KILOWORD_PATH': 'str, path for kiloword data', 'MNE_DATASETS_FIELDTRIP_CMC_PATH': 'str, path for fieldtrip_cmc data', 'MNE_DATASETS_PHANTOM_KIT_PATH': 'str, path for phantom_kit data', 'MNE_DATASETS_PHANTOM_4DBTI_PATH': 'str, path for phantom_4dbti data', 'MNE_DATASETS_PHANTOM_KERNEL_PATH': 'str, path for phantom_kernel data', 'MNE_DATASETS_LIMO_PATH': 'str, path for limo data', 'MNE_DATASETS_REFMEG_NOISE_PATH': 'str, path for refmeg_noise data', 'MNE_DATASETS_SSVEP_PATH': 'str, path for ssvep data', 'MNE_DATASETS_ERP_CORE_PATH': 'str, path for erp_core data', 'MNE_FORCE_SERIAL': 'bool, force serial rather than parallel execution', 'MNE_LOGGING_LEVEL': 'str or int, controls the level of verbosity of any function decorated with @verbose. See https://mne.tools/stable/auto_tutorials/intro/50_configure_mne.html#logging', 'MNE_MEMMAP_MIN_SIZE': 'str, threshold on the minimum size of arrays passed to the workers that triggers automated memory mapping, e.g., 1M or 0.5G', 'MNE_REPR_HTML': 'bool, represent some of our objects with rich HTML in a notebook environment', 'MNE_SKIP_NETWORK_TESTS': 'bool, used in a test decorator (@requires_good_network) to skip tests that include large downloads', 'MNE_SKIP_TESTING_DATASET_TESTS': 'bool, used in test decorators (@requires_spm_data, @requires_bstraw_data) to skip tests that require specific datasets', 'MNE_STIM_CHANNEL': 'string, the default channel name for mne.find_events', 'MNE_TQDM': 'str, either \"tqdm\", \"tqdm.auto\", or \"off\". Controls presence/absence of progress bars', 'MNE_USE_CUDA': 'bool, use GPU for filtering/resampling', 'MNE_USE_NUMBA': 'bool, use Numba just-in-time compiler for some of our intensive computations', 'SUBJECTS_DIR': 'path-like, directory of freesurfer MRI files for each subject'}\n"
          ]
        }
      ],
      "source": [
        "print(mne.get_config(key=\"\"))"
      ]
    },
    {
      "cell_type": "markdown",
      "metadata": {},
      "source": [
        "It is possible to add config variables that are not part of the recognized\n",
        "list, by passing any arbitrary key to :func:`~mne.set_config`. This will\n",
        "yield a warning, however, which is a nice check in cases where you meant to\n",
        "set a valid key but simply misspelled it:\n",
        "\n"
      ]
    },
    {
      "cell_type": "code",
      "execution_count": 8,
      "metadata": {
        "collapsed": false
      },
      "outputs": [
        {
          "name": "stderr",
          "output_type": "stream",
          "text": [
            "/tmp/ipykernel_211313/1056208348.py:1: RuntimeWarning: Setting non-standard config type: \"MNEE_USE_CUUDAA\"\n",
            "  mne.set_config(\"MNEE_USE_CUUDAA\", \"false\")\n"
          ]
        }
      ],
      "source": [
        "mne.set_config(\"MNEE_USE_CUUDAA\", \"false\")"
      ]
    },
    {
      "cell_type": "markdown",
      "metadata": {},
      "source": [
        "Let's delete that config variable we just created. To unset a config\n",
        "variable, use :func:`~mne.set_config` with ``value=None``. Since we're still\n",
        "dealing with an unrecognized key (as far as MNE-Python is concerned) we'll\n",
        "still get a warning, but the key will be unset:\n",
        "\n"
      ]
    },
    {
      "cell_type": "code",
      "execution_count": 9,
      "metadata": {
        "collapsed": false
      },
      "outputs": [
        {
          "name": "stderr",
          "output_type": "stream",
          "text": [
            "/tmp/ipykernel_211313/1027864612.py:1: RuntimeWarning: Setting non-standard config type: \"MNEE_USE_CUUDAA\"\n",
            "  mne.set_config(\"MNEE_USE_CUUDAA\", None)\n"
          ]
        }
      ],
      "source": [
        "mne.set_config(\"MNEE_USE_CUUDAA\", None)\n",
        "assert \"MNEE_USE_CUUDAA\" not in mne.get_config(\"\")"
      ]
    },
    {
      "cell_type": "markdown",
      "metadata": {},
      "source": [
        "## Where configurations are stored\n",
        "\n",
        "MNE-Python stores configuration variables in a `JSON`_ file. By default, this\n",
        "file is located in :file:`{%USERPROFILE%}\\\\.mne\\\\mne-python.json` on Windows\n",
        "and :file:`{$HOME}/.mne/mne-python.json` on Linux or macOS. You can get the\n",
        "full path to the config file with :func:`mne.get_config_path`.\n",
        "\n"
      ]
    },
    {
      "cell_type": "code",
      "execution_count": 10,
      "metadata": {
        "collapsed": false
      },
      "outputs": [
        {
          "name": "stdout",
          "output_type": "stream",
          "text": [
            "/home/jshen/.mne/mne-python.json\n"
          ]
        }
      ],
      "source": [
        "print(mne.get_config_path())"
      ]
    },
    {
      "cell_type": "markdown",
      "metadata": {},
      "source": [
        "However it is not a good idea to directly edit files in the :file:`.mne`\n",
        "directory; use the getting and setting functions described in `the\n",
        "previous section <config-get-set>`.\n",
        "\n",
        "If for some reason you want to load the configuration from a different\n",
        "location, you can pass the ``home_dir`` parameter to\n",
        ":func:`~mne.get_config_path`, specifying the parent directory of the\n",
        ":file:`.mne` directory where the configuration file you wish to load is\n",
        "stored.\n",
        "\n",
        "\n",
        "## Using environment variables\n",
        "\n",
        "For compatibility with :doc:`MNE-C <../../install/mne_c>`, MNE-Python\n",
        "also reads and writes `environment variables`_ to specify configuration. This\n",
        "is done with the same functions that read and write the JSON configuration,\n",
        "and is controlled with the parameters ``use_env`` and ``set_env``. By\n",
        "default, :func:`~mne.get_config` will check :data:`os.environ` before\n",
        "checking the MNE-Python JSON file; to check *only* the JSON file use\n",
        "``use_env=False``. To demonstrate, here's an environment variable that is not\n",
        "specific to MNE-Python (and thus is not in the JSON config file):\n",
        "\n"
      ]
    },
    {
      "cell_type": "code",
      "execution_count": 11,
      "metadata": {
        "collapsed": false
      },
      "outputs": [
        {
          "name": "stdout",
          "output_type": "stream",
          "text": [
            "/home/jshen/miniconda3/envs/Summer2025DL/bin:/home/jshen/.vscode-server/bin/cb0c47c0cfaad0757385834bd89d410c78a856c0/bin/remote-cli:/home/jshen/.local/bin:/home/jshen/miniconda3/condabin:/home/jshen/.nvm/versions/node/v23.9.0/bin:/usr/local/sbin:/usr/local/bin:/usr/sbin:/usr/bin:/sbin:/bin:/usr/games:/usr/local/games:/usr/lib/wsl/lib:/mnt/c/Program Files/Common Files/Oracle/Java/javapath:/mnt/c/Program Files (x86)/Common Files/Oracle/Java/java8path:/mnt/c/Program Files (x86)/Common Files/Oracle/Java/javapath:/mnt/c/Program Files (x86)/Razer Chroma SDK/bin:/mnt/c/Program Files/Razer Chroma SDK/bin:/mnt/c/Program Files (x86)/Razer/ChromaBroadcast/bin:/mnt/c/Program Files/Razer/ChromaBroadcast/bin:/mnt/c/Windows/system32:/mnt/c/Windows:/mnt/c/Windows/System32/Wbem:/mnt/c/Windows/System32/WindowsPowerShell/v1.0:/mnt/c/Windows/System32/OpenSSH:/mnt/c/Program Files (x86)/NVIDIA Corporation/PhysX/Common:/mnt/c/WINDOWS/system32:/mnt/c/WINDOWS:/mnt/c/WINDOWS/System32/Wbem:/mnt/c/WINDOWS/System32/WindowsPowerShell/v1.0:/mnt/c/WINDOWS/System32/OpenSSH:/mnt/c/WINDOWS/system32/config/systemprofile/AppData/Local/Microsoft/WindowsApps:/mnt/c/Users/Jasper Shen/AppData/Local/Microsoft/WindowsApps:/mnt/c/Apps/Microsoft VS Code/bin:/mnt/c/Users/Jasper Shen/AppData/Roaming/npm:/mnt/c/Windows/SysWow64:/mnt/c/Program Files/dotnet:/mnt/c/Apps/MATLAB/R2024a/bin:/mnt/c/Program Files/NVIDIA Corporation/NVIDIA app/NvDLISR:/mnt/c/WINDOWS/system32:/mnt/c/WINDOWS:/mnt/c/WINDOWS/System32/Wbem:/mnt/c/WINDOWS/System32/WindowsPowerShell/v1.0:/mnt/c/WINDOWS/System32/OpenSSH:/mnt/c/Program Files/PowerShell/7:/mnt/c/Apps/Git/cmd:/mnt/c/Users/Jasper Shen/AppData/Roaming/.dotnet:/mnt/c/Program Files/Java/jdk-18.0.2.1/bin:/mnt/c/Users/Jasper Shen/AppData/Local/Microsoft/WindowsApps:/mnt/c/Apps/Microsoft VS Code/bin:/snap/bin\n"
          ]
        }
      ],
      "source": [
        "# make sure it's not in the JSON file (no error means our assertion held):\n",
        "assert mne.get_config(\"PATH\", use_env=False) is None\n",
        "# but it *is* in the environment:\n",
        "print(mne.get_config(\"PATH\"))"
      ]
    },
    {
      "cell_type": "markdown",
      "metadata": {},
      "source": [
        "Also by default, :func:`~mne.set_config` will set values in both the JSON\n",
        "file and in :data:`os.environ`; to set a config variable *only* in the JSON\n",
        "file use ``set_env=False``. Here we'll use :func:`print` statement to confirm\n",
        "that an environment variable is being created and deleted (we could have used\n",
        "the Python `assert statement <assert>` instead, but it doesn't print any\n",
        "output when it succeeds so it's a little less obvious):\n",
        "\n"
      ]
    },
    {
      "cell_type": "code",
      "execution_count": 12,
      "metadata": {
        "collapsed": false
      },
      "outputs": [
        {
          "name": "stdout",
          "output_type": "stream",
          "text": [
            "False\n",
            "True\n",
            "False\n"
          ]
        },
        {
          "name": "stderr",
          "output_type": "stream",
          "text": [
            "/tmp/ipykernel_211313/2731098602.py:1: RuntimeWarning: Setting non-standard config type: \"foo\"\n",
            "  mne.set_config(\"foo\", \"bar\", set_env=False)\n",
            "/tmp/ipykernel_211313/2731098602.py:3: RuntimeWarning: Setting non-standard config type: \"foo\"\n",
            "  mne.set_config(\"foo\", \"bar\")\n",
            "/tmp/ipykernel_211313/2731098602.py:5: RuntimeWarning: Setting non-standard config type: \"foo\"\n",
            "  mne.set_config(\"foo\", None)  # unsetting a key deletes var from environment\n"
          ]
        }
      ],
      "source": [
        "mne.set_config(\"foo\", \"bar\", set_env=False)\n",
        "print(\"foo\" in os.environ.keys())\n",
        "mne.set_config(\"foo\", \"bar\")\n",
        "print(\"foo\" in os.environ.keys())\n",
        "mne.set_config(\"foo\", None)  # unsetting a key deletes var from environment\n",
        "print(\"foo\" in os.environ.keys())"
      ]
    },
    {
      "cell_type": "markdown",
      "metadata": {},
      "source": [
        "\n",
        "## Logging\n",
        "\n",
        "One important configuration variable is ``MNE_LOGGING_LEVEL``. Throughout the\n",
        "module, messages are generated describing the actions MNE-Python is taking\n",
        "behind-the-scenes. How you set ``MNE_LOGGING_LEVEL`` determines how many of\n",
        "those messages you see. The default logging level on a fresh install of\n",
        "MNE-Python is ``info``:\n",
        "\n"
      ]
    },
    {
      "cell_type": "code",
      "execution_count": 13,
      "metadata": {
        "collapsed": false
      },
      "outputs": [
        {
          "name": "stdout",
          "output_type": "stream",
          "text": [
            "None\n"
          ]
        }
      ],
      "source": [
        "print(mne.get_config(\"MNE_LOGGING_LEVEL\"))"
      ]
    },
    {
      "cell_type": "markdown",
      "metadata": {},
      "source": [
        "The logging levels that can be set as config variables are ``debug``,\n",
        "``info``, ``warning``, ``error``, and ``critical``. Around 90% of the log\n",
        "messages in MNE-Python are ``info`` messages, so for most users the choice is\n",
        "between ``info`` (tell me what is happening) and ``warning`` (tell me only if\n",
        "something worrisome happens). The ``debug`` logging level is intended for\n",
        "MNE-Python developers.\n",
        "\n",
        "\n",
        "In `an earlier section <config-get-set>` we saw how\n",
        ":func:`mne.set_config` is used to change the logging level for the current\n",
        "Python session and all future sessions. To change the logging level only for\n",
        "the current Python session, you can use :func:`mne.set_log_level` instead.\n",
        "The :func:`~mne.set_log_level` function takes the same five string options\n",
        "that are used for the ``MNE_LOGGING_LEVEL`` config variable; additionally, it\n",
        "can accept :class:`int` or :class:`bool` values that are equivalent to those\n",
        "strings. The equivalencies are given in this table:\n",
        "\n",
        "| String | Integer | Boolean |\n",
        "|---|---|---|\n",
        "| DEBUG | 10 | |\n",
        "| INFO | 20 | True |\n",
        "| WARNING | 30 | False |\n",
        "| ERROR | 40 | |\n",
        "| CRITICAL | 50 | |\n",
        "\n",
        "With many MNE-Python functions it is possible to change the logging level\n",
        "temporarily for just that function call, by using the ``verbose`` parameter.\n",
        "To illustrate this, we'll load some sample data with different logging levels\n",
        "set. First, with log level ``warning``:\n",
        "\n"
      ]
    },
    {
      "cell_type": "code",
      "execution_count": 14,
      "metadata": {
        "collapsed": false
      },
      "outputs": [],
      "source": [
        "kit_data_path = testing.data_path(verbose=True) / \"KIT\" / \"test_as-raw.con\"\n",
        "raw = mne.io.read_raw_kit(kit_data_path, verbose=\"warning\")"
      ]
    },
    {
      "cell_type": "markdown",
      "metadata": {},
      "source": [
        "No messages were generated, because none of the messages were of severity\n",
        "\"warning\" or worse. Next, we'll load the same file with log level ``info``\n",
        "(the default level):\n",
        "\n"
      ]
    },
    {
      "cell_type": "code",
      "execution_count": 15,
      "metadata": {
        "collapsed": false
      },
      "outputs": [
        {
          "name": "stdout",
          "output_type": "stream",
          "text": [
            "Extracting SQD Parameters from /home/jshen/mne_data/MNE-testing-data/KIT/test_as-raw.con...\n",
            "Creating Raw.info structure...\n",
            "Setting channel info structure...\n",
            "Creating Info structure...\n",
            "Ready.\n"
          ]
        }
      ],
      "source": [
        "raw = mne.io.read_raw_kit(kit_data_path, verbose=\"info\")"
      ]
    },
    {
      "cell_type": "markdown",
      "metadata": {},
      "source": [
        "This time, we got a few messages about extracting information from the file,\n",
        "converting that information into the MNE-Python :class:`~mne.Info` format,\n",
        "etc. Finally, if we request ``debug``-level information, we get even more\n",
        "detail -- and we do so this time using the :func:`mne.use_log_level` context\n",
        "manager, which is another way to accomplish the same thing as passing\n",
        "``verbose='debug'``:\n",
        "\n"
      ]
    },
    {
      "cell_type": "code",
      "execution_count": 16,
      "metadata": {
        "collapsed": false
      },
      "outputs": [
        {
          "name": "stdout",
          "output_type": "stream",
          "text": [
            "Extracting SQD Parameters from /home/jshen/mne_data/MNE-testing-data/KIT/test_as-raw.con...\n",
            "Creating Raw.info structure...\n",
            "    KIT dir entry 0 @ 16\n",
            "    KIT dir entry 1 @ 32\n",
            "    KIT dir entry 2 @ 48\n",
            "    KIT dir entry 3 @ 64\n",
            "    KIT dir entry 4 @ 80\n",
            "    KIT dir entry 5 @ 96\n",
            "    KIT dir entry 6 @ 112\n",
            "    KIT dir entry 7 @ 128\n",
            "    KIT dir entry 8 @ 144\n",
            "    KIT dir entry 9 @ 160\n",
            "    KIT dir entry 10 @ 176\n",
            "    KIT dir entry 11 @ 192\n",
            "    KIT dir entry 12 @ 208\n",
            "    KIT dir entry 13 @ 224\n",
            "    KIT dir entry 14 @ 240\n",
            "    KIT dir entry 15 @ 256\n",
            "    KIT dir entry 16 @ 272\n",
            "    KIT dir entry 17 @ 288\n",
            "    KIT dir entry 18 @ 304\n",
            "    KIT dir entry 19 @ 320\n",
            "    KIT dir entry 20 @ 336\n",
            "    KIT dir entry 21 @ 352\n",
            "    KIT dir entry 22 @ 368\n",
            "    KIT dir entry 23 @ 384\n",
            "    KIT dir entry 24 @ 400\n",
            "    KIT dir entry 25 @ 416\n",
            "    KIT dir entry 26 @ 432\n",
            "    KIT dir entry 27 @ 448\n",
            "    KIT dir entry 28 @ 464\n",
            "    KIT dir entry 29 @ 480\n",
            "    KIT dir entry 30 @ 496\n",
            "SQD file basic information:\n",
            "Meg160 version = V2R004\n",
            "System ID      = 261\n",
            "System name    = Academia Sinica/Institute of Linguistics//Magnetoencephalograph System\n",
            "Model name     = PQ1160R-N2\n",
            "Channel count  = 256\n",
            "Comment        = \n",
            "Dewar style    = 2\n",
            "FLL type       = 50\n",
            "Trigger type   = 21\n",
            "A/D board type = 27\n",
            "ADC range      = +/-5.0[V]\n",
            "ADC allocate   = 16[bit]\n",
            "ADC bit        = 12[bit]\n",
            "Setting channel info structure...\n",
            "Creating Info structure...\n",
            "Ready.\n"
          ]
        }
      ],
      "source": [
        "with mne.use_log_level(\"debug\"):\n",
        "    raw = mne.io.read_raw_kit(kit_data_path)"
      ]
    },
    {
      "cell_type": "markdown",
      "metadata": {},
      "source": [
        "We've been passing string values to the ``verbose`` parameter, but we can see\n",
        "from `the table above <table-log-levels>` that ``verbose=True`` will\n",
        "give us the ``info`` messages and ``verbose=False`` will suppress them; this\n",
        "is a useful shorthand to use in scripts, so you don't have to remember the\n",
        "specific names of the different logging levels. One final note:\n",
        "``verbose=None`` (which is the default for functions that have a ``verbose``\n",
        "parameter) will fall back on whatever logging level was most recently set by\n",
        ":func:`mne.set_log_level`, or if that hasn't been called during the current\n",
        "Python session, it will fall back to the value of\n",
        "``mne.get_config('MNE_LOGGING_LEVEL')``.\n",
        "\n",
        "## Getting information about your system\n",
        "You can also get information about what ``mne`` imports as dependencies from\n",
        "your system. This can be done via the command line with:\n",
        "\n",
        "```console\n",
        "$ mne sys_info\n",
        "```\n",
        "Or you can use :func:`mne.sys_info` directly, which prints to ``stdout`` by\n",
        "default:\n",
        "\n"
      ]
    },
    {
      "cell_type": "code",
      "execution_count": 17,
      "metadata": {
        "collapsed": false
      },
      "outputs": [
        {
          "name": "stdout",
          "output_type": "stream",
          "text": [
            "Platform             Linux-6.6.87.2-microsoft-standard-WSL2-x86_64-with-glibc2.35\n",
            "Python               3.9.23 (main, Jun  5 2025, 13:40:20)  [GCC 11.2.0]\n",
            "Executable           /home/jshen/miniconda3/envs/Summer2025DL/bin/python\n",
            "CPU                  x86_64 (16 cores)\n",
            "Memory               7.7 GB\n",
            "\n",
            "Core\n",
            "├☒ mne               1.8.0 (outdated, release 1.9.0 is available!)\n",
            "├☑ numpy             2.0.1 (MKL 2023.1-Product with 8 threads)\n",
            "├☑ scipy             1.13.1\n",
            "└☑ matplotlib        3.9.2 (backend=module://matplotlib_inline.backend_inline)\n",
            "\n",
            "Numerical (optional)\n",
            "├☑ sklearn           1.6.1\n",
            "├☑ nibabel           5.3.2\n",
            "├☑ pandas            2.2.3\n",
            "└☐ unavailable       numba, nilearn, dipy, openmeeg, cupy, h5io, h5py\n",
            "\n",
            "Visualization (optional)\n",
            "├☑ pyvista           0.45.0 (OpenGL 4.5 (Core Profile) Mesa 23.2.1-1ubuntu3.1~22.04.3 via llvmpipe (LLVM 15.0.7, 256 bits))\n",
            "├☑ pyvistaqt         0.11.2\n",
            "├☑ vtk               9.1.0\n",
            "├☑ qtpy              2.4.3 (PyQt6=6.7.3)\n",
            "├☑ ipywidgets        8.1.7\n",
            "└☐ unavailable       ipympl, pyqtgraph, mne-qt-browser, trame_client, trame_server, trame_vtk, trame_vuetify\n",
            "\n",
            "Ecosystem (optional)\n",
            "└☐ unavailable       mne-bids, mne-nirs, mne-features, mne-connectivity, mne-icalabel, mne-bids-pipeline, neo, eeglabio, edfio, mffpy, pybv\n",
            "\n",
            "To update to the latest supported release version to get bugfixes and improvements, visit https://mne.tools/stable/install/updating.html\n"
          ]
        },
        {
          "name": "stderr",
          "output_type": "stream",
          "text": [
            "qt.qpa.plugin: Could not find the Qt platform plugin \"wayland\" in \"\"\n"
          ]
        }
      ],
      "source": [
        "mne.sys_info()"
      ]
    },
    {
      "cell_type": "markdown",
      "metadata": {},
      "source": [
        ".. LINKS\n",
        "\n",
        "\n"
      ]
    }
  ],
  "metadata": {
    "kernelspec": {
      "display_name": "Summer2025DL",
      "language": "python",
      "name": "python3"
    },
    "language_info": {
      "codemirror_mode": {
        "name": "ipython",
        "version": 3
      },
      "file_extension": ".py",
      "mimetype": "text/x-python",
      "name": "python",
      "nbconvert_exporter": "python",
      "pygments_lexer": "ipython3",
      "version": "3.9.23"
    }
  },
  "nbformat": 4,
  "nbformat_minor": 0
}
