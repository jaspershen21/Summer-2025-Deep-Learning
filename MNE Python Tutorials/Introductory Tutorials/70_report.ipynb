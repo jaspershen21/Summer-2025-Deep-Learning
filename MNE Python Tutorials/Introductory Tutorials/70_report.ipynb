{
  "cells": [
    {
      "cell_type": "markdown",
      "metadata": {},
      "source": [
        "\n",
        "\n",
        "# Getting started with mne.Report\n",
        "\n",
        ":class:`mne.Report` is a way to create interactive HTML summaries of your data.\n",
        "These reports can show many different visualizations for one or multiple participants.\n",
        "A common use case is creating diagnostic summaries to check data quality at different\n",
        "stages in the processing pipeline. The report can show things like plots of data before\n",
        "and after each preprocessing step, epoch rejection statistics, MRI slices with overlaid\n",
        "BEM shells, all the way up to plots of estimated cortical activity.\n",
        "\n",
        "Compared to a Jupyter notebook, :class:`mne.Report` is easier to deploy, as the HTML\n",
        "pages it generates are self-contained and do not require a running Python environment.\n",
        "However, it is less flexible as you can't change code and re-run something directly\n",
        "within the browser. This tutorial covers the basics of building a report. As usual,\n",
        "we will start by importing the modules and data we need:\n"
      ]
    },
    {
      "cell_type": "code",
      "execution_count": 1,
      "metadata": {
        "collapsed": false
      },
      "outputs": [],
      "source": [
        "# Authors: The MNE-Python contributors.\n",
        "# License: BSD-3-Clause\n",
        "# Copyright the MNE-Python contributors."
      ]
    },
    {
      "cell_type": "code",
      "execution_count": 2,
      "metadata": {
        "collapsed": false
      },
      "outputs": [],
      "source": [
        "import tempfile\n",
        "from pathlib import Path\n",
        "\n",
        "import matplotlib.pyplot as plt\n",
        "import numpy as np\n",
        "import scipy.ndimage\n",
        "\n",
        "import mne\n",
        "\n",
        "data_path = Path(mne.datasets.sample.data_path(verbose=False))\n",
        "sample_dir = data_path / \"MEG\" / \"sample\"\n",
        "subjects_dir = data_path / \"subjects\""
      ]
    },
    {
      "cell_type": "markdown",
      "metadata": {},
      "source": [
        "The basic process for creating an HTML report is to instantiate the\n",
        ":class:`~mne.Report` class and then use one or more of its many methods to\n",
        "add content, one element at a time.\n",
        "\n",
        "You may also use the :meth:`~mne.Report.parse_folder` method to select\n",
        "particular files to include in the report. But more on that later.\n",
        "\n",
        ".. sidebar: Viewing the report\n",
        "\n",
        "   On successful creation of the report, the :meth:`~mne.Report.save` method\n",
        "   will open the HTML in a new tab in your browser. To disable this, use the\n",
        "   ``open_browser=False`` parameter of :meth:`~mne.Report.save`.\n",
        "\n",
        "## Adding `~mne.io.Raw` data\n",
        "\n",
        "Raw data can be added via the :meth:`mne.Report.add_raw` method. It can\n",
        "operate with a path to a raw file and `~mne.io.Raw` objects, and will\n",
        "produce – among other output – a slider that allows you to scrub through 10\n",
        "equally-spaced 1-second segments of the data:\n",
        "\n",
        "<div class=\"alert alert-danger\"><h4>Warning</h4><p>In the following example, we crop the raw data to 60 seconds merely to\n",
        "   speed up processing; this is not usually recommended!</p></div>\n",
        "\n"
      ]
    },
    {
      "cell_type": "code",
      "execution_count": 3,
      "metadata": {
        "collapsed": false
      },
      "outputs": [
        {
          "name": "stdout",
          "output_type": "stream",
          "text": [
            "Opening raw data file /home/jshen/mne_data/MNE-sample-data/MEG/sample/sample_audvis_filt-0-40_raw.fif...\n",
            "    Read a total of 4 projection items:\n",
            "        PCA-v1 (1 x 102)  idle\n",
            "        PCA-v2 (1 x 102)  idle\n",
            "        PCA-v3 (1 x 102)  idle\n",
            "        Average EEG reference (1 x 60)  idle\n",
            "    Range : 6450 ... 48149 =     42.956 ...   320.665 secs\n",
            "Ready.\n",
            "Reading 0 ... 9009  =      0.000 ...    59.999 secs...\n",
            "Embedding : jquery-3.6.0.min.js\n",
            "Embedding : bootstrap.bundle.min.js\n",
            "Embedding : bootstrap.min.css\n",
            "Embedding : bootstrap-table/bootstrap-table.min.js\n",
            "Embedding : bootstrap-table/bootstrap-table.min.css\n",
            "Embedding : bootstrap-table/bootstrap-table-copy-rows.min.js\n",
            "Embedding : bootstrap-table/bootstrap-table-export.min.js\n",
            "Embedding : bootstrap-table/tableExport.min.js\n",
            "Embedding : bootstrap-icons/bootstrap-icons.mne.min.css\n",
            "Embedding : highlightjs/highlight.min.js\n",
            "Embedding : highlightjs/atom-one-dark-reasonable.min.css\n",
            "Using matplotlib as 2D backend.\n",
            "Overwriting existing file.\n",
            "Saving report to : /home/jshen/Projects/Summer 2025 Deep Learning/MNE Python Tutorials/Introductory Tutorials/report_raw.html\n"
          ]
        },
        {
          "data": {
            "text/plain": [
              "'/home/jshen/Projects/Summer 2025 Deep Learning/MNE Python Tutorials/Introductory Tutorials/report_raw.html'"
            ]
          },
          "execution_count": 3,
          "metadata": {},
          "output_type": "execute_result"
        }
      ],
      "source": [
        "raw_path = sample_dir / \"sample_audvis_filt-0-40_raw.fif\"\n",
        "raw = mne.io.read_raw(raw_path)\n",
        "raw.pick(picks=[\"eeg\", \"eog\", \"stim\"]).crop(tmax=60).load_data()\n",
        "\n",
        "report = mne.Report(title=\"Raw example\")\n",
        "# This method also accepts a path, e.g., raw=raw_path\n",
        "report.add_raw(raw=raw, title=\"Raw\", psd=False)  # omit PSD plot\n",
        "report.save(\"report_raw.html\", overwrite=True)"
      ]
    },
    {
      "cell_type": "markdown",
      "metadata": {},
      "source": [
        "## Adding events\n",
        "\n",
        "Events can be added via :meth:`mne.Report.add_events`. You also need to\n",
        "supply the sampling frequency used during the recording; this information is\n",
        "used to generate a meaningful time axis.\n",
        "\n"
      ]
    },
    {
      "cell_type": "code",
      "execution_count": 4,
      "metadata": {
        "collapsed": false
      },
      "outputs": [
        {
          "name": "stdout",
          "output_type": "stream",
          "text": [
            "86 events found on stim channel STI 014\n",
            "Event IDs: [ 1  2  3  4  5 32]\n",
            "Embedding : jquery-3.6.0.min.js\n",
            "Embedding : bootstrap.bundle.min.js\n",
            "Embedding : bootstrap.min.css\n",
            "Embedding : bootstrap-table/bootstrap-table.min.js\n",
            "Embedding : bootstrap-table/bootstrap-table.min.css\n",
            "Embedding : bootstrap-table/bootstrap-table-copy-rows.min.js\n",
            "Embedding : bootstrap-table/bootstrap-table-export.min.js\n",
            "Embedding : bootstrap-table/tableExport.min.js\n",
            "Embedding : bootstrap-icons/bootstrap-icons.mne.min.css\n",
            "Embedding : highlightjs/highlight.min.js\n",
            "Embedding : highlightjs/atom-one-dark-reasonable.min.css\n",
            "Overwriting existing file.\n",
            "Saving report to : /home/jshen/Projects/Summer 2025 Deep Learning/MNE Python Tutorials/Introductory Tutorials/report_events.html\n"
          ]
        },
        {
          "name": "stderr",
          "output_type": "stream",
          "text": [
            "WARNING: You don't seem to have any mimeinfo.cache files.\n",
            "Try running the update-desktop-database command. If you\n",
            "don't have this command you should install the\n",
            "desktop-file-utils package. This package is available from\n",
            "http://freedesktop.org/wiki/Software/desktop-file-utils/\n",
            "No applications found for mimetype: text/html\n",
            "."
          ]
        },
        {
          "data": {
            "text/plain": [
              "'/home/jshen/Projects/Summer 2025 Deep Learning/MNE Python Tutorials/Introductory Tutorials/report_events.html'"
            ]
          },
          "execution_count": 4,
          "metadata": {},
          "output_type": "execute_result"
        }
      ],
      "source": [
        "events_path = sample_dir / \"sample_audvis_filt-0-40_raw-eve.fif\"\n",
        "events = mne.find_events(raw=raw)\n",
        "sfreq = raw.info[\"sfreq\"]\n",
        "\n",
        "report = mne.Report(title=\"Events example\")\n",
        "report.add_events(events=events_path, title=\"Events from Path\", sfreq=sfreq)\n",
        "report.add_events(events=events, title='Events from \"events\"', sfreq=sfreq)\n",
        "report.save(\"report_events.html\", overwrite=True)"
      ]
    },
    {
      "cell_type": "markdown",
      "metadata": {},
      "source": [
        "## Adding :class:`~mne.Epochs`\n",
        "\n",
        "Epochs can be added via :meth:`mne.Report.add_epochs`. Note that although\n",
        "this method accepts a path to an epochs file too, in the following example\n",
        "we only add epochs that we create on the fly from raw data. To demonstrate\n",
        "the representation of epochs metadata, we'll add some of that, too.\n",
        "\n"
      ]
    },
    {
      "cell_type": "code",
      "execution_count": 5,
      "metadata": {
        "collapsed": false
      },
      "outputs": [
        {
          "name": "stderr",
          "output_type": "stream",
          "text": [
            "/usr/bin/xdg-open: 882: x-www-browser: Permission denied\n",
            "/usr/bin/xdg-open: 882: firefox: Permission denied\n",
            "/usr/bin/xdg-open: 882: iceweasel: Permission denied\n",
            "/usr/bin/xdg-open: 882: seamonkey: Permission denied\n",
            "WARNING: You don't seem to have any mimeinfo.cache files.\n",
            "Try running the update-desktop-database command. If you\n",
            "don't have this command you should install the\n",
            "desktop-file-utils package. This package is available from\n",
            "http://freedesktop.org/wiki/Software/desktop-file-utils/\n",
            "No applications found for mimetype: text/html\n",
            "./usr/bin/xdg-open: 882: mozilla: Permission denied\n",
            "/usr/bin/xdg-open: 882: epiphany: Permission denied\n",
            "/usr/bin/xdg-open: 882: x-www-browser: Permission denied\n",
            "/usr/bin/xdg-open: 882: firefox: Permission denied\n"
          ]
        },
        {
          "name": "stdout",
          "output_type": "stream",
          "text": [
            "Adding metadata with 7 columns\n",
            "86 matching events found\n",
            "Setting baseline interval to [-0.19979521315838786, 0.0] s\n",
            "Applying baseline correction (mode: mean)\n",
            "Created an SSP operator (subspace dimension = 1)\n",
            "1 projection items activated\n",
            "Embedding : jquery-3.6.0.min.js\n",
            "Embedding : bootstrap.bundle.min.js\n",
            "Embedding : bootstrap.min.css\n",
            "Embedding : bootstrap-table/bootstrap-table.min.js\n",
            "Embedding : bootstrap-table/bootstrap-table.min.css\n",
            "Embedding : bootstrap-table/bootstrap-table-copy-rows.min.js\n",
            "Embedding : bootstrap-table/bootstrap-table-export.min.js\n",
            "Embedding : bootstrap-table/tableExport.min.js\n",
            "Embedding : bootstrap-icons/bootstrap-icons.mne.min.css\n",
            "Embedding : highlightjs/highlight.min.js\n",
            "Embedding : highlightjs/atom-one-dark-reasonable.min.css\n",
            "Using data from preloaded Raw for 86 events and 106 original time points ...\n",
            "0 bad epochs dropped\n"
          ]
        },
        {
          "name": "stderr",
          "output_type": "stream",
          "text": [
            "/usr/bin/xdg-open: 882: konqueror: Permission denied\n",
            "/usr/bin/xdg-open: 882: iceweasel: Permission denied\n",
            "/usr/bin/xdg-open: 882: chromium: Permission denied\n",
            "/usr/bin/xdg-open: 882: seamonkey: Permission denied\n",
            "/usr/bin/xdg-open: 882: chromium-browser: Permission denied\n",
            "/usr/bin/xdg-open: 882: mozilla: Permission denied\n",
            "/usr/bin/xdg-open: 882: google-chrome: Permission denied\n",
            "/usr/bin/xdg-open: 882: epiphany: Permission denied\n",
            "/usr/bin/xdg-open: 882: www-browser: Permission denied\n",
            "/usr/bin/xdg-open: 882: konqueror: Permission denied\n",
            "/usr/bin/xdg-open: 882: links2: Permission denied\n",
            "/usr/bin/xdg-open: 882: elinks: Permission denied\n",
            "/usr/bin/xdg-open: 882: chromium: Permission denied\n",
            "/usr/bin/xdg-open: 882: chromium-browser: Permission denied\n",
            "/usr/bin/xdg-open: 882: links: Permission denied\n",
            "/usr/bin/xdg-open: 882: google-chrome: Permission denied\n",
            "/usr/bin/xdg-open: 882: lynx: Permission denied\n",
            "/usr/bin/xdg-open: 882: www-browser: Permission denied\n",
            "/usr/bin/xdg-open: 882: w3m: Permission denied\n",
            "xdg-open: no method available for opening 'file:///home/jshen/Projects/Summer 2025 Deep Learning/MNE Python Tutorials/Introductory Tutorials/report_raw.html'\n",
            "/usr/bin/xdg-open: 882: links2: Permission denied\n",
            "/usr/bin/xdg-open: 882: elinks: Permission denied\n",
            "/usr/bin/xdg-open: 882: links: Permission denied\n",
            "/usr/bin/xdg-open: 882: lynx: Permission denied\n",
            "/usr/bin/xdg-open: 882: w3m: Permission denied\n",
            "xdg-open: no method available for opening 'file:///home/jshen/Projects/Summer 2025 Deep Learning/MNE Python Tutorials/Introductory Tutorials/report_events.html'\n"
          ]
        },
        {
          "name": "stdout",
          "output_type": "stream",
          "text": [
            "    Using multitaper spectrum estimation with 7 DPSS windows\n",
            "Plotting power spectral density (dB=True).\n",
            "Averaging across epochs before plotting...\n",
            "Overwriting existing file.\n",
            "Saving report to : /home/jshen/Projects/Summer 2025 Deep Learning/MNE Python Tutorials/Introductory Tutorials/report_epochs.html\n"
          ]
        },
        {
          "data": {
            "text/plain": [
              "'/home/jshen/Projects/Summer 2025 Deep Learning/MNE Python Tutorials/Introductory Tutorials/report_epochs.html'"
            ]
          },
          "execution_count": 5,
          "metadata": {},
          "output_type": "execute_result"
        }
      ],
      "source": [
        "event_id = {\n",
        "    \"auditory/left\": 1,\n",
        "    \"auditory/right\": 2,\n",
        "    \"visual/left\": 3,\n",
        "    \"visual/right\": 4,\n",
        "    \"face\": 5,\n",
        "    \"buttonpress\": 32,\n",
        "}\n",
        "\n",
        "metadata, _, _ = mne.epochs.make_metadata(\n",
        "    events=events, event_id=event_id, tmin=-0.2, tmax=0.5, sfreq=raw.info[\"sfreq\"]\n",
        ")\n",
        "epochs = mne.Epochs(raw=raw, events=events, event_id=event_id, metadata=metadata)\n",
        "\n",
        "report = mne.Report(title=\"Epochs example\")\n",
        "report.add_epochs(epochs=epochs, title='Epochs from \"epochs\"')\n",
        "report.save(\"report_epochs.html\", overwrite=True)"
      ]
    },
    {
      "cell_type": "markdown",
      "metadata": {},
      "source": [
        "## Adding `~mne.Evoked`\n",
        "\n",
        "Evoked data can be added via :meth:`mne.Report.add_evokeds`. By default, the\n",
        "``Evoked.comment`` attribute of each evoked will be used as a title. We can\n",
        "specify custom titles via the ``titles`` parameter. Again, this method\n",
        "also accepts the path to an evoked file stored on disk; in the following\n",
        "example, however, we load the evokeds manually first, since we only want to\n",
        "add a subset of them to the report. The evokeds are not baseline-corrected,\n",
        "so we apply baseline correction, too. Lastly, by providing an (optional)\n",
        "noise covariance, we can add plots evokeds that were \"whitened\" using this\n",
        "covariance matrix.\n",
        "\n",
        "By default, this method will produce topographic plots at 21 equally-spaced time\n",
        "points (or fewer, if the data contains fewer time points). We can adjust this\n",
        "via the ``n_time_points`` parameter.\n",
        "\n"
      ]
    },
    {
      "cell_type": "code",
      "execution_count": 6,
      "metadata": {
        "collapsed": false
      },
      "outputs": [
        {
          "name": "stdout",
          "output_type": "stream",
          "text": [
            "Reading /home/jshen/mne_data/MNE-sample-data/MEG/sample/sample_audvis-ave.fif ...\n",
            "    Read a total of 4 projection items:\n",
            "        PCA-v1 (1 x 102) active\n",
            "        PCA-v2 (1 x 102) active\n",
            "        PCA-v3 (1 x 102) active\n",
            "        Average EEG reference (1 x 60) active\n",
            "    Found the data of interest:\n",
            "        t =    -199.80 ...     499.49 ms (Left Auditory)\n",
            "        0 CTF compensation matrices available\n",
            "        nave = 55 - aspect type = 100\n",
            "Projections have already been applied. Setting proj attribute to True.\n",
            "Applying baseline correction (mode: mean)\n",
            "    Read a total of 4 projection items:\n",
            "        PCA-v1 (1 x 102) active\n",
            "        PCA-v2 (1 x 102) active\n",
            "        PCA-v3 (1 x 102) active\n",
            "        Average EEG reference (1 x 60) active\n",
            "    Found the data of interest:\n",
            "        t =    -199.80 ...     499.49 ms (Right Auditory)\n",
            "        0 CTF compensation matrices available\n",
            "        nave = 61 - aspect type = 100\n",
            "Projections have already been applied. Setting proj attribute to True.\n",
            "Applying baseline correction (mode: mean)\n",
            "    Read a total of 4 projection items:\n",
            "        PCA-v1 (1 x 102) active\n",
            "        PCA-v2 (1 x 102) active\n",
            "        PCA-v3 (1 x 102) active\n",
            "        Average EEG reference (1 x 60) active\n",
            "    Found the data of interest:\n",
            "        t =    -199.80 ...     499.49 ms (Left visual)\n",
            "        0 CTF compensation matrices available\n",
            "        nave = 67 - aspect type = 100\n",
            "Projections have already been applied. Setting proj attribute to True.\n",
            "Applying baseline correction (mode: mean)\n",
            "    Read a total of 4 projection items:\n",
            "        PCA-v1 (1 x 102) active\n",
            "        PCA-v2 (1 x 102) active\n",
            "        PCA-v3 (1 x 102) active\n",
            "        Average EEG reference (1 x 60) active\n",
            "    Found the data of interest:\n",
            "        t =    -199.80 ...     499.49 ms (Right visual)\n",
            "        0 CTF compensation matrices available\n",
            "        nave = 58 - aspect type = 100\n",
            "Projections have already been applied. Setting proj attribute to True.\n",
            "Applying baseline correction (mode: mean)\n",
            "Embedding : jquery-3.6.0.min.js\n",
            "Embedding : bootstrap.bundle.min.js\n",
            "Embedding : bootstrap.min.css\n",
            "Embedding : bootstrap-table/bootstrap-table.min.js\n",
            "Embedding : bootstrap-table/bootstrap-table.min.css\n",
            "Embedding : bootstrap-table/bootstrap-table-copy-rows.min.js\n",
            "Embedding : bootstrap-table/bootstrap-table-export.min.js\n",
            "Embedding : bootstrap-table/tableExport.min.js\n",
            "Embedding : bootstrap-icons/bootstrap-icons.mne.min.css\n",
            "Embedding : highlightjs/highlight.min.js\n",
            "Embedding : highlightjs/atom-one-dark-reasonable.min.css\n",
            "    366 x 366 full covariance (kind = 1) found.\n",
            "    Read a total of 4 projection items:\n",
            "        PCA-v1 (1 x 102) active\n",
            "        PCA-v2 (1 x 102) active\n",
            "        PCA-v3 (1 x 102) active\n",
            "        Average EEG reference (1 x 60) active\n"
          ]
        },
        {
          "name": "stderr",
          "output_type": "stream",
          "text": [
            "WARNING: You don't seem to have any mimeinfo.cache files.\n",
            "Try running the update-desktop-database command. If you\n",
            "don't have this command you should install the\n",
            "desktop-file-utils package. This package is available from\n",
            "http://freedesktop.org/wiki/Software/desktop-file-utils/\n",
            "No applications found for mimetype: text/html\n",
            "./usr/bin/xdg-open: 882: x-www-browser: Permission denied\n",
            "/usr/bin/xdg-open: 882: firefox: Permission denied\n",
            "/usr/bin/xdg-open: 882: iceweasel: Permission denied\n",
            "/usr/bin/xdg-open: 882: seamonkey: Permission denied\n",
            "/usr/bin/xdg-open: 882: mozilla: Permission denied\n",
            "/usr/bin/xdg-open: 882: epiphany: Permission denied\n",
            "/usr/bin/xdg-open: 882: konqueror: Permission denied\n",
            "/usr/bin/xdg-open: 882: chromium: Permission denied\n",
            "/usr/bin/xdg-open: 882: chromium-browser: Permission denied\n",
            "/usr/bin/xdg-open: 882: google-chrome: Permission denied\n",
            "/usr/bin/xdg-open: 882: www-browser: Permission denied\n",
            "/usr/bin/xdg-open: 882: links2: Permission denied\n",
            "/usr/bin/xdg-open: 882: elinks: Permission denied\n",
            "/usr/bin/xdg-open: 882: links: Permission denied\n",
            "/usr/bin/xdg-open: 882: lynx: Permission denied\n",
            "/usr/bin/xdg-open: 882: w3m: Permission denied\n",
            "xdg-open: no method available for opening 'file:///home/jshen/Projects/Summer 2025 Deep Learning/MNE Python Tutorials/Introductory Tutorials/report_epochs.html'\n",
            "[Parallel(n_jobs=1)]: Done   5 out of   5 | elapsed:    3.8s finished\n"
          ]
        },
        {
          "name": "stdout",
          "output_type": "stream",
          "text": [
            "NOTE: pick_types() is a legacy function. New code should use inst.pick(...).\n",
            "Computing rank from covariance with rank=None\n",
            "    Using tolerance 4.7e-14 (2.2e-16 eps * 59 dim * 3.6  max singular value)\n",
            "    Estimated rank (eeg): 58\n",
            "    EEG: rank 58 computed from 59 data channels with 1 projector\n",
            "    Created an SSP operator (subspace dimension = 1)\n",
            "Computing rank from covariance with rank={'eeg': 58}\n",
            "    Setting small EEG eigenvalues to zero (without PCA)\n",
            "    Created the whitener using a noise covariance matrix with rank 58 (1 small eigenvalues omitted)\n"
          ]
        },
        {
          "name": "stderr",
          "output_type": "stream",
          "text": [
            "[Parallel(n_jobs=1)]: Done   5 out of   5 | elapsed:    2.3s finished\n"
          ]
        },
        {
          "name": "stdout",
          "output_type": "stream",
          "text": [
            "NOTE: pick_types() is a legacy function. New code should use inst.pick(...).\n",
            "Computing rank from covariance with rank=None\n",
            "    Using tolerance 4.7e-14 (2.2e-16 eps * 59 dim * 3.6  max singular value)\n",
            "    Estimated rank (eeg): 58\n",
            "    EEG: rank 58 computed from 59 data channels with 1 projector\n",
            "    Created an SSP operator (subspace dimension = 1)\n",
            "Computing rank from covariance with rank={'eeg': 58}\n",
            "    Setting small EEG eigenvalues to zero (without PCA)\n",
            "    Created the whitener using a noise covariance matrix with rank 58 (1 small eigenvalues omitted)\n",
            "Overwriting existing file.\n",
            "Saving report to : /home/jshen/Projects/Summer 2025 Deep Learning/MNE Python Tutorials/Introductory Tutorials/report_evoked.html\n"
          ]
        },
        {
          "data": {
            "text/plain": [
              "'/home/jshen/Projects/Summer 2025 Deep Learning/MNE Python Tutorials/Introductory Tutorials/report_evoked.html'"
            ]
          },
          "execution_count": 6,
          "metadata": {},
          "output_type": "execute_result"
        }
      ],
      "source": [
        "evoked_path = sample_dir / \"sample_audvis-ave.fif\"\n",
        "cov_path = sample_dir / \"sample_audvis-cov.fif\"\n",
        "\n",
        "evokeds = mne.read_evokeds(evoked_path, baseline=(None, 0))\n",
        "evokeds_subset = evokeds[:2]  # The first two\n",
        "for evoked in evokeds_subset:\n",
        "    evoked.pick(\"eeg\")  # just for speed of plotting\n",
        "\n",
        "report = mne.Report(title=\"Evoked example\")\n",
        "report.add_evokeds(\n",
        "    evokeds=evokeds_subset,\n",
        "    titles=[\"evoked 1\", \"evoked 2\"],  # Manually specify titles\n",
        "    noise_cov=cov_path,\n",
        "    n_time_points=5,\n",
        ")\n",
        "report.save(\"report_evoked.html\", overwrite=True)"
      ]
    },
    {
      "cell_type": "markdown",
      "metadata": {},
      "source": [
        "## Adding `~mne.Covariance`\n",
        "\n",
        "(Noise) covariance objects can be added via\n",
        ":meth:`mne.Report.add_covariance`. The method accepts `~mne.Covariance`\n",
        "objects and the path to a file on disk. It also expects us to pass an\n",
        "`~mne.Info` object or the path to a file to read the measurement info from,\n",
        "as well as a title.\n",
        "\n"
      ]
    },
    {
      "cell_type": "code",
      "execution_count": 7,
      "metadata": {
        "collapsed": false
      },
      "outputs": [
        {
          "name": "stdout",
          "output_type": "stream",
          "text": [
            "Embedding : jquery-3.6.0.min.js\n",
            "Embedding : bootstrap.bundle.min.js\n",
            "Embedding : bootstrap.min.css\n",
            "Embedding : bootstrap-table/bootstrap-table.min.js\n",
            "Embedding : bootstrap-table/bootstrap-table.min.css\n",
            "Embedding : bootstrap-table/bootstrap-table-copy-rows.min.js\n",
            "Embedding : bootstrap-table/bootstrap-table-export.min.js\n",
            "Embedding : bootstrap-table/tableExport.min.js\n",
            "Embedding : bootstrap-icons/bootstrap-icons.mne.min.css\n",
            "Embedding : highlightjs/highlight.min.js\n",
            "Embedding : highlightjs/atom-one-dark-reasonable.min.css\n",
            "    366 x 366 full covariance (kind = 1) found.\n",
            "    Read a total of 4 projection items:\n",
            "        PCA-v1 (1 x 102) active\n",
            "        PCA-v2 (1 x 102) active\n",
            "        PCA-v3 (1 x 102) active\n",
            "        Average EEG reference (1 x 60) active\n",
            "    Read a total of 4 projection items:\n",
            "        PCA-v1 (1 x 102)  idle\n",
            "        PCA-v2 (1 x 102)  idle\n",
            "        PCA-v3 (1 x 102)  idle\n",
            "        Average EEG reference (1 x 60)  idle\n",
            "Computing rank from covariance with rank=None\n",
            "    Using tolerance 2.5e-14 (2.2e-16 eps * 102 dim * 1.1  max singular value)\n",
            "    Estimated rank (mag): 102\n",
            "    MAG: rank 102 computed from 102 data channels with 0 projectors\n",
            "Computing rank from covariance with rank=None\n",
            "    Using tolerance 2.6e-12 (2.2e-16 eps * 204 dim * 56  max singular value)\n",
            "    Estimated rank (grad): 204\n",
            "    GRAD: rank 204 computed from 204 data channels with 0 projectors\n",
            "Computing rank from covariance with rank=None\n",
            "    Using tolerance 4.8e-14 (2.2e-16 eps * 60 dim * 3.6  max singular value)\n",
            "    Estimated rank (eeg): 60\n",
            "    EEG: rank 60 computed from 60 data channels with 0 projectors\n"
          ]
        },
        {
          "name": "stderr",
          "output_type": "stream",
          "text": [
            "WARNING: You don't seem to have any mimeinfo.cache files.\n",
            "Try running the update-desktop-database command. If you\n",
            "don't have this command you should install the\n",
            "desktop-file-utils package. This package is available from\n",
            "http://freedesktop.org/wiki/Software/desktop-file-utils/\n",
            "No applications found for mimetype: text/html\n",
            "./usr/bin/xdg-open: 882: x-www-browser: Permission denied\n",
            "/usr/bin/xdg-open: 882: firefox: Permission denied\n",
            "/usr/bin/xdg-open: 882: iceweasel: Permission denied\n",
            "/usr/bin/xdg-open: 882: seamonkey: Permission denied\n",
            "/usr/bin/xdg-open: 882: mozilla: Permission denied\n",
            "/usr/bin/xdg-open: 882: epiphany: Permission denied\n",
            "/usr/bin/xdg-open: 882: konqueror: Permission denied\n",
            "/usr/bin/xdg-open: 882: chromium: Permission denied\n",
            "/usr/bin/xdg-open: 882: chromium-browser: Permission denied\n",
            "/usr/bin/xdg-open: 882: google-chrome: Permission denied\n",
            "/usr/bin/xdg-open: 882: www-browser: Permission denied\n",
            "/usr/bin/xdg-open: 882: links2: Permission denied\n",
            "/usr/bin/xdg-open: 882: elinks: Permission denied\n",
            "/usr/bin/xdg-open: 882: links: Permission denied\n",
            "/usr/bin/xdg-open: 882: lynx: Permission denied\n",
            "/usr/bin/xdg-open: 882: w3m: Permission denied\n",
            "xdg-open: no method available for opening 'file:///home/jshen/Projects/Summer 2025 Deep Learning/MNE Python Tutorials/Introductory Tutorials/report_evoked.html'\n"
          ]
        },
        {
          "name": "stdout",
          "output_type": "stream",
          "text": [
            "Overwriting existing file.\n",
            "Saving report to : /home/jshen/Projects/Summer 2025 Deep Learning/MNE Python Tutorials/Introductory Tutorials/report_cov.html\n"
          ]
        },
        {
          "data": {
            "text/plain": [
              "'/home/jshen/Projects/Summer 2025 Deep Learning/MNE Python Tutorials/Introductory Tutorials/report_cov.html'"
            ]
          },
          "execution_count": 7,
          "metadata": {},
          "output_type": "execute_result"
        }
      ],
      "source": [
        "cov_path = sample_dir / \"sample_audvis-cov.fif\"\n",
        "\n",
        "report = mne.Report(title=\"Covariance example\")\n",
        "report.add_covariance(cov=cov_path, info=raw_path, title=\"Covariance\")\n",
        "report.save(\"report_cov.html\", overwrite=True)"
      ]
    },
    {
      "cell_type": "markdown",
      "metadata": {},
      "source": [
        "## Adding `~mne.Projection` vectors\n",
        "\n",
        "`~mne.Projection` vectors can be added via\n",
        ":meth:`mne.Report.add_projs`. The method requires an `~mne.Info` object\n",
        "(or the path to one) and a title. Projectors found in the `~mne.Info` will\n",
        "be visualized. You may also supply a list of `~mne.Projection` objects or\n",
        "a path to projectors stored on disk. In this case, the channel information\n",
        "is read from the `~mne.Info`, but projectors potentially included will be\n",
        "ignored; instead, only the explicitly passed projectors will be plotted.\n",
        "\n"
      ]
    },
    {
      "cell_type": "code",
      "execution_count": 8,
      "metadata": {
        "collapsed": false
      },
      "outputs": [
        {
          "name": "stdout",
          "output_type": "stream",
          "text": [
            "Embedding : jquery-3.6.0.min.js\n",
            "Embedding : bootstrap.bundle.min.js\n",
            "Embedding : bootstrap.min.css\n",
            "Embedding : bootstrap-table/bootstrap-table.min.js\n",
            "Embedding : bootstrap-table/bootstrap-table.min.css\n",
            "Embedding : bootstrap-table/bootstrap-table-copy-rows.min.js\n",
            "Embedding : bootstrap-table/bootstrap-table-export.min.js\n",
            "Embedding : bootstrap-table/tableExport.min.js\n",
            "Embedding : bootstrap-icons/bootstrap-icons.mne.min.css\n",
            "Embedding : highlightjs/highlight.min.js\n",
            "Embedding : highlightjs/atom-one-dark-reasonable.min.css\n"
          ]
        },
        {
          "name": "stderr",
          "output_type": "stream",
          "text": [
            "WARNING: You don't seem to have any mimeinfo.cache files.\n",
            "Try running the update-desktop-database command. If you\n",
            "don't have this command you should install the\n",
            "desktop-file-utils package. This package is available from\n",
            "http://freedesktop.org/wiki/Software/desktop-file-utils/\n",
            "No applications found for mimetype: text/html\n",
            "./usr/bin/xdg-open: 882: x-www-browser: Permission denied\n",
            "/usr/bin/xdg-open: 882: firefox: Permission denied\n",
            "/usr/bin/xdg-open: 882: iceweasel: Permission denied\n",
            "/usr/bin/xdg-open: 882: seamonkey: Permission denied\n",
            "/usr/bin/xdg-open: 882: mozilla: Permission denied\n",
            "/usr/bin/xdg-open: 882: epiphany: Permission denied\n",
            "/usr/bin/xdg-open: 882: konqueror: Permission denied\n",
            "/usr/bin/xdg-open: 882: chromium: Permission denied\n",
            "/usr/bin/xdg-open: 882: chromium-browser: Permission denied\n",
            "/usr/bin/xdg-open: 882: google-chrome: Permission denied\n",
            "/usr/bin/xdg-open: 882: www-browser: Permission denied\n",
            "/usr/bin/xdg-open: 882: links2: Permission denied\n",
            "/usr/bin/xdg-open: 882: elinks: Permission denied\n",
            "/usr/bin/xdg-open: 882: links: Permission denied\n",
            "/usr/bin/xdg-open: 882: lynx: Permission denied\n",
            "/usr/bin/xdg-open: 882: w3m: Permission denied\n",
            "xdg-open: no method available for opening 'file:///home/jshen/Projects/Summer 2025 Deep Learning/MNE Python Tutorials/Introductory Tutorials/report_cov.html'\n"
          ]
        },
        {
          "name": "stdout",
          "output_type": "stream",
          "text": [
            "Opening raw data file /home/jshen/mne_data/MNE-sample-data/MEG/sample/sample_audvis_raw.fif...\n",
            "    Read a total of 3 projection items:\n",
            "        PCA-v1 (1 x 102)  idle\n",
            "        PCA-v2 (1 x 102)  idle\n",
            "        PCA-v3 (1 x 102)  idle\n",
            "    Range : 25800 ... 192599 =     42.956 ...   320.670 secs\n",
            "Ready.\n",
            "Reading 0 ... 36037  =      0.000 ...    60.000 secs...\n",
            "Not setting metadata\n",
            "268 matching events found\n",
            "Setting baseline interval to [-0.49948803289596966, 0.49948803289596966] s\n",
            "Applying baseline correction (mode: mean)\n",
            "Created an SSP operator (subspace dimension = 3)\n",
            "3 projection items activated\n",
            "    Read a total of 6 projection items:\n",
            "        ECG-planar-999--0.200-0.400-PCA-01 (1 x 203)  idle\n",
            "        ECG-planar-999--0.200-0.400-PCA-02 (1 x 203)  idle\n",
            "        ECG-axial-999--0.200-0.400-PCA-01 (1 x 102)  idle\n",
            "        ECG-axial-999--0.200-0.400-PCA-02 (1 x 102)  idle\n",
            "        ECG-eeg-999--0.200-0.400-PCA-01 (1 x 59)  idle\n",
            "        ECG-eeg-999--0.200-0.400-PCA-02 (1 x 59)  idle\n",
            "2 projection items deactivated\n",
            "2 projection items deactivated\n",
            "2 projection items deactivated\n",
            "Overwriting existing file.\n",
            "Saving report to : /home/jshen/Projects/Summer 2025 Deep Learning/MNE Python Tutorials/Introductory Tutorials/report_projs.html\n"
          ]
        }
      ],
      "source": [
        "ecg_proj_path = sample_dir / \"sample_audvis_ecg-proj.fif\"\n",
        "report = mne.Report(title=\"Projectors example\")\n",
        "report.add_projs(info=raw_path, title=\"Projs from info\")\n",
        "\n",
        "# Now a joint plot\n",
        "events = mne.read_events(sample_dir / \"sample_audvis_ecg-eve.fif\")\n",
        "raw_full = mne.io.read_raw(sample_dir / \"sample_audvis_raw.fif\").crop(0, 60).load_data()\n",
        "ecg_evoked = mne.Epochs(\n",
        "    raw=raw_full,\n",
        "    events=events,\n",
        "    tmin=-0.5,\n",
        "    tmax=0.5,\n",
        "    baseline=(None, None),\n",
        ").average()\n",
        "report.img_max_width = None  # do not constrain image width\n",
        "report.add_projs(\n",
        "    info=ecg_evoked,\n",
        "    projs=ecg_proj_path,\n",
        "    title=\"ECG projs from path\",\n",
        "    joint=True,  # use joint version of the plot\n",
        ")\n",
        "report.save(\"report_projs.html\", overwrite=True)\n",
        "del raw_full, events, ecg_evoked"
      ]
    },
    {
      "cell_type": "markdown",
      "metadata": {},
      "source": [
        "## Adding `~mne.preprocessing.ICA`\n",
        "\n",
        "`~mne.preprocessing.ICA` objects can be added via\n",
        ":meth:`mne.Report.add_ica`. Aside from the parameters ``ica`` (that accepts\n",
        "an `~mne.preprocessing.ICA` instance or a path to an ICA object stored on\n",
        "disk) and the ``title``, there is a third required parameter, ``inst``.\n",
        "``inst`` is used to specify a `~mne.io.Raw` or `~mne.Epochs` object for\n",
        "producing ICA property plots and overlay plots demonstrating\n",
        "the effects of ICA cleaning. If, instead, you only want to generate ICA\n",
        "component topography plots, explicitly pass ``inst=None``.\n",
        "\n",
        "<div class=\"alert alert-info\"><h4>Note</h4><p>:meth:`mne.Report.add_ica` only works with fitted ICAs.</p></div>\n",
        "\n",
        "You can optionally specify for which components to produce topography and\n",
        "properties plots by passing ``picks``. By default, all components will be\n",
        "shown. It is also possible to pass evoked signals based on ECG and EOG events\n",
        "via ``ecg_evoked`` and ``eog_evoked``. This allows you directly see the\n",
        "effects of ICA component removal on these artifactual signals.\n",
        "Artifact detection scores produced by\n",
        ":meth:`~mne.preprocessing.ICA.find_bads_ecg`\n",
        "and :meth:`~mne.preprocessing.ICA.find_bads_eog` can be passed via the\n",
        "``ecg_scores`` and ``eog_scores`` parameters, respectively, producing\n",
        "visualizations of the scores for each ICA component.\n",
        "\n",
        "Lastly, by passing ``n_jobs``, you may largely speed up the generation of\n",
        "the properties plots by enabling parallel execution.\n",
        "\n",
        "<div class=\"alert alert-danger\"><h4>Warning</h4><p>In the following example, we request a small number of ICA components\n",
        "   to estimate, set the threshold for assuming ICA convergence to a very\n",
        "   liberal value, and only visualize 2 of the components. All of this is\n",
        "   done to largely reduce the processing time of this tutorial, and is\n",
        "   usually **not** recommended for an actual data analysis.</p></div>\n",
        "\n"
      ]
    },
    {
      "cell_type": "code",
      "execution_count": 9,
      "metadata": {
        "collapsed": false
      },
      "outputs": [
        {
          "name": "stdout",
          "output_type": "stream",
          "text": [
            "Fitting ICA to data using 59 channels (please be patient, this may take a while)\n",
            "Selecting by number: 5 components\n",
            "Fitting ICA took 0.3s.\n",
            "Using EOG channel: EOG 061\n",
            "EOG channel index for this subject is: [69]\n",
            "Filtering the data to remove DC offset to help distinguish blinks from saccades\n",
            "Selecting channel EOG 061 for blink detection\n",
            "Setting up band-pass filter from 1 - 10 Hz\n",
            "\n",
            "FIR filter parameters\n",
            "---------------------\n",
            "Designing a two-pass forward and reverse, zero-phase, non-causal bandpass filter:\n",
            "- Windowed frequency-domain design (firwin2) method\n",
            "- Hann window\n",
            "- Lower passband edge: 1.00\n",
            "- Lower transition bandwidth: 0.50 Hz (-12 dB cutoff frequency: 0.75 Hz)\n",
            "- Upper passband edge: 10.00 Hz\n",
            "- Upper transition bandwidth: 0.50 Hz (-12 dB cutoff frequency: 10.25 Hz)\n",
            "- Filter length: 1502 samples (10.003 s)\n",
            "\n",
            "Now detecting blinks and generating corresponding events\n",
            "Found 10 significant peaks\n",
            "Number of EOG events detected: 10\n",
            "Not setting metadata\n",
            "10 matching events found\n",
            "No baseline correction applied\n",
            "Created an SSP operator (subspace dimension = 1)\n",
            "Using data from preloaded Raw for 10 events and 151 original time points ...\n",
            "0 bad epochs dropped\n",
            "Using EOG channel: EEG 001\n",
            "Embedding : jquery-3.6.0.min.js\n",
            "Embedding : bootstrap.bundle.min.js\n",
            "Embedding : bootstrap.min.css\n",
            "Embedding : bootstrap-table/bootstrap-table.min.js\n",
            "Embedding : bootstrap-table/bootstrap-table.min.css\n",
            "Embedding : bootstrap-table/bootstrap-table-copy-rows.min.js\n",
            "Embedding : bootstrap-table/bootstrap-table-export.min.js\n",
            "Embedding : bootstrap-table/tableExport.min.js\n",
            "Embedding : bootstrap-icons/bootstrap-icons.mne.min.css\n",
            "Embedding : highlightjs/highlight.min.js\n",
            "Embedding : highlightjs/atom-one-dark-reasonable.min.css\n",
            "Applying ICA to Raw instance\n",
            "    Transforming to ICA space (5 components)\n",
            "    Zeroing out 3 ICA components\n",
            "    Projecting back using 59 PCA components\n"
          ]
        },
        {
          "name": "stderr",
          "output_type": "stream",
          "text": [
            "[Parallel(n_jobs=1)]: Done   1 out of   1 | elapsed:    0.0s finished\n",
            "WARNING: You don't seem to have any mimeinfo.cache files.\n",
            "Try running the update-desktop-database command. If you\n",
            "don't have this command you should install the\n",
            "desktop-file-utils package. This package is available from\n",
            "http://freedesktop.org/wiki/Software/desktop-file-utils/\n",
            "No applications found for mimetype: text/html\n",
            "./usr/bin/xdg-open: 882: x-www-browser: Permission denied\n",
            "/usr/bin/xdg-open: 882: firefox: Permission denied\n",
            "/usr/bin/xdg-open: 882: iceweasel: Permission denied\n",
            "/usr/bin/xdg-open: 882: seamonkey: Permission denied\n",
            "/usr/bin/xdg-open: 882: mozilla: Permission denied\n",
            "/usr/bin/xdg-open: 882: epiphany: Permission denied\n",
            "/usr/bin/xdg-open: 882: konqueror: Permission denied\n",
            "/usr/bin/xdg-open: 882: chromium: Permission denied\n",
            "/usr/bin/xdg-open: 882: chromium-browser: Permission denied\n",
            "/usr/bin/xdg-open: 882: google-chrome: Permission denied\n",
            "/usr/bin/xdg-open: 882: www-browser: Permission denied\n",
            "/usr/bin/xdg-open: 882: links2: Permission denied\n",
            "/usr/bin/xdg-open: 882: elinks: Permission denied\n",
            "/usr/bin/xdg-open: 882: links: Permission denied\n",
            "/usr/bin/xdg-open: 882: lynx: Permission denied\n",
            "/usr/bin/xdg-open: 882: w3m: Permission denied\n",
            "xdg-open: no method available for opening 'file:///home/jshen/Projects/Summer 2025 Deep Learning/MNE Python Tutorials/Introductory Tutorials/report_projs.html'\n"
          ]
        },
        {
          "name": "stdout",
          "output_type": "stream",
          "text": [
            "    Using multitaper spectrum estimation with 7 DPSS windows\n",
            "Not setting metadata\n",
            "30 matching events found\n",
            "No baseline correction applied\n",
            "0 projection items activated\n",
            "    Using multitaper spectrum estimation with 7 DPSS windows\n",
            "Not setting metadata\n",
            "30 matching events found\n",
            "No baseline correction applied\n",
            "0 projection items activated\n",
            "    Using multitaper spectrum estimation with 7 DPSS windows\n",
            "Not setting metadata\n",
            "30 matching events found\n",
            "No baseline correction applied\n",
            "0 projection items activated\n"
          ]
        },
        {
          "name": "stderr",
          "output_type": "stream",
          "text": [
            "[Parallel(n_jobs=1)]: Done   3 out of   3 | elapsed:    2.3s finished\n"
          ]
        },
        {
          "name": "stdout",
          "output_type": "stream",
          "text": [
            "Saving report to : /home/jshen/Projects/Summer 2025 Deep Learning/MNE Python Tutorials/Introductory Tutorials/report_ica.html\n"
          ]
        },
        {
          "data": {
            "text/plain": [
              "'/home/jshen/Projects/Summer 2025 Deep Learning/MNE Python Tutorials/Introductory Tutorials/report_ica.html'"
            ]
          },
          "execution_count": 9,
          "metadata": {},
          "output_type": "execute_result"
        }
      ],
      "source": [
        "ica = mne.preprocessing.ICA(\n",
        "    n_components=5,  # fit 5 ICA components\n",
        "    fit_params=dict(tol=0.01),  # assume very early on that ICA has converged\n",
        ")\n",
        "\n",
        "ica.fit(inst=raw)\n",
        "\n",
        "# create epochs based on EOG events, find EOG artifacts in the data via pattern\n",
        "# matching, and exclude the EOG-related ICA components\n",
        "eog_epochs = mne.preprocessing.create_eog_epochs(raw=raw)\n",
        "eog_components, eog_scores = ica.find_bads_eog(\n",
        "    inst=eog_epochs,\n",
        "    ch_name=\"EEG 001\",  # a channel close to the eye\n",
        "    threshold=1,  # lower than the default threshold\n",
        ")\n",
        "ica.exclude = eog_components\n",
        "\n",
        "report = mne.Report(title=\"ICA example\")\n",
        "report.add_ica(\n",
        "    ica=ica,\n",
        "    title=\"ICA cleaning\",\n",
        "    picks=ica.exclude,  # plot the excluded EOG components\n",
        "    inst=raw,\n",
        "    eog_evoked=eog_epochs.average(),\n",
        "    eog_scores=eog_scores,\n",
        "    n_jobs=None,  # could be increased!\n",
        ")\n",
        "report.save(\"report_ica.html\", overwrite=True)"
      ]
    },
    {
      "cell_type": "markdown",
      "metadata": {},
      "source": [
        "## Adding MRI with BEM\n",
        "\n",
        "MRI slices with superimposed traces of the boundary element model (BEM)\n",
        "surfaces can be added via :meth:`mne.Report.add_bem`. All you need to pass is\n",
        "the FreeSurfer subject name and subjects directory, and a title. To reduce\n",
        "the resulting file size, you may pass the ``decim`` parameter to only include\n",
        "every n-th volume slice, and ``width`` to specify the width of the resulting\n",
        "figures in pixels.\n",
        "\n"
      ]
    },
    {
      "cell_type": "code",
      "execution_count": 10,
      "metadata": {
        "collapsed": false
      },
      "outputs": [
        {
          "name": "stdout",
          "output_type": "stream",
          "text": [
            "Embedding : jquery-3.6.0.min.js\n",
            "Embedding : bootstrap.bundle.min.js\n",
            "Embedding : bootstrap.min.css\n",
            "Embedding : bootstrap-table/bootstrap-table.min.js\n",
            "Embedding : bootstrap-table/bootstrap-table.min.css\n",
            "Embedding : bootstrap-table/bootstrap-table-copy-rows.min.js\n",
            "Embedding : bootstrap-table/bootstrap-table-export.min.js\n",
            "Embedding : bootstrap-table/tableExport.min.js\n",
            "Embedding : bootstrap-icons/bootstrap-icons.mne.min.css\n",
            "Embedding : highlightjs/highlight.min.js\n",
            "Embedding : highlightjs/atom-one-dark-reasonable.min.css\n",
            "Using surface: /home/jshen/mne_data/MNE-sample-data/subjects/sample/bem/inner_skull.surf\n",
            "Using surface: /home/jshen/mne_data/MNE-sample-data/subjects/sample/bem/outer_skull.surf\n",
            "Using surface: /home/jshen/mne_data/MNE-sample-data/subjects/sample/bem/outer_skin.surf\n"
          ]
        },
        {
          "name": "stderr",
          "output_type": "stream",
          "text": [
            "WARNING: You don't seem to have any mimeinfo.cache files.\n",
            "Try running the update-desktop-database command. If you\n",
            "don't have this command you should install the\n",
            "desktop-file-utils package. This package is available from\n",
            "http://freedesktop.org/wiki/Software/desktop-file-utils/\n",
            "No applications found for mimetype: text/html\n",
            "./usr/bin/xdg-open: 882: x-www-browser: Permission denied\n",
            "/usr/bin/xdg-open: 882: firefox: Permission denied\n",
            "/usr/bin/xdg-open: 882: iceweasel: Permission denied\n",
            "/usr/bin/xdg-open: 882: seamonkey: Permission denied\n",
            "/usr/bin/xdg-open: 882: mozilla: Permission denied\n",
            "[Parallel(n_jobs=1)]: Done   1 out of   1 | elapsed:    0.5s finished\n",
            "/usr/bin/xdg-open: 882: epiphany: Permission denied\n",
            "/usr/bin/xdg-open: 882: konqueror: Permission denied\n",
            "/usr/bin/xdg-open: 882: chromium: Permission denied\n",
            "/usr/bin/xdg-open: 882: chromium-browser: Permission denied\n",
            "/usr/bin/xdg-open: 882: google-chrome: Permission denied\n",
            "/usr/bin/xdg-open: 882: www-browser: Permission denied\n",
            "/usr/bin/xdg-open: 882: links2: Permission denied\n",
            "/usr/bin/xdg-open: 882: elinks: Permission denied\n",
            "/usr/bin/xdg-open: 882: links: Permission denied\n",
            "/usr/bin/xdg-open: 882: lynx: Permission denied\n",
            "/usr/bin/xdg-open: 882: w3m: Permission denied\n",
            "xdg-open: no method available for opening 'file:///home/jshen/Projects/Summer 2025 Deep Learning/MNE Python Tutorials/Introductory Tutorials/report_ica.html'\n",
            "[Parallel(n_jobs=1)]: Done   1 out of   1 | elapsed:    0.4s finished\n",
            "[Parallel(n_jobs=1)]: Done   1 out of   1 | elapsed:    0.4s finished\n"
          ]
        },
        {
          "name": "stdout",
          "output_type": "stream",
          "text": [
            "Saving report to : /home/jshen/Projects/Summer 2025 Deep Learning/MNE Python Tutorials/Introductory Tutorials/report_mri_and_bem.html\n"
          ]
        },
        {
          "data": {
            "text/plain": [
              "'/home/jshen/Projects/Summer 2025 Deep Learning/MNE Python Tutorials/Introductory Tutorials/report_mri_and_bem.html'"
            ]
          },
          "execution_count": 10,
          "metadata": {},
          "output_type": "execute_result"
        }
      ],
      "source": [
        "report = mne.Report(title=\"BEM example\")\n",
        "report.add_bem(\n",
        "    subject=\"sample\",\n",
        "    subjects_dir=subjects_dir,\n",
        "    title=\"MRI & BEM\",\n",
        "    decim=40,\n",
        "    width=256,\n",
        ")\n",
        "report.save(\"report_mri_and_bem.html\", overwrite=True)"
      ]
    },
    {
      "cell_type": "markdown",
      "metadata": {},
      "source": [
        "## Adding coregistration\n",
        "\n",
        "The sensor alignment (``head -> mri`` transformation obtained by\n",
        "\"coregistration\") can be visualized via :meth:`mne.Report.add_trans`. The\n",
        "method expects the transformation either as a `~mne.transforms.Transform`\n",
        "object or as a path to a ``trans.fif`` file, the FreeSurfer subject name and\n",
        "subjects directory, and a title. The ``alpha`` parameter can be used to\n",
        "control the transparency of the head, where a value of 1 means fully opaque.\n",
        "\n"
      ]
    },
    {
      "cell_type": "code",
      "execution_count": 11,
      "metadata": {
        "collapsed": false
      },
      "outputs": [
        {
          "name": "stdout",
          "output_type": "stream",
          "text": [
            "Embedding : jquery-3.6.0.min.js\n",
            "Embedding : bootstrap.bundle.min.js\n",
            "Embedding : bootstrap.min.css\n",
            "Embedding : bootstrap-table/bootstrap-table.min.js\n",
            "Embedding : bootstrap-table/bootstrap-table.min.css\n",
            "Embedding : bootstrap-table/bootstrap-table-copy-rows.min.js\n",
            "Embedding : bootstrap-table/bootstrap-table-export.min.js\n",
            "Embedding : bootstrap-table/tableExport.min.js\n",
            "Embedding : bootstrap-icons/bootstrap-icons.mne.min.css\n",
            "Embedding : highlightjs/highlight.min.js\n",
            "Embedding : highlightjs/atom-one-dark-reasonable.min.css\n",
            "    Read a total of 4 projection items:\n",
            "        PCA-v1 (1 x 102)  idle\n",
            "        PCA-v2 (1 x 102)  idle\n",
            "        PCA-v3 (1 x 102)  idle\n",
            "        Average EEG reference (1 x 60)  idle\n"
          ]
        },
        {
          "name": "stderr",
          "output_type": "stream",
          "text": [
            "WARNING: You don't seem to have any mimeinfo.cache files.\n",
            "Try running the update-desktop-database command. If you\n",
            "don't have this command you should install the\n",
            "desktop-file-utils package. This package is available from\n",
            "http://freedesktop.org/wiki/Software/desktop-file-utils/\n",
            "No applications found for mimetype: text/html\n",
            "./usr/bin/xdg-open: 882: x-www-browser: Permission denied\n",
            "/usr/bin/xdg-open: 882: firefox: Permission denied\n",
            "/usr/bin/xdg-open: 882: iceweasel: Permission denied\n",
            "/usr/bin/xdg-open: 882: seamonkey: Permission denied\n",
            "/usr/bin/xdg-open: 882: mozilla: Permission denied\n"
          ]
        },
        {
          "name": "stdout",
          "output_type": "stream",
          "text": [
            "Using pyvistaqt 3d backend.\n"
          ]
        },
        {
          "name": "stderr",
          "output_type": "stream",
          "text": [
            "/usr/bin/xdg-open: 882: epiphany: Permission denied\n",
            "/usr/bin/xdg-open: 882: konqueror: Permission denied\n",
            "/usr/bin/xdg-open: 882: chromium: Permission denied\n",
            "QStandardPaths: wrong permissions on runtime directory /run/user/1000/, 0755 instead of 0700\n",
            "/usr/bin/xdg-open: 882: chromium-browser: Permission denied\n",
            "/usr/bin/xdg-open: 882: google-chrome: Permission denied\n",
            "/usr/bin/xdg-open: 882: www-browser: Permission denied\n",
            "/usr/bin/xdg-open: 882: links2: Permission denied\n",
            "/usr/bin/xdg-open: 882: elinks: Permission denied\n",
            "/usr/bin/xdg-open: 882: links: Permission denied\n",
            "/usr/bin/xdg-open: 882: lynx: Permission denied\n",
            "/usr/bin/xdg-open: 882: w3m: Permission denied\n",
            "xdg-open: no method available for opening 'file:///home/jshen/Projects/Summer 2025 Deep Learning/MNE Python Tutorials/Introductory Tutorials/report_mri_and_bem.html'\n"
          ]
        },
        {
          "name": "stdout",
          "output_type": "stream",
          "text": [
            "True\n",
            "True\n",
            "Using lh.seghead for head surface.\n",
            "Getting helmet for system 306m\n",
            "Channel types::\tgrad: 203, mag: 102, eeg: 59\n",
            "Using surface from /home/jshen/mne_data/MNE-sample-data/subjects/sample/bem/sample-head.fif.\n"
          ]
        },
        {
          "ename": "AttributeError",
          "evalue": "'_FakeEventHandler' object has no attribute 'LeftButtonPressEvent'",
          "output_type": "error",
          "traceback": [
            "\u001b[31m---------------------------------------------------------------------------\u001b[39m",
            "\u001b[31mAttributeError\u001b[39m                            Traceback (most recent call last)",
            "\u001b[36mFile \u001b[39m\u001b[32m~/miniconda3/envs/Summer2025DL/lib/python3.13/site-packages/pyvistaqt/rwi.py:576\u001b[39m, in \u001b[36mQVTKRenderWindowInteractor.mousePressEvent\u001b[39m\u001b[34m(self, ev)\u001b[39m\n\u001b[32m    573\u001b[39m \u001b[38;5;28mself\u001b[39m._ActiveButton = ev.button()\n\u001b[32m    575\u001b[39m \u001b[38;5;28;01mif\u001b[39;00m \u001b[38;5;28mself\u001b[39m._ActiveButton == MouseButton.LeftButton:\n\u001b[32m--> \u001b[39m\u001b[32m576\u001b[39m     \u001b[38;5;28;43mself\u001b[39;49m\u001b[43m.\u001b[49m\u001b[43m_Iren\u001b[49m\u001b[43m.\u001b[49m\u001b[43mLeftButtonPressEvent\u001b[49m()\n\u001b[32m    577\u001b[39m \u001b[38;5;28;01melif\u001b[39;00m \u001b[38;5;28mself\u001b[39m._ActiveButton == MouseButton.RightButton:\n\u001b[32m    578\u001b[39m     \u001b[38;5;28mself\u001b[39m._Iren.RightButtonPressEvent()\n",
            "\u001b[31mAttributeError\u001b[39m: '_FakeEventHandler' object has no attribute 'LeftButtonPressEvent'"
          ]
        },
        {
          "ename": "AttributeError",
          "evalue": "'_FakeEventHandler' object has no attribute 'LeftButtonReleaseEvent'",
          "output_type": "error",
          "traceback": [
            "\u001b[31m---------------------------------------------------------------------------\u001b[39m",
            "\u001b[31mAttributeError\u001b[39m                            Traceback (most recent call last)",
            "\u001b[36mFile \u001b[39m\u001b[32m~/miniconda3/envs/Summer2025DL/lib/python3.13/site-packages/pyvistaqt/rwi.py:589\u001b[39m, in \u001b[36mQVTKRenderWindowInteractor.mouseReleaseEvent\u001b[39m\u001b[34m(self, ev)\u001b[39m\n\u001b[32m    585\u001b[39m \u001b[38;5;28mself\u001b[39m._setEventInformation(pos_x, pos_y,\n\u001b[32m    586\u001b[39m                           ctrl, shift, \u001b[38;5;28mchr\u001b[39m(\u001b[32m0\u001b[39m), \u001b[32m0\u001b[39m, \u001b[38;5;28;01mNone\u001b[39;00m)\n\u001b[32m    588\u001b[39m \u001b[38;5;28;01mif\u001b[39;00m \u001b[38;5;28mself\u001b[39m._ActiveButton == MouseButton.LeftButton:\n\u001b[32m--> \u001b[39m\u001b[32m589\u001b[39m     \u001b[38;5;28;43mself\u001b[39;49m\u001b[43m.\u001b[49m\u001b[43m_Iren\u001b[49m\u001b[43m.\u001b[49m\u001b[43mLeftButtonReleaseEvent\u001b[49m()\n\u001b[32m    590\u001b[39m \u001b[38;5;28;01melif\u001b[39;00m \u001b[38;5;28mself\u001b[39m._ActiveButton == MouseButton.RightButton:\n\u001b[32m    591\u001b[39m     \u001b[38;5;28mself\u001b[39m._Iren.RightButtonReleaseEvent()\n",
            "\u001b[31mAttributeError\u001b[39m: '_FakeEventHandler' object has no attribute 'LeftButtonReleaseEvent'"
          ]
        },
        {
          "ename": "AttributeError",
          "evalue": "'_FakeEventHandler' object has no attribute 'LeftButtonPressEvent'",
          "output_type": "error",
          "traceback": [
            "\u001b[31m---------------------------------------------------------------------------\u001b[39m",
            "\u001b[31mAttributeError\u001b[39m                            Traceback (most recent call last)",
            "\u001b[36mFile \u001b[39m\u001b[32m~/miniconda3/envs/Summer2025DL/lib/python3.13/site-packages/pyvistaqt/rwi.py:576\u001b[39m, in \u001b[36mQVTKRenderWindowInteractor.mousePressEvent\u001b[39m\u001b[34m(self, ev)\u001b[39m\n\u001b[32m    573\u001b[39m \u001b[38;5;28mself\u001b[39m._ActiveButton = ev.button()\n\u001b[32m    575\u001b[39m \u001b[38;5;28;01mif\u001b[39;00m \u001b[38;5;28mself\u001b[39m._ActiveButton == MouseButton.LeftButton:\n\u001b[32m--> \u001b[39m\u001b[32m576\u001b[39m     \u001b[38;5;28;43mself\u001b[39;49m\u001b[43m.\u001b[49m\u001b[43m_Iren\u001b[49m\u001b[43m.\u001b[49m\u001b[43mLeftButtonPressEvent\u001b[49m()\n\u001b[32m    577\u001b[39m \u001b[38;5;28;01melif\u001b[39;00m \u001b[38;5;28mself\u001b[39m._ActiveButton == MouseButton.RightButton:\n\u001b[32m    578\u001b[39m     \u001b[38;5;28mself\u001b[39m._Iren.RightButtonPressEvent()\n",
            "\u001b[31mAttributeError\u001b[39m: '_FakeEventHandler' object has no attribute 'LeftButtonPressEvent'"
          ]
        },
        {
          "ename": "AttributeError",
          "evalue": "'_FakeEventHandler' object has no attribute 'LeftButtonReleaseEvent'",
          "output_type": "error",
          "traceback": [
            "\u001b[31m---------------------------------------------------------------------------\u001b[39m",
            "\u001b[31mAttributeError\u001b[39m                            Traceback (most recent call last)",
            "\u001b[36mFile \u001b[39m\u001b[32m~/miniconda3/envs/Summer2025DL/lib/python3.13/site-packages/pyvistaqt/rwi.py:589\u001b[39m, in \u001b[36mQVTKRenderWindowInteractor.mouseReleaseEvent\u001b[39m\u001b[34m(self, ev)\u001b[39m\n\u001b[32m    585\u001b[39m \u001b[38;5;28mself\u001b[39m._setEventInformation(pos_x, pos_y,\n\u001b[32m    586\u001b[39m                           ctrl, shift, \u001b[38;5;28mchr\u001b[39m(\u001b[32m0\u001b[39m), \u001b[32m0\u001b[39m, \u001b[38;5;28;01mNone\u001b[39;00m)\n\u001b[32m    588\u001b[39m \u001b[38;5;28;01mif\u001b[39;00m \u001b[38;5;28mself\u001b[39m._ActiveButton == MouseButton.LeftButton:\n\u001b[32m--> \u001b[39m\u001b[32m589\u001b[39m     \u001b[38;5;28;43mself\u001b[39;49m\u001b[43m.\u001b[49m\u001b[43m_Iren\u001b[49m\u001b[43m.\u001b[49m\u001b[43mLeftButtonReleaseEvent\u001b[49m()\n\u001b[32m    590\u001b[39m \u001b[38;5;28;01melif\u001b[39;00m \u001b[38;5;28mself\u001b[39m._ActiveButton == MouseButton.RightButton:\n\u001b[32m    591\u001b[39m     \u001b[38;5;28mself\u001b[39m._Iren.RightButtonReleaseEvent()\n",
            "\u001b[31mAttributeError\u001b[39m: '_FakeEventHandler' object has no attribute 'LeftButtonReleaseEvent'"
          ]
        },
        {
          "ename": "AttributeError",
          "evalue": "'_FakeEventHandler' object has no attribute 'RightButtonPressEvent'",
          "output_type": "error",
          "traceback": [
            "\u001b[31m---------------------------------------------------------------------------\u001b[39m",
            "\u001b[31mAttributeError\u001b[39m                            Traceback (most recent call last)",
            "\u001b[36mFile \u001b[39m\u001b[32m~/miniconda3/envs/Summer2025DL/lib/python3.13/site-packages/pyvistaqt/rwi.py:578\u001b[39m, in \u001b[36mQVTKRenderWindowInteractor.mousePressEvent\u001b[39m\u001b[34m(self, ev)\u001b[39m\n\u001b[32m    576\u001b[39m     \u001b[38;5;28mself\u001b[39m._Iren.LeftButtonPressEvent()\n\u001b[32m    577\u001b[39m \u001b[38;5;28;01melif\u001b[39;00m \u001b[38;5;28mself\u001b[39m._ActiveButton == MouseButton.RightButton:\n\u001b[32m--> \u001b[39m\u001b[32m578\u001b[39m     \u001b[38;5;28;43mself\u001b[39;49m\u001b[43m.\u001b[49m\u001b[43m_Iren\u001b[49m\u001b[43m.\u001b[49m\u001b[43mRightButtonPressEvent\u001b[49m()\n\u001b[32m    579\u001b[39m \u001b[38;5;28;01melif\u001b[39;00m \u001b[38;5;28mself\u001b[39m._ActiveButton == MiddleButton:\n\u001b[32m    580\u001b[39m     \u001b[38;5;28mself\u001b[39m._Iren.MiddleButtonPressEvent()\n",
            "\u001b[31mAttributeError\u001b[39m: '_FakeEventHandler' object has no attribute 'RightButtonPressEvent'"
          ]
        },
        {
          "ename": "AttributeError",
          "evalue": "'_FakeEventHandler' object has no attribute 'RightButtonReleaseEvent'",
          "output_type": "error",
          "traceback": [
            "\u001b[31m---------------------------------------------------------------------------\u001b[39m",
            "\u001b[31mAttributeError\u001b[39m                            Traceback (most recent call last)",
            "\u001b[36mFile \u001b[39m\u001b[32m~/miniconda3/envs/Summer2025DL/lib/python3.13/site-packages/pyvistaqt/rwi.py:591\u001b[39m, in \u001b[36mQVTKRenderWindowInteractor.mouseReleaseEvent\u001b[39m\u001b[34m(self, ev)\u001b[39m\n\u001b[32m    589\u001b[39m     \u001b[38;5;28mself\u001b[39m._Iren.LeftButtonReleaseEvent()\n\u001b[32m    590\u001b[39m \u001b[38;5;28;01melif\u001b[39;00m \u001b[38;5;28mself\u001b[39m._ActiveButton == MouseButton.RightButton:\n\u001b[32m--> \u001b[39m\u001b[32m591\u001b[39m     \u001b[38;5;28;43mself\u001b[39;49m\u001b[43m.\u001b[49m\u001b[43m_Iren\u001b[49m\u001b[43m.\u001b[49m\u001b[43mRightButtonReleaseEvent\u001b[49m()\n\u001b[32m    592\u001b[39m \u001b[38;5;28;01melif\u001b[39;00m \u001b[38;5;28mself\u001b[39m._ActiveButton == MiddleButton:\n\u001b[32m    593\u001b[39m     \u001b[38;5;28mself\u001b[39m._Iren.MiddleButtonReleaseEvent()\n",
            "\u001b[31mAttributeError\u001b[39m: '_FakeEventHandler' object has no attribute 'RightButtonReleaseEvent'"
          ]
        },
        {
          "ename": "AttributeError",
          "evalue": "'_FakeEventHandler' object has no attribute 'MiddleButtonPressEvent'",
          "output_type": "error",
          "traceback": [
            "\u001b[31m---------------------------------------------------------------------------\u001b[39m",
            "\u001b[31mAttributeError\u001b[39m                            Traceback (most recent call last)",
            "\u001b[36mFile \u001b[39m\u001b[32m~/miniconda3/envs/Summer2025DL/lib/python3.13/site-packages/pyvistaqt/rwi.py:580\u001b[39m, in \u001b[36mQVTKRenderWindowInteractor.mousePressEvent\u001b[39m\u001b[34m(self, ev)\u001b[39m\n\u001b[32m    578\u001b[39m     \u001b[38;5;28mself\u001b[39m._Iren.RightButtonPressEvent()\n\u001b[32m    579\u001b[39m \u001b[38;5;28;01melif\u001b[39;00m \u001b[38;5;28mself\u001b[39m._ActiveButton == MiddleButton:\n\u001b[32m--> \u001b[39m\u001b[32m580\u001b[39m     \u001b[38;5;28;43mself\u001b[39;49m\u001b[43m.\u001b[49m\u001b[43m_Iren\u001b[49m\u001b[43m.\u001b[49m\u001b[43mMiddleButtonPressEvent\u001b[49m()\n",
            "\u001b[31mAttributeError\u001b[39m: '_FakeEventHandler' object has no attribute 'MiddleButtonPressEvent'"
          ]
        },
        {
          "ename": "AttributeError",
          "evalue": "'_FakeEventHandler' object has no attribute 'MiddleButtonReleaseEvent'",
          "output_type": "error",
          "traceback": [
            "\u001b[31m---------------------------------------------------------------------------\u001b[39m",
            "\u001b[31mAttributeError\u001b[39m                            Traceback (most recent call last)",
            "\u001b[36mFile \u001b[39m\u001b[32m~/miniconda3/envs/Summer2025DL/lib/python3.13/site-packages/pyvistaqt/rwi.py:593\u001b[39m, in \u001b[36mQVTKRenderWindowInteractor.mouseReleaseEvent\u001b[39m\u001b[34m(self, ev)\u001b[39m\n\u001b[32m    591\u001b[39m     \u001b[38;5;28mself\u001b[39m._Iren.RightButtonReleaseEvent()\n\u001b[32m    592\u001b[39m \u001b[38;5;28;01melif\u001b[39;00m \u001b[38;5;28mself\u001b[39m._ActiveButton == MiddleButton:\n\u001b[32m--> \u001b[39m\u001b[32m593\u001b[39m     \u001b[38;5;28;43mself\u001b[39;49m\u001b[43m.\u001b[49m\u001b[43m_Iren\u001b[49m\u001b[43m.\u001b[49m\u001b[43mMiddleButtonReleaseEvent\u001b[49m()\n",
            "\u001b[31mAttributeError\u001b[39m: '_FakeEventHandler' object has no attribute 'MiddleButtonReleaseEvent'"
          ]
        },
        {
          "name": "stdout",
          "output_type": "stream",
          "text": [
            "Saving report to : /home/jshen/Projects/Summer 2025 Deep Learning/MNE Python Tutorials/Introductory Tutorials/report_coregistration.html\n"
          ]
        },
        {
          "data": {
            "text/plain": [
              "'/home/jshen/Projects/Summer 2025 Deep Learning/MNE Python Tutorials/Introductory Tutorials/report_coregistration.html'"
            ]
          },
          "execution_count": 11,
          "metadata": {},
          "output_type": "execute_result"
        }
      ],
      "source": [
        "trans_path = sample_dir / \"sample_audvis_raw-trans.fif\"\n",
        "\n",
        "report = mne.Report(title=\"Coregistration example\")\n",
        "report.add_trans(\n",
        "    trans=trans_path,\n",
        "    info=raw_path,\n",
        "    subject=\"sample\",\n",
        "    subjects_dir=subjects_dir,\n",
        "    alpha=1.0,\n",
        "    title=\"Coregistration\",\n",
        ")\n",
        "report.save(\"report_coregistration.html\", overwrite=True)"
      ]
    },
    {
      "cell_type": "markdown",
      "metadata": {},
      "source": [
        "## Adding a `~mne.Forward` solution\n",
        "\n",
        "Forward solutions (\"leadfields\") can be added by passing a `~mne.Forward`\n",
        "object or the path to a forward solution stored on disk to\n",
        "meth:`mne.Report.add_forward`.\n",
        "\n"
      ]
    },
    {
      "cell_type": "code",
      "execution_count": 12,
      "metadata": {
        "collapsed": false
      },
      "outputs": [
        {
          "name": "stdout",
          "output_type": "stream",
          "text": [
            "Embedding : jquery-3.6.0.min.js\n",
            "Embedding : bootstrap.bundle.min.js\n",
            "Embedding : bootstrap.min.css\n",
            "Embedding : bootstrap-table/bootstrap-table.min.js\n",
            "Embedding : bootstrap-table/bootstrap-table.min.css\n",
            "Embedding : bootstrap-table/bootstrap-table-copy-rows.min.js\n",
            "Embedding : bootstrap-table/bootstrap-table-export.min.js\n",
            "Embedding : bootstrap-table/tableExport.min.js\n",
            "Embedding : bootstrap-icons/bootstrap-icons.mne.min.css\n",
            "Embedding : highlightjs/highlight.min.js\n",
            "Embedding : highlightjs/atom-one-dark-reasonable.min.css\n",
            "Reading forward solution from /home/jshen/mne_data/MNE-sample-data/MEG/sample/sample_audvis-meg-oct-6-fwd.fif...\n",
            "    Reading a source space...\n",
            "    Computing patch statistics...\n",
            "    Patch information added...\n",
            "    Distance information added...\n",
            "    [done]\n",
            "    Reading a source space...\n",
            "    Computing patch statistics...\n",
            "    Patch information added...\n",
            "    Distance information added...\n",
            "    [done]\n",
            "    2 source spaces read\n",
            "    Desired named matrix (kind = 3523 (FIFF_MNE_FORWARD_SOLUTION_GRAD)) not available\n",
            "    Read MEG forward solution (7498 sources, 306 channels, free orientations)\n",
            "    Source spaces transformed to the forward solution coordinate frame\n",
            "Saving report to : /home/jshen/Projects/Summer 2025 Deep Learning/MNE Python Tutorials/Introductory Tutorials/report_forward_sol.html\n"
          ]
        },
        {
          "data": {
            "text/plain": [
              "'/home/jshen/Projects/Summer 2025 Deep Learning/MNE Python Tutorials/Introductory Tutorials/report_forward_sol.html'"
            ]
          },
          "execution_count": 12,
          "metadata": {},
          "output_type": "execute_result"
        }
      ],
      "source": [
        "fwd_path = sample_dir / \"sample_audvis-meg-oct-6-fwd.fif\"\n",
        "\n",
        "report = mne.Report(title=\"Forward solution example\")\n",
        "report.add_forward(forward=fwd_path, title=\"Forward solution\")\n",
        "report.save(\"report_forward_sol.html\", overwrite=True)"
      ]
    },
    {
      "cell_type": "markdown",
      "metadata": {},
      "source": [
        "## Adding an `~mne.minimum_norm.InverseOperator`\n",
        "\n",
        "An inverse operator can be added via :meth:`mne.Report.add_inverse_operator`.\n",
        "The method expects an `~mne.minimum_norm.InverseOperator` object or a path to\n",
        "one stored on disk, and a title.\n",
        "\n"
      ]
    },
    {
      "cell_type": "code",
      "execution_count": 13,
      "metadata": {
        "collapsed": false
      },
      "outputs": [
        {
          "name": "stdout",
          "output_type": "stream",
          "text": [
            "Embedding : jquery-3.6.0.min.js\n",
            "Embedding : bootstrap.bundle.min.js\n",
            "Embedding : bootstrap.min.css\n",
            "Embedding : bootstrap-table/bootstrap-table.min.js\n",
            "Embedding : bootstrap-table/bootstrap-table.min.css\n",
            "Embedding : bootstrap-table/bootstrap-table-copy-rows.min.js\n",
            "Embedding : bootstrap-table/bootstrap-table-export.min.js\n",
            "Embedding : bootstrap-table/tableExport.min.js\n",
            "Embedding : bootstrap-icons/bootstrap-icons.mne.min.css\n",
            "Embedding : highlightjs/highlight.min.js\n",
            "Embedding : highlightjs/atom-one-dark-reasonable.min.css\n",
            "Reading inverse operator decomposition from /home/jshen/mne_data/MNE-sample-data/MEG/sample/sample_audvis-meg-oct-6-meg-inv.fif...\n",
            "    Reading inverse operator info...\n",
            "    [done]\n",
            "    Reading inverse operator decomposition...\n",
            "    [done]\n",
            "    305 x 305 full covariance (kind = 1) found.\n",
            "    Read a total of 4 projection items:\n",
            "        PCA-v1 (1 x 102) active\n",
            "        PCA-v2 (1 x 102) active\n",
            "        PCA-v3 (1 x 102) active\n",
            "        Average EEG reference (1 x 60) active\n",
            "    Noise covariance matrix read.\n",
            "    22494 x 22494 diagonal covariance (kind = 2) found.\n",
            "    Source covariance matrix read.\n",
            "    22494 x 22494 diagonal covariance (kind = 6) found.\n",
            "    Orientation priors read.\n",
            "    22494 x 22494 diagonal covariance (kind = 5) found.\n",
            "    Depth priors read.\n",
            "    Did not find the desired covariance matrix (kind = 3)\n",
            "    Reading a source space...\n",
            "    Computing patch statistics...\n",
            "    Patch information added...\n",
            "    Distance information added...\n",
            "    [done]\n",
            "    Reading a source space...\n",
            "    Computing patch statistics...\n",
            "    Patch information added...\n",
            "    Distance information added...\n",
            "    [done]\n",
            "    2 source spaces read\n",
            "    Read a total of 4 projection items:\n",
            "        PCA-v1 (1 x 102) active\n",
            "        PCA-v2 (1 x 102) active\n",
            "        PCA-v3 (1 x 102) active\n",
            "        Average EEG reference (1 x 60) active\n",
            "    Source spaces transformed to the inverse solution coordinate frame\n",
            "Saving report to : /home/jshen/Projects/Summer 2025 Deep Learning/MNE Python Tutorials/Introductory Tutorials/report_inverse_op.html\n"
          ]
        },
        {
          "name": "stderr",
          "output_type": "stream",
          "text": [
            "WARNING: You don't seem to have any mimeinfo.cache files.\n",
            "Try running the update-desktop-database command. If you\n",
            "don't have this command you should install the\n",
            "desktop-file-utils package. This package is available from\n",
            "http://freedesktop.org/wiki/Software/desktop-file-utils/\n",
            "No applications found for mimetype: text/html\n",
            "."
          ]
        },
        {
          "data": {
            "text/plain": [
              "'/home/jshen/Projects/Summer 2025 Deep Learning/MNE Python Tutorials/Introductory Tutorials/report_inverse_op.html'"
            ]
          },
          "execution_count": 13,
          "metadata": {},
          "output_type": "execute_result"
        }
      ],
      "source": [
        "inverse_op_path = sample_dir / \"sample_audvis-meg-oct-6-meg-inv.fif\"\n",
        "\n",
        "report = mne.Report(title=\"Inverse operator example\")\n",
        "report.add_inverse_operator(inverse_operator=inverse_op_path, title=\"Inverse operator\")\n",
        "report.save(\"report_inverse_op.html\", overwrite=True)"
      ]
    },
    {
      "cell_type": "markdown",
      "metadata": {},
      "source": [
        "## Adding a `~mne.SourceEstimate`\n",
        "\n",
        "An inverse solution (also called source estimate or source time course, STC)\n",
        "can be added via :meth:`mne.Report.add_stc`. The\n",
        "method expects an `~mne.SourceEstimate`, the corresponding FreeSurfer subject\n",
        "name and subjects directory, and a title. By default, it will produce\n",
        "snapshots at 51 equally-spaced time points (or fewer, if the data contains\n",
        "fewer time points). We can adjust this via the ``n_time_points`` parameter.\n",
        "\n"
      ]
    },
    {
      "cell_type": "code",
      "execution_count": 14,
      "metadata": {
        "collapsed": false
      },
      "outputs": [
        {
          "name": "stdout",
          "output_type": "stream",
          "text": [
            "Embedding : jquery-3.6.0.min.js\n",
            "Embedding : bootstrap.bundle.min.js\n",
            "Embedding : bootstrap.min.css\n",
            "Embedding : bootstrap-table/bootstrap-table.min.js\n",
            "Embedding : bootstrap-table/bootstrap-table.min.css\n",
            "Embedding : bootstrap-table/bootstrap-table-copy-rows.min.js\n",
            "Embedding : bootstrap-table/bootstrap-table-export.min.js\n",
            "Embedding : bootstrap-table/tableExport.min.js\n",
            "Embedding : bootstrap-icons/bootstrap-icons.mne.min.css\n",
            "Embedding : highlightjs/highlight.min.js\n",
            "Embedding : highlightjs/atom-one-dark-reasonable.min.css\n",
            "Using control points [ 5.01632618  6.06303297 21.63565434]\n"
          ]
        },
        {
          "name": "stderr",
          "output_type": "stream",
          "text": [
            "/usr/bin/xdg-open: 882: x-www-browser: Permission denied\n",
            "WARNING: You don't seem to have any mimeinfo.cache files.\n",
            "Try running the update-desktop-database command. If you\n",
            "don't have this command you should install the\n",
            "desktop-file-utils package. This package is available from\n",
            "http://freedesktop.org/wiki/Software/desktop-file-utils/\n",
            "No applications found for mimetype: text/html\n",
            "./usr/bin/xdg-open: 882: firefox: Permission denied\n",
            "/usr/bin/xdg-open: 882: iceweasel: Permission denied\n",
            "/usr/bin/xdg-open: 882: x-www-browser: Permission denied\n",
            "WARNING: You don't seem to have any mimeinfo.cache files.\n",
            "Try running the update-desktop-database command. If you\n",
            "don't have this command you should install the\n",
            "desktop-file-utils package. This package is available from\n",
            "http://freedesktop.org/wiki/Software/desktop-file-utils/\n",
            "/usr/bin/xdg-open: 882: seamonkey: Permission denied\n"
          ]
        },
        {
          "name": "stdout",
          "output_type": "stream",
          "text": [
            "True\n"
          ]
        },
        {
          "name": "stderr",
          "output_type": "stream",
          "text": [
            "No applications found for mimetype: text/html\n",
            "./usr/bin/xdg-open: 882: firefox: Permission denied\n",
            "/usr/bin/xdg-open: 882: mozilla: Permission denied\n",
            "/usr/bin/xdg-open: 882: iceweasel: Permission denied\n",
            "/usr/bin/xdg-open: 882: x-www-browser: Permission denied\n",
            "/usr/bin/xdg-open: 882: epiphany: Permission denied\n",
            "/usr/bin/xdg-open: 882: seamonkey: Permission denied\n",
            "/usr/bin/xdg-open: 882: konqueror: Permission denied\n",
            "/usr/bin/xdg-open: 882: firefox: Permission denied\n",
            "/usr/bin/xdg-open: 882: chromium: Permission denied\n",
            "/usr/bin/xdg-open: 882: mozilla: Permission denied\n",
            "/usr/bin/xdg-open: 882: iceweasel: Permission denied\n",
            "/usr/bin/xdg-open: 882: chromium-browser: Permission denied\n",
            "/usr/bin/xdg-open: 882: epiphany: Permission denied\n",
            "/usr/bin/xdg-open: 882: seamonkey: Permission denied\n",
            "/usr/bin/xdg-open: 882: google-chrome: Permission denied\n",
            "/usr/bin/xdg-open: 882: konqueror: Permission denied\n",
            "/usr/bin/xdg-open: 882: mozilla: Permission denied\n",
            "/usr/bin/xdg-open: 882: www-browser: Permission denied\n",
            "/usr/bin/xdg-open: 882: chromium: Permission denied\n",
            "/usr/bin/xdg-open: 882: epiphany: Permission denied\n",
            "/usr/bin/xdg-open: 882: links2: Permission denied\n",
            "/usr/bin/xdg-open: 882: chromium-browser: Permission denied\n",
            "/usr/bin/xdg-open: 882: elinks: Permission denied\n",
            "/usr/bin/xdg-open: 882: konqueror: Permission denied\n",
            "/usr/bin/xdg-open: 882: /usr/bin/xdg-open: 882: links: Permission denied\n",
            "chromium: Permission denied\n",
            "/usr/bin/xdg-open: 882: google-chrome: Permission denied\n",
            "/usr/bin/xdg-open: 882: lynx: Permission denied\n",
            "/usr/bin/xdg-open: 882: chromium-browser: Permission denied\n",
            "/usr/bin/xdg-open: 882: www-browser: Permission denied\n",
            "/usr/bin/xdg-open: 882: w3m: Permission denied\n",
            "xdg-open: no method available for opening 'file:///home/jshen/Projects/Summer 2025 Deep Learning/MNE Python Tutorials/Introductory Tutorials/report_coregistration.html'\n",
            "/usr/bin/xdg-open: 882: google-chrome: Permission denied\n",
            "/usr/bin/xdg-open: 882: links2: Permission denied\n",
            "/usr/bin/xdg-open: 882: www-browser: Permission denied\n",
            "/usr/bin/xdg-open: 882: elinks: Permission denied\n",
            "/usr/bin/xdg-open: 882: links2: Permission denied\n",
            "/usr/bin/xdg-open: 882: links: Permission denied\n",
            "/usr/bin/xdg-open: 882: elinks: Permission denied\n",
            "/usr/bin/xdg-open: 882: lynx: Permission denied\n",
            "/usr/bin/xdg-open: 882: links: Permission denied\n",
            "/usr/bin/xdg-open: 882: w3m: Permission denied\n",
            "xdg-open: no method available for opening 'file:///home/jshen/Projects/Summer 2025 Deep Learning/MNE Python Tutorials/Introductory Tutorials/report_forward_sol.html'\n",
            "/usr/bin/xdg-open: 882: lynx: Permission denied\n",
            "/usr/bin/xdg-open: 882: w3m: Permission denied\n",
            "xdg-open: no method available for opening 'file:///home/jshen/Projects/Summer 2025 Deep Learning/MNE Python Tutorials/Introductory Tutorials/report_inverse_op.html'\n"
          ]
        },
        {
          "name": "stdout",
          "output_type": "stream",
          "text": [
            "Saving report to : /home/jshen/Projects/Summer 2025 Deep Learning/MNE Python Tutorials/Introductory Tutorials/report_inverse_sol.html\n"
          ]
        },
        {
          "data": {
            "text/plain": [
              "'/home/jshen/Projects/Summer 2025 Deep Learning/MNE Python Tutorials/Introductory Tutorials/report_inverse_sol.html'"
            ]
          },
          "execution_count": 14,
          "metadata": {},
          "output_type": "execute_result"
        }
      ],
      "source": [
        "stc_path = sample_dir / \"sample_audvis-meg\"\n",
        "\n",
        "report = mne.Report(title=\"Source estimate example\")\n",
        "report.add_stc(\n",
        "    stc=stc_path,\n",
        "    subject=\"sample\",\n",
        "    subjects_dir=subjects_dir,\n",
        "    title=\"Source estimate\",\n",
        "    n_time_points=2,  # few for speed\n",
        ")\n",
        "report.save(\"report_inverse_sol.html\", overwrite=True)"
      ]
    },
    {
      "cell_type": "markdown",
      "metadata": {},
      "source": [
        "## Adding source code (e.g., a Python script)\n",
        "\n",
        "It is possible to add code or scripts (e.g., the scripts you used for\n",
        "analysis) to the report via :meth:`mne.Report.add_code`. The code blocks will\n",
        "be automatically syntax-highlighted. You may pass a string with the\n",
        "respective code snippet, or the path to a file. If you pass a path, it\n",
        "**must** be a `pathlib.Path` object (and not a string), otherwise it will be\n",
        "treated as a code literal.\n",
        "\n",
        "Optionally, you can specify which programming language to assume for syntax\n",
        "highlighting by passing the ``language`` parameter. By default, we'll assume\n",
        "the provided code is Python.\n",
        "\n"
      ]
    },
    {
      "cell_type": "code",
      "execution_count": 15,
      "metadata": {
        "collapsed": false
      },
      "outputs": [
        {
          "name": "stdout",
          "output_type": "stream",
          "text": [
            "Embedding : jquery-3.6.0.min.js\n",
            "Embedding : bootstrap.bundle.min.js\n",
            "Embedding : bootstrap.min.css\n",
            "Embedding : bootstrap-table/bootstrap-table.min.js\n",
            "Embedding : bootstrap-table/bootstrap-table.min.css\n",
            "Embedding : bootstrap-table/bootstrap-table-copy-rows.min.js\n",
            "Embedding : bootstrap-table/bootstrap-table-export.min.js\n",
            "Embedding : bootstrap-table/tableExport.min.js\n",
            "Embedding : bootstrap-icons/bootstrap-icons.mne.min.css\n",
            "Embedding : highlightjs/highlight.min.js\n",
            "Embedding : highlightjs/atom-one-dark-reasonable.min.css\n",
            "Saving report to : /home/jshen/Projects/Summer 2025 Deep Learning/MNE Python Tutorials/Introductory Tutorials/report_code.html\n"
          ]
        },
        {
          "data": {
            "text/plain": [
              "'/home/jshen/Projects/Summer 2025 Deep Learning/MNE Python Tutorials/Introductory Tutorials/report_code.html'"
            ]
          },
          "execution_count": 15,
          "metadata": {},
          "output_type": "execute_result"
        }
      ],
      "source": [
        "mne_init_py_path = Path(mne.__file__)  # __init__.py in the MNE-Python root\n",
        "mne_init_py_content = mne_init_py_path.read_text(encoding=\"utf-8\")\n",
        "\n",
        "report = mne.Report(title=\"Code example\")\n",
        "report.add_code(code=mne_init_py_path, title=\"Code from Path\")\n",
        "report.add_code(code=mne_init_py_content, title=\"Code from string\")\n",
        "\n",
        "report.save(\"report_code.html\", overwrite=True)"
      ]
    },
    {
      "cell_type": "markdown",
      "metadata": {},
      "source": [
        "## Adding custom figures\n",
        "\n",
        "Custom Matplotlib figures can be added via :meth:`~mne.Report.add_figure`.\n",
        "Required parameters are the figure and a title. Optionally, may add a caption\n",
        "to appear below the figure. You can also specify the image format of the\n",
        "image file that will be generated from the figure, so it can be embedded in\n",
        "the HTML report.\n",
        "\n"
      ]
    },
    {
      "cell_type": "code",
      "execution_count": 16,
      "metadata": {
        "collapsed": false
      },
      "outputs": [
        {
          "name": "stdout",
          "output_type": "stream",
          "text": [
            "Embedding : jquery-3.6.0.min.js\n",
            "Embedding : bootstrap.bundle.min.js\n",
            "Embedding : bootstrap.min.css\n",
            "Embedding : bootstrap-table/bootstrap-table.min.js\n",
            "Embedding : bootstrap-table/bootstrap-table.min.css\n",
            "Embedding : bootstrap-table/bootstrap-table-copy-rows.min.js\n",
            "Embedding : bootstrap-table/bootstrap-table-export.min.js\n",
            "Embedding : bootstrap-table/tableExport.min.js\n",
            "Embedding : bootstrap-icons/bootstrap-icons.mne.min.css\n",
            "Embedding : highlightjs/highlight.min.js\n",
            "Embedding : highlightjs/atom-one-dark-reasonable.min.css\n",
            "Saving report to : /home/jshen/Projects/Summer 2025 Deep Learning/MNE Python Tutorials/Introductory Tutorials/report_custom_figure.html\n"
          ]
        }
      ],
      "source": [
        "x = np.linspace(start=0, stop=10, num=100)\n",
        "y = x**2\n",
        "\n",
        "fig, ax = plt.subplots()\n",
        "ax.plot(x, y, ls=\"--\", lw=2, color=\"blue\", label=\"my function\")\n",
        "ax.set_xlabel(\"x\")\n",
        "ax.set_ylabel(\"f(x)\")\n",
        "ax.legend()\n",
        "\n",
        "report = mne.Report(title=\"Figure example\")\n",
        "report.add_figure(\n",
        "    fig=fig,\n",
        "    title=\"A custom figure\",\n",
        "    caption=\"A blue dashed line reaches up into the sky …\",\n",
        "    image_format=\"PNG\",\n",
        ")\n",
        "report.save(\"report_custom_figure.html\", overwrite=True)\n",
        "plt.close(fig)"
      ]
    },
    {
      "cell_type": "markdown",
      "metadata": {},
      "source": [
        "Multiple figures can be grouped into a single section via the ``section``\n",
        "parameter.\n",
        "\n"
      ]
    },
    {
      "cell_type": "code",
      "execution_count": 17,
      "metadata": {
        "collapsed": false
      },
      "outputs": [
        {
          "name": "stdout",
          "output_type": "stream",
          "text": [
            "Embedding : jquery-3.6.0.min.js\n",
            "Embedding : bootstrap.bundle.min.js\n",
            "Embedding : bootstrap.min.css\n",
            "Embedding : bootstrap-table/bootstrap-table.min.js\n",
            "Embedding : bootstrap-table/bootstrap-table.min.css\n",
            "Embedding : bootstrap-table/bootstrap-table-copy-rows.min.js\n",
            "Embedding : bootstrap-table/bootstrap-table-export.min.js\n",
            "Embedding : bootstrap-table/tableExport.min.js\n",
            "Embedding : bootstrap-icons/bootstrap-icons.mne.min.css\n",
            "Embedding : highlightjs/highlight.min.js\n",
            "Embedding : highlightjs/atom-one-dark-reasonable.min.css\n",
            "Saving report to : /home/jshen/Projects/Summer 2025 Deep Learning/MNE Python Tutorials/Introductory Tutorials/report_custom_figure_sections.html\n"
          ]
        },
        {
          "name": "stderr",
          "output_type": "stream",
          "text": [
            "WARNING: You don't seem to have any mimeinfo.cache files.\n",
            "Try running the update-desktop-database command. If you\n",
            "don't have this command you should install the\n",
            "desktop-file-utils package. This package is available from\n",
            "http://freedesktop.org/wiki/Software/desktop-file-utils/\n",
            "No applications found for mimetype: text/html\n",
            ".WARNING: You don't seem to have any mimeinfo.cache files.\n",
            "Try running the update-desktop-database command. If you\n",
            "don't have this command you should install the\n",
            "desktop-file-utils package. This package is available from\n",
            "http://freedesktop.org/wiki/Software/desktop-file-utils/\n",
            "No applications found for mimetype: text/html\n",
            "."
          ]
        }
      ],
      "source": [
        "fig_1, ax_1 = plt.subplots()\n",
        "ax_1.plot([1, 2, 3])\n",
        "\n",
        "fig_2, ax_2 = plt.subplots()\n",
        "ax_2.plot([3, 2, 1])\n",
        "\n",
        "section = \"Section example\"\n",
        "\n",
        "report = mne.Report(title=\"Figure section example\")\n",
        "report.add_figure(fig=fig_1, title=\"Figure 1\", section=section, tags=\"fig-1\")\n",
        "report.add_figure(fig=fig_2, title=\"Figure 2\", section=section, tags=\"fig-2\")\n",
        "report.save(\"report_custom_figure_sections.html\", overwrite=True)\n",
        "plt.close(fig_1)\n",
        "plt.close(fig_2)"
      ]
    },
    {
      "cell_type": "markdown",
      "metadata": {},
      "source": [
        "The :meth:`mne.Report.add_figure` method can also add multiple figures at\n",
        "once. In this case, a slider will appear, allowing users to intuitively\n",
        "browse the figures. To make this work, you need to provide a collection o\n",
        "figures, a title, and optionally a collection of captions.\n",
        "\n",
        "In the following example, we will read the MNE logo as a Matplotlib figure\n",
        "and rotate it with different angles. Each rotated figure and its respective\n",
        "caption will be added to a list, which is then used to create the slider.\n",
        "\n"
      ]
    },
    {
      "cell_type": "code",
      "execution_count": 18,
      "metadata": {
        "collapsed": false
      },
      "outputs": [
        {
          "name": "stderr",
          "output_type": "stream",
          "text": [
            "/usr/bin/xdg-open: 882: x-www-browser: Permission denied\n",
            "WARNING: You don't seem to have any mimeinfo.cache files.\n",
            "Try running the update-desktop-database command. If you\n",
            "don't have this command you should install the\n",
            "desktop-file-utils package. This package is available from\n",
            "http://freedesktop.org/wiki/Software/desktop-file-utils/\n",
            "/usr/bin/xdg-open: 882: x-www-browser: Permission denied\n",
            "No applications found for mimetype: text/html\n",
            "./usr/bin/xdg-open: 882: firefox: Permission denied\n",
            "/usr/bin/xdg-open: 882: firefox: Permission denied\n",
            "/usr/bin/xdg-open: 882: iceweasel: Permission denied\n",
            "/usr/bin/xdg-open: 882: x-www-browser: Permission denied\n",
            "/usr/bin/xdg-open: 882: iceweasel: Permission denied\n",
            "WARNING: You don't seem to have any mimeinfo.cache files.\n",
            "Try running the update-desktop-database command. If you\n",
            "don't have this command you should install the\n",
            "desktop-file-utils package. This package is available from\n",
            "http://freedesktop.org/wiki/Software/desktop-file-utils/\n",
            "/usr/bin/xdg-open: 882: seamonkey: Permission denied\n",
            "/usr/bin/xdg-open: 882: firefox: Permission denied\n",
            "No applications found for mimetype: text/html\n",
            "./usr/bin/xdg-open: 882: seamonkey: Permission denied\n",
            "/usr/bin/xdg-open: 882: iceweasel: Permission denied\n",
            "/usr/bin/xdg-open: 882: mozilla: Permission denied\n",
            "/usr/bin/xdg-open: 882: mozilla: Permission denied\n",
            "/usr/bin/xdg-open: 882: epiphany: Permission denied\n",
            "/usr/bin/xdg-open: 882: x-www-browser: Permission denied\n",
            "/usr/bin/xdg-open: 882: seamonkey: Permission denied\n",
            "/usr/bin/xdg-open: 882: epiphany: Permission denied\n",
            "/usr/bin/xdg-open: 882: konqueror: Permission denied\n",
            "/usr/bin/xdg-open: 882: mozilla: Permission denied\n",
            "/usr/bin/xdg-open: 882: firefox: Permission denied\n"
          ]
        },
        {
          "name": "stdout",
          "output_type": "stream",
          "text": [
            "Embedding : jquery-3.6.0.min.js\n",
            "Embedding : bootstrap.bundle.min.js\n",
            "Embedding : bootstrap.min.css\n",
            "Embedding : bootstrap-table/bootstrap-table.min.js\n",
            "Embedding : bootstrap-table/bootstrap-table.min.css\n",
            "Embedding : bootstrap-table/bootstrap-table-copy-rows.min.js\n",
            "Embedding : bootstrap-table/bootstrap-table-export.min.js\n",
            "Embedding : bootstrap-table/tableExport.min.js\n",
            "Embedding : bootstrap-icons/bootstrap-icons.mne.min.css\n",
            "Embedding : highlightjs/highlight.min.js\n",
            "Embedding : highlightjs/atom-one-dark-reasonable.min.css\n"
          ]
        },
        {
          "name": "stderr",
          "output_type": "stream",
          "text": [
            "/usr/bin/xdg-open: 882: konqueror: Permission denied\n",
            "/usr/bin/xdg-open: 882: chromium: Permission denied\n",
            "/usr/bin/xdg-open: 882: epiphany: Permission denied\n",
            "/usr/bin/xdg-open: 882: iceweasel: Permission denied\n",
            "/usr/bin/xdg-open: 882: chromium-browser: Permission denied\n",
            "/usr/bin/xdg-open: 882: chromium: Permission denied\n",
            "/usr/bin/xdg-open: 882: konqueror: Permission denied\n",
            "/usr/bin/xdg-open: 882: seamonkey: Permission denied\n",
            "/usr/bin/xdg-open: 882: chromium-browser: Permission denied\n",
            "/usr/bin/xdg-open: 882: google-chrome: Permission denied\n",
            "/usr/bin/xdg-open: 882: chromium: Permission denied\n",
            "/usr/bin/xdg-open: 882: mozilla: Permission denied\n",
            "/usr/bin/xdg-open: 882: google-chrome: Permission denied\n",
            "/usr/bin/xdg-open: 882: www-browser: Permission denied\n",
            "/usr/bin/xdg-open: 882: chromium-browser: Permission denied\n",
            "/usr/bin/xdg-open: 882: epiphany: Permission denied\n",
            "/usr/bin/xdg-open: 882: www-browser: Permission denied\n",
            "/usr/bin/xdg-open: 882: links2: Permission denied\n",
            "/usr/bin/xdg-open: 882: konqueror: Permission denied\n",
            "/usr/bin/xdg-open: 882: google-chrome: Permission denied\n",
            "/usr/bin/xdg-open: 882: elinks: Permission denied\n",
            "/usr/bin/xdg-open: 882: links2: Permission denied\n",
            "/usr/bin/xdg-open: 882: www-browser: Permission denied\n",
            "/usr/bin/xdg-open: 882: chromium: Permission denied\n",
            "/usr/bin/xdg-open: 882: elinks: Permission denied\n",
            "/usr/bin/xdg-open: 882: links: Permission denied\n",
            "/usr/bin/xdg-open: 882: links2: Permission denied\n",
            "/usr/bin/xdg-open: 882: chromium-browser: Permission denied\n",
            "/usr/bin/xdg-open: 882: lynx: Permission denied\n",
            "/usr/bin/xdg-open: 882: links: Permission denied\n",
            "/usr/bin/xdg-open: 882: elinks: Permission denied\n",
            "/usr/bin/xdg-open: 882: google-chrome: Permission denied\n",
            "/usr/bin/xdg-open: 882: lynx: Permission denied\n",
            "/usr/bin/xdg-open: 882: w3m: Permission denied\n",
            "xdg-open: no method available for opening 'file:///home/jshen/Projects/Summer 2025 Deep Learning/MNE Python Tutorials/Introductory Tutorials/report_inverse_sol.html'\n",
            "/usr/bin/xdg-open: 882: www-browser: Permission denied\n",
            "/usr/bin/xdg-open: 882: links: Permission denied\n",
            "/usr/bin/xdg-open: 882: w3m: Permission denied\n",
            "xdg-open: no method available for opening 'file:///home/jshen/Projects/Summer 2025 Deep Learning/MNE Python Tutorials/Introductory Tutorials/report_code.html'\n",
            "/usr/bin/xdg-open: 882: links2: Permission denied\n",
            "/usr/bin/xdg-open: 882: lynx: Permission denied\n",
            "/usr/bin/xdg-open: 882: w3m: Permission denied\n",
            "xdg-open: no method available for opening 'file:///home/jshen/Projects/Summer 2025 Deep Learning/MNE Python Tutorials/Introductory Tutorials/report_custom_figure.html'\n",
            "/usr/bin/xdg-open: 882: elinks: Permission denied\n",
            "/usr/bin/xdg-open: 882: links: Permission denied\n",
            "/usr/bin/xdg-open: 882: lynx: Permission denied\n",
            "/usr/bin/xdg-open: 882: w3m: Permission denied\n",
            "xdg-open: no method available for opening 'file:///home/jshen/Projects/Summer 2025 Deep Learning/MNE Python Tutorials/Introductory Tutorials/report_custom_figure_sections.html'\n"
          ]
        },
        {
          "name": "stdout",
          "output_type": "stream",
          "text": [
            "Saving report to : /home/jshen/Projects/Summer 2025 Deep Learning/MNE Python Tutorials/Introductory Tutorials/report_custom_figures.html\n"
          ]
        }
      ],
      "source": [
        "mne_logo_path = Path(mne.__file__).parent / \"icons\" / \"mne_icon-cropped.png\"\n",
        "fig_array = plt.imread(mne_logo_path)\n",
        "rotation_angles = np.linspace(start=0, stop=360, num=8, endpoint=False)\n",
        "\n",
        "figs = []\n",
        "captions = []\n",
        "for angle in rotation_angles:\n",
        "    # Rotate and remove some rounding errors to avoid Matplotlib warnings\n",
        "    fig_array_rotated = scipy.ndimage.rotate(input=fig_array, angle=angle)\n",
        "    fig_array_rotated = fig_array_rotated.clip(min=0, max=1)\n",
        "\n",
        "    # Create the figure\n",
        "    fig, ax = plt.subplots(figsize=(3, 3), layout=\"constrained\")\n",
        "    ax.imshow(fig_array_rotated)\n",
        "    ax.set_axis_off()\n",
        "\n",
        "    # Store figure and caption\n",
        "    figs.append(fig)\n",
        "    captions.append(f\"Rotation angle: {round(angle, 1)}°\")\n",
        "\n",
        "report = mne.Report(title=\"Multiple figures example\")\n",
        "report.add_figure(fig=figs, title=\"Fun with figures! 🥳\", caption=captions)\n",
        "report.save(\"report_custom_figures.html\", overwrite=True)\n",
        "for fig in figs:\n",
        "    plt.close(fig)\n",
        "del figs"
      ]
    },
    {
      "cell_type": "markdown",
      "metadata": {},
      "source": [
        "## Adding image files\n",
        "\n",
        "Existing images (e.g., photos, screenshots, sketches etc.) can be added\n",
        "to the report via :meth:`mne.Report.add_image`. Supported image formats\n",
        "include JPEG, PNG, GIF, and SVG (and possibly others). Like with Matplotlib\n",
        "figures, you can specify a caption to appear below the image.\n",
        "\n"
      ]
    },
    {
      "cell_type": "code",
      "execution_count": 19,
      "metadata": {
        "collapsed": false
      },
      "outputs": [
        {
          "name": "stdout",
          "output_type": "stream",
          "text": [
            "Embedding : jquery-3.6.0.min.js\n",
            "Embedding : bootstrap.bundle.min.js\n",
            "Embedding : bootstrap.min.css\n",
            "Embedding : bootstrap-table/bootstrap-table.min.js\n",
            "Embedding : bootstrap-table/bootstrap-table.min.css\n",
            "Embedding : bootstrap-table/bootstrap-table-copy-rows.min.js\n",
            "Embedding : bootstrap-table/bootstrap-table-export.min.js\n",
            "Embedding : bootstrap-table/tableExport.min.js\n",
            "Embedding : bootstrap-icons/bootstrap-icons.mne.min.css\n",
            "Embedding : highlightjs/highlight.min.js\n",
            "Embedding : highlightjs/atom-one-dark-reasonable.min.css\n",
            "Saving report to : /home/jshen/Projects/Summer 2025 Deep Learning/MNE Python Tutorials/Introductory Tutorials/report_custom_image.html\n"
          ]
        },
        {
          "data": {
            "text/plain": [
              "'/home/jshen/Projects/Summer 2025 Deep Learning/MNE Python Tutorials/Introductory Tutorials/report_custom_image.html'"
            ]
          },
          "execution_count": 19,
          "metadata": {},
          "output_type": "execute_result"
        }
      ],
      "source": [
        "report = mne.Report(title=\"Image example\")\n",
        "report.add_image(\n",
        "    image=mne_logo_path, title=\"MNE\", caption=\"Powered by 🧠 🧠 🧠 around the world!\"\n",
        ")\n",
        "report.save(\"report_custom_image.html\", overwrite=True)"
      ]
    },
    {
      "cell_type": "markdown",
      "metadata": {},
      "source": [
        "## Working with tags\n",
        "\n",
        "Each ``add_*`` method accepts a keyword parameter ``tags``, which can be\n",
        "used to pass one or more tags to associate with the respective content\n",
        "elements. By default, each ``add_*`` method adds a tag describing the data\n",
        "type, e.g., ``evoked`` or ``source-estimate``. When viewing the HTML report,\n",
        "the ``Filter by tags`` dropdown menu can be used to interactively show or\n",
        "hide content with specific tags. This allows you e.g. to only view\n",
        "``evoked`` or ``participant-001`` data, should you have added those tags.\n",
        "Visible tags will appear with blue, and hidden tags with gray background\n",
        "color.\n",
        "\n",
        "To toggle the visibility of **all** tags, use the respective checkbox in the\n",
        "``Filter by tags`` dropdown menu, or press :kbd:`T`.\n",
        "\n"
      ]
    },
    {
      "cell_type": "code",
      "execution_count": 20,
      "metadata": {
        "collapsed": false
      },
      "outputs": [
        {
          "name": "stdout",
          "output_type": "stream",
          "text": [
            "Embedding : jquery-3.6.0.min.js\n",
            "Embedding : bootstrap.bundle.min.js\n",
            "Embedding : bootstrap.min.css\n",
            "Embedding : bootstrap-table/bootstrap-table.min.js\n",
            "Embedding : bootstrap-table/bootstrap-table.min.css\n",
            "Embedding : bootstrap-table/bootstrap-table-copy-rows.min.js\n",
            "Embedding : bootstrap-table/bootstrap-table-export.min.js\n",
            "Embedding : bootstrap-table/tableExport.min.js\n",
            "Embedding : bootstrap-icons/bootstrap-icons.mne.min.css\n",
            "Embedding : highlightjs/highlight.min.js\n",
            "Embedding : highlightjs/atom-one-dark-reasonable.min.css\n",
            "Saving report to : /home/jshen/Projects/Summer 2025 Deep Learning/MNE Python Tutorials/Introductory Tutorials/report_tags.html\n"
          ]
        },
        {
          "data": {
            "text/plain": [
              "'/home/jshen/Projects/Summer 2025 Deep Learning/MNE Python Tutorials/Introductory Tutorials/report_tags.html'"
            ]
          },
          "execution_count": 20,
          "metadata": {},
          "output_type": "execute_result"
        }
      ],
      "source": [
        "report = mne.Report(title=\"Tags example\")\n",
        "report.add_image(\n",
        "    image=mne_logo_path,\n",
        "    title=\"MNE Logo\",\n",
        "    tags=(\"image\", \"mne\", \"logo\", \"open-source\"),\n",
        ")\n",
        "report.save(\"report_tags.html\", overwrite=True)"
      ]
    },
    {
      "cell_type": "markdown",
      "metadata": {},
      "source": [
        "## Editing a saved report\n",
        "\n",
        "Saving to HTML is a write-only operation, meaning that we cannot read an\n",
        "``.html`` file back as a :class:`~mne.Report` object. In order to be able\n",
        "to edit a report once it's no longer in-memory in an active Python session,\n",
        "save it as an HDF5 file instead of HTML:\n",
        "\n"
      ]
    },
    {
      "cell_type": "code",
      "execution_count": 21,
      "metadata": {
        "collapsed": false
      },
      "outputs": [
        {
          "name": "stdout",
          "output_type": "stream",
          "text": [
            "Embedding : jquery-3.6.0.min.js\n",
            "Embedding : bootstrap.bundle.min.js\n",
            "Embedding : bootstrap.min.css\n",
            "Embedding : bootstrap-table/bootstrap-table.min.js\n",
            "Embedding : bootstrap-table/bootstrap-table.min.css\n",
            "Embedding : bootstrap-table/bootstrap-table-copy-rows.min.js\n",
            "Embedding : bootstrap-table/bootstrap-table-export.min.js\n",
            "Embedding : bootstrap-table/tableExport.min.js\n",
            "Embedding : bootstrap-icons/bootstrap-icons.mne.min.css\n",
            "Embedding : highlightjs/highlight.min.js\n",
            "Embedding : highlightjs/atom-one-dark-reasonable.min.css\n",
            "Saving report to : /home/jshen/Projects/Summer 2025 Deep Learning/MNE Python Tutorials/Introductory Tutorials/report_partial.hdf5\n"
          ]
        },
        {
          "data": {
            "text/plain": [
              "'/home/jshen/Projects/Summer 2025 Deep Learning/MNE Python Tutorials/Introductory Tutorials/report_partial.hdf5'"
            ]
          },
          "execution_count": 21,
          "metadata": {},
          "output_type": "execute_result"
        }
      ],
      "source": [
        "report = mne.Report(title=\"Saved report example\", verbose=True)\n",
        "report.add_image(image=mne_logo_path, title=\"MNE 1\")\n",
        "report.save(\"report_partial.hdf5\", overwrite=True)"
      ]
    },
    {
      "cell_type": "markdown",
      "metadata": {},
      "source": [
        "The saved report can be read back and modified or amended. This allows the\n",
        "possibility to e.g. run multiple scripts in a processing pipeline, where each\n",
        "script adds new content to an existing report.\n",
        "\n"
      ]
    },
    {
      "cell_type": "code",
      "execution_count": 22,
      "metadata": {
        "collapsed": false
      },
      "outputs": [
        {
          "name": "stdout",
          "output_type": "stream",
          "text": [
            "Embedding : jquery-3.6.0.min.js\n",
            "Embedding : bootstrap.bundle.min.js\n",
            "Embedding : bootstrap.min.css\n",
            "Embedding : bootstrap-table/bootstrap-table.min.js\n",
            "Embedding : bootstrap-table/bootstrap-table.min.css\n",
            "Embedding : bootstrap-table/bootstrap-table-copy-rows.min.js\n",
            "Embedding : bootstrap-table/bootstrap-table-export.min.js\n",
            "Embedding : bootstrap-table/tableExport.min.js\n",
            "Embedding : bootstrap-icons/bootstrap-icons.mne.min.css\n",
            "Embedding : highlightjs/highlight.min.js\n",
            "Embedding : highlightjs/atom-one-dark-reasonable.min.css\n",
            "Overwriting existing file.\n",
            "Saving report to : /home/jshen/Projects/Summer 2025 Deep Learning/MNE Python Tutorials/Introductory Tutorials/report_partial.hdf5\n"
          ]
        },
        {
          "name": "stderr",
          "output_type": "stream",
          "text": [
            "WARNING: You don't seem to have any mimeinfo.cache files.\n",
            "Try running the update-desktop-database command. If you\n",
            "don't have this command you should install the\n",
            "desktop-file-utils package. This package is available from\n",
            "http://freedesktop.org/wiki/Software/desktop-file-utils/\n",
            "WARNING: You don't seem to have any mimeinfo.cache files.\n",
            "Try running the update-desktop-database command. If you\n",
            "don't have this command you should install the\n",
            "desktop-file-utils package. This package is available from\n",
            "http://freedesktop.org/wiki/Software/desktop-file-utils/\n"
          ]
        },
        {
          "data": {
            "text/plain": [
              "'/home/jshen/Projects/Summer 2025 Deep Learning/MNE Python Tutorials/Introductory Tutorials/report_partial.hdf5'"
            ]
          },
          "execution_count": 22,
          "metadata": {},
          "output_type": "execute_result"
        },
        {
          "name": "stderr",
          "output_type": "stream",
          "text": [
            "No applications found for mimetype: text/html\n",
            "."
          ]
        }
      ],
      "source": [
        "report_from_disk = mne.open_report(\"report_partial.hdf5\")\n",
        "report_from_disk.add_image(image=mne_logo_path, title=\"MNE 2\")\n",
        "report_from_disk.save(\"report_partial.hdf5\", overwrite=True)"
      ]
    },
    {
      "cell_type": "markdown",
      "metadata": {},
      "source": [
        "To make this even easier, :class:`mne.Report` can be used as a\n",
        "context manager (note the ``with`` statement)`):\n",
        "\n"
      ]
    },
    {
      "cell_type": "code",
      "execution_count": 23,
      "metadata": {
        "collapsed": false
      },
      "outputs": [
        {
          "name": "stdout",
          "output_type": "stream",
          "text": [
            "Embedding : jquery-3.6.0.min.js\n",
            "Embedding : bootstrap.bundle.min.js\n",
            "Embedding : bootstrap.min.css\n",
            "Embedding : bootstrap-table/bootstrap-table.min.js\n",
            "Embedding : bootstrap-table/bootstrap-table.min.css\n",
            "Embedding : bootstrap-table/bootstrap-table-copy-rows.min.js\n",
            "Embedding : bootstrap-table/bootstrap-table-export.min.js\n",
            "Embedding : bootstrap-table/tableExport.min.js\n",
            "Embedding : bootstrap-icons/bootstrap-icons.mne.min.css\n",
            "Embedding : highlightjs/highlight.min.js\n",
            "Embedding : highlightjs/atom-one-dark-reasonable.min.css\n",
            "Saving report to : /home/jshen/Projects/Summer 2025 Deep Learning/MNE Python Tutorials/Introductory Tutorials/report_final.html\n",
            "Overwriting existing file.\n",
            "Saving report to : /home/jshen/Projects/Summer 2025 Deep Learning/MNE Python Tutorials/Introductory Tutorials/report_partial.hdf5\n"
          ]
        },
        {
          "name": "stderr",
          "output_type": "stream",
          "text": [
            "No applications found for mimetype: text/html\n",
            ".WARNING: You don't seem to have any mimeinfo.cache files.\n",
            "Try running the update-desktop-database command. If you\n",
            "don't have this command you should install the\n",
            "desktop-file-utils package. This package is available from\n",
            "http://freedesktop.org/wiki/Software/desktop-file-utils/\n",
            "No applications found for mimetype: text/html\n",
            "."
          ]
        }
      ],
      "source": [
        "with mne.open_report(\"report_partial.hdf5\") as report:\n",
        "    report.add_image(image=mne_logo_path, title=\"MNE 3\")\n",
        "    report.save(\"report_final.html\", overwrite=True)"
      ]
    },
    {
      "cell_type": "markdown",
      "metadata": {},
      "source": [
        "With the context manager, the updated report is also automatically saved\n",
        "back to :file:`report.h5` upon leaving the block.\n",
        "\n",
        "## Adding an entire folder of files\n",
        "\n",
        "We also provide a way to add an entire **folder** of files to the report at\n",
        "once, without having to invoke the individual ``add_*`` methods outlined\n",
        "above for each file. This approach, while convenient, provides less\n",
        "flexibility with respect to content ordering, tags, titles, etc.\n",
        "\n",
        "Before getting started with :class:`mne.Report`, make sure the files you want\n",
        "to render follow the filename conventions defined by MNE:\n",
        "\n",
        ".. cssclass:: table-bordered\n",
        ".. rst-class:: midvalign\n",
        "\n",
        "=================================== =========================================\n",
        "Data object                         Filename convention (ends with)\n",
        "=================================== =========================================\n",
        "`~mne.io.Raw`                       ``-raw.fif(.gz)``, ``-raw_sss.fif(.gz)``,\n",
        "                                    ``-raw_tsss.fif(.gz)``,\n",
        "                                    ``_meg.fif(.gz)``, ``_eeg.fif(.gz)``,\n",
        "                                    ``_ieeg.fif(.gz)``\n",
        "events                              ``-eve.fif(.gz)``\n",
        "`~mne.Epochs`                       ``-epo.fif(.gz)``\n",
        "`~mne.Evoked`                       ``-ave.fif(.gz)``\n",
        "`~mne.Covariance`                   ``-cov.fif(.gz)``\n",
        "`~mne.Projection`                   ``-proj.fif(.gz)``\n",
        "`~mne.transforms.Transform`         ``-trans.fif(.gz)``\n",
        "`~mne.Forward`                      ``-fwd.fif(.gz)``\n",
        "`~mne.minimum_norm.InverseOperator` ``-inv.fif(.gz)``\n",
        "`~mne.SourceEstimate`               ``-lh.stc``, ``-rh.stc``\n",
        "=================================== =========================================\n",
        "\n",
        "Alternatively, the dash ``-`` in the filename may be replaced with an\n",
        "underscore ``_`` (except for the ``.stc`` files).\n",
        "\n",
        "For our first example, we'll generate a barebones report for all the\n",
        ":file:`.fif` files containing raw data in the sample dataset, by passing the\n",
        "pattern ``*raw.fif`` to :meth:`~mne.Report.parse_folder`. We'll omit the\n",
        "``subject`` and ``subjects_dir`` parameters from the :class:`~mne.Report`\n",
        "constructor, but we'll also pass ``render_bem=False`` to the\n",
        ":meth:`~mne.Report.parse_folder` method — otherwise we would get a warning\n",
        "about not being able to render MRI and ``trans`` files without knowing the\n",
        "subject. To save some processing time in this tutorial, we're also going to\n",
        "disable rendering of the butterfly plots for the `~mne.io.Raw` data by\n",
        "passing ``raw_butterfly=False``.\n",
        "\n",
        "Which files are included depends on both the ``pattern`` parameter passed to\n",
        ":meth:`~mne.Report.parse_folder` and also the ``subject`` and\n",
        "``subjects_dir`` parameters provided to the :class:`~mne.Report` constructor.\n",
        "\n"
      ]
    },
    {
      "cell_type": "code",
      "execution_count": 24,
      "metadata": {
        "collapsed": false
      },
      "outputs": [
        {
          "name": "stdout",
          "output_type": "stream",
          "text": [
            "Embedding : jquery-3.6.0.min.js\n",
            "Embedding : bootstrap.bundle.min.js\n",
            "Embedding : bootstrap.min.css\n",
            "Embedding : bootstrap-table/bootstrap-table.min.js\n",
            "Embedding : bootstrap-table/bootstrap-table.min.css\n",
            "Embedding : bootstrap-table/bootstrap-table-copy-rows.min.js\n",
            "Embedding : bootstrap-table/bootstrap-table-export.min.js\n",
            "Embedding : bootstrap-table/tableExport.min.js\n",
            "Embedding : bootstrap-icons/bootstrap-icons.mne.min.css\n",
            "Embedding : highlightjs/highlight.min.js\n",
            "Embedding : highlightjs/atom-one-dark-reasonable.min.css\n",
            "Opening raw data file /home/jshen/mne_data/MNE-sample-data/MEG/sample/ernoise_raw.fif...\n"
          ]
        },
        {
          "name": "stderr",
          "output_type": "stream",
          "text": [
            "/usr/bin/xdg-open: 882: x-www-browser: Permission denied\n",
            "/usr/bin/xdg-open: 882: x-www-browser: Permission denied\n"
          ]
        },
        {
          "name": "stdout",
          "output_type": "stream",
          "text": [
            "Isotrak not found\n",
            "    Read a total of 3 projection items:\n",
            "        PCA-v1 (1 x 102)  idle\n",
            "        PCA-v2 (1 x 102)  idle\n",
            "        PCA-v3 (1 x 102)  idle\n",
            "    Range : 19800 ... 85867 =     32.966 ...   142.965 secs\n",
            "Ready.\n",
            "Opening raw data file /home/jshen/mne_data/MNE-sample-data/MEG/sample/sample_audvis_raw.fif...\n",
            "    Read a total of 3 projection items:\n",
            "        PCA-v1 (1 x 102)  idle\n",
            "        PCA-v2 (1 x 102)  idle\n",
            "        PCA-v3 (1 x 102)  idle\n",
            "    Range : 25800 ... 192599 =     42.956 ...   320.670 secs\n",
            "Ready.\n",
            "Opening raw data file /home/jshen/mne_data/MNE-sample-data/MEG/sample/sample_audvis_filt-0-40_raw.fif...\n",
            "    Read a total of 4 projection items:\n",
            "        PCA-v1 (1 x 102)  idle\n",
            "        PCA-v2 (1 x 102)  idle\n",
            "        PCA-v3 (1 x 102)  idle\n",
            "        Average EEG reference (1 x 60)  idle\n",
            "    Range : 6450 ... 48149 =     42.956 ...   320.665 secs\n",
            "Ready.\n"
          ]
        },
        {
          "name": "stderr",
          "output_type": "stream",
          "text": [
            "/usr/bin/xdg-open: 882: x-www-browser: Permission denied\n",
            "/usr/bin/xdg-open: 882: firefox: Permission denied\n",
            "/usr/bin/xdg-open: 882: firefox: Permission denied\n",
            "/usr/bin/xdg-open: 882: firefox: Permission denied\n",
            "/usr/bin/xdg-open: 882: iceweasel: Permission denied\n"
          ]
        },
        {
          "name": "stdout",
          "output_type": "stream",
          "text": [
            "Iterating over 3 potential files (this may take some \n",
            "Rendering: /home/jshen/mne_data/MNE-sample-data/MEG/sample/ernoise_raw.fif\n",
            "Opening raw data file /home/jshen/mne_data/MNE-sample-data/MEG/sample/ernoise_raw.fif...\n",
            "Isotrak not found\n",
            "    Read a total of 3 projection items:\n",
            "        PCA-v1 (1 x 102)  idle\n",
            "        PCA-v2 (1 x 102)  idle\n",
            "        PCA-v3 (1 x 102)  idle\n",
            "    Range : 19800 ... 85867 =     32.966 ...   142.965 secs\n",
            "Ready.\n"
          ]
        },
        {
          "name": "stderr",
          "output_type": "stream",
          "text": [
            "/usr/bin/xdg-open: 882: iceweasel: Permission denied\n",
            "/usr/bin/xdg-open: 882: iceweasel: Permission denied\n",
            "WARNING: You don't seem to have any mimeinfo.cache files.\n",
            "Try running the update-desktop-database command. If you\n",
            "don't have this command you should install the\n",
            "desktop-file-utils package. This package is available from\n",
            "http://freedesktop.org/wiki/Software/desktop-file-utils/\n"
          ]
        },
        {
          "name": "stdout",
          "output_type": "stream",
          "text": [
            "Rendering: /home/jshen/mne_data/MNE-sample-data/MEG/sample/sample_audvis_raw.fif\n",
            "Opening raw data file /home/jshen/mne_data/MNE-sample-data/MEG/sample/sample_audvis_raw.fif...\n",
            "    Read a total of 3 projection items:\n",
            "        PCA-v1 (1 x 102)  idle\n",
            "        PCA-v2 (1 x 102)  idle\n",
            "        PCA-v3 (1 x 102)  idle\n",
            "    Range : 25800 ... 192599 =     42.956 ...   320.670 secs\n",
            "Ready.\n",
            "Rendering: /home/jshen/mne_data/MNE-sample-data/MEG/sample/sample_audvis_filt-0-40_raw.fif\n",
            "Opening raw data file /home/jshen/mne_data/MNE-sample-data/MEG/sample/sample_audvis_filt-0-40_raw.fif...\n",
            "    Read a total of 4 projection items:\n",
            "        PCA-v1 (1 x 102)  idle\n",
            "        PCA-v2 (1 x 102)  idle\n",
            "        PCA-v3 (1 x 102)  idle\n",
            "        Average EEG reference (1 x 60)  idle\n",
            "    Range : 6450 ... 48149 =     42.956 ...   320.665 secs\n",
            "Ready.\n",
            "Saving report to : /home/jshen/Projects/Summer 2025 Deep Learning/MNE Python Tutorials/Introductory Tutorials/report_parse_folder_basic.html\n"
          ]
        },
        {
          "name": "stderr",
          "output_type": "stream",
          "text": [
            "/usr/bin/xdg-open: 882: seamonkey: Permission denied\n",
            "No applications found for mimetype: text/html\n",
            "./usr/bin/xdg-open: 882: seamonkey: Permission denied\n",
            "/usr/bin/xdg-open: 882: seamonkey: Permission denied\n",
            "/usr/bin/xdg-open: 882: mozilla: Permission denied\n",
            "[Parallel(n_jobs=1)]: Done   1 out of   1 | elapsed:    0.2s finished\n"
          ]
        },
        {
          "data": {
            "text/plain": [
              "'/home/jshen/Projects/Summer 2025 Deep Learning/MNE Python Tutorials/Introductory Tutorials/report_parse_folder_basic.html'"
            ]
          },
          "execution_count": 24,
          "metadata": {},
          "output_type": "execute_result"
        }
      ],
      "source": [
        "report = mne.Report(title=\"parse_folder example\")\n",
        "report.parse_folder(\n",
        "    data_path=data_path, pattern=\"*raw.fif\", render_bem=False, raw_butterfly=False\n",
        ")\n",
        "report.save(\"report_parse_folder_basic.html\", overwrite=True)"
      ]
    },
    {
      "cell_type": "markdown",
      "metadata": {},
      "source": [
        "By default, the power spectral density and SSP projectors of the\n",
        ":class:`~mne.io.Raw` files are not shown to speed up report generation. You\n",
        "can add them by passing ``raw_psd=True`` and ``projs=True`` to the\n",
        ":class:`~mne.Report` constructor. Like in the previous example, we're going\n",
        "to omit the butterfly plots by passing ``raw_butterfly=False``. Lastly, let's\n",
        "also refine our pattern to select only the filtered raw recording (omitting\n",
        "the unfiltered data and the empty-room noise recordings).\n",
        "\n"
      ]
    },
    {
      "cell_type": "code",
      "execution_count": 25,
      "metadata": {
        "collapsed": false
      },
      "outputs": [
        {
          "name": "stdout",
          "output_type": "stream",
          "text": [
            "Embedding : jquery-3.6.0.min.js\n"
          ]
        },
        {
          "name": "stderr",
          "output_type": "stream",
          "text": [
            "/usr/bin/xdg-open: 882: mozilla: Permission denied\n"
          ]
        },
        {
          "name": "stdout",
          "output_type": "stream",
          "text": [
            "Embedding : bootstrap.bundle.min.js\n",
            "Embedding : bootstrap.min.css\n",
            "Embedding : bootstrap-table/bootstrap-table.min.js\n",
            "Embedding : bootstrap-table/bootstrap-table.min.css\n",
            "Embedding : bootstrap-table/bootstrap-table-copy-rows.min.js\n",
            "Embedding : bootstrap-table/bootstrap-table-export.min.js\n",
            "Embedding : bootstrap-table/tableExport.min.js\n",
            "Embedding : bootstrap-icons/bootstrap-icons.mne.min.css\n",
            "Embedding : highlightjs/highlight.min.js\n",
            "Embedding : highlightjs/atom-one-dark-reasonable.min.css\n",
            "Opening raw data file /home/jshen/mne_data/MNE-sample-data/MEG/sample/sample_audvis_filt-0-40_raw.fif...\n"
          ]
        },
        {
          "name": "stderr",
          "output_type": "stream",
          "text": [
            "/usr/bin/xdg-open: 882: mozilla: Permission denied\n",
            "/usr/bin/xdg-open: 882: x-www-browser: Permission denied\n",
            "/usr/bin/xdg-open: 882: epiphany: Permission denied\n"
          ]
        },
        {
          "name": "stdout",
          "output_type": "stream",
          "text": [
            "    Read a total of 4 projection items:\n",
            "        PCA-v1 (1 x 102)  idle\n",
            "        PCA-v2 (1 x 102)  idle\n",
            "        PCA-v3 (1 x 102)  idle\n",
            "        Average EEG reference (1 x 60)  idle\n",
            "    Range : 6450 ... 48149 =     42.956 ...   320.665 secs\n",
            "Ready.\n",
            "Iterating over 1 potential files (this may take some \n",
            "Rendering: /home/jshen/mne_data/MNE-sample-data/MEG/sample/sample_audvis_filt-0-40_raw.fif\n",
            "Opening raw data file /home/jshen/mne_data/MNE-sample-data/MEG/sample/sample_audvis_filt-0-40_raw.fif...\n",
            "    Read a total of 4 projection items:\n",
            "        PCA-v1 (1 x 102)  idle\n",
            "        PCA-v2 (1 x 102)  idle\n",
            "        PCA-v3 (1 x 102)  idle\n",
            "        Average EEG reference (1 x 60)  idle\n",
            "    Range : 6450 ... 48149 =     42.956 ...   320.665 secs\n",
            "Ready.\n"
          ]
        },
        {
          "name": "stderr",
          "output_type": "stream",
          "text": [
            "/usr/bin/xdg-open: 882: epiphany: Permission denied\n",
            "/usr/bin/xdg-open: 882: epiphany: Permission denied\n",
            "/usr/bin/xdg-open: 882: firefox: Permission denied\n",
            "/usr/bin/xdg-open: 882: /usr/bin/xdg-open: 882: konqueror: Permission denied\n",
            "konqueror: Permission denied\n",
            "/usr/bin/xdg-open: 882: konqueror: Permission denied\n",
            "/usr/bin/xdg-open: 882: iceweasel: Permission denied\n",
            "/usr/bin/xdg-open: 882: chromium: Permission denied\n",
            "/usr/bin/xdg-open: 882: chromium: Permission denied\n",
            "/usr/bin/xdg-open: 882: chromium: Permission denied\n",
            "/usr/bin/xdg-open: 882: /usr/bin/xdg-open: 882: chromium-browser: Permission denied\n",
            "chromium-browser: Permission denied\n",
            "/usr/bin/xdg-open: 882: seamonkey: Permission denied\n",
            "/usr/bin/xdg-open: 882: chromium-browser: Permission denied\n",
            "/usr/bin/xdg-open: 882: /usr/bin/xdg-open: 882: google-chrome: Permission denied\n",
            "mozilla: Permission denied\n",
            "/usr/bin/xdg-open: 882: google-chrome: Permission denied\n",
            "WARNING: You don't seem to have any mimeinfo.cache files.\n",
            "Try running the update-desktop-database command. If you\n",
            "don't have this command you should install the\n",
            "desktop-file-utils package. This package is available from\n",
            "http://freedesktop.org/wiki/Software/desktop-file-utils/\n",
            "No applications found for mimetype: text/html\n",
            "./usr/bin/xdg-open: 882: google-chrome: Permission denied\n",
            "/usr/bin/xdg-open: 882: epiphany: Permission denied\n",
            "/usr/bin/xdg-open: 882: www-browser: Permission denied\n",
            "/usr/bin/xdg-open: 882: www-browser: Permission denied\n",
            "/usr/bin/xdg-open: 882: /usr/bin/xdg-open: 882: links2: Permission denied\n",
            "www-browser: Permission denied\n",
            "/usr/bin/xdg-open: 882: konqueror: Permission denied\n",
            "/usr/bin/xdg-open: 882: links2: Permission denied\n",
            "/usr/bin/xdg-open: 882: x-www-browser: Permission denied\n",
            "/usr/bin/xdg-open: 882: elinks: Permission denied\n",
            "/usr/bin/xdg-open: 882: chromium: Permission denied\n",
            "/usr/bin/xdg-open: 882: links2: Permission denied\n",
            "/usr/bin/xdg-open: 882: elinks: Permission denied\n",
            "/usr/bin/xdg-open: 882: firefox: Permission denied\n",
            "/usr/bin/xdg-open: 882: links: Permission denied\n"
          ]
        },
        {
          "name": "stdout",
          "output_type": "stream",
          "text": [
            "Effective window size : 13.639 (s)\n"
          ]
        },
        {
          "name": "stderr",
          "output_type": "stream",
          "text": [
            "/usr/bin/xdg-open: 882: chromium-browser: Permission denied\n",
            "/usr/bin/xdg-open: 882: elinks: Permission denied\n",
            "/usr/bin/xdg-open: 882: links: Permission denied\n",
            "/usr/bin/xdg-open: 882: iceweasel: Permission denied\n",
            "/usr/bin/xdg-open: 882: lynx: Permission denied\n",
            "/usr/bin/xdg-open: 882: google-chrome: Permission denied\n",
            "/usr/bin/xdg-open: 882: links: Permission denied\n",
            "/usr/bin/xdg-open: 882: seamonkey: Permission denied\n",
            "/usr/bin/xdg-open: 882: lynx: Permission denied\n",
            "/usr/bin/xdg-open: 882: w3m: Permission denied\n",
            "xdg-open: no method available for opening 'file:///home/jshen/Projects/Summer 2025 Deep Learning/MNE Python Tutorials/Introductory Tutorials/report_tags.html'\n",
            "/usr/bin/xdg-open: 882: www-browser: Permission denied\n",
            "/usr/bin/xdg-open: 882: mozilla: Permission denied\n",
            "/usr/bin/xdg-open: 882: lynx: Permission denied\n",
            "/usr/bin/xdg-open: 882: w3m: Permission denied\n",
            "xdg-open: no method available for opening 'file:///home/jshen/Projects/Summer 2025 Deep Learning/MNE Python Tutorials/Introductory Tutorials/report_custom_figures.html'\n",
            "/usr/bin/xdg-open: 882: w3m: Permission denied\n",
            "xdg-open: no method available for opening 'file:///home/jshen/Projects/Summer 2025 Deep Learning/MNE Python Tutorials/Introductory Tutorials/report_custom_image.html'\n",
            "/usr/bin/xdg-open: 882: links2: Permission denied\n",
            "/usr/bin/xdg-open: 882: epiphany: Permission denied\n",
            "/usr/bin/xdg-open: 882: elinks: Permission denied\n",
            "/usr/bin/xdg-open: 882: konqueror: Permission denied\n",
            "/usr/bin/xdg-open: 882: links: Permission denied\n",
            "/usr/bin/xdg-open: 882: chromium: Permission denied\n",
            "/usr/bin/xdg-open: 882: lynx: Permission denied\n",
            "/usr/bin/xdg-open: 882: chromium-browser: Permission denied\n"
          ]
        },
        {
          "name": "stdout",
          "output_type": "stream",
          "text": [
            "Plotting power spectral density (dB=True).\n"
          ]
        },
        {
          "name": "stderr",
          "output_type": "stream",
          "text": [
            "/usr/bin/xdg-open: 882: w3m: Permission denied\n",
            "xdg-open: no method available for opening 'file:///home/jshen/Projects/Summer 2025 Deep Learning/MNE Python Tutorials/Introductory Tutorials/report_final.html'\n",
            "/usr/bin/xdg-open: 882: google-chrome: Permission denied\n",
            "/usr/bin/xdg-open: 882: www-browser: Permission denied\n",
            "/usr/bin/xdg-open: 882: links2: Permission denied\n",
            "/usr/bin/xdg-open: 882: elinks: Permission denied\n",
            "/usr/bin/xdg-open: 882: links: Permission denied\n",
            "/usr/bin/xdg-open: 882: lynx: Permission denied\n",
            "/usr/bin/xdg-open: 882: w3m: Permission denied\n",
            "xdg-open: no method available for opening 'file:///home/jshen/Projects/Summer 2025 Deep Learning/MNE Python Tutorials/Introductory Tutorials/report_parse_folder_basic.html'\n"
          ]
        },
        {
          "name": "stdout",
          "output_type": "stream",
          "text": [
            "Saving report to : /home/jshen/Projects/Summer 2025 Deep Learning/MNE Python Tutorials/Introductory Tutorials/report_parse_folder_raw_psd_projs.html\n"
          ]
        },
        {
          "name": "stderr",
          "output_type": "stream",
          "text": [
            "[Parallel(n_jobs=1)]: Done   1 out of   1 | elapsed:    4.9s finished\n"
          ]
        },
        {
          "data": {
            "text/plain": [
              "'/home/jshen/Projects/Summer 2025 Deep Learning/MNE Python Tutorials/Introductory Tutorials/report_parse_folder_raw_psd_projs.html'"
            ]
          },
          "execution_count": 25,
          "metadata": {},
          "output_type": "execute_result"
        }
      ],
      "source": [
        "pattern = \"sample_audvis_filt-0-40_raw.fif\"\n",
        "report = mne.Report(title=\"parse_folder example 2\", raw_psd=True, projs=True)\n",
        "report.parse_folder(\n",
        "    data_path=data_path, pattern=pattern, render_bem=False, raw_butterfly=False\n",
        ")\n",
        "report.save(\"report_parse_folder_raw_psd_projs.html\", overwrite=True)"
      ]
    },
    {
      "cell_type": "markdown",
      "metadata": {},
      "source": [
        "This time we'll pass a specific ``subject`` and ``subjects_dir`` (even though\n",
        "there's only one subject in the sample dataset) and remove our\n",
        "``render_bem=False`` parameter so we can see the MRI slices, with BEM\n",
        "contours overlaid on top if available. Since this is computationally\n",
        "expensive, we'll also pass the ``mri_decim`` parameter for the benefit of our\n",
        "documentation servers, and skip processing the :file:`.fif` files.\n",
        "\n"
      ]
    },
    {
      "cell_type": "code",
      "execution_count": 26,
      "metadata": {
        "collapsed": false
      },
      "outputs": [
        {
          "name": "stdout",
          "output_type": "stream",
          "text": [
            "Embedding : jquery-3.6.0.min.js\n",
            "Embedding : bootstrap.bundle.min.js\n",
            "Embedding : bootstrap.min.css\n",
            "Embedding : bootstrap-table/bootstrap-table.min.js\n",
            "Embedding : bootstrap-table/bootstrap-table.min.css\n",
            "Embedding : bootstrap-table/bootstrap-table-copy-rows.min.js\n",
            "Embedding : bootstrap-table/bootstrap-table-export.min.js\n",
            "Embedding : bootstrap-table/tableExport.min.js\n",
            "Embedding : bootstrap-icons/bootstrap-icons.mne.min.css\n",
            "Embedding : highlightjs/highlight.min.js\n",
            "Embedding : highlightjs/atom-one-dark-reasonable.min.css\n",
            "Iterating over 0 potential files (this may take some \n",
            "Rendering BEM\n",
            "Using surface: /home/jshen/mne_data/MNE-sample-data/subjects/sample/bem/inner_skull.surf\n",
            "Using surface: /home/jshen/mne_data/MNE-sample-data/subjects/sample/bem/outer_skull.surf\n",
            "Using surface: /home/jshen/mne_data/MNE-sample-data/subjects/sample/bem/outer_skin.surf\n"
          ]
        },
        {
          "name": "stderr",
          "output_type": "stream",
          "text": [
            "[Parallel(n_jobs=1)]: Done   1 out of   1 | elapsed:    0.0s finished\n",
            "WARNING: You don't seem to have any mimeinfo.cache files.\n",
            "Try running the update-desktop-database command. If you\n",
            "don't have this command you should install the\n",
            "desktop-file-utils package. This package is available from\n",
            "http://freedesktop.org/wiki/Software/desktop-file-utils/\n",
            "No applications found for mimetype: text/html\n",
            "./usr/bin/xdg-open: 882: x-www-browser: Permission denied\n",
            "/usr/bin/xdg-open: 882: firefox: Permission denied\n",
            "/usr/bin/xdg-open: 882: iceweasel: Permission denied\n",
            "/usr/bin/xdg-open: 882: seamonkey: Permission denied\n",
            "/usr/bin/xdg-open: 882: mozilla: Permission denied\n",
            "/usr/bin/xdg-open: 882: epiphany: Permission denied\n",
            "/usr/bin/xdg-open: 882: konqueror: Permission denied\n",
            "/usr/bin/xdg-open: 882: chromium: Permission denied\n",
            "/usr/bin/xdg-open: 882: chromium-browser: Permission denied\n",
            "/usr/bin/xdg-open: 882: google-chrome: Permission denied\n",
            "/usr/bin/xdg-open: 882: www-browser: Permission denied\n",
            "/usr/bin/xdg-open: 882: links2: Permission denied\n",
            "/usr/bin/xdg-open: 882: elinks: Permission denied\n",
            "/usr/bin/xdg-open: 882: links: Permission denied\n",
            "/usr/bin/xdg-open: 882: lynx: Permission denied\n",
            "/usr/bin/xdg-open: 882: w3m: Permission denied\n",
            "xdg-open: no method available for opening 'file:///home/jshen/Projects/Summer 2025 Deep Learning/MNE Python Tutorials/Introductory Tutorials/report_parse_folder_raw_psd_projs.html'\n"
          ]
        },
        {
          "name": "stdout",
          "output_type": "stream",
          "text": [
            "Saving report to : /home/jshen/Projects/Summer 2025 Deep Learning/MNE Python Tutorials/Introductory Tutorials/report_parse_folder_mri_bem.html\n"
          ]
        },
        {
          "data": {
            "text/plain": [
              "'/home/jshen/Projects/Summer 2025 Deep Learning/MNE Python Tutorials/Introductory Tutorials/report_parse_folder_mri_bem.html'"
            ]
          },
          "execution_count": 26,
          "metadata": {},
          "output_type": "execute_result"
        }
      ],
      "source": [
        "report = mne.Report(\n",
        "    title=\"parse_folder example 3\", subject=\"sample\", subjects_dir=subjects_dir\n",
        ")\n",
        "report.parse_folder(data_path=data_path, pattern=\"\", mri_decim=40)\n",
        "report.save(\"report_parse_folder_mri_bem.html\", overwrite=True)"
      ]
    },
    {
      "cell_type": "markdown",
      "metadata": {},
      "source": [
        "Now let's look at how :class:`~mne.Report` handles :class:`~mne.Evoked`\n",
        "data (we will skip the MRIs to save computation time).\n",
        "\n",
        "The MNE sample dataset we're using in this example has **not** been\n",
        "baseline-corrected; so let's apply baseline correction this now for the\n",
        "report!\n",
        "\n",
        "To request baseline correction, pass a ``baseline`` argument to\n",
        "`~mne.Report`, which should be a tuple with the starting and ending time of\n",
        "the baseline period. For more details, see the documentation on\n",
        "`~mne.Evoked.apply_baseline`. Here, we will apply baseline correction for a\n",
        "baseline period from the beginning of the time interval to time point zero.\n",
        "\n",
        "Lastly, we want to render the \"whitened\" evoked data, too. Whitening\n",
        "requires us to specify the path to a covariance matrix file via the\n",
        "``cov_fname`` parameter of `~mne.Report`.\n",
        "\n",
        "Now, let's put all of this together! Here we use a temporary directory\n",
        "for speed so we can render a single Evoked instance, using just EEG\n",
        "channels.\n",
        "\n"
      ]
    },
    {
      "cell_type": "code",
      "execution_count": 27,
      "metadata": {
        "collapsed": false
      },
      "outputs": [
        {
          "name": "stdout",
          "output_type": "stream",
          "text": [
            "Reading /home/jshen/mne_data/MNE-sample-data/MEG/sample/sample_audvis-ave.fif ...\n",
            "    Read a total of 4 projection items:\n",
            "        PCA-v1 (1 x 102) active\n",
            "        PCA-v2 (1 x 102) active\n",
            "        PCA-v3 (1 x 102) active\n",
            "        Average EEG reference (1 x 60) active\n",
            "    Found the data of interest:\n",
            "        t =    -199.80 ...     499.49 ms (Left Auditory)\n",
            "        0 CTF compensation matrices available\n",
            "        nave = 55 - aspect type = 100\n",
            "Projections have already been applied. Setting proj attribute to True.\n",
            "No baseline correction applied\n",
            "    Read a total of 4 projection items:\n",
            "        PCA-v1 (1 x 102) active\n",
            "        PCA-v2 (1 x 102) active\n",
            "        PCA-v3 (1 x 102) active\n",
            "        Average EEG reference (1 x 60) active\n",
            "    Found the data of interest:\n",
            "        t =    -199.80 ...     499.49 ms (Right Auditory)\n",
            "        0 CTF compensation matrices available\n",
            "        nave = 61 - aspect type = 100\n",
            "Projections have already been applied. Setting proj attribute to True.\n",
            "No baseline correction applied\n",
            "    Read a total of 4 projection items:\n",
            "        PCA-v1 (1 x 102) active\n",
            "        PCA-v2 (1 x 102) active\n",
            "        PCA-v3 (1 x 102) active\n",
            "        Average EEG reference (1 x 60) active\n",
            "    Found the data of interest:\n",
            "        t =    -199.80 ...     499.49 ms (Left visual)\n",
            "        0 CTF compensation matrices available\n",
            "        nave = 67 - aspect type = 100\n",
            "Projections have already been applied. Setting proj attribute to True.\n",
            "No baseline correction applied\n",
            "    Read a total of 4 projection items:\n",
            "        PCA-v1 (1 x 102) active\n",
            "        PCA-v2 (1 x 102) active\n",
            "        PCA-v3 (1 x 102) active\n",
            "        Average EEG reference (1 x 60) active\n",
            "    Found the data of interest:\n",
            "        t =    -199.80 ...     499.49 ms (Right visual)\n",
            "        0 CTF compensation matrices available\n",
            "        nave = 58 - aspect type = 100\n",
            "Projections have already been applied. Setting proj attribute to True.\n",
            "No baseline correction applied\n",
            "Embedding : jquery-3.6.0.min.js\n",
            "Embedding : bootstrap.bundle.min.js\n",
            "Embedding : bootstrap.min.css\n",
            "Embedding : bootstrap-table/bootstrap-table.min.js\n",
            "Embedding : bootstrap-table/bootstrap-table.min.css\n",
            "Embedding : bootstrap-table/bootstrap-table-copy-rows.min.js\n",
            "Embedding : bootstrap-table/bootstrap-table-export.min.js\n",
            "Embedding : bootstrap-table/tableExport.min.js\n",
            "Embedding : bootstrap-icons/bootstrap-icons.mne.min.css\n",
            "Embedding : highlightjs/highlight.min.js\n",
            "Embedding : highlightjs/atom-one-dark-reasonable.min.css\n",
            "    366 x 366 full covariance (kind = 1) found.\n",
            "    Read a total of 4 projection items:\n",
            "        PCA-v1 (1 x 102) active\n",
            "        PCA-v2 (1 x 102) active\n",
            "        PCA-v3 (1 x 102) active\n",
            "        Average EEG reference (1 x 60) active\n",
            "Iterating over 1 potential files (this may take some \n",
            "Rendering: /tmp/tmp5rry4ok5/sample_audvis-ave.fif\n",
            "Reading /tmp/tmp5rry4ok5/sample_audvis-ave.fif ...\n",
            "    Read a total of 1 projection items:\n",
            "        Average EEG reference (1 x 60) active\n",
            "    Found the data of interest:\n",
            "        t =    -199.80 ...     499.49 ms (Left Auditory)\n",
            "        0 CTF compensation matrices available\n",
            "        nave = 55 - aspect type = 100\n",
            "Projections have already been applied. Setting proj attribute to True.\n",
            "No baseline correction applied\n",
            "Applying baseline correction (mode: mean)\n"
          ]
        },
        {
          "name": "stderr",
          "output_type": "stream",
          "text": [
            "WARNING: You don't seem to have any mimeinfo.cache files.\n",
            "Try running the update-desktop-database command. If you\n",
            "don't have this command you should install the\n",
            "desktop-file-utils package. This package is available from\n",
            "http://freedesktop.org/wiki/Software/desktop-file-utils/\n",
            "No applications found for mimetype: text/html\n",
            "./usr/bin/xdg-open: 882: x-www-browser: Permission denied\n",
            "/usr/bin/xdg-open: 882: firefox: Permission denied\n",
            "/usr/bin/xdg-open: 882: iceweasel: Permission denied\n",
            "/usr/bin/xdg-open: 882: seamonkey: Permission denied\n",
            "/usr/bin/xdg-open: 882: mozilla: Permission denied\n",
            "/usr/bin/xdg-open: 882: epiphany: Permission denied\n",
            "/usr/bin/xdg-open: 882: konqueror: Permission denied\n",
            "/usr/bin/xdg-open: 882: chromium: Permission denied\n",
            "/usr/bin/xdg-open: 882: chromium-browser: Permission denied\n",
            "/usr/bin/xdg-open: 882: google-chrome: Permission denied\n",
            "/usr/bin/xdg-open: 882: www-browser: Permission denied\n",
            "/usr/bin/xdg-open: 882: links2: Permission denied\n",
            "/usr/bin/xdg-open: 882: elinks: Permission denied\n",
            "/usr/bin/xdg-open: 882: links: Permission denied\n",
            "/usr/bin/xdg-open: 882: lynx: Permission denied\n",
            "/usr/bin/xdg-open: 882: w3m: Permission denied\n",
            "xdg-open: no method available for opening 'file:///home/jshen/Projects/Summer 2025 Deep Learning/MNE Python Tutorials/Introductory Tutorials/report_parse_folder_mri_bem.html'\n",
            "[Parallel(n_jobs=1)]: Done   5 out of   5 | elapsed:    2.5s finished\n"
          ]
        },
        {
          "name": "stdout",
          "output_type": "stream",
          "text": [
            "NOTE: pick_types() is a legacy function. New code should use inst.pick(...).\n",
            "Computing rank from covariance with rank=None\n",
            "    Using tolerance 4.7e-14 (2.2e-16 eps * 59 dim * 3.6  max singular value)\n",
            "    Estimated rank (eeg): 58\n",
            "    EEG: rank 58 computed from 59 data channels with 1 projector\n",
            "    Created an SSP operator (subspace dimension = 1)\n",
            "Computing rank from covariance with rank={'eeg': 58}\n",
            "    Setting small EEG eigenvalues to zero (without PCA)\n",
            "    Created the whitener using a noise covariance matrix with rank 58 (1 small eigenvalues omitted)\n",
            "Saving report to : /home/jshen/Projects/Summer 2025 Deep Learning/MNE Python Tutorials/Introductory Tutorials/report_parse_folder_evoked.html\n"
          ]
        },
        {
          "name": "stderr",
          "output_type": "stream",
          "text": [
            "[Parallel(n_jobs=1)]: Done   1 out of   1 | elapsed:    7.9s finished\n"
          ]
        },
        {
          "data": {
            "text/plain": [
              "'/home/jshen/Projects/Summer 2025 Deep Learning/MNE Python Tutorials/Introductory Tutorials/report_parse_folder_evoked.html'"
            ]
          },
          "execution_count": 27,
          "metadata": {},
          "output_type": "execute_result"
        }
      ],
      "source": [
        "baseline = (None, 0)\n",
        "cov_fname = sample_dir / \"sample_audvis-cov.fif\"\n",
        "pattern = \"sample_audvis-ave.fif\"\n",
        "evoked = mne.read_evokeds(sample_dir / pattern)[0].pick(\"eeg\").decimate(4)\n",
        "report = mne.Report(\n",
        "    title=\"parse_folder example 4\", baseline=baseline, cov_fname=cov_fname\n",
        ")\n",
        "with tempfile.TemporaryDirectory() as path:\n",
        "    evoked.save(Path(path) / pattern)\n",
        "    report.parse_folder(\n",
        "        path, pattern=pattern, render_bem=False, n_time_points_evokeds=5\n",
        "    )\n",
        "report.save(\"report_parse_folder_evoked.html\", overwrite=True)"
      ]
    },
    {
      "cell_type": "markdown",
      "metadata": {},
      "source": [
        "## Adding custom HTML (e.g., a description text)\n",
        "\n",
        "The :meth:`~mne.Report.add_html` method allows you to add custom HTML to\n",
        "your report. This feature can be very convenient to add short descriptions,\n",
        "lists, or reminders to your report (among many other things you can think\n",
        "of encoding in HTML).\n",
        "\n"
      ]
    },
    {
      "cell_type": "code",
      "execution_count": 28,
      "metadata": {
        "collapsed": false
      },
      "outputs": [
        {
          "name": "stdout",
          "output_type": "stream",
          "text": [
            "Embedding : jquery-3.6.0.min.js\n",
            "Embedding : bootstrap.bundle.min.js\n",
            "Embedding : bootstrap.min.css\n",
            "Embedding : bootstrap-table/bootstrap-table.min.js\n",
            "Embedding : bootstrap-table/bootstrap-table.min.css\n",
            "Embedding : bootstrap-table/bootstrap-table-copy-rows.min.js\n",
            "Embedding : bootstrap-table/bootstrap-table-export.min.js\n",
            "Embedding : bootstrap-table/tableExport.min.js\n",
            "Embedding : bootstrap-icons/bootstrap-icons.mne.min.css\n",
            "Embedding : highlightjs/highlight.min.js\n",
            "Embedding : highlightjs/atom-one-dark-reasonable.min.css\n",
            "Saving report to : /home/jshen/Projects/Summer 2025 Deep Learning/MNE Python Tutorials/Introductory Tutorials/report_add_html.html\n"
          ]
        },
        {
          "data": {
            "text/plain": [
              "'/home/jshen/Projects/Summer 2025 Deep Learning/MNE Python Tutorials/Introductory Tutorials/report_add_html.html'"
            ]
          },
          "execution_count": 28,
          "metadata": {},
          "output_type": "execute_result"
        },
        {
          "name": "stderr",
          "output_type": "stream",
          "text": [
            "WARNING: You don't seem to have any mimeinfo.cache files.\n",
            "Try running the update-desktop-database command. If you\n",
            "don't have this command you should install the\n",
            "desktop-file-utils package. This package is available from\n",
            "http://freedesktop.org/wiki/Software/desktop-file-utils/\n",
            "WARNING: You don't seem to have any mimeinfo.cache files.\n",
            "Try running the update-desktop-database command. If you\n",
            "don't have this command you should install the\n",
            "desktop-file-utils package. This package is available from\n",
            "http://freedesktop.org/wiki/Software/desktop-file-utils/\n",
            "No applications found for mimetype: text/html\n",
            ".No applications found for mimetype: text/html\n",
            "./usr/bin/xdg-open: 882: x-www-browser: Permission denied\n",
            "/usr/bin/xdg-open: 882: x-www-browser: Permission denied\n",
            "/usr/bin/xdg-open: 882: firefox: Permission denied\n",
            "/usr/bin/xdg-open: 882: firefox: Permission denied\n",
            "/usr/bin/xdg-open: 882: iceweasel: Permission denied\n",
            "/usr/bin/xdg-open: 882: iceweasel: Permission denied\n",
            "/usr/bin/xdg-open: 882: seamonkey: Permission denied\n",
            "/usr/bin/xdg-open: 882: seamonkey: Permission denied\n",
            "/usr/bin/xdg-open: 882: mozilla: Permission denied\n",
            "/usr/bin/xdg-open: 882: mozilla: Permission denied\n",
            "/usr/bin/xdg-open: 882: epiphany: Permission denied\n",
            "/usr/bin/xdg-open: 882: epiphany: Permission denied\n",
            "/usr/bin/xdg-open: 882: konqueror: Permission denied\n",
            "/usr/bin/xdg-open: 882: konqueror: Permission denied\n",
            "/usr/bin/xdg-open: 882: chromium: Permission denied\n",
            "/usr/bin/xdg-open: 882: chromium: Permission denied\n",
            "/usr/bin/xdg-open: 882: chromium-browser: Permission denied\n",
            "/usr/bin/xdg-open: 882: chromium-browser: Permission denied\n",
            "/usr/bin/xdg-open: 882: google-chrome: Permission denied\n",
            "/usr/bin/xdg-open: 882: google-chrome: Permission denied\n",
            "/usr/bin/xdg-open: 882: www-browser: Permission denied\n",
            "/usr/bin/xdg-open: 882: www-browser: Permission denied\n",
            "/usr/bin/xdg-open: 882: links2: Permission denied\n",
            "/usr/bin/xdg-open: 882: links2: Permission denied\n",
            "/usr/bin/xdg-open: 882: elinks: Permission denied\n",
            "/usr/bin/xdg-open: 882: elinks: Permission denied\n",
            "/usr/bin/xdg-open: 882: links: Permission denied\n",
            "/usr/bin/xdg-open: 882: links: Permission denied\n",
            "/usr/bin/xdg-open: 882: lynx: Permission denied\n",
            "/usr/bin/xdg-open: 882: lynx: Permission denied\n",
            "/usr/bin/xdg-open: 882: w3m: Permission denied\n",
            "xdg-open: no method available for opening 'file:///home/jshen/Projects/Summer 2025 Deep Learning/MNE Python Tutorials/Introductory Tutorials/report_parse_folder_evoked.html'\n",
            "/usr/bin/xdg-open: 882: w3m: Permission denied\n",
            "xdg-open: no method available for opening 'file:///home/jshen/Projects/Summer 2025 Deep Learning/MNE Python Tutorials/Introductory Tutorials/report_add_html.html'\n"
          ]
        }
      ],
      "source": [
        "report = mne.Report(title=\"Report on hypothesis 1\")\n",
        "\n",
        "my_html = \"\"\"\n",
        "<p>We have the following hypothesis:</p>\n",
        "<ol>\n",
        "<li>There is a difference between images showing man-made vs. natural\n",
        "environments</li>\n",
        "<li>This difference manifests itself most strongly in the amplitude of the\n",
        "N1 ERP component</li>\n",
        "</ol>\n",
        "<p>Below we show several plots and tests of the data.</p>\n",
        "\"\"\"\n",
        "\n",
        "report.add_html(title=\"Hypothesis\", html=my_html)\n",
        "report.save(\"report_add_html.html\", overwrite=True)"
      ]
    }
  ],
  "metadata": {
    "kernelspec": {
      "display_name": "Summer2025DL",
      "language": "python",
      "name": "python3"
    },
    "language_info": {
      "codemirror_mode": {
        "name": "ipython",
        "version": 3
      },
      "file_extension": ".py",
      "mimetype": "text/x-python",
      "name": "python",
      "nbconvert_exporter": "python",
      "pygments_lexer": "ipython3",
      "version": "3.13.5"
    }
  },
  "nbformat": 4,
  "nbformat_minor": 0
}
